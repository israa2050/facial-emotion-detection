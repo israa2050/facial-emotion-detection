{
 "cells": [
  {
   "cell_type": "markdown",
   "id": "8e21bbf3",
   "metadata": {},
   "source": [
    "### Here we open webcam and test the two model Yolov5 for object detection and DL model for Emotion Detection the recorded video link below\n",
    "https://drive.google.com/file/d/1VZWA4k_omk6yB1_BtVctDfNnknQxo-P_/view?usp=sharing\n"
   ]
  },
  {
   "cell_type": "code",
   "execution_count": null,
   "id": "1ee63f3c",
   "metadata": {},
   "outputs": [
    {
     "name": "stderr",
     "output_type": "stream",
     "text": [
      "Using cache found in C:\\Users\\HP 2021/.cache\\torch\\hub\\ultralytics_yolov5_master\n",
      "YOLOv5  2023-6-3 Python-3.10.5 torch-2.0.1+cpu CPU\n",
      "\n",
      "Fusing layers... \n",
      "Model summary: 157 layers, 7012822 parameters, 0 gradients\n",
      "Adding AutoShape... \n"
     ]
    },
    {
     "name": "stdout",
     "output_type": "stream",
     "text": [
      "Loaded model from disk\n"
     ]
    },
    {
     "name": "stderr",
     "output_type": "stream",
     "text": [
      "Saved 1 image to \u001b[1mruns\\detect\\exp1224\u001b[0m\n",
      "Saved results to runs\\detect\\exp1224\n",
      "\n",
      "Saved 1 image to \u001b[1mruns\\detect\\exp1225\u001b[0m\n",
      "Saved results to runs\\detect\\exp1225\n",
      "\n",
      "Saved 1 image to \u001b[1mruns\\detect\\exp1226\u001b[0m\n",
      "Saved results to runs\\detect\\exp1226\n",
      "\n",
      "Saved 1 image to \u001b[1mruns\\detect\\exp1227\u001b[0m\n",
      "Saved results to runs\\detect\\exp1227\n",
      "\n",
      "Saved 1 image to \u001b[1mruns\\detect\\exp1228\u001b[0m\n",
      "Saved results to runs\\detect\\exp1228\n",
      "\n",
      "Saved 1 image to \u001b[1mruns\\detect\\exp1229\u001b[0m\n",
      "Saved results to runs\\detect\\exp1229\n",
      "\n",
      "Saved 1 image to \u001b[1mruns\\detect\\exp1230\u001b[0m\n",
      "Saved results to runs\\detect\\exp1230\n",
      "\n",
      "Saved 1 image to \u001b[1mruns\\detect\\exp1231\u001b[0m\n",
      "Saved results to runs\\detect\\exp1231\n",
      "\n",
      "Saved 1 image to \u001b[1mruns\\detect\\exp1232\u001b[0m\n",
      "Saved results to runs\\detect\\exp1232\n",
      "\n",
      "Saved 1 image to \u001b[1mruns\\detect\\exp1233\u001b[0m\n",
      "Saved results to runs\\detect\\exp1233\n",
      "\n",
      "Saved 1 image to \u001b[1mruns\\detect\\exp1234\u001b[0m\n",
      "Saved results to runs\\detect\\exp1234\n",
      "\n",
      "Saved 1 image to \u001b[1mruns\\detect\\exp1235\u001b[0m\n",
      "Saved results to runs\\detect\\exp1235\n",
      "\n",
      "Saved 1 image to \u001b[1mruns\\detect\\exp1236\u001b[0m\n",
      "Saved results to runs\\detect\\exp1236\n",
      "\n",
      "Saved 1 image to \u001b[1mruns\\detect\\exp1237\u001b[0m\n",
      "Saved results to runs\\detect\\exp1237\n",
      "\n",
      "Saved 1 image to \u001b[1mruns\\detect\\exp1238\u001b[0m\n",
      "Saved results to runs\\detect\\exp1238\n",
      "\n",
      "Saved 1 image to \u001b[1mruns\\detect\\exp1239\u001b[0m\n",
      "Saved results to runs\\detect\\exp1239\n",
      "\n",
      "Saved 1 image to \u001b[1mruns\\detect\\exp1240\u001b[0m\n",
      "Saved results to runs\\detect\\exp1240\n",
      "\n",
      "Saved 1 image to \u001b[1mruns\\detect\\exp1241\u001b[0m\n",
      "Saved results to runs\\detect\\exp1241\n",
      "\n",
      "Saved 1 image to \u001b[1mruns\\detect\\exp1242\u001b[0m\n",
      "Saved results to runs\\detect\\exp1242\n",
      "\n",
      "Saved 1 image to \u001b[1mruns\\detect\\exp1243\u001b[0m\n",
      "Saved results to runs\\detect\\exp1243\n",
      "\n",
      "Saved 1 image to \u001b[1mruns\\detect\\exp1244\u001b[0m\n",
      "Saved results to runs\\detect\\exp1244\n",
      "\n",
      "Saved 1 image to \u001b[1mruns\\detect\\exp1245\u001b[0m\n",
      "Saved results to runs\\detect\\exp1245\n",
      "\n",
      "Saved 1 image to \u001b[1mruns\\detect\\exp1246\u001b[0m\n",
      "Saved results to runs\\detect\\exp1246\n",
      "\n",
      "Saved 1 image to \u001b[1mruns\\detect\\exp1247\u001b[0m\n",
      "Saved results to runs\\detect\\exp1247\n",
      "\n",
      "Saved 1 image to \u001b[1mruns\\detect\\exp1248\u001b[0m\n",
      "Saved results to runs\\detect\\exp1248\n",
      "\n",
      "Saved 1 image to \u001b[1mruns\\detect\\exp1249\u001b[0m\n",
      "Saved results to runs\\detect\\exp1249\n",
      "\n",
      "Saved 1 image to \u001b[1mruns\\detect\\exp1250\u001b[0m\n",
      "Saved results to runs\\detect\\exp1250\n",
      "\n",
      "Saved 1 image to \u001b[1mruns\\detect\\exp1251\u001b[0m\n",
      "Saved results to runs\\detect\\exp1251\n",
      "\n",
      "Saved 1 image to \u001b[1mruns\\detect\\exp1252\u001b[0m\n",
      "Saved results to runs\\detect\\exp1252\n",
      "\n",
      "Saved 1 image to \u001b[1mruns\\detect\\exp1253\u001b[0m\n",
      "Saved results to runs\\detect\\exp1253\n",
      "\n",
      "Saved 1 image to \u001b[1mruns\\detect\\exp1254\u001b[0m\n",
      "Saved results to runs\\detect\\exp1254\n",
      "\n",
      "Saved 1 image to \u001b[1mruns\\detect\\exp1255\u001b[0m\n",
      "Saved results to runs\\detect\\exp1255\n",
      "\n",
      "Saved 1 image to \u001b[1mruns\\detect\\exp1256\u001b[0m\n",
      "Saved results to runs\\detect\\exp1256\n",
      "\n",
      "Saved 1 image to \u001b[1mruns\\detect\\exp1257\u001b[0m\n",
      "Saved results to runs\\detect\\exp1257\n",
      "\n",
      "Saved 1 image to \u001b[1mruns\\detect\\exp1258\u001b[0m\n",
      "Saved results to runs\\detect\\exp1258\n",
      "\n",
      "Saved 1 image to \u001b[1mruns\\detect\\exp1259\u001b[0m\n",
      "Saved results to runs\\detect\\exp1259\n",
      "\n",
      "Saved 1 image to \u001b[1mruns\\detect\\exp1260\u001b[0m\n",
      "Saved results to runs\\detect\\exp1260\n",
      "\n",
      "Saved 1 image to \u001b[1mruns\\detect\\exp1261\u001b[0m\n",
      "Saved results to runs\\detect\\exp1261\n",
      "\n",
      "Saved 1 image to \u001b[1mruns\\detect\\exp1262\u001b[0m\n",
      "Saved results to runs\\detect\\exp1262\n",
      "\n",
      "Saved 1 image to \u001b[1mruns\\detect\\exp1263\u001b[0m\n",
      "Saved results to runs\\detect\\exp1263\n",
      "\n",
      "Saved 1 image to \u001b[1mruns\\detect\\exp1264\u001b[0m\n",
      "Saved results to runs\\detect\\exp1264\n",
      "\n",
      "Saved 1 image to \u001b[1mruns\\detect\\exp1265\u001b[0m\n",
      "Saved results to runs\\detect\\exp1265\n",
      "\n",
      "Saved 1 image to \u001b[1mruns\\detect\\exp1266\u001b[0m\n",
      "Saved results to runs\\detect\\exp1266\n",
      "\n",
      "Saved 1 image to \u001b[1mruns\\detect\\exp1267\u001b[0m\n",
      "Saved results to runs\\detect\\exp1267\n",
      "\n",
      "Saved 1 image to \u001b[1mruns\\detect\\exp1268\u001b[0m\n",
      "Saved results to runs\\detect\\exp1268\n",
      "\n",
      "Saved 1 image to \u001b[1mruns\\detect\\exp1269\u001b[0m\n",
      "Saved results to runs\\detect\\exp1269\n",
      "\n",
      "Saved 1 image to \u001b[1mruns\\detect\\exp1270\u001b[0m\n",
      "Saved results to runs\\detect\\exp1270\n",
      "\n",
      "Saved 1 image to \u001b[1mruns\\detect\\exp1271\u001b[0m\n",
      "Saved results to runs\\detect\\exp1271\n",
      "\n",
      "Saved 1 image to \u001b[1mruns\\detect\\exp1272\u001b[0m\n",
      "Saved results to runs\\detect\\exp1272\n",
      "\n",
      "Saved 1 image to \u001b[1mruns\\detect\\exp1273\u001b[0m\n",
      "Saved results to runs\\detect\\exp1273\n",
      "\n",
      "Saved 1 image to \u001b[1mruns\\detect\\exp1274\u001b[0m\n",
      "Saved results to runs\\detect\\exp1274\n",
      "\n",
      "Saved 1 image to \u001b[1mruns\\detect\\exp1275\u001b[0m\n",
      "Saved results to runs\\detect\\exp1275\n",
      "\n",
      "Saved 1 image to \u001b[1mruns\\detect\\exp1276\u001b[0m\n",
      "Saved results to runs\\detect\\exp1276\n",
      "\n",
      "Saved 1 image to \u001b[1mruns\\detect\\exp1277\u001b[0m\n",
      "Saved results to runs\\detect\\exp1277\n",
      "\n",
      "Saved 1 image to \u001b[1mruns\\detect\\exp1278\u001b[0m\n",
      "Saved results to runs\\detect\\exp1278\n",
      "\n",
      "Saved 1 image to \u001b[1mruns\\detect\\exp1279\u001b[0m\n",
      "Saved results to runs\\detect\\exp1279\n",
      "\n",
      "Saved 1 image to \u001b[1mruns\\detect\\exp1280\u001b[0m\n",
      "Saved results to runs\\detect\\exp1280\n",
      "\n",
      "Saved 1 image to \u001b[1mruns\\detect\\exp1281\u001b[0m\n",
      "Saved results to runs\\detect\\exp1281\n",
      "\n",
      "Saved 1 image to \u001b[1mruns\\detect\\exp1282\u001b[0m\n",
      "Saved results to runs\\detect\\exp1282\n",
      "\n",
      "Saved 1 image to \u001b[1mruns\\detect\\exp1283\u001b[0m\n",
      "Saved results to runs\\detect\\exp1283\n",
      "\n",
      "Saved 1 image to \u001b[1mruns\\detect\\exp1284\u001b[0m\n",
      "Saved results to runs\\detect\\exp1284\n",
      "\n",
      "Saved 1 image to \u001b[1mruns\\detect\\exp1285\u001b[0m\n",
      "Saved results to runs\\detect\\exp1285\n",
      "\n",
      "Saved 1 image to \u001b[1mruns\\detect\\exp1286\u001b[0m\n",
      "Saved results to runs\\detect\\exp1286\n",
      "\n",
      "Saved 1 image to \u001b[1mruns\\detect\\exp1287\u001b[0m\n",
      "Saved results to runs\\detect\\exp1287\n",
      "\n",
      "Saved 1 image to \u001b[1mruns\\detect\\exp1288\u001b[0m\n",
      "Saved results to runs\\detect\\exp1288\n",
      "\n",
      "Saved 1 image to \u001b[1mruns\\detect\\exp1289\u001b[0m\n",
      "Saved results to runs\\detect\\exp1289\n",
      "\n",
      "Saved 1 image to \u001b[1mruns\\detect\\exp1290\u001b[0m\n",
      "Saved results to runs\\detect\\exp1290\n",
      "\n",
      "Saved 1 image to \u001b[1mruns\\detect\\exp1291\u001b[0m\n",
      "Saved results to runs\\detect\\exp1291\n",
      "\n",
      "Saved 1 image to \u001b[1mruns\\detect\\exp1292\u001b[0m\n",
      "Saved results to runs\\detect\\exp1292\n",
      "\n",
      "Saved 1 image to \u001b[1mruns\\detect\\exp1293\u001b[0m\n",
      "Saved results to runs\\detect\\exp1293\n",
      "\n",
      "Saved 1 image to \u001b[1mruns\\detect\\exp1294\u001b[0m\n",
      "Saved results to runs\\detect\\exp1294\n",
      "\n",
      "Saved 1 image to \u001b[1mruns\\detect\\exp1295\u001b[0m\n",
      "Saved results to runs\\detect\\exp1295\n",
      "\n",
      "Saved 1 image to \u001b[1mruns\\detect\\exp1296\u001b[0m\n",
      "Saved results to runs\\detect\\exp1296\n",
      "\n",
      "Saved 1 image to \u001b[1mruns\\detect\\exp1297\u001b[0m\n",
      "Saved results to runs\\detect\\exp1297\n",
      "\n",
      "Saved 1 image to \u001b[1mruns\\detect\\exp1298\u001b[0m\n",
      "Saved results to runs\\detect\\exp1298\n",
      "\n",
      "Saved 1 image to \u001b[1mruns\\detect\\exp1299\u001b[0m\n",
      "Saved results to runs\\detect\\exp1299\n",
      "\n",
      "Saved 1 image to \u001b[1mruns\\detect\\exp1300\u001b[0m\n",
      "Saved results to runs\\detect\\exp1300\n",
      "\n",
      "Saved 1 image to \u001b[1mruns\\detect\\exp1301\u001b[0m\n",
      "Saved results to runs\\detect\\exp1301\n",
      "\n",
      "Saved 1 image to \u001b[1mruns\\detect\\exp1302\u001b[0m\n",
      "Saved results to runs\\detect\\exp1302\n",
      "\n",
      "Saved 1 image to \u001b[1mruns\\detect\\exp1303\u001b[0m\n",
      "Saved results to runs\\detect\\exp1303\n",
      "\n",
      "Saved 1 image to \u001b[1mruns\\detect\\exp1304\u001b[0m\n",
      "Saved results to runs\\detect\\exp1304\n",
      "\n",
      "Saved 1 image to \u001b[1mruns\\detect\\exp1305\u001b[0m\n",
      "Saved results to runs\\detect\\exp1305\n",
      "\n",
      "Saved 1 image to \u001b[1mruns\\detect\\exp1306\u001b[0m\n",
      "Saved results to runs\\detect\\exp1306\n",
      "\n",
      "Saved 1 image to \u001b[1mruns\\detect\\exp1307\u001b[0m\n",
      "Saved results to runs\\detect\\exp1307\n",
      "\n",
      "Saved 1 image to \u001b[1mruns\\detect\\exp1308\u001b[0m\n",
      "Saved results to runs\\detect\\exp1308\n",
      "\n",
      "Saved 1 image to \u001b[1mruns\\detect\\exp1309\u001b[0m\n",
      "Saved results to runs\\detect\\exp1309\n",
      "\n",
      "Saved 1 image to \u001b[1mruns\\detect\\exp1310\u001b[0m\n",
      "Saved results to runs\\detect\\exp1310\n",
      "\n",
      "Saved 1 image to \u001b[1mruns\\detect\\exp1311\u001b[0m\n",
      "Saved results to runs\\detect\\exp1311\n",
      "\n",
      "Saved 1 image to \u001b[1mruns\\detect\\exp1312\u001b[0m\n",
      "Saved results to runs\\detect\\exp1312\n",
      "\n",
      "Saved 1 image to \u001b[1mruns\\detect\\exp1313\u001b[0m\n",
      "Saved results to runs\\detect\\exp1313\n",
      "\n",
      "Saved 1 image to \u001b[1mruns\\detect\\exp1314\u001b[0m\n",
      "Saved results to runs\\detect\\exp1314\n",
      "\n",
      "Saved 1 image to \u001b[1mruns\\detect\\exp1315\u001b[0m\n",
      "Saved results to runs\\detect\\exp1315\n",
      "\n",
      "Saved 1 image to \u001b[1mruns\\detect\\exp1316\u001b[0m\n",
      "Saved results to runs\\detect\\exp1316\n",
      "\n",
      "Saved 1 image to \u001b[1mruns\\detect\\exp1317\u001b[0m\n",
      "Saved results to runs\\detect\\exp1317\n",
      "\n",
      "Saved 1 image to \u001b[1mruns\\detect\\exp1318\u001b[0m\n",
      "Saved results to runs\\detect\\exp1318\n",
      "\n",
      "Saved 1 image to \u001b[1mruns\\detect\\exp1319\u001b[0m\n",
      "Saved results to runs\\detect\\exp1319\n",
      "\n",
      "Saved 1 image to \u001b[1mruns\\detect\\exp1320\u001b[0m\n",
      "Saved results to runs\\detect\\exp1320\n",
      "\n",
      "WARNING  NMS time limit 0.550s exceeded\n",
      "Saved 1 image to \u001b[1mruns\\detect\\exp1321\u001b[0m\n",
      "Saved results to runs\\detect\\exp1321\n",
      "\n"
     ]
    },
    {
     "name": "stdout",
     "output_type": "stream",
     "text": [
      "1/1 [==============================] - 2s 2s/step\n",
      "1/1 [==============================] - 0s 67ms/step\n"
     ]
    },
    {
     "name": "stderr",
     "output_type": "stream",
     "text": [
      "Saved 1 image to \u001b[1mruns\\detect\\exp1322\u001b[0m\n",
      "Saved results to runs\\detect\\exp1322\n",
      "\n",
      "Saved 1 image to \u001b[1mruns\\detect\\exp1323\u001b[0m\n",
      "Saved results to runs\\detect\\exp1323\n",
      "\n",
      "Saved 1 image to \u001b[1mruns\\detect\\exp1324\u001b[0m\n",
      "Saved results to runs\\detect\\exp1324\n",
      "\n",
      "Saved 1 image to \u001b[1mruns\\detect\\exp1325\u001b[0m\n",
      "Saved results to runs\\detect\\exp1325\n",
      "\n"
     ]
    },
    {
     "name": "stdout",
     "output_type": "stream",
     "text": [
      "1/1 [==============================] - 0s 46ms/step\n"
     ]
    },
    {
     "name": "stderr",
     "output_type": "stream",
     "text": [
      "Saved 1 image to \u001b[1mruns\\detect\\exp1326\u001b[0m\n",
      "Saved results to runs\\detect\\exp1326\n",
      "\n"
     ]
    },
    {
     "name": "stdout",
     "output_type": "stream",
     "text": [
      "1/1 [==============================] - 0s 102ms/step\n"
     ]
    },
    {
     "name": "stderr",
     "output_type": "stream",
     "text": [
      "Saved 1 image to \u001b[1mruns\\detect\\exp1327\u001b[0m\n",
      "Saved results to runs\\detect\\exp1327\n",
      "\n",
      "Saved 1 image to \u001b[1mruns\\detect\\exp1328\u001b[0m\n",
      "Saved results to runs\\detect\\exp1328\n",
      "\n"
     ]
    },
    {
     "name": "stdout",
     "output_type": "stream",
     "text": [
      "1/1 [==============================] - 0s 41ms/step\n",
      "1/1 [==============================] - 0s 40ms/step\n"
     ]
    },
    {
     "name": "stderr",
     "output_type": "stream",
     "text": [
      "Saved 1 image to \u001b[1mruns\\detect\\exp1329\u001b[0m\n",
      "Saved results to runs\\detect\\exp1329\n",
      "\n"
     ]
    },
    {
     "name": "stdout",
     "output_type": "stream",
     "text": [
      "1/1 [==============================] - 0s 43ms/step\n"
     ]
    },
    {
     "name": "stderr",
     "output_type": "stream",
     "text": [
      "Saved 1 image to \u001b[1mruns\\detect\\exp1330\u001b[0m\n",
      "Saved results to runs\\detect\\exp1330\n",
      "\n"
     ]
    },
    {
     "name": "stdout",
     "output_type": "stream",
     "text": [
      "1/1 [==============================] - 0s 50ms/step\n"
     ]
    },
    {
     "name": "stderr",
     "output_type": "stream",
     "text": [
      "Saved 1 image to \u001b[1mruns\\detect\\exp1331\u001b[0m\n",
      "Saved results to runs\\detect\\exp1331\n",
      "\n",
      "Saved 1 image to \u001b[1mruns\\detect\\exp1332\u001b[0m\n",
      "Saved results to runs\\detect\\exp1332\n",
      "\n",
      "Saved 1 image to \u001b[1mruns\\detect\\exp1333\u001b[0m\n",
      "Saved results to runs\\detect\\exp1333\n",
      "\n",
      "Saved 1 image to \u001b[1mruns\\detect\\exp1334\u001b[0m\n",
      "Saved results to runs\\detect\\exp1334\n",
      "\n",
      "Saved 1 image to \u001b[1mruns\\detect\\exp1335\u001b[0m\n",
      "Saved results to runs\\detect\\exp1335\n",
      "\n",
      "Saved 1 image to \u001b[1mruns\\detect\\exp1336\u001b[0m\n",
      "Saved results to runs\\detect\\exp1336\n",
      "\n",
      "Saved 1 image to \u001b[1mruns\\detect\\exp1337\u001b[0m\n",
      "Saved results to runs\\detect\\exp1337\n",
      "\n",
      "Saved 1 image to \u001b[1mruns\\detect\\exp1338\u001b[0m\n",
      "Saved results to runs\\detect\\exp1338\n",
      "\n",
      "Saved 1 image to \u001b[1mruns\\detect\\exp1339\u001b[0m\n",
      "Saved results to runs\\detect\\exp1339\n",
      "\n"
     ]
    },
    {
     "name": "stdout",
     "output_type": "stream",
     "text": [
      "1/1 [==============================] - 0s 46ms/step\n"
     ]
    },
    {
     "name": "stderr",
     "output_type": "stream",
     "text": [
      "Saved 1 image to \u001b[1mruns\\detect\\exp1340\u001b[0m\n",
      "Saved results to runs\\detect\\exp1340\n",
      "\n",
      "Saved 1 image to \u001b[1mruns\\detect\\exp1341\u001b[0m\n",
      "Saved results to runs\\detect\\exp1341\n",
      "\n",
      "Saved 1 image to \u001b[1mruns\\detect\\exp1342\u001b[0m\n",
      "Saved results to runs\\detect\\exp1342\n",
      "\n",
      "Saved 1 image to \u001b[1mruns\\detect\\exp1343\u001b[0m\n",
      "Saved results to runs\\detect\\exp1343\n",
      "\n",
      "Saved 1 image to \u001b[1mruns\\detect\\exp1344\u001b[0m\n",
      "Saved results to runs\\detect\\exp1344\n",
      "\n"
     ]
    },
    {
     "name": "stdout",
     "output_type": "stream",
     "text": [
      "1/1 [==============================] - 0s 58ms/step\n"
     ]
    },
    {
     "name": "stderr",
     "output_type": "stream",
     "text": [
      "Saved 1 image to \u001b[1mruns\\detect\\exp1345\u001b[0m\n",
      "Saved results to runs\\detect\\exp1345\n",
      "\n"
     ]
    },
    {
     "name": "stdout",
     "output_type": "stream",
     "text": [
      "1/1 [==============================] - 0s 48ms/step\n"
     ]
    },
    {
     "name": "stderr",
     "output_type": "stream",
     "text": [
      "Saved 1 image to \u001b[1mruns\\detect\\exp1346\u001b[0m\n",
      "Saved results to runs\\detect\\exp1346\n",
      "\n"
     ]
    },
    {
     "name": "stdout",
     "output_type": "stream",
     "text": [
      "1/1 [==============================] - 0s 37ms/step\n",
      "1/1 [==============================] - 0s 45ms/step\n"
     ]
    },
    {
     "name": "stderr",
     "output_type": "stream",
     "text": [
      "Saved 1 image to \u001b[1mruns\\detect\\exp1347\u001b[0m\n",
      "Saved results to runs\\detect\\exp1347\n",
      "\n"
     ]
    },
    {
     "name": "stdout",
     "output_type": "stream",
     "text": [
      "1/1 [==============================] - 0s 34ms/step\n"
     ]
    },
    {
     "name": "stderr",
     "output_type": "stream",
     "text": [
      "Saved 1 image to \u001b[1mruns\\detect\\exp1348\u001b[0m\n",
      "Saved results to runs\\detect\\exp1348\n",
      "\n"
     ]
    },
    {
     "name": "stdout",
     "output_type": "stream",
     "text": [
      "1/1 [==============================] - 0s 50ms/step\n",
      "1/1 [==============================] - 0s 59ms/step\n"
     ]
    },
    {
     "name": "stderr",
     "output_type": "stream",
     "text": [
      "Saved 1 image to \u001b[1mruns\\detect\\exp1349\u001b[0m\n",
      "Saved results to runs\\detect\\exp1349\n",
      "\n"
     ]
    },
    {
     "name": "stdout",
     "output_type": "stream",
     "text": [
      "1/1 [==============================] - 0s 45ms/step\n"
     ]
    },
    {
     "name": "stderr",
     "output_type": "stream",
     "text": [
      "Saved 1 image to \u001b[1mruns\\detect\\exp1350\u001b[0m\n",
      "Saved results to runs\\detect\\exp1350\n",
      "\n"
     ]
    },
    {
     "name": "stdout",
     "output_type": "stream",
     "text": [
      "1/1 [==============================] - 0s 42ms/step\n",
      "1/1 [==============================] - 0s 44ms/step\n"
     ]
    },
    {
     "name": "stderr",
     "output_type": "stream",
     "text": [
      "Saved 1 image to \u001b[1mruns\\detect\\exp1351\u001b[0m\n",
      "Saved results to runs\\detect\\exp1351\n",
      "\n"
     ]
    },
    {
     "name": "stdout",
     "output_type": "stream",
     "text": [
      "1/1 [==============================] - 0s 37ms/step\n",
      "1/1 [==============================] - 0s 57ms/step\n"
     ]
    },
    {
     "name": "stderr",
     "output_type": "stream",
     "text": [
      "Saved 1 image to \u001b[1mruns\\detect\\exp1352\u001b[0m\n",
      "Saved results to runs\\detect\\exp1352\n",
      "\n"
     ]
    },
    {
     "name": "stdout",
     "output_type": "stream",
     "text": [
      "1/1 [==============================] - 0s 37ms/step\n",
      "1/1 [==============================] - 0s 43ms/step\n"
     ]
    },
    {
     "name": "stderr",
     "output_type": "stream",
     "text": [
      "Saved 1 image to \u001b[1mruns\\detect\\exp1353\u001b[0m\n",
      "Saved results to runs\\detect\\exp1353\n",
      "\n"
     ]
    },
    {
     "name": "stdout",
     "output_type": "stream",
     "text": [
      "1/1 [==============================] - 0s 41ms/step\n"
     ]
    },
    {
     "name": "stderr",
     "output_type": "stream",
     "text": [
      "Saved 1 image to \u001b[1mruns\\detect\\exp1354\u001b[0m\n",
      "Saved results to runs\\detect\\exp1354\n",
      "\n"
     ]
    },
    {
     "name": "stdout",
     "output_type": "stream",
     "text": [
      "1/1 [==============================] - 0s 43ms/step\n",
      "1/1 [==============================] - 0s 42ms/step\n"
     ]
    },
    {
     "name": "stderr",
     "output_type": "stream",
     "text": [
      "Saved 1 image to \u001b[1mruns\\detect\\exp1355\u001b[0m\n",
      "Saved results to runs\\detect\\exp1355\n",
      "\n"
     ]
    },
    {
     "name": "stdout",
     "output_type": "stream",
     "text": [
      "1/1 [==============================] - 0s 47ms/step\n",
      "1/1 [==============================] - 0s 54ms/step\n"
     ]
    },
    {
     "name": "stderr",
     "output_type": "stream",
     "text": [
      "Saved 1 image to \u001b[1mruns\\detect\\exp1356\u001b[0m\n",
      "Saved results to runs\\detect\\exp1356\n",
      "\n"
     ]
    },
    {
     "name": "stdout",
     "output_type": "stream",
     "text": [
      "1/1 [==============================] - 0s 57ms/step\n",
      "1/1 [==============================] - 0s 45ms/step\n"
     ]
    },
    {
     "name": "stderr",
     "output_type": "stream",
     "text": [
      "Saved 1 image to \u001b[1mruns\\detect\\exp1357\u001b[0m\n",
      "Saved results to runs\\detect\\exp1357\n",
      "\n"
     ]
    },
    {
     "name": "stdout",
     "output_type": "stream",
     "text": [
      "1/1 [==============================] - 0s 47ms/step\n",
      "1/1 [==============================] - 0s 49ms/step\n"
     ]
    },
    {
     "name": "stderr",
     "output_type": "stream",
     "text": [
      "Saved 1 image to \u001b[1mruns\\detect\\exp1358\u001b[0m\n",
      "Saved results to runs\\detect\\exp1358\n",
      "\n"
     ]
    },
    {
     "name": "stdout",
     "output_type": "stream",
     "text": [
      "1/1 [==============================] - 0s 47ms/step\n"
     ]
    },
    {
     "name": "stderr",
     "output_type": "stream",
     "text": [
      "Saved 1 image to \u001b[1mruns\\detect\\exp1359\u001b[0m\n",
      "Saved results to runs\\detect\\exp1359\n",
      "\n"
     ]
    },
    {
     "name": "stdout",
     "output_type": "stream",
     "text": [
      "1/1 [==============================] - 0s 44ms/step\n",
      "1/1 [==============================] - 0s 58ms/step\n"
     ]
    },
    {
     "name": "stderr",
     "output_type": "stream",
     "text": [
      "Saved 1 image to \u001b[1mruns\\detect\\exp1360\u001b[0m\n",
      "Saved results to runs\\detect\\exp1360\n",
      "\n"
     ]
    },
    {
     "name": "stdout",
     "output_type": "stream",
     "text": [
      "1/1 [==============================] - 0s 50ms/step\n"
     ]
    },
    {
     "name": "stderr",
     "output_type": "stream",
     "text": [
      "Saved 1 image to \u001b[1mruns\\detect\\exp1361\u001b[0m\n",
      "Saved results to runs\\detect\\exp1361\n",
      "\n",
      "Saved 1 image to \u001b[1mruns\\detect\\exp1362\u001b[0m\n",
      "Saved results to runs\\detect\\exp1362\n",
      "\n"
     ]
    },
    {
     "name": "stdout",
     "output_type": "stream",
     "text": [
      "1/1 [==============================] - 0s 44ms/step\n"
     ]
    },
    {
     "name": "stderr",
     "output_type": "stream",
     "text": [
      "Saved 1 image to \u001b[1mruns\\detect\\exp1363\u001b[0m\n",
      "Saved results to runs\\detect\\exp1363\n",
      "\n"
     ]
    },
    {
     "name": "stdout",
     "output_type": "stream",
     "text": [
      "1/1 [==============================] - 0s 42ms/step\n"
     ]
    },
    {
     "name": "stderr",
     "output_type": "stream",
     "text": [
      "Saved 1 image to \u001b[1mruns\\detect\\exp1364\u001b[0m\n",
      "Saved results to runs\\detect\\exp1364\n",
      "\n"
     ]
    },
    {
     "name": "stdout",
     "output_type": "stream",
     "text": [
      "1/1 [==============================] - 0s 47ms/step\n"
     ]
    },
    {
     "name": "stderr",
     "output_type": "stream",
     "text": [
      "Saved 1 image to \u001b[1mruns\\detect\\exp1365\u001b[0m\n",
      "Saved results to runs\\detect\\exp1365\n",
      "\n",
      "Saved 1 image to \u001b[1mruns\\detect\\exp1366\u001b[0m\n",
      "Saved results to runs\\detect\\exp1366\n",
      "\n"
     ]
    },
    {
     "name": "stdout",
     "output_type": "stream",
     "text": [
      "1/1 [==============================] - 0s 44ms/step\n"
     ]
    },
    {
     "name": "stderr",
     "output_type": "stream",
     "text": [
      "Saved 1 image to \u001b[1mruns\\detect\\exp1367\u001b[0m\n",
      "Saved results to runs\\detect\\exp1367\n",
      "\n",
      "Saved 1 image to \u001b[1mruns\\detect\\exp1368\u001b[0m\n",
      "Saved results to runs\\detect\\exp1368\n",
      "\n",
      "Saved 1 image to \u001b[1mruns\\detect\\exp1369\u001b[0m\n",
      "Saved results to runs\\detect\\exp1369\n",
      "\n",
      "Saved 1 image to \u001b[1mruns\\detect\\exp1370\u001b[0m\n",
      "Saved results to runs\\detect\\exp1370\n",
      "\n",
      "Saved 1 image to \u001b[1mruns\\detect\\exp1371\u001b[0m\n",
      "Saved results to runs\\detect\\exp1371\n",
      "\n",
      "Saved 1 image to \u001b[1mruns\\detect\\exp1372\u001b[0m\n",
      "Saved results to runs\\detect\\exp1372\n",
      "\n",
      "Saved 1 image to \u001b[1mruns\\detect\\exp1373\u001b[0m\n",
      "Saved results to runs\\detect\\exp1373\n",
      "\n",
      "Saved 1 image to \u001b[1mruns\\detect\\exp1374\u001b[0m\n",
      "Saved results to runs\\detect\\exp1374\n",
      "\n",
      "Saved 1 image to \u001b[1mruns\\detect\\exp1375\u001b[0m\n",
      "Saved results to runs\\detect\\exp1375\n",
      "\n",
      "Saved 1 image to \u001b[1mruns\\detect\\exp1376\u001b[0m\n",
      "Saved results to runs\\detect\\exp1376\n",
      "\n",
      "Saved 1 image to \u001b[1mruns\\detect\\exp1377\u001b[0m\n",
      "Saved results to runs\\detect\\exp1377\n",
      "\n",
      "Saved 1 image to \u001b[1mruns\\detect\\exp1378\u001b[0m\n",
      "Saved results to runs\\detect\\exp1378\n",
      "\n",
      "Saved 1 image to \u001b[1mruns\\detect\\exp1379\u001b[0m\n",
      "Saved results to runs\\detect\\exp1379\n",
      "\n",
      "Saved 1 image to \u001b[1mruns\\detect\\exp1380\u001b[0m\n",
      "Saved results to runs\\detect\\exp1380\n",
      "\n",
      "Saved 1 image to \u001b[1mruns\\detect\\exp1381\u001b[0m\n",
      "Saved results to runs\\detect\\exp1381\n",
      "\n",
      "Saved 1 image to \u001b[1mruns\\detect\\exp1382\u001b[0m\n",
      "Saved results to runs\\detect\\exp1382\n",
      "\n",
      "Saved 1 image to \u001b[1mruns\\detect\\exp1383\u001b[0m\n",
      "Saved results to runs\\detect\\exp1383\n",
      "\n",
      "Saved 1 image to \u001b[1mruns\\detect\\exp1384\u001b[0m\n",
      "Saved results to runs\\detect\\exp1384\n",
      "\n",
      "Saved 1 image to \u001b[1mruns\\detect\\exp1385\u001b[0m\n",
      "Saved results to runs\\detect\\exp1385\n",
      "\n",
      "Saved 1 image to \u001b[1mruns\\detect\\exp1386\u001b[0m\n",
      "Saved results to runs\\detect\\exp1386\n",
      "\n",
      "Saved 1 image to \u001b[1mruns\\detect\\exp1387\u001b[0m\n",
      "Saved results to runs\\detect\\exp1387\n",
      "\n",
      "Saved 1 image to \u001b[1mruns\\detect\\exp1388\u001b[0m\n",
      "Saved results to runs\\detect\\exp1388\n",
      "\n",
      "Saved 1 image to \u001b[1mruns\\detect\\exp1389\u001b[0m\n",
      "Saved results to runs\\detect\\exp1389\n",
      "\n",
      "Saved 1 image to \u001b[1mruns\\detect\\exp1390\u001b[0m\n",
      "Saved results to runs\\detect\\exp1390\n",
      "\n",
      "Saved 1 image to \u001b[1mruns\\detect\\exp1391\u001b[0m\n",
      "Saved results to runs\\detect\\exp1391\n",
      "\n",
      "Saved 1 image to \u001b[1mruns\\detect\\exp1392\u001b[0m\n",
      "Saved results to runs\\detect\\exp1392\n",
      "\n",
      "Saved 1 image to \u001b[1mruns\\detect\\exp1393\u001b[0m\n",
      "Saved results to runs\\detect\\exp1393\n",
      "\n",
      "Saved 1 image to \u001b[1mruns\\detect\\exp1394\u001b[0m\n",
      "Saved results to runs\\detect\\exp1394\n",
      "\n",
      "Saved 1 image to \u001b[1mruns\\detect\\exp1395\u001b[0m\n",
      "Saved results to runs\\detect\\exp1395\n",
      "\n",
      "Saved 1 image to \u001b[1mruns\\detect\\exp1396\u001b[0m\n",
      "Saved results to runs\\detect\\exp1396\n",
      "\n",
      "Saved 1 image to \u001b[1mruns\\detect\\exp1397\u001b[0m\n",
      "Saved results to runs\\detect\\exp1397\n",
      "\n",
      "Saved 1 image to \u001b[1mruns\\detect\\exp1398\u001b[0m\n",
      "Saved results to runs\\detect\\exp1398\n",
      "\n",
      "Saved 1 image to \u001b[1mruns\\detect\\exp1399\u001b[0m\n",
      "Saved results to runs\\detect\\exp1399\n",
      "\n",
      "Saved 1 image to \u001b[1mruns\\detect\\exp1400\u001b[0m\n",
      "Saved results to runs\\detect\\exp1400\n",
      "\n",
      "Saved 1 image to \u001b[1mruns\\detect\\exp1401\u001b[0m\n",
      "Saved results to runs\\detect\\exp1401\n",
      "\n",
      "Saved 1 image to \u001b[1mruns\\detect\\exp1402\u001b[0m\n",
      "Saved results to runs\\detect\\exp1402\n",
      "\n",
      "Saved 1 image to \u001b[1mruns\\detect\\exp1403\u001b[0m\n",
      "Saved results to runs\\detect\\exp1403\n",
      "\n",
      "Saved 1 image to \u001b[1mruns\\detect\\exp1404\u001b[0m\n",
      "Saved results to runs\\detect\\exp1404\n",
      "\n",
      "Saved 1 image to \u001b[1mruns\\detect\\exp1405\u001b[0m\n",
      "Saved results to runs\\detect\\exp1405\n",
      "\n",
      "Saved 1 image to \u001b[1mruns\\detect\\exp1406\u001b[0m\n",
      "Saved results to runs\\detect\\exp1406\n",
      "\n",
      "Saved 1 image to \u001b[1mruns\\detect\\exp1407\u001b[0m\n",
      "Saved results to runs\\detect\\exp1407\n",
      "\n",
      "Saved 1 image to \u001b[1mruns\\detect\\exp1408\u001b[0m\n",
      "Saved results to runs\\detect\\exp1408\n",
      "\n",
      "Saved 1 image to \u001b[1mruns\\detect\\exp1409\u001b[0m\n",
      "Saved results to runs\\detect\\exp1409\n",
      "\n",
      "Saved 1 image to \u001b[1mruns\\detect\\exp1410\u001b[0m\n",
      "Saved results to runs\\detect\\exp1410\n",
      "\n",
      "Saved 1 image to \u001b[1mruns\\detect\\exp1411\u001b[0m\n",
      "Saved results to runs\\detect\\exp1411\n",
      "\n",
      "Saved 1 image to \u001b[1mruns\\detect\\exp1412\u001b[0m\n",
      "Saved results to runs\\detect\\exp1412\n",
      "\n",
      "Saved 1 image to \u001b[1mruns\\detect\\exp1413\u001b[0m\n",
      "Saved results to runs\\detect\\exp1413\n",
      "\n",
      "Saved 1 image to \u001b[1mruns\\detect\\exp1414\u001b[0m\n",
      "Saved results to runs\\detect\\exp1414\n",
      "\n",
      "Saved 1 image to \u001b[1mruns\\detect\\exp1415\u001b[0m\n",
      "Saved results to runs\\detect\\exp1415\n",
      "\n"
     ]
    },
    {
     "name": "stdout",
     "output_type": "stream",
     "text": [
      "1/1 [==============================] - 0s 43ms/step\n"
     ]
    },
    {
     "name": "stderr",
     "output_type": "stream",
     "text": [
      "Saved 1 image to \u001b[1mruns\\detect\\exp1416\u001b[0m\n",
      "Saved results to runs\\detect\\exp1416\n",
      "\n",
      "Saved 1 image to \u001b[1mruns\\detect\\exp1417\u001b[0m\n",
      "Saved results to runs\\detect\\exp1417\n",
      "\n",
      "Saved 1 image to \u001b[1mruns\\detect\\exp1418\u001b[0m\n",
      "Saved results to runs\\detect\\exp1418\n",
      "\n",
      "Saved 1 image to \u001b[1mruns\\detect\\exp1419\u001b[0m\n",
      "Saved results to runs\\detect\\exp1419\n",
      "\n",
      "Saved 1 image to \u001b[1mruns\\detect\\exp1420\u001b[0m\n",
      "Saved results to runs\\detect\\exp1420\n",
      "\n",
      "Saved 1 image to \u001b[1mruns\\detect\\exp1421\u001b[0m\n",
      "Saved results to runs\\detect\\exp1421\n",
      "\n",
      "Saved 1 image to \u001b[1mruns\\detect\\exp1422\u001b[0m\n",
      "Saved results to runs\\detect\\exp1422\n",
      "\n",
      "Saved 1 image to \u001b[1mruns\\detect\\exp1423\u001b[0m\n",
      "Saved results to runs\\detect\\exp1423\n",
      "\n",
      "Saved 1 image to \u001b[1mruns\\detect\\exp1424\u001b[0m\n",
      "Saved results to runs\\detect\\exp1424\n",
      "\n",
      "Saved 1 image to \u001b[1mruns\\detect\\exp1425\u001b[0m\n",
      "Saved results to runs\\detect\\exp1425\n",
      "\n",
      "Saved 1 image to \u001b[1mruns\\detect\\exp1426\u001b[0m\n",
      "Saved results to runs\\detect\\exp1426\n",
      "\n",
      "Saved 1 image to \u001b[1mruns\\detect\\exp1427\u001b[0m\n",
      "Saved results to runs\\detect\\exp1427\n",
      "\n",
      "Saved 1 image to \u001b[1mruns\\detect\\exp1428\u001b[0m\n",
      "Saved results to runs\\detect\\exp1428\n",
      "\n"
     ]
    },
    {
     "name": "stdout",
     "output_type": "stream",
     "text": [
      "1/1 [==============================] - 0s 53ms/step\n"
     ]
    },
    {
     "name": "stderr",
     "output_type": "stream",
     "text": [
      "Saved 1 image to \u001b[1mruns\\detect\\exp1429\u001b[0m\n",
      "Saved results to runs\\detect\\exp1429\n",
      "\n"
     ]
    },
    {
     "name": "stdout",
     "output_type": "stream",
     "text": [
      "1/1 [==============================] - 0s 50ms/step\n"
     ]
    },
    {
     "name": "stderr",
     "output_type": "stream",
     "text": [
      "Saved 1 image to \u001b[1mruns\\detect\\exp1430\u001b[0m\n",
      "Saved results to runs\\detect\\exp1430\n",
      "\n"
     ]
    },
    {
     "name": "stdout",
     "output_type": "stream",
     "text": [
      "1/1 [==============================] - 0s 52ms/step\n"
     ]
    },
    {
     "name": "stderr",
     "output_type": "stream",
     "text": [
      "Saved 1 image to \u001b[1mruns\\detect\\exp1431\u001b[0m\n",
      "Saved results to runs\\detect\\exp1431\n",
      "\n",
      "Saved 1 image to \u001b[1mruns\\detect\\exp1432\u001b[0m\n",
      "Saved results to runs\\detect\\exp1432\n",
      "\n",
      "Saved 1 image to \u001b[1mruns\\detect\\exp1433\u001b[0m\n",
      "Saved results to runs\\detect\\exp1433\n",
      "\n",
      "Saved 1 image to \u001b[1mruns\\detect\\exp1434\u001b[0m\n",
      "Saved results to runs\\detect\\exp1434\n",
      "\n",
      "Saved 1 image to \u001b[1mruns\\detect\\exp1435\u001b[0m\n",
      "Saved results to runs\\detect\\exp1435\n",
      "\n",
      "Saved 1 image to \u001b[1mruns\\detect\\exp1436\u001b[0m\n",
      "Saved results to runs\\detect\\exp1436\n",
      "\n",
      "Saved 1 image to \u001b[1mruns\\detect\\exp1437\u001b[0m\n",
      "Saved results to runs\\detect\\exp1437\n",
      "\n",
      "Saved 1 image to \u001b[1mruns\\detect\\exp1438\u001b[0m\n",
      "Saved results to runs\\detect\\exp1438\n",
      "\n",
      "Saved 1 image to \u001b[1mruns\\detect\\exp1439\u001b[0m\n",
      "Saved results to runs\\detect\\exp1439\n",
      "\n",
      "Saved 1 image to \u001b[1mruns\\detect\\exp1440\u001b[0m\n",
      "Saved results to runs\\detect\\exp1440\n",
      "\n"
     ]
    },
    {
     "name": "stdout",
     "output_type": "stream",
     "text": [
      "1/1 [==============================] - 0s 47ms/step\n"
     ]
    },
    {
     "name": "stderr",
     "output_type": "stream",
     "text": [
      "Saved 1 image to \u001b[1mruns\\detect\\exp1441\u001b[0m\n",
      "Saved results to runs\\detect\\exp1441\n",
      "\n",
      "Saved 1 image to \u001b[1mruns\\detect\\exp1442\u001b[0m\n",
      "Saved results to runs\\detect\\exp1442\n",
      "\n",
      "Saved 1 image to \u001b[1mruns\\detect\\exp1443\u001b[0m\n",
      "Saved results to runs\\detect\\exp1443\n",
      "\n",
      "Saved 1 image to \u001b[1mruns\\detect\\exp1444\u001b[0m\n",
      "Saved results to runs\\detect\\exp1444\n",
      "\n",
      "Saved 1 image to \u001b[1mruns\\detect\\exp1445\u001b[0m\n",
      "Saved results to runs\\detect\\exp1445\n",
      "\n",
      "Saved 1 image to \u001b[1mruns\\detect\\exp1446\u001b[0m\n",
      "Saved results to runs\\detect\\exp1446\n",
      "\n",
      "Saved 1 image to \u001b[1mruns\\detect\\exp1447\u001b[0m\n",
      "Saved results to runs\\detect\\exp1447\n",
      "\n",
      "Saved 1 image to \u001b[1mruns\\detect\\exp1448\u001b[0m\n",
      "Saved results to runs\\detect\\exp1448\n",
      "\n",
      "Saved 1 image to \u001b[1mruns\\detect\\exp1449\u001b[0m\n",
      "Saved results to runs\\detect\\exp1449\n",
      "\n",
      "Saved 1 image to \u001b[1mruns\\detect\\exp1450\u001b[0m\n",
      "Saved results to runs\\detect\\exp1450\n",
      "\n",
      "Saved 1 image to \u001b[1mruns\\detect\\exp1451\u001b[0m\n",
      "Saved results to runs\\detect\\exp1451\n",
      "\n",
      "Saved 1 image to \u001b[1mruns\\detect\\exp1452\u001b[0m\n",
      "Saved results to runs\\detect\\exp1452\n",
      "\n",
      "Saved 1 image to \u001b[1mruns\\detect\\exp1453\u001b[0m\n",
      "Saved results to runs\\detect\\exp1453\n",
      "\n",
      "Saved 1 image to \u001b[1mruns\\detect\\exp1454\u001b[0m\n",
      "Saved results to runs\\detect\\exp1454\n",
      "\n",
      "Saved 1 image to \u001b[1mruns\\detect\\exp1455\u001b[0m\n",
      "Saved results to runs\\detect\\exp1455\n",
      "\n",
      "Saved 1 image to \u001b[1mruns\\detect\\exp1456\u001b[0m\n",
      "Saved results to runs\\detect\\exp1456\n",
      "\n",
      "Saved 1 image to \u001b[1mruns\\detect\\exp1457\u001b[0m\n",
      "Saved results to runs\\detect\\exp1457\n",
      "\n",
      "Saved 1 image to \u001b[1mruns\\detect\\exp1458\u001b[0m\n",
      "Saved results to runs\\detect\\exp1458\n",
      "\n",
      "Saved 1 image to \u001b[1mruns\\detect\\exp1459\u001b[0m\n",
      "Saved results to runs\\detect\\exp1459\n",
      "\n",
      "Saved 1 image to \u001b[1mruns\\detect\\exp1460\u001b[0m\n",
      "Saved results to runs\\detect\\exp1460\n",
      "\n",
      "Saved 1 image to \u001b[1mruns\\detect\\exp1461\u001b[0m\n",
      "Saved results to runs\\detect\\exp1461\n",
      "\n",
      "Saved 1 image to \u001b[1mruns\\detect\\exp1462\u001b[0m\n",
      "Saved results to runs\\detect\\exp1462\n",
      "\n",
      "Saved 1 image to \u001b[1mruns\\detect\\exp1463\u001b[0m\n",
      "Saved results to runs\\detect\\exp1463\n",
      "\n",
      "Saved 1 image to \u001b[1mruns\\detect\\exp1464\u001b[0m\n",
      "Saved results to runs\\detect\\exp1464\n",
      "\n",
      "Saved 1 image to \u001b[1mruns\\detect\\exp1465\u001b[0m\n",
      "Saved results to runs\\detect\\exp1465\n",
      "\n",
      "Saved 1 image to \u001b[1mruns\\detect\\exp1466\u001b[0m\n",
      "Saved results to runs\\detect\\exp1466\n",
      "\n",
      "Saved 1 image to \u001b[1mruns\\detect\\exp1467\u001b[0m\n",
      "Saved results to runs\\detect\\exp1467\n",
      "\n",
      "Saved 1 image to \u001b[1mruns\\detect\\exp1468\u001b[0m\n",
      "Saved results to runs\\detect\\exp1468\n",
      "\n",
      "Saved 1 image to \u001b[1mruns\\detect\\exp1469\u001b[0m\n",
      "Saved results to runs\\detect\\exp1469\n",
      "\n",
      "Saved 1 image to \u001b[1mruns\\detect\\exp1470\u001b[0m\n",
      "Saved results to runs\\detect\\exp1470\n",
      "\n",
      "Saved 1 image to \u001b[1mruns\\detect\\exp1471\u001b[0m\n",
      "Saved results to runs\\detect\\exp1471\n",
      "\n",
      "Saved 1 image to \u001b[1mruns\\detect\\exp1472\u001b[0m\n",
      "Saved results to runs\\detect\\exp1472\n",
      "\n",
      "Saved 1 image to \u001b[1mruns\\detect\\exp1473\u001b[0m\n",
      "Saved results to runs\\detect\\exp1473\n",
      "\n",
      "Saved 1 image to \u001b[1mruns\\detect\\exp1474\u001b[0m\n",
      "Saved results to runs\\detect\\exp1474\n",
      "\n",
      "Saved 1 image to \u001b[1mruns\\detect\\exp1475\u001b[0m\n",
      "Saved results to runs\\detect\\exp1475\n",
      "\n",
      "Saved 1 image to \u001b[1mruns\\detect\\exp1476\u001b[0m\n",
      "Saved results to runs\\detect\\exp1476\n",
      "\n",
      "Saved 1 image to \u001b[1mruns\\detect\\exp1477\u001b[0m\n",
      "Saved results to runs\\detect\\exp1477\n",
      "\n",
      "Saved 1 image to \u001b[1mruns\\detect\\exp1478\u001b[0m\n",
      "Saved results to runs\\detect\\exp1478\n",
      "\n",
      "Saved 1 image to \u001b[1mruns\\detect\\exp1479\u001b[0m\n",
      "Saved results to runs\\detect\\exp1479\n",
      "\n",
      "Saved 1 image to \u001b[1mruns\\detect\\exp1480\u001b[0m\n",
      "Saved results to runs\\detect\\exp1480\n",
      "\n",
      "Saved 1 image to \u001b[1mruns\\detect\\exp1481\u001b[0m\n",
      "Saved results to runs\\detect\\exp1481\n",
      "\n",
      "Saved 1 image to \u001b[1mruns\\detect\\exp1482\u001b[0m\n",
      "Saved results to runs\\detect\\exp1482\n",
      "\n",
      "Saved 1 image to \u001b[1mruns\\detect\\exp1483\u001b[0m\n",
      "Saved results to runs\\detect\\exp1483\n",
      "\n",
      "Saved 1 image to \u001b[1mruns\\detect\\exp1484\u001b[0m\n",
      "Saved results to runs\\detect\\exp1484\n",
      "\n",
      "Saved 1 image to \u001b[1mruns\\detect\\exp1485\u001b[0m\n",
      "Saved results to runs\\detect\\exp1485\n",
      "\n",
      "Saved 1 image to \u001b[1mruns\\detect\\exp1486\u001b[0m\n",
      "Saved results to runs\\detect\\exp1486\n",
      "\n",
      "Saved 1 image to \u001b[1mruns\\detect\\exp1487\u001b[0m\n",
      "Saved results to runs\\detect\\exp1487\n",
      "\n",
      "Saved 1 image to \u001b[1mruns\\detect\\exp1488\u001b[0m\n",
      "Saved results to runs\\detect\\exp1488\n",
      "\n",
      "Saved 1 image to \u001b[1mruns\\detect\\exp1489\u001b[0m\n",
      "Saved results to runs\\detect\\exp1489\n",
      "\n",
      "Saved 1 image to \u001b[1mruns\\detect\\exp1490\u001b[0m\n",
      "Saved results to runs\\detect\\exp1490\n",
      "\n",
      "Saved 1 image to \u001b[1mruns\\detect\\exp1491\u001b[0m\n",
      "Saved results to runs\\detect\\exp1491\n",
      "\n",
      "Saved 1 image to \u001b[1mruns\\detect\\exp1492\u001b[0m\n",
      "Saved results to runs\\detect\\exp1492\n",
      "\n",
      "Saved 1 image to \u001b[1mruns\\detect\\exp1493\u001b[0m\n",
      "Saved results to runs\\detect\\exp1493\n",
      "\n",
      "Saved 1 image to \u001b[1mruns\\detect\\exp1494\u001b[0m\n",
      "Saved results to runs\\detect\\exp1494\n",
      "\n",
      "Saved 1 image to \u001b[1mruns\\detect\\exp1495\u001b[0m\n",
      "Saved results to runs\\detect\\exp1495\n",
      "\n",
      "Saved 1 image to \u001b[1mruns\\detect\\exp1496\u001b[0m\n",
      "Saved results to runs\\detect\\exp1496\n",
      "\n",
      "Saved 1 image to \u001b[1mruns\\detect\\exp1497\u001b[0m\n",
      "Saved results to runs\\detect\\exp1497\n",
      "\n",
      "Saved 1 image to \u001b[1mruns\\detect\\exp1498\u001b[0m\n",
      "Saved results to runs\\detect\\exp1498\n",
      "\n",
      "Saved 1 image to \u001b[1mruns\\detect\\exp1499\u001b[0m\n",
      "Saved results to runs\\detect\\exp1499\n",
      "\n",
      "Saved 1 image to \u001b[1mruns\\detect\\exp1500\u001b[0m\n",
      "Saved results to runs\\detect\\exp1500\n",
      "\n",
      "Saved 1 image to \u001b[1mruns\\detect\\exp1501\u001b[0m\n",
      "Saved results to runs\\detect\\exp1501\n",
      "\n",
      "Saved 1 image to \u001b[1mruns\\detect\\exp1502\u001b[0m\n",
      "Saved results to runs\\detect\\exp1502\n",
      "\n",
      "Saved 1 image to \u001b[1mruns\\detect\\exp1503\u001b[0m\n",
      "Saved results to runs\\detect\\exp1503\n",
      "\n",
      "Saved 1 image to \u001b[1mruns\\detect\\exp1504\u001b[0m\n",
      "Saved results to runs\\detect\\exp1504\n",
      "\n",
      "Saved 1 image to \u001b[1mruns\\detect\\exp1505\u001b[0m\n",
      "Saved results to runs\\detect\\exp1505\n",
      "\n",
      "Saved 1 image to \u001b[1mruns\\detect\\exp1506\u001b[0m\n",
      "Saved results to runs\\detect\\exp1506\n",
      "\n",
      "Saved 1 image to \u001b[1mruns\\detect\\exp1507\u001b[0m\n",
      "Saved results to runs\\detect\\exp1507\n",
      "\n",
      "Saved 1 image to \u001b[1mruns\\detect\\exp1508\u001b[0m\n",
      "Saved results to runs\\detect\\exp1508\n",
      "\n",
      "Saved 1 image to \u001b[1mruns\\detect\\exp1509\u001b[0m\n",
      "Saved results to runs\\detect\\exp1509\n",
      "\n",
      "Saved 1 image to \u001b[1mruns\\detect\\exp1510\u001b[0m\n",
      "Saved results to runs\\detect\\exp1510\n",
      "\n",
      "Saved 1 image to \u001b[1mruns\\detect\\exp1511\u001b[0m\n",
      "Saved results to runs\\detect\\exp1511\n",
      "\n",
      "Saved 1 image to \u001b[1mruns\\detect\\exp1512\u001b[0m\n",
      "Saved results to runs\\detect\\exp1512\n",
      "\n",
      "Saved 1 image to \u001b[1mruns\\detect\\exp1513\u001b[0m\n",
      "Saved results to runs\\detect\\exp1513\n",
      "\n",
      "Saved 1 image to \u001b[1mruns\\detect\\exp1514\u001b[0m\n",
      "Saved results to runs\\detect\\exp1514\n",
      "\n",
      "Saved 1 image to \u001b[1mruns\\detect\\exp1515\u001b[0m\n",
      "Saved results to runs\\detect\\exp1515\n",
      "\n",
      "Saved 1 image to \u001b[1mruns\\detect\\exp1516\u001b[0m\n",
      "Saved results to runs\\detect\\exp1516\n",
      "\n",
      "Saved 1 image to \u001b[1mruns\\detect\\exp1517\u001b[0m\n",
      "Saved results to runs\\detect\\exp1517\n",
      "\n",
      "Saved 1 image to \u001b[1mruns\\detect\\exp1518\u001b[0m\n",
      "Saved results to runs\\detect\\exp1518\n",
      "\n",
      "Saved 1 image to \u001b[1mruns\\detect\\exp1519\u001b[0m\n",
      "Saved results to runs\\detect\\exp1519\n",
      "\n",
      "Saved 1 image to \u001b[1mruns\\detect\\exp1520\u001b[0m\n",
      "Saved results to runs\\detect\\exp1520\n",
      "\n",
      "Saved 1 image to \u001b[1mruns\\detect\\exp1521\u001b[0m\n",
      "Saved results to runs\\detect\\exp1521\n",
      "\n",
      "Saved 1 image to \u001b[1mruns\\detect\\exp1522\u001b[0m\n",
      "Saved results to runs\\detect\\exp1522\n",
      "\n",
      "Saved 1 image to \u001b[1mruns\\detect\\exp1523\u001b[0m\n",
      "Saved results to runs\\detect\\exp1523\n",
      "\n",
      "Saved 1 image to \u001b[1mruns\\detect\\exp1524\u001b[0m\n",
      "Saved results to runs\\detect\\exp1524\n",
      "\n",
      "Saved 1 image to \u001b[1mruns\\detect\\exp1525\u001b[0m\n",
      "Saved results to runs\\detect\\exp1525\n",
      "\n",
      "Saved 1 image to \u001b[1mruns\\detect\\exp1526\u001b[0m\n",
      "Saved results to runs\\detect\\exp1526\n",
      "\n",
      "Saved 1 image to \u001b[1mruns\\detect\\exp1527\u001b[0m\n",
      "Saved results to runs\\detect\\exp1527\n",
      "\n",
      "Saved 1 image to \u001b[1mruns\\detect\\exp1528\u001b[0m\n",
      "Saved results to runs\\detect\\exp1528\n",
      "\n",
      "Saved 1 image to \u001b[1mruns\\detect\\exp1529\u001b[0m\n",
      "Saved results to runs\\detect\\exp1529\n",
      "\n",
      "Saved 1 image to \u001b[1mruns\\detect\\exp1530\u001b[0m\n",
      "Saved results to runs\\detect\\exp1530\n",
      "\n",
      "Saved 1 image to \u001b[1mruns\\detect\\exp1531\u001b[0m\n",
      "Saved results to runs\\detect\\exp1531\n",
      "\n",
      "Saved 1 image to \u001b[1mruns\\detect\\exp1532\u001b[0m\n",
      "Saved results to runs\\detect\\exp1532\n",
      "\n"
     ]
    },
    {
     "name": "stdout",
     "output_type": "stream",
     "text": [
      "1/1 [==============================] - 0s 150ms/step\n"
     ]
    },
    {
     "name": "stderr",
     "output_type": "stream",
     "text": [
      "Saved 1 image to \u001b[1mruns\\detect\\exp1533\u001b[0m\n",
      "Saved results to runs\\detect\\exp1533\n",
      "\n",
      "Saved 1 image to \u001b[1mruns\\detect\\exp1534\u001b[0m\n",
      "Saved results to runs\\detect\\exp1534\n",
      "\n",
      "Saved 1 image to \u001b[1mruns\\detect\\exp1535\u001b[0m\n",
      "Saved results to runs\\detect\\exp1535\n",
      "\n",
      "Saved 1 image to \u001b[1mruns\\detect\\exp1536\u001b[0m\n",
      "Saved results to runs\\detect\\exp1536\n",
      "\n",
      "Saved 1 image to \u001b[1mruns\\detect\\exp1537\u001b[0m\n",
      "Saved results to runs\\detect\\exp1537\n",
      "\n",
      "Saved 1 image to \u001b[1mruns\\detect\\exp1538\u001b[0m\n",
      "Saved results to runs\\detect\\exp1538\n",
      "\n",
      "Saved 1 image to \u001b[1mruns\\detect\\exp1539\u001b[0m\n",
      "Saved results to runs\\detect\\exp1539\n",
      "\n",
      "Saved 1 image to \u001b[1mruns\\detect\\exp1540\u001b[0m\n",
      "Saved results to runs\\detect\\exp1540\n",
      "\n",
      "Saved 1 image to \u001b[1mruns\\detect\\exp1541\u001b[0m\n",
      "Saved results to runs\\detect\\exp1541\n",
      "\n",
      "Saved 1 image to \u001b[1mruns\\detect\\exp1542\u001b[0m\n",
      "Saved results to runs\\detect\\exp1542\n",
      "\n",
      "Saved 1 image to \u001b[1mruns\\detect\\exp1543\u001b[0m\n",
      "Saved results to runs\\detect\\exp1543\n",
      "\n",
      "Saved 1 image to \u001b[1mruns\\detect\\exp1544\u001b[0m\n",
      "Saved results to runs\\detect\\exp1544\n",
      "\n",
      "Saved 1 image to \u001b[1mruns\\detect\\exp1545\u001b[0m\n",
      "Saved results to runs\\detect\\exp1545\n",
      "\n",
      "Saved 1 image to \u001b[1mruns\\detect\\exp1546\u001b[0m\n",
      "Saved results to runs\\detect\\exp1546\n",
      "\n",
      "Saved 1 image to \u001b[1mruns\\detect\\exp1547\u001b[0m\n",
      "Saved results to runs\\detect\\exp1547\n",
      "\n",
      "Saved 1 image to \u001b[1mruns\\detect\\exp1548\u001b[0m\n",
      "Saved results to runs\\detect\\exp1548\n",
      "\n",
      "Saved 1 image to \u001b[1mruns\\detect\\exp1549\u001b[0m\n",
      "Saved results to runs\\detect\\exp1549\n",
      "\n",
      "Saved 1 image to \u001b[1mruns\\detect\\exp1550\u001b[0m\n",
      "Saved results to runs\\detect\\exp1550\n",
      "\n",
      "Saved 1 image to \u001b[1mruns\\detect\\exp1551\u001b[0m\n",
      "Saved results to runs\\detect\\exp1551\n",
      "\n",
      "Saved 1 image to \u001b[1mruns\\detect\\exp1552\u001b[0m\n",
      "Saved results to runs\\detect\\exp1552\n",
      "\n",
      "Saved 1 image to \u001b[1mruns\\detect\\exp1553\u001b[0m\n",
      "Saved results to runs\\detect\\exp1553\n",
      "\n",
      "Saved 1 image to \u001b[1mruns\\detect\\exp1554\u001b[0m\n",
      "Saved results to runs\\detect\\exp1554\n",
      "\n",
      "Saved 1 image to \u001b[1mruns\\detect\\exp1555\u001b[0m\n",
      "Saved results to runs\\detect\\exp1555\n",
      "\n",
      "Saved 1 image to \u001b[1mruns\\detect\\exp1556\u001b[0m\n",
      "Saved results to runs\\detect\\exp1556\n",
      "\n",
      "Saved 1 image to \u001b[1mruns\\detect\\exp1557\u001b[0m\n",
      "Saved results to runs\\detect\\exp1557\n",
      "\n",
      "Saved 1 image to \u001b[1mruns\\detect\\exp1558\u001b[0m\n",
      "Saved results to runs\\detect\\exp1558\n",
      "\n",
      "Saved 1 image to \u001b[1mruns\\detect\\exp1559\u001b[0m\n",
      "Saved results to runs\\detect\\exp1559\n",
      "\n",
      "Saved 1 image to \u001b[1mruns\\detect\\exp1560\u001b[0m\n",
      "Saved results to runs\\detect\\exp1560\n",
      "\n"
     ]
    },
    {
     "name": "stdout",
     "output_type": "stream",
     "text": [
      "1/1 [==============================] - 0s 52ms/step\n"
     ]
    },
    {
     "name": "stderr",
     "output_type": "stream",
     "text": [
      "Saved 1 image to \u001b[1mruns\\detect\\exp1561\u001b[0m\n",
      "Saved results to runs\\detect\\exp1561\n",
      "\n"
     ]
    },
    {
     "name": "stdout",
     "output_type": "stream",
     "text": [
      "1/1 [==============================] - 0s 50ms/step\n"
     ]
    },
    {
     "name": "stderr",
     "output_type": "stream",
     "text": [
      "Saved 1 image to \u001b[1mruns\\detect\\exp1562\u001b[0m\n",
      "Saved results to runs\\detect\\exp1562\n",
      "\n"
     ]
    },
    {
     "name": "stdout",
     "output_type": "stream",
     "text": [
      "1/1 [==============================] - 0s 54ms/step\n"
     ]
    },
    {
     "name": "stderr",
     "output_type": "stream",
     "text": [
      "Saved 1 image to \u001b[1mruns\\detect\\exp1563\u001b[0m\n",
      "Saved results to runs\\detect\\exp1563\n",
      "\n"
     ]
    },
    {
     "name": "stdout",
     "output_type": "stream",
     "text": [
      "1/1 [==============================] - 0s 52ms/step\n"
     ]
    },
    {
     "name": "stderr",
     "output_type": "stream",
     "text": [
      "Saved 1 image to \u001b[1mruns\\detect\\exp1564\u001b[0m\n",
      "Saved results to runs\\detect\\exp1564\n",
      "\n",
      "Saved 1 image to \u001b[1mruns\\detect\\exp1565\u001b[0m\n",
      "Saved results to runs\\detect\\exp1565\n",
      "\n"
     ]
    },
    {
     "name": "stdout",
     "output_type": "stream",
     "text": [
      "1/1 [==============================] - 0s 61ms/step\n"
     ]
    },
    {
     "name": "stderr",
     "output_type": "stream",
     "text": [
      "Saved 1 image to \u001b[1mruns\\detect\\exp1566\u001b[0m\n",
      "Saved results to runs\\detect\\exp1566\n",
      "\n"
     ]
    },
    {
     "name": "stdout",
     "output_type": "stream",
     "text": [
      "1/1 [==============================] - 0s 48ms/step\n"
     ]
    },
    {
     "name": "stderr",
     "output_type": "stream",
     "text": [
      "Saved 1 image to \u001b[1mruns\\detect\\exp1567\u001b[0m\n",
      "Saved results to runs\\detect\\exp1567\n",
      "\n"
     ]
    },
    {
     "name": "stdout",
     "output_type": "stream",
     "text": [
      "1/1 [==============================] - 0s 53ms/step\n"
     ]
    },
    {
     "name": "stderr",
     "output_type": "stream",
     "text": [
      "Saved 1 image to \u001b[1mruns\\detect\\exp1568\u001b[0m\n",
      "Saved results to runs\\detect\\exp1568\n",
      "\n"
     ]
    },
    {
     "name": "stdout",
     "output_type": "stream",
     "text": [
      "1/1 [==============================] - 0s 57ms/step\n"
     ]
    },
    {
     "name": "stderr",
     "output_type": "stream",
     "text": [
      "Saved 1 image to \u001b[1mruns\\detect\\exp1569\u001b[0m\n",
      "Saved results to runs\\detect\\exp1569\n",
      "\n",
      "Saved 1 image to \u001b[1mruns\\detect\\exp1570\u001b[0m\n",
      "Saved results to runs\\detect\\exp1570\n",
      "\n",
      "Saved 1 image to \u001b[1mruns\\detect\\exp1571\u001b[0m\n",
      "Saved results to runs\\detect\\exp1571\n",
      "\n",
      "Saved 1 image to \u001b[1mruns\\detect\\exp1572\u001b[0m\n",
      "Saved results to runs\\detect\\exp1572\n",
      "\n",
      "Saved 1 image to \u001b[1mruns\\detect\\exp1573\u001b[0m\n",
      "Saved results to runs\\detect\\exp1573\n",
      "\n",
      "Saved 1 image to \u001b[1mruns\\detect\\exp1574\u001b[0m\n",
      "Saved results to runs\\detect\\exp1574\n",
      "\n",
      "Saved 1 image to \u001b[1mruns\\detect\\exp1575\u001b[0m\n",
      "Saved results to runs\\detect\\exp1575\n",
      "\n"
     ]
    },
    {
     "name": "stdout",
     "output_type": "stream",
     "text": [
      "1/1 [==============================] - 0s 57ms/step\n"
     ]
    },
    {
     "name": "stderr",
     "output_type": "stream",
     "text": [
      "Saved 1 image to \u001b[1mruns\\detect\\exp1576\u001b[0m\n",
      "Saved results to runs\\detect\\exp1576\n",
      "\n",
      "Saved 1 image to \u001b[1mruns\\detect\\exp1577\u001b[0m\n",
      "Saved results to runs\\detect\\exp1577\n",
      "\n"
     ]
    },
    {
     "name": "stdout",
     "output_type": "stream",
     "text": [
      "1/1 [==============================] - 0s 49ms/step\n"
     ]
    },
    {
     "name": "stderr",
     "output_type": "stream",
     "text": [
      "Saved 1 image to \u001b[1mruns\\detect\\exp1578\u001b[0m\n",
      "Saved results to runs\\detect\\exp1578\n",
      "\n",
      "Saved 1 image to \u001b[1mruns\\detect\\exp1579\u001b[0m\n",
      "Saved results to runs\\detect\\exp1579\n",
      "\n",
      "Saved 1 image to \u001b[1mruns\\detect\\exp1580\u001b[0m\n",
      "Saved results to runs\\detect\\exp1580\n",
      "\n",
      "Saved 1 image to \u001b[1mruns\\detect\\exp1581\u001b[0m\n",
      "Saved results to runs\\detect\\exp1581\n",
      "\n"
     ]
    },
    {
     "name": "stdout",
     "output_type": "stream",
     "text": [
      "1/1 [==============================] - 0s 49ms/step\n"
     ]
    },
    {
     "name": "stderr",
     "output_type": "stream",
     "text": [
      "Saved 1 image to \u001b[1mruns\\detect\\exp1582\u001b[0m\n",
      "Saved results to runs\\detect\\exp1582\n",
      "\n"
     ]
    },
    {
     "name": "stdout",
     "output_type": "stream",
     "text": [
      "1/1 [==============================] - 0s 47ms/step\n"
     ]
    },
    {
     "name": "stderr",
     "output_type": "stream",
     "text": [
      "Saved 1 image to \u001b[1mruns\\detect\\exp1583\u001b[0m\n",
      "Saved results to runs\\detect\\exp1583\n",
      "\n"
     ]
    },
    {
     "name": "stdout",
     "output_type": "stream",
     "text": [
      "1/1 [==============================] - 0s 42ms/step\n"
     ]
    },
    {
     "name": "stderr",
     "output_type": "stream",
     "text": [
      "Saved 1 image to \u001b[1mruns\\detect\\exp1584\u001b[0m\n",
      "Saved results to runs\\detect\\exp1584\n",
      "\n"
     ]
    },
    {
     "name": "stdout",
     "output_type": "stream",
     "text": [
      "1/1 [==============================] - 0s 47ms/step\n"
     ]
    },
    {
     "name": "stderr",
     "output_type": "stream",
     "text": [
      "Saved 1 image to \u001b[1mruns\\detect\\exp1585\u001b[0m\n",
      "Saved results to runs\\detect\\exp1585\n",
      "\n",
      "Saved 1 image to \u001b[1mruns\\detect\\exp1586\u001b[0m\n",
      "Saved results to runs\\detect\\exp1586\n",
      "\n"
     ]
    },
    {
     "name": "stdout",
     "output_type": "stream",
     "text": [
      "1/1 [==============================] - 0s 47ms/step\n"
     ]
    },
    {
     "name": "stderr",
     "output_type": "stream",
     "text": [
      "Saved 1 image to \u001b[1mruns\\detect\\exp1587\u001b[0m\n",
      "Saved results to runs\\detect\\exp1587\n",
      "\n"
     ]
    },
    {
     "name": "stdout",
     "output_type": "stream",
     "text": [
      "1/1 [==============================] - 0s 43ms/step\n"
     ]
    },
    {
     "name": "stderr",
     "output_type": "stream",
     "text": [
      "Saved 1 image to \u001b[1mruns\\detect\\exp1588\u001b[0m\n",
      "Saved results to runs\\detect\\exp1588\n",
      "\n"
     ]
    },
    {
     "name": "stdout",
     "output_type": "stream",
     "text": [
      "1/1 [==============================] - 0s 48ms/step\n"
     ]
    },
    {
     "name": "stderr",
     "output_type": "stream",
     "text": [
      "Saved 1 image to \u001b[1mruns\\detect\\exp1589\u001b[0m\n",
      "Saved results to runs\\detect\\exp1589\n",
      "\n"
     ]
    },
    {
     "name": "stdout",
     "output_type": "stream",
     "text": [
      "1/1 [==============================] - 0s 57ms/step\n"
     ]
    },
    {
     "name": "stderr",
     "output_type": "stream",
     "text": [
      "Saved 1 image to \u001b[1mruns\\detect\\exp1590\u001b[0m\n",
      "Saved results to runs\\detect\\exp1590\n",
      "\n",
      "Saved 1 image to \u001b[1mruns\\detect\\exp1591\u001b[0m\n",
      "Saved results to runs\\detect\\exp1591\n",
      "\n"
     ]
    },
    {
     "name": "stdout",
     "output_type": "stream",
     "text": [
      "1/1 [==============================] - 0s 38ms/step\n"
     ]
    },
    {
     "name": "stderr",
     "output_type": "stream",
     "text": [
      "Saved 1 image to \u001b[1mruns\\detect\\exp1592\u001b[0m\n",
      "Saved results to runs\\detect\\exp1592\n",
      "\n",
      "Saved 1 image to \u001b[1mruns\\detect\\exp1593\u001b[0m\n",
      "Saved results to runs\\detect\\exp1593\n",
      "\n",
      "Saved 1 image to \u001b[1mruns\\detect\\exp1594\u001b[0m\n",
      "Saved results to runs\\detect\\exp1594\n",
      "\n",
      "Saved 1 image to \u001b[1mruns\\detect\\exp1595\u001b[0m\n",
      "Saved results to runs\\detect\\exp1595\n",
      "\n"
     ]
    },
    {
     "name": "stdout",
     "output_type": "stream",
     "text": [
      "1/1 [==============================] - 0s 50ms/step\n"
     ]
    },
    {
     "name": "stderr",
     "output_type": "stream",
     "text": [
      "Saved 1 image to \u001b[1mruns\\detect\\exp1596\u001b[0m\n",
      "Saved results to runs\\detect\\exp1596\n",
      "\n"
     ]
    },
    {
     "name": "stdout",
     "output_type": "stream",
     "text": [
      "1/1 [==============================] - 0s 48ms/step\n"
     ]
    },
    {
     "name": "stderr",
     "output_type": "stream",
     "text": [
      "Saved 1 image to \u001b[1mruns\\detect\\exp1597\u001b[0m\n",
      "Saved results to runs\\detect\\exp1597\n",
      "\n",
      "Saved 1 image to \u001b[1mruns\\detect\\exp1598\u001b[0m\n",
      "Saved results to runs\\detect\\exp1598\n",
      "\n"
     ]
    },
    {
     "name": "stdout",
     "output_type": "stream",
     "text": [
      "1/1 [==============================] - 0s 46ms/step\n"
     ]
    },
    {
     "name": "stderr",
     "output_type": "stream",
     "text": [
      "Saved 1 image to \u001b[1mruns\\detect\\exp1599\u001b[0m\n",
      "Saved results to runs\\detect\\exp1599\n",
      "\n",
      "Saved 1 image to \u001b[1mruns\\detect\\exp1600\u001b[0m\n",
      "Saved results to runs\\detect\\exp1600\n",
      "\n"
     ]
    },
    {
     "name": "stdout",
     "output_type": "stream",
     "text": [
      "1/1 [==============================] - 0s 44ms/step\n"
     ]
    },
    {
     "name": "stderr",
     "output_type": "stream",
     "text": [
      "Saved 1 image to \u001b[1mruns\\detect\\exp1601\u001b[0m\n",
      "Saved results to runs\\detect\\exp1601\n",
      "\n"
     ]
    },
    {
     "name": "stdout",
     "output_type": "stream",
     "text": [
      "1/1 [==============================] - 0s 49ms/step\n"
     ]
    },
    {
     "name": "stderr",
     "output_type": "stream",
     "text": [
      "Saved 1 image to \u001b[1mruns\\detect\\exp1602\u001b[0m\n",
      "Saved results to runs\\detect\\exp1602\n",
      "\n"
     ]
    },
    {
     "name": "stdout",
     "output_type": "stream",
     "text": [
      "1/1 [==============================] - 0s 43ms/step\n"
     ]
    },
    {
     "name": "stderr",
     "output_type": "stream",
     "text": [
      "Saved 1 image to \u001b[1mruns\\detect\\exp1603\u001b[0m\n",
      "Saved results to runs\\detect\\exp1603\n",
      "\n"
     ]
    },
    {
     "name": "stdout",
     "output_type": "stream",
     "text": [
      "1/1 [==============================] - 0s 46ms/step\n"
     ]
    },
    {
     "name": "stderr",
     "output_type": "stream",
     "text": [
      "Saved 1 image to \u001b[1mruns\\detect\\exp1604\u001b[0m\n",
      "Saved results to runs\\detect\\exp1604\n",
      "\n",
      "Saved 1 image to \u001b[1mruns\\detect\\exp1605\u001b[0m\n",
      "Saved results to runs\\detect\\exp1605\n",
      "\n",
      "Saved 1 image to \u001b[1mruns\\detect\\exp1606\u001b[0m\n",
      "Saved results to runs\\detect\\exp1606\n",
      "\n",
      "Saved 1 image to \u001b[1mruns\\detect\\exp1607\u001b[0m\n",
      "Saved results to runs\\detect\\exp1607\n",
      "\n",
      "Saved 1 image to \u001b[1mruns\\detect\\exp1608\u001b[0m\n",
      "Saved results to runs\\detect\\exp1608\n",
      "\n"
     ]
    },
    {
     "name": "stdout",
     "output_type": "stream",
     "text": [
      "1/1 [==============================] - 0s 45ms/step\n"
     ]
    },
    {
     "name": "stderr",
     "output_type": "stream",
     "text": [
      "Saved 1 image to \u001b[1mruns\\detect\\exp1609\u001b[0m\n",
      "Saved results to runs\\detect\\exp1609\n",
      "\n",
      "Saved 1 image to \u001b[1mruns\\detect\\exp1610\u001b[0m\n",
      "Saved results to runs\\detect\\exp1610\n",
      "\n",
      "Saved 1 image to \u001b[1mruns\\detect\\exp1611\u001b[0m\n",
      "Saved results to runs\\detect\\exp1611\n",
      "\n",
      "Saved 1 image to \u001b[1mruns\\detect\\exp1612\u001b[0m\n",
      "Saved results to runs\\detect\\exp1612\n",
      "\n",
      "Saved 1 image to \u001b[1mruns\\detect\\exp1613\u001b[0m\n",
      "Saved results to runs\\detect\\exp1613\n",
      "\n",
      "Saved 1 image to \u001b[1mruns\\detect\\exp1614\u001b[0m\n",
      "Saved results to runs\\detect\\exp1614\n",
      "\n"
     ]
    },
    {
     "name": "stdout",
     "output_type": "stream",
     "text": [
      "1/1 [==============================] - 0s 48ms/step\n"
     ]
    },
    {
     "name": "stderr",
     "output_type": "stream",
     "text": [
      "Saved 1 image to \u001b[1mruns\\detect\\exp1615\u001b[0m\n",
      "Saved results to runs\\detect\\exp1615\n",
      "\n",
      "Saved 1 image to \u001b[1mruns\\detect\\exp1616\u001b[0m\n",
      "Saved results to runs\\detect\\exp1616\n",
      "\n",
      "Saved 1 image to \u001b[1mruns\\detect\\exp1617\u001b[0m\n",
      "Saved results to runs\\detect\\exp1617\n",
      "\n",
      "Saved 1 image to \u001b[1mruns\\detect\\exp1618\u001b[0m\n",
      "Saved results to runs\\detect\\exp1618\n",
      "\n",
      "Saved 1 image to \u001b[1mruns\\detect\\exp1619\u001b[0m\n",
      "Saved results to runs\\detect\\exp1619\n",
      "\n"
     ]
    },
    {
     "name": "stdout",
     "output_type": "stream",
     "text": [
      "1/1 [==============================] - 0s 50ms/step\n"
     ]
    },
    {
     "name": "stderr",
     "output_type": "stream",
     "text": [
      "Saved 1 image to \u001b[1mruns\\detect\\exp1620\u001b[0m\n",
      "Saved results to runs\\detect\\exp1620\n",
      "\n",
      "Saved 1 image to \u001b[1mruns\\detect\\exp1621\u001b[0m\n",
      "Saved results to runs\\detect\\exp1621\n",
      "\n",
      "Saved 1 image to \u001b[1mruns\\detect\\exp1622\u001b[0m\n",
      "Saved results to runs\\detect\\exp1622\n",
      "\n",
      "Saved 1 image to \u001b[1mruns\\detect\\exp1623\u001b[0m\n",
      "Saved results to runs\\detect\\exp1623\n",
      "\n",
      "Saved 1 image to \u001b[1mruns\\detect\\exp1624\u001b[0m\n",
      "Saved results to runs\\detect\\exp1624\n",
      "\n"
     ]
    },
    {
     "name": "stdout",
     "output_type": "stream",
     "text": [
      "1/1 [==============================] - 0s 45ms/step\n"
     ]
    },
    {
     "name": "stderr",
     "output_type": "stream",
     "text": [
      "Saved 1 image to \u001b[1mruns\\detect\\exp1625\u001b[0m\n",
      "Saved results to runs\\detect\\exp1625\n",
      "\n",
      "Saved 1 image to \u001b[1mruns\\detect\\exp1626\u001b[0m\n",
      "Saved results to runs\\detect\\exp1626\n",
      "\n"
     ]
    },
    {
     "name": "stdout",
     "output_type": "stream",
     "text": [
      "1/1 [==============================] - 0s 51ms/step\n"
     ]
    },
    {
     "name": "stderr",
     "output_type": "stream",
     "text": [
      "Saved 1 image to \u001b[1mruns\\detect\\exp1627\u001b[0m\n",
      "Saved results to runs\\detect\\exp1627\n",
      "\n"
     ]
    },
    {
     "name": "stdout",
     "output_type": "stream",
     "text": [
      "1/1 [==============================] - 0s 65ms/step\n"
     ]
    },
    {
     "name": "stderr",
     "output_type": "stream",
     "text": [
      "Saved 1 image to \u001b[1mruns\\detect\\exp1628\u001b[0m\n",
      "Saved results to runs\\detect\\exp1628\n",
      "\n",
      "Saved 1 image to \u001b[1mruns\\detect\\exp1629\u001b[0m\n",
      "Saved results to runs\\detect\\exp1629\n",
      "\n"
     ]
    },
    {
     "name": "stdout",
     "output_type": "stream",
     "text": [
      "1/1 [==============================] - 0s 53ms/step\n"
     ]
    },
    {
     "name": "stderr",
     "output_type": "stream",
     "text": [
      "Saved 1 image to \u001b[1mruns\\detect\\exp1630\u001b[0m\n",
      "Saved results to runs\\detect\\exp1630\n",
      "\n"
     ]
    },
    {
     "name": "stdout",
     "output_type": "stream",
     "text": [
      "1/1 [==============================] - 0s 48ms/step\n"
     ]
    },
    {
     "name": "stderr",
     "output_type": "stream",
     "text": [
      "Saved 1 image to \u001b[1mruns\\detect\\exp1631\u001b[0m\n",
      "Saved results to runs\\detect\\exp1631\n",
      "\n",
      "Saved 1 image to \u001b[1mruns\\detect\\exp1632\u001b[0m\n",
      "Saved results to runs\\detect\\exp1632\n",
      "\n",
      "Saved 1 image to \u001b[1mruns\\detect\\exp1633\u001b[0m\n",
      "Saved results to runs\\detect\\exp1633\n",
      "\n",
      "Saved 1 image to \u001b[1mruns\\detect\\exp1634\u001b[0m\n",
      "Saved results to runs\\detect\\exp1634\n",
      "\n",
      "Saved 1 image to \u001b[1mruns\\detect\\exp1635\u001b[0m\n",
      "Saved results to runs\\detect\\exp1635\n",
      "\n",
      "Saved 1 image to \u001b[1mruns\\detect\\exp1636\u001b[0m\n",
      "Saved results to runs\\detect\\exp1636\n",
      "\n",
      "Saved 1 image to \u001b[1mruns\\detect\\exp1637\u001b[0m\n",
      "Saved results to runs\\detect\\exp1637\n",
      "\n",
      "Saved 1 image to \u001b[1mruns\\detect\\exp1638\u001b[0m\n",
      "Saved results to runs\\detect\\exp1638\n",
      "\n",
      "Saved 1 image to \u001b[1mruns\\detect\\exp1639\u001b[0m\n",
      "Saved results to runs\\detect\\exp1639\n",
      "\n",
      "Saved 1 image to \u001b[1mruns\\detect\\exp1640\u001b[0m\n",
      "Saved results to runs\\detect\\exp1640\n",
      "\n",
      "Saved 1 image to \u001b[1mruns\\detect\\exp1641\u001b[0m\n",
      "Saved results to runs\\detect\\exp1641\n",
      "\n",
      "Saved 1 image to \u001b[1mruns\\detect\\exp1642\u001b[0m\n",
      "Saved results to runs\\detect\\exp1642\n",
      "\n",
      "Saved 1 image to \u001b[1mruns\\detect\\exp1643\u001b[0m\n",
      "Saved results to runs\\detect\\exp1643\n",
      "\n",
      "Saved 1 image to \u001b[1mruns\\detect\\exp1644\u001b[0m\n",
      "Saved results to runs\\detect\\exp1644\n",
      "\n",
      "Saved 1 image to \u001b[1mruns\\detect\\exp1645\u001b[0m\n",
      "Saved results to runs\\detect\\exp1645\n",
      "\n",
      "Saved 1 image to \u001b[1mruns\\detect\\exp1646\u001b[0m\n",
      "Saved results to runs\\detect\\exp1646\n",
      "\n",
      "Saved 1 image to \u001b[1mruns\\detect\\exp1647\u001b[0m\n",
      "Saved results to runs\\detect\\exp1647\n",
      "\n",
      "Saved 1 image to \u001b[1mruns\\detect\\exp1648\u001b[0m\n",
      "Saved results to runs\\detect\\exp1648\n",
      "\n",
      "Saved 1 image to \u001b[1mruns\\detect\\exp1649\u001b[0m\n",
      "Saved results to runs\\detect\\exp1649\n",
      "\n"
     ]
    },
    {
     "name": "stdout",
     "output_type": "stream",
     "text": [
      "1/1 [==============================] - 0s 55ms/step\n"
     ]
    },
    {
     "name": "stderr",
     "output_type": "stream",
     "text": [
      "Saved 1 image to \u001b[1mruns\\detect\\exp1650\u001b[0m\n",
      "Saved results to runs\\detect\\exp1650\n",
      "\n",
      "Saved 1 image to \u001b[1mruns\\detect\\exp1651\u001b[0m\n",
      "Saved results to runs\\detect\\exp1651\n",
      "\n",
      "Saved 1 image to \u001b[1mruns\\detect\\exp1652\u001b[0m\n",
      "Saved results to runs\\detect\\exp1652\n",
      "\n",
      "Saved 1 image to \u001b[1mruns\\detect\\exp1653\u001b[0m\n",
      "Saved results to runs\\detect\\exp1653\n",
      "\n",
      "Saved 1 image to \u001b[1mruns\\detect\\exp1654\u001b[0m\n",
      "Saved results to runs\\detect\\exp1654\n",
      "\n",
      "Saved 1 image to \u001b[1mruns\\detect\\exp1655\u001b[0m\n",
      "Saved results to runs\\detect\\exp1655\n",
      "\n"
     ]
    },
    {
     "name": "stdout",
     "output_type": "stream",
     "text": [
      "1/1 [==============================] - 0s 40ms/step\n"
     ]
    },
    {
     "name": "stderr",
     "output_type": "stream",
     "text": [
      "Saved 1 image to \u001b[1mruns\\detect\\exp1656\u001b[0m\n",
      "Saved results to runs\\detect\\exp1656\n",
      "\n",
      "Saved 1 image to \u001b[1mruns\\detect\\exp1657\u001b[0m\n",
      "Saved results to runs\\detect\\exp1657\n",
      "\n",
      "Saved 1 image to \u001b[1mruns\\detect\\exp1658\u001b[0m\n",
      "Saved results to runs\\detect\\exp1658\n",
      "\n"
     ]
    },
    {
     "name": "stdout",
     "output_type": "stream",
     "text": [
      "1/1 [==============================] - 0s 49ms/step\n",
      "1/1 [==============================] - 0s 55ms/step\n"
     ]
    },
    {
     "name": "stderr",
     "output_type": "stream",
     "text": [
      "Saved 1 image to \u001b[1mruns\\detect\\exp1659\u001b[0m\n",
      "Saved results to runs\\detect\\exp1659\n",
      "\n"
     ]
    },
    {
     "name": "stdout",
     "output_type": "stream",
     "text": [
      "1/1 [==============================] - 0s 52ms/step\n"
     ]
    },
    {
     "name": "stderr",
     "output_type": "stream",
     "text": [
      "Saved 1 image to \u001b[1mruns\\detect\\exp1660\u001b[0m\n",
      "Saved results to runs\\detect\\exp1660\n",
      "\n",
      "Saved 1 image to \u001b[1mruns\\detect\\exp1661\u001b[0m\n",
      "Saved results to runs\\detect\\exp1661\n",
      "\n"
     ]
    },
    {
     "name": "stdout",
     "output_type": "stream",
     "text": [
      "1/1 [==============================] - 0s 51ms/step\n"
     ]
    },
    {
     "name": "stderr",
     "output_type": "stream",
     "text": [
      "Saved 1 image to \u001b[1mruns\\detect\\exp1662\u001b[0m\n",
      "Saved results to runs\\detect\\exp1662\n",
      "\n"
     ]
    },
    {
     "name": "stdout",
     "output_type": "stream",
     "text": [
      "1/1 [==============================] - 0s 59ms/step\n"
     ]
    },
    {
     "name": "stderr",
     "output_type": "stream",
     "text": [
      "Saved 1 image to \u001b[1mruns\\detect\\exp1663\u001b[0m\n",
      "Saved results to runs\\detect\\exp1663\n",
      "\n"
     ]
    },
    {
     "name": "stdout",
     "output_type": "stream",
     "text": [
      "1/1 [==============================] - 0s 48ms/step\n"
     ]
    },
    {
     "name": "stderr",
     "output_type": "stream",
     "text": [
      "Saved 1 image to \u001b[1mruns\\detect\\exp1664\u001b[0m\n",
      "Saved results to runs\\detect\\exp1664\n",
      "\n"
     ]
    },
    {
     "name": "stdout",
     "output_type": "stream",
     "text": [
      "1/1 [==============================] - 0s 49ms/step\n",
      "1/1 [==============================] - 0s 47ms/step\n"
     ]
    },
    {
     "name": "stderr",
     "output_type": "stream",
     "text": [
      "Saved 1 image to \u001b[1mruns\\detect\\exp1665\u001b[0m\n",
      "Saved results to runs\\detect\\exp1665\n",
      "\n"
     ]
    },
    {
     "name": "stdout",
     "output_type": "stream",
     "text": [
      "1/1 [==============================] - 0s 52ms/step\n",
      "1/1 [==============================] - 0s 71ms/step\n"
     ]
    },
    {
     "name": "stderr",
     "output_type": "stream",
     "text": [
      "Saved 1 image to \u001b[1mruns\\detect\\exp1666\u001b[0m\n",
      "Saved results to runs\\detect\\exp1666\n",
      "\n",
      "Saved 1 image to \u001b[1mruns\\detect\\exp1667\u001b[0m\n",
      "Saved results to runs\\detect\\exp1667\n",
      "\n",
      "Saved 1 image to \u001b[1mruns\\detect\\exp1668\u001b[0m\n",
      "Saved results to runs\\detect\\exp1668\n",
      "\n"
     ]
    },
    {
     "name": "stdout",
     "output_type": "stream",
     "text": [
      "1/1 [==============================] - 0s 57ms/step\n",
      "1/1 [==============================] - 0s 58ms/step\n"
     ]
    },
    {
     "name": "stderr",
     "output_type": "stream",
     "text": [
      "Saved 1 image to \u001b[1mruns\\detect\\exp1669\u001b[0m\n",
      "Saved results to runs\\detect\\exp1669\n",
      "\n",
      "Saved 1 image to \u001b[1mruns\\detect\\exp1670\u001b[0m\n",
      "Saved results to runs\\detect\\exp1670\n",
      "\n",
      "Saved 1 image to \u001b[1mruns\\detect\\exp1671\u001b[0m\n",
      "Saved results to runs\\detect\\exp1671\n",
      "\n"
     ]
    },
    {
     "name": "stdout",
     "output_type": "stream",
     "text": [
      "1/1 [==============================] - 0s 69ms/step\n"
     ]
    },
    {
     "name": "stderr",
     "output_type": "stream",
     "text": [
      "Saved 1 image to \u001b[1mruns\\detect\\exp1672\u001b[0m\n",
      "Saved results to runs\\detect\\exp1672\n",
      "\n"
     ]
    },
    {
     "name": "stdout",
     "output_type": "stream",
     "text": [
      "1/1 [==============================] - 0s 59ms/step\n"
     ]
    },
    {
     "name": "stderr",
     "output_type": "stream",
     "text": [
      "Saved 1 image to \u001b[1mruns\\detect\\exp1673\u001b[0m\n",
      "Saved results to runs\\detect\\exp1673\n",
      "\n"
     ]
    },
    {
     "name": "stdout",
     "output_type": "stream",
     "text": [
      "1/1 [==============================] - 0s 50ms/step\n"
     ]
    },
    {
     "name": "stderr",
     "output_type": "stream",
     "text": [
      "Saved 1 image to \u001b[1mruns\\detect\\exp1674\u001b[0m\n",
      "Saved results to runs\\detect\\exp1674\n",
      "\n"
     ]
    },
    {
     "name": "stdout",
     "output_type": "stream",
     "text": [
      "1/1 [==============================] - 0s 40ms/step\n"
     ]
    },
    {
     "name": "stderr",
     "output_type": "stream",
     "text": [
      "Saved 1 image to \u001b[1mruns\\detect\\exp1675\u001b[0m\n",
      "Saved results to runs\\detect\\exp1675\n",
      "\n"
     ]
    },
    {
     "name": "stdout",
     "output_type": "stream",
     "text": [
      "1/1 [==============================] - 0s 41ms/step\n",
      "1/1 [==============================] - 0s 47ms/step\n"
     ]
    },
    {
     "name": "stderr",
     "output_type": "stream",
     "text": [
      "Saved 1 image to \u001b[1mruns\\detect\\exp1676\u001b[0m\n",
      "Saved results to runs\\detect\\exp1676\n",
      "\n",
      "Saved 1 image to \u001b[1mruns\\detect\\exp1677\u001b[0m\n",
      "Saved results to runs\\detect\\exp1677\n",
      "\n",
      "Saved 1 image to \u001b[1mruns\\detect\\exp1678\u001b[0m\n",
      "Saved results to runs\\detect\\exp1678\n",
      "\n"
     ]
    },
    {
     "name": "stdout",
     "output_type": "stream",
     "text": [
      "1/1 [==============================] - 0s 43ms/step\n",
      "1/1 [==============================] - 0s 40ms/step\n"
     ]
    },
    {
     "name": "stderr",
     "output_type": "stream",
     "text": [
      "Saved 1 image to \u001b[1mruns\\detect\\exp1679\u001b[0m\n",
      "Saved results to runs\\detect\\exp1679\n",
      "\n"
     ]
    },
    {
     "name": "stdout",
     "output_type": "stream",
     "text": [
      "1/1 [==============================] - 0s 48ms/step\n",
      "1/1 [==============================] - 0s 55ms/step\n"
     ]
    },
    {
     "name": "stderr",
     "output_type": "stream",
     "text": [
      "Saved 1 image to \u001b[1mruns\\detect\\exp1680\u001b[0m\n",
      "Saved results to runs\\detect\\exp1680\n",
      "\n"
     ]
    },
    {
     "name": "stdout",
     "output_type": "stream",
     "text": [
      "1/1 [==============================] - 0s 52ms/step\n"
     ]
    },
    {
     "name": "stderr",
     "output_type": "stream",
     "text": [
      "Saved 1 image to \u001b[1mruns\\detect\\exp1681\u001b[0m\n",
      "Saved results to runs\\detect\\exp1681\n",
      "\n",
      "Saved 1 image to \u001b[1mruns\\detect\\exp1682\u001b[0m\n",
      "Saved results to runs\\detect\\exp1682\n",
      "\n"
     ]
    },
    {
     "name": "stdout",
     "output_type": "stream",
     "text": [
      "1/1 [==============================] - 0s 63ms/step\n"
     ]
    },
    {
     "name": "stderr",
     "output_type": "stream",
     "text": [
      "Saved 1 image to \u001b[1mruns\\detect\\exp1683\u001b[0m\n",
      "Saved results to runs\\detect\\exp1683\n",
      "\n"
     ]
    },
    {
     "name": "stdout",
     "output_type": "stream",
     "text": [
      "1/1 [==============================] - 0s 50ms/step\n"
     ]
    },
    {
     "name": "stderr",
     "output_type": "stream",
     "text": [
      "Saved 1 image to \u001b[1mruns\\detect\\exp1684\u001b[0m\n",
      "Saved results to runs\\detect\\exp1684\n",
      "\n"
     ]
    },
    {
     "name": "stdout",
     "output_type": "stream",
     "text": [
      "1/1 [==============================] - 0s 41ms/step\n",
      "1/1 [==============================] - 0s 64ms/step\n"
     ]
    },
    {
     "name": "stderr",
     "output_type": "stream",
     "text": [
      "Saved 1 image to \u001b[1mruns\\detect\\exp1685\u001b[0m\n",
      "Saved results to runs\\detect\\exp1685\n",
      "\n"
     ]
    },
    {
     "name": "stdout",
     "output_type": "stream",
     "text": [
      "1/1 [==============================] - 0s 46ms/step\n",
      "1/1 [==============================] - 0s 82ms/step\n"
     ]
    },
    {
     "name": "stderr",
     "output_type": "stream",
     "text": [
      "Saved 1 image to \u001b[1mruns\\detect\\exp1686\u001b[0m\n",
      "Saved results to runs\\detect\\exp1686\n",
      "\n"
     ]
    },
    {
     "name": "stdout",
     "output_type": "stream",
     "text": [
      "1/1 [==============================] - 0s 42ms/step\n"
     ]
    },
    {
     "name": "stderr",
     "output_type": "stream",
     "text": [
      "Saved 1 image to \u001b[1mruns\\detect\\exp1687\u001b[0m\n",
      "Saved results to runs\\detect\\exp1687\n",
      "\n"
     ]
    },
    {
     "name": "stdout",
     "output_type": "stream",
     "text": [
      "1/1 [==============================] - 0s 42ms/step\n"
     ]
    },
    {
     "name": "stderr",
     "output_type": "stream",
     "text": [
      "Saved 1 image to \u001b[1mruns\\detect\\exp1688\u001b[0m\n",
      "Saved results to runs\\detect\\exp1688\n",
      "\n"
     ]
    },
    {
     "name": "stdout",
     "output_type": "stream",
     "text": [
      "1/1 [==============================] - 0s 49ms/step\n"
     ]
    },
    {
     "name": "stderr",
     "output_type": "stream",
     "text": [
      "Saved 1 image to \u001b[1mruns\\detect\\exp1689\u001b[0m\n",
      "Saved results to runs\\detect\\exp1689\n",
      "\n",
      "Saved 1 image to \u001b[1mruns\\detect\\exp1690\u001b[0m\n",
      "Saved results to runs\\detect\\exp1690\n",
      "\n",
      "Saved 1 image to \u001b[1mruns\\detect\\exp1691\u001b[0m\n",
      "Saved results to runs\\detect\\exp1691\n",
      "\n"
     ]
    },
    {
     "name": "stdout",
     "output_type": "stream",
     "text": [
      "1/1 [==============================] - 0s 42ms/step\n"
     ]
    },
    {
     "name": "stderr",
     "output_type": "stream",
     "text": [
      "Saved 1 image to \u001b[1mruns\\detect\\exp1692\u001b[0m\n",
      "Saved results to runs\\detect\\exp1692\n",
      "\n"
     ]
    },
    {
     "name": "stdout",
     "output_type": "stream",
     "text": [
      "1/1 [==============================] - 0s 35ms/step\n"
     ]
    },
    {
     "name": "stderr",
     "output_type": "stream",
     "text": [
      "Saved 1 image to \u001b[1mruns\\detect\\exp1693\u001b[0m\n",
      "Saved results to runs\\detect\\exp1693\n",
      "\n"
     ]
    },
    {
     "name": "stdout",
     "output_type": "stream",
     "text": [
      "1/1 [==============================] - 0s 43ms/step\n",
      "1/1 [==============================] - 0s 34ms/step\n"
     ]
    },
    {
     "name": "stderr",
     "output_type": "stream",
     "text": [
      "Saved 1 image to \u001b[1mruns\\detect\\exp1694\u001b[0m\n",
      "Saved results to runs\\detect\\exp1694\n",
      "\n"
     ]
    },
    {
     "name": "stdout",
     "output_type": "stream",
     "text": [
      "1/1 [==============================] - 0s 45ms/step\n",
      "1/1 [==============================] - 0s 32ms/step\n"
     ]
    },
    {
     "name": "stderr",
     "output_type": "stream",
     "text": [
      "Saved 1 image to \u001b[1mruns\\detect\\exp1695\u001b[0m\n",
      "Saved results to runs\\detect\\exp1695\n",
      "\n",
      "Saved 1 image to \u001b[1mruns\\detect\\exp1696\u001b[0m\n",
      "Saved results to runs\\detect\\exp1696\n",
      "\n",
      "Saved 1 image to \u001b[1mruns\\detect\\exp1697\u001b[0m\n",
      "Saved results to runs\\detect\\exp1697\n",
      "\n"
     ]
    },
    {
     "name": "stdout",
     "output_type": "stream",
     "text": [
      "1/1 [==============================] - 0s 46ms/step\n",
      "1/1 [==============================] - 0s 42ms/step\n"
     ]
    },
    {
     "name": "stderr",
     "output_type": "stream",
     "text": [
      "Saved 1 image to \u001b[1mruns\\detect\\exp1698\u001b[0m\n",
      "Saved results to runs\\detect\\exp1698\n",
      "\n"
     ]
    },
    {
     "name": "stdout",
     "output_type": "stream",
     "text": [
      "1/1 [==============================] - 0s 56ms/step\n",
      "1/1 [==============================] - 0s 36ms/step\n"
     ]
    },
    {
     "name": "stderr",
     "output_type": "stream",
     "text": [
      "Saved 1 image to \u001b[1mruns\\detect\\exp1699\u001b[0m\n",
      "Saved results to runs\\detect\\exp1699\n",
      "\n"
     ]
    },
    {
     "name": "stdout",
     "output_type": "stream",
     "text": [
      "1/1 [==============================] - 0s 49ms/step\n",
      "1/1 [==============================] - 0s 49ms/step\n"
     ]
    },
    {
     "name": "stderr",
     "output_type": "stream",
     "text": [
      "Saved 1 image to \u001b[1mruns\\detect\\exp1700\u001b[0m\n",
      "Saved results to runs\\detect\\exp1700\n",
      "\n",
      "Saved 1 image to \u001b[1mruns\\detect\\exp1701\u001b[0m\n",
      "Saved results to runs\\detect\\exp1701\n",
      "\n"
     ]
    },
    {
     "name": "stdout",
     "output_type": "stream",
     "text": [
      "1/1 [==============================] - 0s 49ms/step\n"
     ]
    },
    {
     "name": "stderr",
     "output_type": "stream",
     "text": [
      "Saved 1 image to \u001b[1mruns\\detect\\exp1702\u001b[0m\n",
      "Saved results to runs\\detect\\exp1702\n",
      "\n",
      "Saved 1 image to \u001b[1mruns\\detect\\exp1703\u001b[0m\n",
      "Saved results to runs\\detect\\exp1703\n",
      "\n"
     ]
    },
    {
     "name": "stdout",
     "output_type": "stream",
     "text": [
      "1/1 [==============================] - 0s 58ms/step\n"
     ]
    },
    {
     "name": "stderr",
     "output_type": "stream",
     "text": [
      "Saved 1 image to \u001b[1mruns\\detect\\exp1704\u001b[0m\n",
      "Saved results to runs\\detect\\exp1704\n",
      "\n",
      "Saved 1 image to \u001b[1mruns\\detect\\exp1705\u001b[0m\n",
      "Saved results to runs\\detect\\exp1705\n",
      "\n",
      "Saved 1 image to \u001b[1mruns\\detect\\exp1706\u001b[0m\n",
      "Saved results to runs\\detect\\exp1706\n",
      "\n",
      "Saved 1 image to \u001b[1mruns\\detect\\exp1707\u001b[0m\n",
      "Saved results to runs\\detect\\exp1707\n",
      "\n",
      "Saved 1 image to \u001b[1mruns\\detect\\exp1708\u001b[0m\n",
      "Saved results to runs\\detect\\exp1708\n",
      "\n",
      "Saved 1 image to \u001b[1mruns\\detect\\exp1709\u001b[0m\n",
      "Saved results to runs\\detect\\exp1709\n",
      "\n",
      "Saved 1 image to \u001b[1mruns\\detect\\exp1710\u001b[0m\n",
      "Saved results to runs\\detect\\exp1710\n",
      "\n",
      "Saved 1 image to \u001b[1mruns\\detect\\exp1711\u001b[0m\n",
      "Saved results to runs\\detect\\exp1711\n",
      "\n",
      "Saved 1 image to \u001b[1mruns\\detect\\exp1712\u001b[0m\n",
      "Saved results to runs\\detect\\exp1712\n",
      "\n",
      "Saved 1 image to \u001b[1mruns\\detect\\exp1713\u001b[0m\n",
      "Saved results to runs\\detect\\exp1713\n",
      "\n",
      "Saved 1 image to \u001b[1mruns\\detect\\exp1714\u001b[0m\n",
      "Saved results to runs\\detect\\exp1714\n",
      "\n",
      "Saved 1 image to \u001b[1mruns\\detect\\exp1715\u001b[0m\n",
      "Saved results to runs\\detect\\exp1715\n",
      "\n"
     ]
    },
    {
     "name": "stdout",
     "output_type": "stream",
     "text": [
      "1/1 [==============================] - 0s 50ms/step\n",
      "1/1 [==============================] - 0s 59ms/step\n"
     ]
    },
    {
     "name": "stderr",
     "output_type": "stream",
     "text": [
      "Saved 1 image to \u001b[1mruns\\detect\\exp1716\u001b[0m\n",
      "Saved results to runs\\detect\\exp1716\n",
      "\n"
     ]
    },
    {
     "name": "stdout",
     "output_type": "stream",
     "text": [
      "1/1 [==============================] - 0s 42ms/step\n",
      "1/1 [==============================] - 0s 48ms/step\n"
     ]
    },
    {
     "name": "stderr",
     "output_type": "stream",
     "text": [
      "Saved 1 image to \u001b[1mruns\\detect\\exp1717\u001b[0m\n",
      "Saved results to runs\\detect\\exp1717\n",
      "\n"
     ]
    },
    {
     "name": "stdout",
     "output_type": "stream",
     "text": [
      "1/1 [==============================] - 0s 39ms/step\n"
     ]
    },
    {
     "name": "stderr",
     "output_type": "stream",
     "text": [
      "Saved 1 image to \u001b[1mruns\\detect\\exp1718\u001b[0m\n",
      "Saved results to runs\\detect\\exp1718\n",
      "\n"
     ]
    },
    {
     "name": "stdout",
     "output_type": "stream",
     "text": [
      "1/1 [==============================] - 0s 46ms/step\n",
      "1/1 [==============================] - 0s 39ms/step\n"
     ]
    },
    {
     "name": "stderr",
     "output_type": "stream",
     "text": [
      "Saved 1 image to \u001b[1mruns\\detect\\exp1719\u001b[0m\n",
      "Saved results to runs\\detect\\exp1719\n",
      "\n",
      "Saved 1 image to \u001b[1mruns\\detect\\exp1720\u001b[0m\n",
      "Saved results to runs\\detect\\exp1720\n",
      "\n"
     ]
    },
    {
     "name": "stdout",
     "output_type": "stream",
     "text": [
      "1/1 [==============================] - 0s 46ms/step\n"
     ]
    },
    {
     "name": "stderr",
     "output_type": "stream",
     "text": [
      "Saved 1 image to \u001b[1mruns\\detect\\exp1721\u001b[0m\n",
      "Saved results to runs\\detect\\exp1721\n",
      "\n"
     ]
    },
    {
     "name": "stdout",
     "output_type": "stream",
     "text": [
      "1/1 [==============================] - 0s 42ms/step\n"
     ]
    },
    {
     "name": "stderr",
     "output_type": "stream",
     "text": [
      "Saved 1 image to \u001b[1mruns\\detect\\exp1722\u001b[0m\n",
      "Saved results to runs\\detect\\exp1722\n",
      "\n"
     ]
    },
    {
     "name": "stdout",
     "output_type": "stream",
     "text": [
      "1/1 [==============================] - 0s 52ms/step\n"
     ]
    },
    {
     "name": "stderr",
     "output_type": "stream",
     "text": [
      "Saved 1 image to \u001b[1mruns\\detect\\exp1723\u001b[0m\n",
      "Saved results to runs\\detect\\exp1723\n",
      "\n"
     ]
    },
    {
     "name": "stdout",
     "output_type": "stream",
     "text": [
      "1/1 [==============================] - 0s 50ms/step\n",
      "1/1 [==============================] - 0s 71ms/step\n"
     ]
    },
    {
     "name": "stderr",
     "output_type": "stream",
     "text": [
      "Saved 1 image to \u001b[1mruns\\detect\\exp1724\u001b[0m\n",
      "Saved results to runs\\detect\\exp1724\n",
      "\n"
     ]
    },
    {
     "name": "stdout",
     "output_type": "stream",
     "text": [
      "1/1 [==============================] - 0s 50ms/step\n",
      "1/1 [==============================] - 0s 58ms/step\n"
     ]
    },
    {
     "name": "stderr",
     "output_type": "stream",
     "text": [
      "Saved 1 image to \u001b[1mruns\\detect\\exp1725\u001b[0m\n",
      "Saved results to runs\\detect\\exp1725\n",
      "\n"
     ]
    },
    {
     "name": "stdout",
     "output_type": "stream",
     "text": [
      "1/1 [==============================] - 0s 48ms/step\n",
      "1/1 [==============================] - 0s 47ms/step\n"
     ]
    },
    {
     "name": "stderr",
     "output_type": "stream",
     "text": [
      "Saved 1 image to \u001b[1mruns\\detect\\exp1726\u001b[0m\n",
      "Saved results to runs\\detect\\exp1726\n",
      "\n"
     ]
    },
    {
     "name": "stdout",
     "output_type": "stream",
     "text": [
      "1/1 [==============================] - 0s 48ms/step\n"
     ]
    },
    {
     "name": "stderr",
     "output_type": "stream",
     "text": [
      "Saved 1 image to \u001b[1mruns\\detect\\exp1727\u001b[0m\n",
      "Saved results to runs\\detect\\exp1727\n",
      "\n",
      "Saved 1 image to \u001b[1mruns\\detect\\exp1728\u001b[0m\n",
      "Saved results to runs\\detect\\exp1728\n",
      "\n"
     ]
    },
    {
     "name": "stdout",
     "output_type": "stream",
     "text": [
      "1/1 [==============================] - 0s 37ms/step\n"
     ]
    },
    {
     "name": "stderr",
     "output_type": "stream",
     "text": [
      "Saved 1 image to \u001b[1mruns\\detect\\exp1729\u001b[0m\n",
      "Saved results to runs\\detect\\exp1729\n",
      "\n"
     ]
    },
    {
     "name": "stdout",
     "output_type": "stream",
     "text": [
      "1/1 [==============================] - 0s 45ms/step\n"
     ]
    },
    {
     "name": "stderr",
     "output_type": "stream",
     "text": [
      "Saved 1 image to \u001b[1mruns\\detect\\exp1730\u001b[0m\n",
      "Saved results to runs\\detect\\exp1730\n",
      "\n"
     ]
    },
    {
     "name": "stdout",
     "output_type": "stream",
     "text": [
      "1/1 [==============================] - 0s 40ms/step\n"
     ]
    },
    {
     "name": "stderr",
     "output_type": "stream",
     "text": [
      "Saved 1 image to \u001b[1mruns\\detect\\exp1731\u001b[0m\n",
      "Saved results to runs\\detect\\exp1731\n",
      "\n",
      "Saved 1 image to \u001b[1mruns\\detect\\exp1732\u001b[0m\n",
      "Saved results to runs\\detect\\exp1732\n",
      "\n"
     ]
    },
    {
     "name": "stdout",
     "output_type": "stream",
     "text": [
      "1/1 [==============================] - 0s 43ms/step\n"
     ]
    },
    {
     "name": "stderr",
     "output_type": "stream",
     "text": [
      "Saved 1 image to \u001b[1mruns\\detect\\exp1733\u001b[0m\n",
      "Saved results to runs\\detect\\exp1733\n",
      "\n",
      "Saved 1 image to \u001b[1mruns\\detect\\exp1734\u001b[0m\n",
      "Saved results to runs\\detect\\exp1734\n",
      "\n"
     ]
    },
    {
     "name": "stdout",
     "output_type": "stream",
     "text": [
      "1/1 [==============================] - 0s 51ms/step\n",
      "1/1 [==============================] - 0s 43ms/step\n"
     ]
    },
    {
     "name": "stderr",
     "output_type": "stream",
     "text": [
      "Saved 1 image to \u001b[1mruns\\detect\\exp1735\u001b[0m\n",
      "Saved results to runs\\detect\\exp1735\n",
      "\n"
     ]
    },
    {
     "name": "stdout",
     "output_type": "stream",
     "text": [
      "1/1 [==============================] - 0s 39ms/step\n"
     ]
    },
    {
     "name": "stderr",
     "output_type": "stream",
     "text": [
      "Saved 1 image to \u001b[1mruns\\detect\\exp1736\u001b[0m\n",
      "Saved results to runs\\detect\\exp1736\n",
      "\n"
     ]
    },
    {
     "name": "stdout",
     "output_type": "stream",
     "text": [
      "1/1 [==============================] - 0s 67ms/step\n",
      "1/1 [==============================] - 0s 47ms/step\n"
     ]
    },
    {
     "name": "stderr",
     "output_type": "stream",
     "text": [
      "Saved 1 image to \u001b[1mruns\\detect\\exp1737\u001b[0m\n",
      "Saved results to runs\\detect\\exp1737\n",
      "\n",
      "Saved 1 image to \u001b[1mruns\\detect\\exp1738\u001b[0m\n",
      "Saved results to runs\\detect\\exp1738\n",
      "\n",
      "Saved 1 image to \u001b[1mruns\\detect\\exp1739\u001b[0m\n",
      "Saved results to runs\\detect\\exp1739\n",
      "\n"
     ]
    },
    {
     "name": "stdout",
     "output_type": "stream",
     "text": [
      "1/1 [==============================] - 0s 43ms/step\n"
     ]
    },
    {
     "name": "stderr",
     "output_type": "stream",
     "text": [
      "Saved 1 image to \u001b[1mruns\\detect\\exp1740\u001b[0m\n",
      "Saved results to runs\\detect\\exp1740\n",
      "\n",
      "Saved 1 image to \u001b[1mruns\\detect\\exp1741\u001b[0m\n",
      "Saved results to runs\\detect\\exp1741\n",
      "\n"
     ]
    },
    {
     "name": "stdout",
     "output_type": "stream",
     "text": [
      "1/1 [==============================] - 0s 50ms/step\n"
     ]
    },
    {
     "name": "stderr",
     "output_type": "stream",
     "text": [
      "Saved 1 image to \u001b[1mruns\\detect\\exp1742\u001b[0m\n",
      "Saved results to runs\\detect\\exp1742\n",
      "\n"
     ]
    },
    {
     "name": "stdout",
     "output_type": "stream",
     "text": [
      "1/1 [==============================] - 0s 48ms/step\n"
     ]
    },
    {
     "name": "stderr",
     "output_type": "stream",
     "text": [
      "Saved 1 image to \u001b[1mruns\\detect\\exp1743\u001b[0m\n",
      "Saved results to runs\\detect\\exp1743\n",
      "\n",
      "Saved 1 image to \u001b[1mruns\\detect\\exp1744\u001b[0m\n",
      "Saved results to runs\\detect\\exp1744\n",
      "\n",
      "Saved 1 image to \u001b[1mruns\\detect\\exp1745\u001b[0m\n",
      "Saved results to runs\\detect\\exp1745\n",
      "\n"
     ]
    },
    {
     "name": "stdout",
     "output_type": "stream",
     "text": [
      "1/1 [==============================] - 0s 46ms/step\n"
     ]
    },
    {
     "name": "stderr",
     "output_type": "stream",
     "text": [
      "Saved 1 image to \u001b[1mruns\\detect\\exp1746\u001b[0m\n",
      "Saved results to runs\\detect\\exp1746\n",
      "\n"
     ]
    },
    {
     "name": "stdout",
     "output_type": "stream",
     "text": [
      "1/1 [==============================] - 0s 46ms/step\n"
     ]
    },
    {
     "name": "stderr",
     "output_type": "stream",
     "text": [
      "Saved 1 image to \u001b[1mruns\\detect\\exp1747\u001b[0m\n",
      "Saved results to runs\\detect\\exp1747\n",
      "\n"
     ]
    },
    {
     "name": "stdout",
     "output_type": "stream",
     "text": [
      "1/1 [==============================] - 0s 51ms/step\n"
     ]
    },
    {
     "name": "stderr",
     "output_type": "stream",
     "text": [
      "Saved 1 image to \u001b[1mruns\\detect\\exp1748\u001b[0m\n",
      "Saved results to runs\\detect\\exp1748\n",
      "\n"
     ]
    },
    {
     "name": "stdout",
     "output_type": "stream",
     "text": [
      "1/1 [==============================] - 0s 69ms/step\n"
     ]
    },
    {
     "name": "stderr",
     "output_type": "stream",
     "text": [
      "Saved 1 image to \u001b[1mruns\\detect\\exp1749\u001b[0m\n",
      "Saved results to runs\\detect\\exp1749\n",
      "\n"
     ]
    },
    {
     "name": "stdout",
     "output_type": "stream",
     "text": [
      "1/1 [==============================] - 0s 46ms/step\n"
     ]
    },
    {
     "name": "stderr",
     "output_type": "stream",
     "text": [
      "Saved 1 image to \u001b[1mruns\\detect\\exp1750\u001b[0m\n",
      "Saved results to runs\\detect\\exp1750\n",
      "\n"
     ]
    },
    {
     "name": "stdout",
     "output_type": "stream",
     "text": [
      "1/1 [==============================] - 0s 46ms/step\n"
     ]
    },
    {
     "name": "stderr",
     "output_type": "stream",
     "text": [
      "Saved 1 image to \u001b[1mruns\\detect\\exp1751\u001b[0m\n",
      "Saved results to runs\\detect\\exp1751\n",
      "\n"
     ]
    },
    {
     "name": "stdout",
     "output_type": "stream",
     "text": [
      "1/1 [==============================] - 0s 41ms/step\n"
     ]
    },
    {
     "name": "stderr",
     "output_type": "stream",
     "text": [
      "Saved 1 image to \u001b[1mruns\\detect\\exp1752\u001b[0m\n",
      "Saved results to runs\\detect\\exp1752\n",
      "\n",
      "Saved 1 image to \u001b[1mruns\\detect\\exp1753\u001b[0m\n",
      "Saved results to runs\\detect\\exp1753\n",
      "\n"
     ]
    },
    {
     "name": "stdout",
     "output_type": "stream",
     "text": [
      "1/1 [==============================] - 0s 73ms/step\n"
     ]
    },
    {
     "name": "stderr",
     "output_type": "stream",
     "text": [
      "Saved 1 image to \u001b[1mruns\\detect\\exp1754\u001b[0m\n",
      "Saved results to runs\\detect\\exp1754\n",
      "\n"
     ]
    },
    {
     "name": "stdout",
     "output_type": "stream",
     "text": [
      "1/1 [==============================] - 0s 50ms/step\n",
      "1/1 [==============================] - 0s 51ms/step\n"
     ]
    },
    {
     "name": "stderr",
     "output_type": "stream",
     "text": [
      "Saved 1 image to \u001b[1mruns\\detect\\exp1755\u001b[0m\n",
      "Saved results to runs\\detect\\exp1755\n",
      "\n"
     ]
    },
    {
     "name": "stdout",
     "output_type": "stream",
     "text": [
      "1/1 [==============================] - 0s 53ms/step\n",
      "1/1 [==============================] - 0s 56ms/step\n"
     ]
    },
    {
     "name": "stderr",
     "output_type": "stream",
     "text": [
      "Saved 1 image to \u001b[1mruns\\detect\\exp1756\u001b[0m\n",
      "Saved results to runs\\detect\\exp1756\n",
      "\n"
     ]
    },
    {
     "name": "stdout",
     "output_type": "stream",
     "text": [
      "1/1 [==============================] - 0s 49ms/step\n",
      "1/1 [==============================] - 0s 49ms/step\n"
     ]
    },
    {
     "name": "stderr",
     "output_type": "stream",
     "text": [
      "Saved 1 image to \u001b[1mruns\\detect\\exp1757\u001b[0m\n",
      "Saved results to runs\\detect\\exp1757\n",
      "\n"
     ]
    },
    {
     "name": "stdout",
     "output_type": "stream",
     "text": [
      "1/1 [==============================] - 0s 53ms/step\n",
      "1/1 [==============================] - 0s 52ms/step\n"
     ]
    },
    {
     "name": "stderr",
     "output_type": "stream",
     "text": [
      "Saved 1 image to \u001b[1mruns\\detect\\exp1758\u001b[0m\n",
      "Saved results to runs\\detect\\exp1758\n",
      "\n"
     ]
    },
    {
     "name": "stdout",
     "output_type": "stream",
     "text": [
      "1/1 [==============================] - 0s 65ms/step\n",
      "1/1 [==============================] - 0s 55ms/step\n"
     ]
    },
    {
     "name": "stderr",
     "output_type": "stream",
     "text": [
      "Saved 1 image to \u001b[1mruns\\detect\\exp1759\u001b[0m\n",
      "Saved results to runs\\detect\\exp1759\n",
      "\n"
     ]
    },
    {
     "name": "stdout",
     "output_type": "stream",
     "text": [
      "1/1 [==============================] - 0s 48ms/step\n",
      "1/1 [==============================] - 0s 59ms/step\n"
     ]
    },
    {
     "name": "stderr",
     "output_type": "stream",
     "text": [
      "Saved 1 image to \u001b[1mruns\\detect\\exp1760\u001b[0m\n",
      "Saved results to runs\\detect\\exp1760\n",
      "\n"
     ]
    },
    {
     "name": "stdout",
     "output_type": "stream",
     "text": [
      "1/1 [==============================] - 0s 40ms/step\n",
      "1/1 [==============================] - 0s 54ms/step\n"
     ]
    },
    {
     "name": "stderr",
     "output_type": "stream",
     "text": [
      "Saved 1 image to \u001b[1mruns\\detect\\exp1761\u001b[0m\n",
      "Saved results to runs\\detect\\exp1761\n",
      "\n"
     ]
    },
    {
     "name": "stdout",
     "output_type": "stream",
     "text": [
      "1/1 [==============================] - 0s 41ms/step\n",
      "1/1 [==============================] - 0s 50ms/step\n"
     ]
    },
    {
     "name": "stderr",
     "output_type": "stream",
     "text": [
      "Saved 1 image to \u001b[1mruns\\detect\\exp1762\u001b[0m\n",
      "Saved results to runs\\detect\\exp1762\n",
      "\n"
     ]
    },
    {
     "name": "stdout",
     "output_type": "stream",
     "text": [
      "1/1 [==============================] - 0s 47ms/step\n",
      "1/1 [==============================] - 0s 37ms/step\n"
     ]
    },
    {
     "name": "stderr",
     "output_type": "stream",
     "text": [
      "Saved 1 image to \u001b[1mruns\\detect\\exp1763\u001b[0m\n",
      "Saved results to runs\\detect\\exp1763\n",
      "\n"
     ]
    },
    {
     "name": "stdout",
     "output_type": "stream",
     "text": [
      "1/1 [==============================] - 0s 44ms/step\n"
     ]
    },
    {
     "name": "stderr",
     "output_type": "stream",
     "text": [
      "Saved 1 image to \u001b[1mruns\\detect\\exp1764\u001b[0m\n",
      "Saved results to runs\\detect\\exp1764\n",
      "\n"
     ]
    },
    {
     "name": "stdout",
     "output_type": "stream",
     "text": [
      "1/1 [==============================] - 0s 59ms/step\n"
     ]
    },
    {
     "name": "stderr",
     "output_type": "stream",
     "text": [
      "Saved 1 image to \u001b[1mruns\\detect\\exp1765\u001b[0m\n",
      "Saved results to runs\\detect\\exp1765\n",
      "\n"
     ]
    },
    {
     "name": "stdout",
     "output_type": "stream",
     "text": [
      "1/1 [==============================] - 0s 41ms/step\n",
      "1/1 [==============================] - 0s 66ms/step\n"
     ]
    },
    {
     "name": "stderr",
     "output_type": "stream",
     "text": [
      "Saved 1 image to \u001b[1mruns\\detect\\exp1766\u001b[0m\n",
      "Saved results to runs\\detect\\exp1766\n",
      "\n"
     ]
    },
    {
     "name": "stdout",
     "output_type": "stream",
     "text": [
      "1/1 [==============================] - 0s 43ms/step\n"
     ]
    },
    {
     "name": "stderr",
     "output_type": "stream",
     "text": [
      "Saved 1 image to \u001b[1mruns\\detect\\exp1767\u001b[0m\n",
      "Saved results to runs\\detect\\exp1767\n",
      "\n"
     ]
    },
    {
     "name": "stdout",
     "output_type": "stream",
     "text": [
      "1/1 [==============================] - 0s 39ms/step\n"
     ]
    },
    {
     "name": "stderr",
     "output_type": "stream",
     "text": [
      "Saved 1 image to \u001b[1mruns\\detect\\exp1768\u001b[0m\n",
      "Saved results to runs\\detect\\exp1768\n",
      "\n"
     ]
    },
    {
     "name": "stdout",
     "output_type": "stream",
     "text": [
      "1/1 [==============================] - 0s 46ms/step\n"
     ]
    },
    {
     "name": "stderr",
     "output_type": "stream",
     "text": [
      "Saved 1 image to \u001b[1mruns\\detect\\exp1769\u001b[0m\n",
      "Saved results to runs\\detect\\exp1769\n",
      "\n"
     ]
    },
    {
     "name": "stdout",
     "output_type": "stream",
     "text": [
      "1/1 [==============================] - 0s 55ms/step\n"
     ]
    },
    {
     "name": "stderr",
     "output_type": "stream",
     "text": [
      "Saved 1 image to \u001b[1mruns\\detect\\exp1770\u001b[0m\n",
      "Saved results to runs\\detect\\exp1770\n",
      "\n"
     ]
    },
    {
     "name": "stdout",
     "output_type": "stream",
     "text": [
      "1/1 [==============================] - 0s 54ms/step\n"
     ]
    },
    {
     "name": "stderr",
     "output_type": "stream",
     "text": [
      "Saved 1 image to \u001b[1mruns\\detect\\exp1771\u001b[0m\n",
      "Saved results to runs\\detect\\exp1771\n",
      "\n"
     ]
    },
    {
     "name": "stdout",
     "output_type": "stream",
     "text": [
      "1/1 [==============================] - 0s 49ms/step\n"
     ]
    },
    {
     "name": "stderr",
     "output_type": "stream",
     "text": [
      "Saved 1 image to \u001b[1mruns\\detect\\exp1772\u001b[0m\n",
      "Saved results to runs\\detect\\exp1772\n",
      "\n"
     ]
    },
    {
     "name": "stdout",
     "output_type": "stream",
     "text": [
      "1/1 [==============================] - 0s 47ms/step\n",
      "1/1 [==============================] - 0s 49ms/step\n"
     ]
    },
    {
     "name": "stderr",
     "output_type": "stream",
     "text": [
      "Saved 1 image to \u001b[1mruns\\detect\\exp1773\u001b[0m\n",
      "Saved results to runs\\detect\\exp1773\n",
      "\n"
     ]
    },
    {
     "name": "stdout",
     "output_type": "stream",
     "text": [
      "1/1 [==============================] - 0s 51ms/step\n"
     ]
    },
    {
     "name": "stderr",
     "output_type": "stream",
     "text": [
      "Saved 1 image to \u001b[1mruns\\detect\\exp1774\u001b[0m\n",
      "Saved results to runs\\detect\\exp1774\n",
      "\n"
     ]
    },
    {
     "name": "stdout",
     "output_type": "stream",
     "text": [
      "1/1 [==============================] - 0s 60ms/step\n"
     ]
    },
    {
     "name": "stderr",
     "output_type": "stream",
     "text": [
      "Saved 1 image to \u001b[1mruns\\detect\\exp1775\u001b[0m\n",
      "Saved results to runs\\detect\\exp1775\n",
      "\n"
     ]
    },
    {
     "name": "stdout",
     "output_type": "stream",
     "text": [
      "1/1 [==============================] - 0s 78ms/step\n"
     ]
    },
    {
     "name": "stderr",
     "output_type": "stream",
     "text": [
      "Saved 1 image to \u001b[1mruns\\detect\\exp1776\u001b[0m\n",
      "Saved results to runs\\detect\\exp1776\n",
      "\n"
     ]
    },
    {
     "name": "stdout",
     "output_type": "stream",
     "text": [
      "1/1 [==============================] - 0s 60ms/step\n"
     ]
    },
    {
     "name": "stderr",
     "output_type": "stream",
     "text": [
      "Saved 1 image to \u001b[1mruns\\detect\\exp1777\u001b[0m\n",
      "Saved results to runs\\detect\\exp1777\n",
      "\n"
     ]
    },
    {
     "name": "stdout",
     "output_type": "stream",
     "text": [
      "1/1 [==============================] - 0s 90ms/step\n",
      "1/1 [==============================] - 0s 60ms/step\n"
     ]
    },
    {
     "name": "stderr",
     "output_type": "stream",
     "text": [
      "Saved 1 image to \u001b[1mruns\\detect\\exp1778\u001b[0m\n",
      "Saved results to runs\\detect\\exp1778\n",
      "\n"
     ]
    },
    {
     "name": "stdout",
     "output_type": "stream",
     "text": [
      "1/1 [==============================] - 0s 71ms/step\n"
     ]
    },
    {
     "name": "stderr",
     "output_type": "stream",
     "text": [
      "Saved 1 image to \u001b[1mruns\\detect\\exp1779\u001b[0m\n",
      "Saved results to runs\\detect\\exp1779\n",
      "\n"
     ]
    },
    {
     "name": "stdout",
     "output_type": "stream",
     "text": [
      "1/1 [==============================] - 0s 80ms/step\n"
     ]
    },
    {
     "name": "stderr",
     "output_type": "stream",
     "text": [
      "Saved 1 image to \u001b[1mruns\\detect\\exp1780\u001b[0m\n",
      "Saved results to runs\\detect\\exp1780\n",
      "\n"
     ]
    },
    {
     "name": "stdout",
     "output_type": "stream",
     "text": [
      "1/1 [==============================] - 0s 82ms/step\n"
     ]
    },
    {
     "name": "stderr",
     "output_type": "stream",
     "text": [
      "Saved 1 image to \u001b[1mruns\\detect\\exp1781\u001b[0m\n",
      "Saved results to runs\\detect\\exp1781\n",
      "\n"
     ]
    },
    {
     "name": "stdout",
     "output_type": "stream",
     "text": [
      "1/1 [==============================] - 0s 60ms/step\n",
      "1/1 [==============================] - 0s 63ms/step\n"
     ]
    },
    {
     "name": "stderr",
     "output_type": "stream",
     "text": [
      "Saved 1 image to \u001b[1mruns\\detect\\exp1782\u001b[0m\n",
      "Saved results to runs\\detect\\exp1782\n",
      "\n"
     ]
    },
    {
     "name": "stdout",
     "output_type": "stream",
     "text": [
      "1/1 [==============================] - 0s 72ms/step\n",
      "1/1 [==============================] - 0s 54ms/step\n"
     ]
    },
    {
     "name": "stderr",
     "output_type": "stream",
     "text": [
      "Saved 1 image to \u001b[1mruns\\detect\\exp1783\u001b[0m\n",
      "Saved results to runs\\detect\\exp1783\n",
      "\n"
     ]
    },
    {
     "name": "stdout",
     "output_type": "stream",
     "text": [
      "1/1 [==============================] - 0s 59ms/step\n",
      "1/1 [==============================] - 0s 61ms/step\n"
     ]
    },
    {
     "name": "stderr",
     "output_type": "stream",
     "text": [
      "Saved 1 image to \u001b[1mruns\\detect\\exp1784\u001b[0m\n",
      "Saved results to runs\\detect\\exp1784\n",
      "\n"
     ]
    },
    {
     "name": "stdout",
     "output_type": "stream",
     "text": [
      "1/1 [==============================] - 0s 57ms/step\n",
      "1/1 [==============================] - 0s 61ms/step\n"
     ]
    },
    {
     "name": "stderr",
     "output_type": "stream",
     "text": [
      "Saved 1 image to \u001b[1mruns\\detect\\exp1785\u001b[0m\n",
      "Saved results to runs\\detect\\exp1785\n",
      "\n"
     ]
    },
    {
     "name": "stdout",
     "output_type": "stream",
     "text": [
      "1/1 [==============================] - 0s 49ms/step\n",
      "1/1 [==============================] - 0s 70ms/step\n"
     ]
    },
    {
     "name": "stderr",
     "output_type": "stream",
     "text": [
      "Saved 1 image to \u001b[1mruns\\detect\\exp1786\u001b[0m\n",
      "Saved results to runs\\detect\\exp1786\n",
      "\n"
     ]
    },
    {
     "name": "stdout",
     "output_type": "stream",
     "text": [
      "1/1 [==============================] - 0s 50ms/step\n"
     ]
    },
    {
     "name": "stderr",
     "output_type": "stream",
     "text": [
      "Saved 1 image to \u001b[1mruns\\detect\\exp1787\u001b[0m\n",
      "Saved results to runs\\detect\\exp1787\n",
      "\n"
     ]
    },
    {
     "name": "stdout",
     "output_type": "stream",
     "text": [
      "1/1 [==============================] - 0s 48ms/step\n",
      "1/1 [==============================] - 0s 71ms/step\n"
     ]
    },
    {
     "name": "stderr",
     "output_type": "stream",
     "text": [
      "Saved 1 image to \u001b[1mruns\\detect\\exp1788\u001b[0m\n",
      "Saved results to runs\\detect\\exp1788\n",
      "\n"
     ]
    },
    {
     "name": "stdout",
     "output_type": "stream",
     "text": [
      "1/1 [==============================] - 0s 116ms/step\n",
      "1/1 [==============================] - 0s 50ms/step\n"
     ]
    },
    {
     "name": "stderr",
     "output_type": "stream",
     "text": [
      "Saved 1 image to \u001b[1mruns\\detect\\exp1789\u001b[0m\n",
      "Saved results to runs\\detect\\exp1789\n",
      "\n"
     ]
    },
    {
     "name": "stdout",
     "output_type": "stream",
     "text": [
      "1/1 [==============================] - 0s 40ms/step\n"
     ]
    },
    {
     "name": "stderr",
     "output_type": "stream",
     "text": [
      "Saved 1 image to \u001b[1mruns\\detect\\exp1790\u001b[0m\n",
      "Saved results to runs\\detect\\exp1790\n",
      "\n"
     ]
    },
    {
     "name": "stdout",
     "output_type": "stream",
     "text": [
      "1/1 [==============================] - 0s 50ms/step\n"
     ]
    },
    {
     "name": "stderr",
     "output_type": "stream",
     "text": [
      "Saved 1 image to \u001b[1mruns\\detect\\exp1791\u001b[0m\n",
      "Saved results to runs\\detect\\exp1791\n",
      "\n"
     ]
    },
    {
     "name": "stdout",
     "output_type": "stream",
     "text": [
      "1/1 [==============================] - 0s 47ms/step\n",
      "1/1 [==============================] - 0s 54ms/step\n"
     ]
    },
    {
     "name": "stderr",
     "output_type": "stream",
     "text": [
      "Saved 1 image to \u001b[1mruns\\detect\\exp1792\u001b[0m\n",
      "Saved results to runs\\detect\\exp1792\n",
      "\n"
     ]
    },
    {
     "name": "stdout",
     "output_type": "stream",
     "text": [
      "1/1 [==============================] - 0s 67ms/step\n",
      "1/1 [==============================] - 0s 43ms/step\n"
     ]
    },
    {
     "name": "stderr",
     "output_type": "stream",
     "text": [
      "Saved 1 image to \u001b[1mruns\\detect\\exp1793\u001b[0m\n",
      "Saved results to runs\\detect\\exp1793\n",
      "\n"
     ]
    },
    {
     "name": "stdout",
     "output_type": "stream",
     "text": [
      "1/1 [==============================] - 0s 42ms/step\n",
      "1/1 [==============================] - 0s 44ms/step\n"
     ]
    },
    {
     "name": "stderr",
     "output_type": "stream",
     "text": [
      "Saved 1 image to \u001b[1mruns\\detect\\exp1794\u001b[0m\n",
      "Saved results to runs\\detect\\exp1794\n",
      "\n"
     ]
    },
    {
     "name": "stdout",
     "output_type": "stream",
     "text": [
      "1/1 [==============================] - 0s 46ms/step\n",
      "1/1 [==============================] - 0s 50ms/step\n"
     ]
    },
    {
     "name": "stderr",
     "output_type": "stream",
     "text": [
      "Saved 1 image to \u001b[1mruns\\detect\\exp1795\u001b[0m\n",
      "Saved results to runs\\detect\\exp1795\n",
      "\n"
     ]
    },
    {
     "name": "stdout",
     "output_type": "stream",
     "text": [
      "1/1 [==============================] - 0s 47ms/step\n",
      "1/1 [==============================] - 0s 49ms/step\n"
     ]
    },
    {
     "name": "stderr",
     "output_type": "stream",
     "text": [
      "Saved 1 image to \u001b[1mruns\\detect\\exp1796\u001b[0m\n",
      "Saved results to runs\\detect\\exp1796\n",
      "\n"
     ]
    },
    {
     "name": "stdout",
     "output_type": "stream",
     "text": [
      "1/1 [==============================] - 0s 50ms/step\n"
     ]
    },
    {
     "name": "stderr",
     "output_type": "stream",
     "text": [
      "Saved 1 image to \u001b[1mruns\\detect\\exp1797\u001b[0m\n",
      "Saved results to runs\\detect\\exp1797\n",
      "\n"
     ]
    },
    {
     "name": "stdout",
     "output_type": "stream",
     "text": [
      "1/1 [==============================] - 0s 50ms/step\n",
      "1/1 [==============================] - 0s 46ms/step\n"
     ]
    },
    {
     "name": "stderr",
     "output_type": "stream",
     "text": [
      "Saved 1 image to \u001b[1mruns\\detect\\exp1798\u001b[0m\n",
      "Saved results to runs\\detect\\exp1798\n",
      "\n"
     ]
    },
    {
     "name": "stdout",
     "output_type": "stream",
     "text": [
      "1/1 [==============================] - 0s 43ms/step\n",
      "1/1 [==============================] - 0s 48ms/step\n"
     ]
    },
    {
     "name": "stderr",
     "output_type": "stream",
     "text": [
      "Saved 1 image to \u001b[1mruns\\detect\\exp1799\u001b[0m\n",
      "Saved results to runs\\detect\\exp1799\n",
      "\n"
     ]
    },
    {
     "name": "stdout",
     "output_type": "stream",
     "text": [
      "1/1 [==============================] - 0s 45ms/step\n",
      "1/1 [==============================] - 0s 48ms/step\n"
     ]
    },
    {
     "name": "stderr",
     "output_type": "stream",
     "text": [
      "Saved 1 image to \u001b[1mruns\\detect\\exp1800\u001b[0m\n",
      "Saved results to runs\\detect\\exp1800\n",
      "\n"
     ]
    },
    {
     "name": "stdout",
     "output_type": "stream",
     "text": [
      "1/1 [==============================] - 0s 43ms/step\n",
      "1/1 [==============================] - 0s 49ms/step\n"
     ]
    },
    {
     "name": "stderr",
     "output_type": "stream",
     "text": [
      "Saved 1 image to \u001b[1mruns\\detect\\exp1801\u001b[0m\n",
      "Saved results to runs\\detect\\exp1801\n",
      "\n"
     ]
    },
    {
     "name": "stdout",
     "output_type": "stream",
     "text": [
      "1/1 [==============================] - 0s 52ms/step\n",
      "1/1 [==============================] - 0s 45ms/step\n"
     ]
    },
    {
     "name": "stderr",
     "output_type": "stream",
     "text": [
      "Saved 1 image to \u001b[1mruns\\detect\\exp1802\u001b[0m\n",
      "Saved results to runs\\detect\\exp1802\n",
      "\n"
     ]
    },
    {
     "name": "stdout",
     "output_type": "stream",
     "text": [
      "1/1 [==============================] - 0s 66ms/step\n",
      "1/1 [==============================] - 0s 57ms/step\n"
     ]
    },
    {
     "name": "stderr",
     "output_type": "stream",
     "text": [
      "Saved 1 image to \u001b[1mruns\\detect\\exp1803\u001b[0m\n",
      "Saved results to runs\\detect\\exp1803\n",
      "\n"
     ]
    },
    {
     "name": "stdout",
     "output_type": "stream",
     "text": [
      "1/1 [==============================] - 0s 42ms/step\n",
      "1/1 [==============================] - 0s 42ms/step\n"
     ]
    },
    {
     "name": "stderr",
     "output_type": "stream",
     "text": [
      "Saved 1 image to \u001b[1mruns\\detect\\exp1804\u001b[0m\n",
      "Saved results to runs\\detect\\exp1804\n",
      "\n"
     ]
    },
    {
     "name": "stdout",
     "output_type": "stream",
     "text": [
      "1/1 [==============================] - 0s 49ms/step\n",
      "1/1 [==============================] - 0s 46ms/step\n"
     ]
    },
    {
     "name": "stderr",
     "output_type": "stream",
     "text": [
      "Saved 1 image to \u001b[1mruns\\detect\\exp1805\u001b[0m\n",
      "Saved results to runs\\detect\\exp1805\n",
      "\n"
     ]
    },
    {
     "name": "stdout",
     "output_type": "stream",
     "text": [
      "1/1 [==============================] - 0s 51ms/step\n",
      "1/1 [==============================] - 0s 50ms/step\n"
     ]
    },
    {
     "name": "stderr",
     "output_type": "stream",
     "text": [
      "Saved 1 image to \u001b[1mruns\\detect\\exp1806\u001b[0m\n",
      "Saved results to runs\\detect\\exp1806\n",
      "\n"
     ]
    },
    {
     "name": "stdout",
     "output_type": "stream",
     "text": [
      "1/1 [==============================] - 0s 55ms/step\n",
      "1/1 [==============================] - 0s 80ms/step\n"
     ]
    },
    {
     "name": "stderr",
     "output_type": "stream",
     "text": [
      "Saved 1 image to \u001b[1mruns\\detect\\exp1807\u001b[0m\n",
      "Saved results to runs\\detect\\exp1807\n",
      "\n"
     ]
    },
    {
     "name": "stdout",
     "output_type": "stream",
     "text": [
      "1/1 [==============================] - 0s 46ms/step\n",
      "1/1 [==============================] - 0s 45ms/step\n"
     ]
    },
    {
     "name": "stderr",
     "output_type": "stream",
     "text": [
      "Saved 1 image to \u001b[1mruns\\detect\\exp1808\u001b[0m\n",
      "Saved results to runs\\detect\\exp1808\n",
      "\n"
     ]
    },
    {
     "name": "stdout",
     "output_type": "stream",
     "text": [
      "1/1 [==============================] - 0s 43ms/step\n",
      "1/1 [==============================] - 0s 68ms/step\n"
     ]
    },
    {
     "name": "stderr",
     "output_type": "stream",
     "text": [
      "Saved 1 image to \u001b[1mruns\\detect\\exp1809\u001b[0m\n",
      "Saved results to runs\\detect\\exp1809\n",
      "\n"
     ]
    },
    {
     "name": "stdout",
     "output_type": "stream",
     "text": [
      "1/1 [==============================] - 0s 57ms/step\n",
      "1/1 [==============================] - 0s 43ms/step\n"
     ]
    },
    {
     "name": "stderr",
     "output_type": "stream",
     "text": [
      "Saved 1 image to \u001b[1mruns\\detect\\exp1810\u001b[0m\n",
      "Saved results to runs\\detect\\exp1810\n",
      "\n"
     ]
    },
    {
     "name": "stdout",
     "output_type": "stream",
     "text": [
      "1/1 [==============================] - 0s 46ms/step\n",
      "1/1 [==============================] - 0s 45ms/step\n"
     ]
    },
    {
     "name": "stderr",
     "output_type": "stream",
     "text": [
      "Saved 1 image to \u001b[1mruns\\detect\\exp1811\u001b[0m\n",
      "Saved results to runs\\detect\\exp1811\n",
      "\n"
     ]
    },
    {
     "name": "stdout",
     "output_type": "stream",
     "text": [
      "1/1 [==============================] - 0s 53ms/step\n"
     ]
    },
    {
     "name": "stderr",
     "output_type": "stream",
     "text": [
      "Saved 1 image to \u001b[1mruns\\detect\\exp1812\u001b[0m\n",
      "Saved results to runs\\detect\\exp1812\n",
      "\n"
     ]
    },
    {
     "name": "stdout",
     "output_type": "stream",
     "text": [
      "1/1 [==============================] - 0s 47ms/step\n",
      "1/1 [==============================] - 0s 54ms/step\n"
     ]
    },
    {
     "name": "stderr",
     "output_type": "stream",
     "text": [
      "Saved 1 image to \u001b[1mruns\\detect\\exp1813\u001b[0m\n",
      "Saved results to runs\\detect\\exp1813\n",
      "\n"
     ]
    },
    {
     "name": "stdout",
     "output_type": "stream",
     "text": [
      "1/1 [==============================] - 0s 56ms/step\n",
      "1/1 [==============================] - 0s 44ms/step\n"
     ]
    },
    {
     "name": "stderr",
     "output_type": "stream",
     "text": [
      "Saved 1 image to \u001b[1mruns\\detect\\exp1814\u001b[0m\n",
      "Saved results to runs\\detect\\exp1814\n",
      "\n"
     ]
    },
    {
     "name": "stdout",
     "output_type": "stream",
     "text": [
      "1/1 [==============================] - 0s 57ms/step\n"
     ]
    },
    {
     "name": "stderr",
     "output_type": "stream",
     "text": [
      "Saved 1 image to \u001b[1mruns\\detect\\exp1815\u001b[0m\n",
      "Saved results to runs\\detect\\exp1815\n",
      "\n",
      "Saved 1 image to \u001b[1mruns\\detect\\exp1816\u001b[0m\n",
      "Saved results to runs\\detect\\exp1816\n",
      "\n"
     ]
    },
    {
     "name": "stdout",
     "output_type": "stream",
     "text": [
      "1/1 [==============================] - 0s 45ms/step\n"
     ]
    },
    {
     "name": "stderr",
     "output_type": "stream",
     "text": [
      "Saved 1 image to \u001b[1mruns\\detect\\exp1817\u001b[0m\n",
      "Saved results to runs\\detect\\exp1817\n",
      "\n"
     ]
    },
    {
     "name": "stdout",
     "output_type": "stream",
     "text": [
      "1/1 [==============================] - 0s 41ms/step\n"
     ]
    },
    {
     "name": "stderr",
     "output_type": "stream",
     "text": [
      "Saved 1 image to \u001b[1mruns\\detect\\exp1818\u001b[0m\n",
      "Saved results to runs\\detect\\exp1818\n",
      "\n"
     ]
    },
    {
     "name": "stdout",
     "output_type": "stream",
     "text": [
      "1/1 [==============================] - 0s 56ms/step\n",
      "1/1 [==============================] - 0s 50ms/step\n"
     ]
    },
    {
     "name": "stderr",
     "output_type": "stream",
     "text": [
      "Saved 1 image to \u001b[1mruns\\detect\\exp1819\u001b[0m\n",
      "Saved results to runs\\detect\\exp1819\n",
      "\n"
     ]
    },
    {
     "name": "stdout",
     "output_type": "stream",
     "text": [
      "1/1 [==============================] - 0s 47ms/step\n",
      "1/1 [==============================] - 0s 82ms/step\n"
     ]
    },
    {
     "name": "stderr",
     "output_type": "stream",
     "text": [
      "Saved 1 image to \u001b[1mruns\\detect\\exp1820\u001b[0m\n",
      "Saved results to runs\\detect\\exp1820\n",
      "\n"
     ]
    },
    {
     "name": "stdout",
     "output_type": "stream",
     "text": [
      "1/1 [==============================] - 0s 40ms/step\n",
      "1/1 [==============================] - 0s 44ms/step\n"
     ]
    },
    {
     "name": "stderr",
     "output_type": "stream",
     "text": [
      "Saved 1 image to \u001b[1mruns\\detect\\exp1821\u001b[0m\n",
      "Saved results to runs\\detect\\exp1821\n",
      "\n"
     ]
    },
    {
     "name": "stdout",
     "output_type": "stream",
     "text": [
      "1/1 [==============================] - 0s 49ms/step\n",
      "1/1 [==============================] - 0s 63ms/step\n"
     ]
    },
    {
     "name": "stderr",
     "output_type": "stream",
     "text": [
      "Saved 1 image to \u001b[1mruns\\detect\\exp1822\u001b[0m\n",
      "Saved results to runs\\detect\\exp1822\n",
      "\n"
     ]
    },
    {
     "name": "stdout",
     "output_type": "stream",
     "text": [
      "1/1 [==============================] - 0s 44ms/step\n",
      "1/1 [==============================] - 0s 44ms/step\n"
     ]
    },
    {
     "name": "stderr",
     "output_type": "stream",
     "text": [
      "Saved 1 image to \u001b[1mruns\\detect\\exp1823\u001b[0m\n",
      "Saved results to runs\\detect\\exp1823\n",
      "\n"
     ]
    },
    {
     "name": "stdout",
     "output_type": "stream",
     "text": [
      "1/1 [==============================] - 0s 41ms/step\n",
      "1/1 [==============================] - 0s 56ms/step\n"
     ]
    },
    {
     "name": "stderr",
     "output_type": "stream",
     "text": [
      "Saved 1 image to \u001b[1mruns\\detect\\exp1824\u001b[0m\n",
      "Saved results to runs\\detect\\exp1824\n",
      "\n"
     ]
    },
    {
     "name": "stdout",
     "output_type": "stream",
     "text": [
      "1/1 [==============================] - 0s 40ms/step\n",
      "1/1 [==============================] - 0s 131ms/step\n"
     ]
    },
    {
     "name": "stderr",
     "output_type": "stream",
     "text": [
      "Saved 1 image to \u001b[1mruns\\detect\\exp1825\u001b[0m\n",
      "Saved results to runs\\detect\\exp1825\n",
      "\n"
     ]
    },
    {
     "name": "stdout",
     "output_type": "stream",
     "text": [
      "1/1 [==============================] - 0s 62ms/step\n",
      "1/1 [==============================] - 0s 45ms/step\n"
     ]
    },
    {
     "name": "stderr",
     "output_type": "stream",
     "text": [
      "Saved 1 image to \u001b[1mruns\\detect\\exp1826\u001b[0m\n",
      "Saved results to runs\\detect\\exp1826\n",
      "\n"
     ]
    },
    {
     "name": "stdout",
     "output_type": "stream",
     "text": [
      "1/1 [==============================] - 0s 72ms/step\n",
      "1/1 [==============================] - 0s 98ms/step\n"
     ]
    },
    {
     "name": "stderr",
     "output_type": "stream",
     "text": [
      "Saved 1 image to \u001b[1mruns\\detect\\exp1827\u001b[0m\n",
      "Saved results to runs\\detect\\exp1827\n",
      "\n"
     ]
    },
    {
     "name": "stdout",
     "output_type": "stream",
     "text": [
      "1/1 [==============================] - 0s 46ms/step\n",
      "1/1 [==============================] - 0s 45ms/step\n"
     ]
    },
    {
     "name": "stderr",
     "output_type": "stream",
     "text": [
      "Saved 1 image to \u001b[1mruns\\detect\\exp1828\u001b[0m\n",
      "Saved results to runs\\detect\\exp1828\n",
      "\n"
     ]
    },
    {
     "name": "stdout",
     "output_type": "stream",
     "text": [
      "1/1 [==============================] - 0s 53ms/step\n",
      "1/1 [==============================] - 0s 59ms/step\n"
     ]
    },
    {
     "name": "stderr",
     "output_type": "stream",
     "text": [
      "Saved 1 image to \u001b[1mruns\\detect\\exp1829\u001b[0m\n",
      "Saved results to runs\\detect\\exp1829\n",
      "\n",
      "Saved 1 image to \u001b[1mruns\\detect\\exp1830\u001b[0m\n",
      "Saved results to runs\\detect\\exp1830\n",
      "\n"
     ]
    },
    {
     "name": "stdout",
     "output_type": "stream",
     "text": [
      "1/1 [==============================] - 0s 40ms/step\n"
     ]
    },
    {
     "name": "stderr",
     "output_type": "stream",
     "text": [
      "Saved 1 image to \u001b[1mruns\\detect\\exp1831\u001b[0m\n",
      "Saved results to runs\\detect\\exp1831\n",
      "\n"
     ]
    },
    {
     "name": "stdout",
     "output_type": "stream",
     "text": [
      "1/1 [==============================] - 0s 57ms/step\n",
      "1/1 [==============================] - 0s 51ms/step\n"
     ]
    },
    {
     "name": "stderr",
     "output_type": "stream",
     "text": [
      "Saved 1 image to \u001b[1mruns\\detect\\exp1832\u001b[0m\n",
      "Saved results to runs\\detect\\exp1832\n",
      "\n"
     ]
    },
    {
     "name": "stdout",
     "output_type": "stream",
     "text": [
      "1/1 [==============================] - 0s 45ms/step\n"
     ]
    },
    {
     "name": "stderr",
     "output_type": "stream",
     "text": [
      "Saved 1 image to \u001b[1mruns\\detect\\exp1833\u001b[0m\n",
      "Saved results to runs\\detect\\exp1833\n",
      "\n"
     ]
    },
    {
     "name": "stdout",
     "output_type": "stream",
     "text": [
      "1/1 [==============================] - 0s 46ms/step\n"
     ]
    },
    {
     "name": "stderr",
     "output_type": "stream",
     "text": [
      "Saved 1 image to \u001b[1mruns\\detect\\exp1834\u001b[0m\n",
      "Saved results to runs\\detect\\exp1834\n",
      "\n"
     ]
    },
    {
     "name": "stdout",
     "output_type": "stream",
     "text": [
      "1/1 [==============================] - 0s 50ms/step\n"
     ]
    },
    {
     "name": "stderr",
     "output_type": "stream",
     "text": [
      "Saved 1 image to \u001b[1mruns\\detect\\exp1835\u001b[0m\n",
      "Saved results to runs\\detect\\exp1835\n",
      "\n"
     ]
    },
    {
     "name": "stdout",
     "output_type": "stream",
     "text": [
      "1/1 [==============================] - 0s 51ms/step\n",
      "1/1 [==============================] - 0s 42ms/step\n"
     ]
    },
    {
     "name": "stderr",
     "output_type": "stream",
     "text": [
      "Saved 1 image to \u001b[1mruns\\detect\\exp1836\u001b[0m\n",
      "Saved results to runs\\detect\\exp1836\n",
      "\n"
     ]
    },
    {
     "name": "stdout",
     "output_type": "stream",
     "text": [
      "1/1 [==============================] - 0s 37ms/step\n"
     ]
    },
    {
     "name": "stderr",
     "output_type": "stream",
     "text": [
      "Saved 1 image to \u001b[1mruns\\detect\\exp1837\u001b[0m\n",
      "Saved results to runs\\detect\\exp1837\n",
      "\n"
     ]
    },
    {
     "name": "stdout",
     "output_type": "stream",
     "text": [
      "1/1 [==============================] - 0s 35ms/step\n"
     ]
    },
    {
     "name": "stderr",
     "output_type": "stream",
     "text": [
      "Saved 1 image to \u001b[1mruns\\detect\\exp1838\u001b[0m\n",
      "Saved results to runs\\detect\\exp1838\n",
      "\n"
     ]
    },
    {
     "name": "stdout",
     "output_type": "stream",
     "text": [
      "1/1 [==============================] - 0s 48ms/step\n"
     ]
    },
    {
     "name": "stderr",
     "output_type": "stream",
     "text": [
      "Saved 1 image to \u001b[1mruns\\detect\\exp1839\u001b[0m\n",
      "Saved results to runs\\detect\\exp1839\n",
      "\n"
     ]
    },
    {
     "name": "stdout",
     "output_type": "stream",
     "text": [
      "1/1 [==============================] - 0s 57ms/step\n",
      "1/1 [==============================] - 0s 64ms/step\n"
     ]
    },
    {
     "name": "stderr",
     "output_type": "stream",
     "text": [
      "Saved 1 image to \u001b[1mruns\\detect\\exp1840\u001b[0m\n",
      "Saved results to runs\\detect\\exp1840\n",
      "\n"
     ]
    },
    {
     "name": "stdout",
     "output_type": "stream",
     "text": [
      "1/1 [==============================] - 0s 53ms/step\n"
     ]
    },
    {
     "name": "stderr",
     "output_type": "stream",
     "text": [
      "Saved 1 image to \u001b[1mruns\\detect\\exp1841\u001b[0m\n",
      "Saved results to runs\\detect\\exp1841\n",
      "\n",
      "Saved 1 image to \u001b[1mruns\\detect\\exp1842\u001b[0m\n",
      "Saved results to runs\\detect\\exp1842\n",
      "\n"
     ]
    },
    {
     "name": "stdout",
     "output_type": "stream",
     "text": [
      "1/1 [==============================] - 0s 68ms/step\n"
     ]
    },
    {
     "name": "stderr",
     "output_type": "stream",
     "text": [
      "Saved 1 image to \u001b[1mruns\\detect\\exp1843\u001b[0m\n",
      "Saved results to runs\\detect\\exp1843\n",
      "\n"
     ]
    },
    {
     "name": "stdout",
     "output_type": "stream",
     "text": [
      "1/1 [==============================] - 0s 60ms/step\n"
     ]
    },
    {
     "name": "stderr",
     "output_type": "stream",
     "text": [
      "Saved 1 image to \u001b[1mruns\\detect\\exp1844\u001b[0m\n",
      "Saved results to runs\\detect\\exp1844\n",
      "\n",
      "Saved 1 image to \u001b[1mruns\\detect\\exp1845\u001b[0m\n",
      "Saved results to runs\\detect\\exp1845\n",
      "\n",
      "Saved 1 image to \u001b[1mruns\\detect\\exp1846\u001b[0m\n",
      "Saved results to runs\\detect\\exp1846\n",
      "\n",
      "Saved 1 image to \u001b[1mruns\\detect\\exp1847\u001b[0m\n",
      "Saved results to runs\\detect\\exp1847\n",
      "\n",
      "Saved 1 image to \u001b[1mruns\\detect\\exp1848\u001b[0m\n",
      "Saved results to runs\\detect\\exp1848\n",
      "\n"
     ]
    },
    {
     "name": "stdout",
     "output_type": "stream",
     "text": [
      "1/1 [==============================] - 0s 51ms/step\n"
     ]
    },
    {
     "name": "stderr",
     "output_type": "stream",
     "text": [
      "Saved 1 image to \u001b[1mruns\\detect\\exp1849\u001b[0m\n",
      "Saved results to runs\\detect\\exp1849\n",
      "\n",
      "Saved 1 image to \u001b[1mruns\\detect\\exp1850\u001b[0m\n",
      "Saved results to runs\\detect\\exp1850\n",
      "\n"
     ]
    },
    {
     "name": "stdout",
     "output_type": "stream",
     "text": [
      "1/1 [==============================] - 0s 39ms/step\n",
      "1/1 [==============================] - 0s 51ms/step\n"
     ]
    },
    {
     "name": "stderr",
     "output_type": "stream",
     "text": [
      "Saved 1 image to \u001b[1mruns\\detect\\exp1851\u001b[0m\n",
      "Saved results to runs\\detect\\exp1851\n",
      "\n",
      "Saved 1 image to \u001b[1mruns\\detect\\exp1852\u001b[0m\n",
      "Saved results to runs\\detect\\exp1852\n",
      "\n",
      "Saved 1 image to \u001b[1mruns\\detect\\exp1853\u001b[0m\n",
      "Saved results to runs\\detect\\exp1853\n",
      "\n"
     ]
    },
    {
     "name": "stdout",
     "output_type": "stream",
     "text": [
      "1/1 [==============================] - 0s 73ms/step\n",
      "1/1 [==============================] - 0s 46ms/step\n"
     ]
    },
    {
     "name": "stderr",
     "output_type": "stream",
     "text": [
      "Saved 1 image to \u001b[1mruns\\detect\\exp1854\u001b[0m\n",
      "Saved results to runs\\detect\\exp1854\n",
      "\n"
     ]
    },
    {
     "name": "stdout",
     "output_type": "stream",
     "text": [
      "1/1 [==============================] - 0s 63ms/step\n",
      "1/1 [==============================] - 0s 46ms/step\n"
     ]
    },
    {
     "name": "stderr",
     "output_type": "stream",
     "text": [
      "Saved 1 image to \u001b[1mruns\\detect\\exp1855\u001b[0m\n",
      "Saved results to runs\\detect\\exp1855\n",
      "\n"
     ]
    },
    {
     "name": "stdout",
     "output_type": "stream",
     "text": [
      "1/1 [==============================] - 0s 57ms/step\n"
     ]
    },
    {
     "name": "stderr",
     "output_type": "stream",
     "text": [
      "Saved 1 image to \u001b[1mruns\\detect\\exp1856\u001b[0m\n",
      "Saved results to runs\\detect\\exp1856\n",
      "\n"
     ]
    },
    {
     "name": "stdout",
     "output_type": "stream",
     "text": [
      "1/1 [==============================] - 0s 63ms/step\n",
      "1/1 [==============================] - 0s 49ms/step\n"
     ]
    },
    {
     "name": "stderr",
     "output_type": "stream",
     "text": [
      "Saved 1 image to \u001b[1mruns\\detect\\exp1857\u001b[0m\n",
      "Saved results to runs\\detect\\exp1857\n",
      "\n"
     ]
    },
    {
     "name": "stdout",
     "output_type": "stream",
     "text": [
      "1/1 [==============================] - 0s 52ms/step\n",
      "1/1 [==============================] - 0s 66ms/step\n"
     ]
    },
    {
     "name": "stderr",
     "output_type": "stream",
     "text": [
      "Saved 1 image to \u001b[1mruns\\detect\\exp1858\u001b[0m\n",
      "Saved results to runs\\detect\\exp1858\n",
      "\n"
     ]
    },
    {
     "name": "stdout",
     "output_type": "stream",
     "text": [
      "1/1 [==============================] - 0s 54ms/step\n",
      "1/1 [==============================] - 0s 66ms/step\n"
     ]
    },
    {
     "name": "stderr",
     "output_type": "stream",
     "text": [
      "Saved 1 image to \u001b[1mruns\\detect\\exp1859\u001b[0m\n",
      "Saved results to runs\\detect\\exp1859\n",
      "\n"
     ]
    },
    {
     "name": "stdout",
     "output_type": "stream",
     "text": [
      "1/1 [==============================] - 0s 42ms/step\n",
      "1/1 [==============================] - 0s 55ms/step\n"
     ]
    },
    {
     "name": "stderr",
     "output_type": "stream",
     "text": [
      "Saved 1 image to \u001b[1mruns\\detect\\exp1860\u001b[0m\n",
      "Saved results to runs\\detect\\exp1860\n",
      "\n"
     ]
    },
    {
     "name": "stdout",
     "output_type": "stream",
     "text": [
      "1/1 [==============================] - 0s 72ms/step\n"
     ]
    },
    {
     "name": "stderr",
     "output_type": "stream",
     "text": [
      "Saved 1 image to \u001b[1mruns\\detect\\exp1861\u001b[0m\n",
      "Saved results to runs\\detect\\exp1861\n",
      "\n"
     ]
    },
    {
     "name": "stdout",
     "output_type": "stream",
     "text": [
      "1/1 [==============================] - 0s 40ms/step\n"
     ]
    },
    {
     "name": "stderr",
     "output_type": "stream",
     "text": [
      "Saved 1 image to \u001b[1mruns\\detect\\exp1862\u001b[0m\n",
      "Saved results to runs\\detect\\exp1862\n",
      "\n"
     ]
    },
    {
     "name": "stdout",
     "output_type": "stream",
     "text": [
      "1/1 [==============================] - 0s 45ms/step\n"
     ]
    },
    {
     "name": "stderr",
     "output_type": "stream",
     "text": [
      "Saved 1 image to \u001b[1mruns\\detect\\exp1863\u001b[0m\n",
      "Saved results to runs\\detect\\exp1863\n",
      "\n"
     ]
    },
    {
     "name": "stdout",
     "output_type": "stream",
     "text": [
      "1/1 [==============================] - 0s 45ms/step\n"
     ]
    },
    {
     "name": "stderr",
     "output_type": "stream",
     "text": [
      "Saved 1 image to \u001b[1mruns\\detect\\exp1864\u001b[0m\n",
      "Saved results to runs\\detect\\exp1864\n",
      "\n"
     ]
    },
    {
     "name": "stdout",
     "output_type": "stream",
     "text": [
      "1/1 [==============================] - 0s 42ms/step\n"
     ]
    },
    {
     "name": "stderr",
     "output_type": "stream",
     "text": [
      "Saved 1 image to \u001b[1mruns\\detect\\exp1865\u001b[0m\n",
      "Saved results to runs\\detect\\exp1865\n",
      "\n"
     ]
    },
    {
     "name": "stdout",
     "output_type": "stream",
     "text": [
      "1/1 [==============================] - 0s 42ms/step\n"
     ]
    },
    {
     "name": "stderr",
     "output_type": "stream",
     "text": [
      "Saved 1 image to \u001b[1mruns\\detect\\exp1866\u001b[0m\n",
      "Saved results to runs\\detect\\exp1866\n",
      "\n"
     ]
    },
    {
     "name": "stdout",
     "output_type": "stream",
     "text": [
      "1/1 [==============================] - 0s 45ms/step\n"
     ]
    },
    {
     "name": "stderr",
     "output_type": "stream",
     "text": [
      "Saved 1 image to \u001b[1mruns\\detect\\exp1867\u001b[0m\n",
      "Saved results to runs\\detect\\exp1867\n",
      "\n"
     ]
    },
    {
     "name": "stdout",
     "output_type": "stream",
     "text": [
      "1/1 [==============================] - 0s 35ms/step\n"
     ]
    },
    {
     "name": "stderr",
     "output_type": "stream",
     "text": [
      "Saved 1 image to \u001b[1mruns\\detect\\exp1868\u001b[0m\n",
      "Saved results to runs\\detect\\exp1868\n",
      "\n"
     ]
    },
    {
     "name": "stdout",
     "output_type": "stream",
     "text": [
      "1/1 [==============================] - 0s 44ms/step\n"
     ]
    },
    {
     "name": "stderr",
     "output_type": "stream",
     "text": [
      "Saved 1 image to \u001b[1mruns\\detect\\exp1869\u001b[0m\n",
      "Saved results to runs\\detect\\exp1869\n",
      "\n"
     ]
    },
    {
     "name": "stdout",
     "output_type": "stream",
     "text": [
      "1/1 [==============================] - 0s 59ms/step\n"
     ]
    },
    {
     "name": "stderr",
     "output_type": "stream",
     "text": [
      "Saved 1 image to \u001b[1mruns\\detect\\exp1870\u001b[0m\n",
      "Saved results to runs\\detect\\exp1870\n",
      "\n"
     ]
    },
    {
     "name": "stdout",
     "output_type": "stream",
     "text": [
      "1/1 [==============================] - 0s 53ms/step\n"
     ]
    },
    {
     "name": "stderr",
     "output_type": "stream",
     "text": [
      "Saved 1 image to \u001b[1mruns\\detect\\exp1871\u001b[0m\n",
      "Saved results to runs\\detect\\exp1871\n",
      "\n"
     ]
    },
    {
     "name": "stdout",
     "output_type": "stream",
     "text": [
      "1/1 [==============================] - 0s 72ms/step\n"
     ]
    },
    {
     "name": "stderr",
     "output_type": "stream",
     "text": [
      "Saved 1 image to \u001b[1mruns\\detect\\exp1872\u001b[0m\n",
      "Saved results to runs\\detect\\exp1872\n",
      "\n"
     ]
    },
    {
     "name": "stdout",
     "output_type": "stream",
     "text": [
      "1/1 [==============================] - 0s 46ms/step\n"
     ]
    },
    {
     "name": "stderr",
     "output_type": "stream",
     "text": [
      "Saved 1 image to \u001b[1mruns\\detect\\exp1873\u001b[0m\n",
      "Saved results to runs\\detect\\exp1873\n",
      "\n"
     ]
    },
    {
     "name": "stdout",
     "output_type": "stream",
     "text": [
      "1/1 [==============================] - 0s 51ms/step\n"
     ]
    },
    {
     "name": "stderr",
     "output_type": "stream",
     "text": [
      "Saved 1 image to \u001b[1mruns\\detect\\exp1874\u001b[0m\n",
      "Saved results to runs\\detect\\exp1874\n",
      "\n"
     ]
    },
    {
     "name": "stdout",
     "output_type": "stream",
     "text": [
      "1/1 [==============================] - 0s 53ms/step\n"
     ]
    },
    {
     "name": "stderr",
     "output_type": "stream",
     "text": [
      "Saved 1 image to \u001b[1mruns\\detect\\exp1875\u001b[0m\n",
      "Saved results to runs\\detect\\exp1875\n",
      "\n"
     ]
    },
    {
     "name": "stdout",
     "output_type": "stream",
     "text": [
      "1/1 [==============================] - 0s 50ms/step\n"
     ]
    },
    {
     "name": "stderr",
     "output_type": "stream",
     "text": [
      "Saved 1 image to \u001b[1mruns\\detect\\exp1876\u001b[0m\n",
      "Saved results to runs\\detect\\exp1876\n",
      "\n"
     ]
    },
    {
     "name": "stdout",
     "output_type": "stream",
     "text": [
      "1/1 [==============================] - 0s 44ms/step\n"
     ]
    },
    {
     "name": "stderr",
     "output_type": "stream",
     "text": [
      "Saved 1 image to \u001b[1mruns\\detect\\exp1877\u001b[0m\n",
      "Saved results to runs\\detect\\exp1877\n",
      "\n"
     ]
    },
    {
     "name": "stdout",
     "output_type": "stream",
     "text": [
      "1/1 [==============================] - 0s 51ms/step\n"
     ]
    },
    {
     "name": "stderr",
     "output_type": "stream",
     "text": [
      "Saved 1 image to \u001b[1mruns\\detect\\exp1878\u001b[0m\n",
      "Saved results to runs\\detect\\exp1878\n",
      "\n",
      "Saved 1 image to \u001b[1mruns\\detect\\exp1879\u001b[0m\n",
      "Saved results to runs\\detect\\exp1879\n",
      "\n",
      "Saved 1 image to \u001b[1mruns\\detect\\exp1880\u001b[0m\n",
      "Saved results to runs\\detect\\exp1880\n",
      "\n"
     ]
    },
    {
     "name": "stdout",
     "output_type": "stream",
     "text": [
      "1/1 [==============================] - 0s 45ms/step\n",
      "1/1 [==============================] - 0s 59ms/step\n"
     ]
    },
    {
     "name": "stderr",
     "output_type": "stream",
     "text": [
      "Saved 1 image to \u001b[1mruns\\detect\\exp1881\u001b[0m\n",
      "Saved results to runs\\detect\\exp1881\n",
      "\n",
      "Saved 1 image to \u001b[1mruns\\detect\\exp1882\u001b[0m\n",
      "Saved results to runs\\detect\\exp1882\n",
      "\n"
     ]
    },
    {
     "name": "stdout",
     "output_type": "stream",
     "text": [
      "1/1 [==============================] - 0s 45ms/step\n"
     ]
    },
    {
     "name": "stderr",
     "output_type": "stream",
     "text": [
      "Saved 1 image to \u001b[1mruns\\detect\\exp1883\u001b[0m\n",
      "Saved results to runs\\detect\\exp1883\n",
      "\n"
     ]
    },
    {
     "name": "stdout",
     "output_type": "stream",
     "text": [
      "1/1 [==============================] - 0s 48ms/step\n"
     ]
    },
    {
     "name": "stderr",
     "output_type": "stream",
     "text": [
      "Saved 1 image to \u001b[1mruns\\detect\\exp1884\u001b[0m\n",
      "Saved results to runs\\detect\\exp1884\n",
      "\n",
      "Saved 1 image to \u001b[1mruns\\detect\\exp1885\u001b[0m\n",
      "Saved results to runs\\detect\\exp1885\n",
      "\n"
     ]
    },
    {
     "name": "stdout",
     "output_type": "stream",
     "text": [
      "1/1 [==============================] - 0s 41ms/step\n"
     ]
    },
    {
     "name": "stderr",
     "output_type": "stream",
     "text": [
      "Saved 1 image to \u001b[1mruns\\detect\\exp1886\u001b[0m\n",
      "Saved results to runs\\detect\\exp1886\n",
      "\n"
     ]
    },
    {
     "name": "stdout",
     "output_type": "stream",
     "text": [
      "1/1 [==============================] - 0s 57ms/step\n"
     ]
    },
    {
     "name": "stderr",
     "output_type": "stream",
     "text": [
      "Saved 1 image to \u001b[1mruns\\detect\\exp1887\u001b[0m\n",
      "Saved results to runs\\detect\\exp1887\n",
      "\n"
     ]
    },
    {
     "name": "stdout",
     "output_type": "stream",
     "text": [
      "1/1 [==============================] - 0s 41ms/step\n"
     ]
    },
    {
     "name": "stderr",
     "output_type": "stream",
     "text": [
      "Saved 1 image to \u001b[1mruns\\detect\\exp1888\u001b[0m\n",
      "Saved results to runs\\detect\\exp1888\n",
      "\n"
     ]
    },
    {
     "name": "stdout",
     "output_type": "stream",
     "text": [
      "1/1 [==============================] - 0s 40ms/step\n"
     ]
    },
    {
     "name": "stderr",
     "output_type": "stream",
     "text": [
      "Saved 1 image to \u001b[1mruns\\detect\\exp1889\u001b[0m\n",
      "Saved results to runs\\detect\\exp1889\n",
      "\n"
     ]
    },
    {
     "name": "stdout",
     "output_type": "stream",
     "text": [
      "1/1 [==============================] - 0s 46ms/step\n",
      "1/1 [==============================] - 0s 47ms/step\n"
     ]
    },
    {
     "name": "stderr",
     "output_type": "stream",
     "text": [
      "Saved 1 image to \u001b[1mruns\\detect\\exp1890\u001b[0m\n",
      "Saved results to runs\\detect\\exp1890\n",
      "\n",
      "Saved 1 image to \u001b[1mruns\\detect\\exp1891\u001b[0m\n",
      "Saved results to runs\\detect\\exp1891\n",
      "\n"
     ]
    },
    {
     "name": "stdout",
     "output_type": "stream",
     "text": [
      "1/1 [==============================] - 0s 47ms/step\n"
     ]
    },
    {
     "name": "stderr",
     "output_type": "stream",
     "text": [
      "Saved 1 image to \u001b[1mruns\\detect\\exp1892\u001b[0m\n",
      "Saved results to runs\\detect\\exp1892\n",
      "\n"
     ]
    },
    {
     "name": "stdout",
     "output_type": "stream",
     "text": [
      "1/1 [==============================] - 0s 49ms/step\n",
      "1/1 [==============================] - 0s 40ms/step\n"
     ]
    },
    {
     "name": "stderr",
     "output_type": "stream",
     "text": [
      "Saved 1 image to \u001b[1mruns\\detect\\exp1893\u001b[0m\n",
      "Saved results to runs\\detect\\exp1893\n",
      "\n"
     ]
    },
    {
     "name": "stdout",
     "output_type": "stream",
     "text": [
      "1/1 [==============================] - 0s 42ms/step\n"
     ]
    },
    {
     "name": "stderr",
     "output_type": "stream",
     "text": [
      "Saved 1 image to \u001b[1mruns\\detect\\exp1894\u001b[0m\n",
      "Saved results to runs\\detect\\exp1894\n",
      "\n"
     ]
    },
    {
     "name": "stdout",
     "output_type": "stream",
     "text": [
      "1/1 [==============================] - 0s 49ms/step\n"
     ]
    },
    {
     "name": "stderr",
     "output_type": "stream",
     "text": [
      "Saved 1 image to \u001b[1mruns\\detect\\exp1895\u001b[0m\n",
      "Saved results to runs\\detect\\exp1895\n",
      "\n"
     ]
    },
    {
     "name": "stdout",
     "output_type": "stream",
     "text": [
      "1/1 [==============================] - 0s 57ms/step\n"
     ]
    },
    {
     "name": "stderr",
     "output_type": "stream",
     "text": [
      "Saved 1 image to \u001b[1mruns\\detect\\exp1896\u001b[0m\n",
      "Saved results to runs\\detect\\exp1896\n",
      "\n"
     ]
    },
    {
     "name": "stdout",
     "output_type": "stream",
     "text": [
      "1/1 [==============================] - 0s 49ms/step\n"
     ]
    },
    {
     "name": "stderr",
     "output_type": "stream",
     "text": [
      "Saved 1 image to \u001b[1mruns\\detect\\exp1897\u001b[0m\n",
      "Saved results to runs\\detect\\exp1897\n",
      "\n"
     ]
    },
    {
     "name": "stdout",
     "output_type": "stream",
     "text": [
      "1/1 [==============================] - 0s 48ms/step\n"
     ]
    },
    {
     "name": "stderr",
     "output_type": "stream",
     "text": [
      "Saved 1 image to \u001b[1mruns\\detect\\exp1898\u001b[0m\n",
      "Saved results to runs\\detect\\exp1898\n",
      "\n"
     ]
    },
    {
     "name": "stdout",
     "output_type": "stream",
     "text": [
      "1/1 [==============================] - 0s 39ms/step\n"
     ]
    },
    {
     "name": "stderr",
     "output_type": "stream",
     "text": [
      "Saved 1 image to \u001b[1mruns\\detect\\exp1899\u001b[0m\n",
      "Saved results to runs\\detect\\exp1899\n",
      "\n"
     ]
    },
    {
     "name": "stdout",
     "output_type": "stream",
     "text": [
      "1/1 [==============================] - 0s 41ms/step\n"
     ]
    },
    {
     "name": "stderr",
     "output_type": "stream",
     "text": [
      "Saved 1 image to \u001b[1mruns\\detect\\exp1900\u001b[0m\n",
      "Saved results to runs\\detect\\exp1900\n",
      "\n"
     ]
    },
    {
     "name": "stdout",
     "output_type": "stream",
     "text": [
      "1/1 [==============================] - 0s 45ms/step\n",
      "1/1 [==============================] - 0s 48ms/step\n"
     ]
    },
    {
     "name": "stderr",
     "output_type": "stream",
     "text": [
      "Saved 1 image to \u001b[1mruns\\detect\\exp1901\u001b[0m\n",
      "Saved results to runs\\detect\\exp1901\n",
      "\n"
     ]
    },
    {
     "name": "stdout",
     "output_type": "stream",
     "text": [
      "1/1 [==============================] - 0s 42ms/step\n"
     ]
    },
    {
     "name": "stderr",
     "output_type": "stream",
     "text": [
      "Saved 1 image to \u001b[1mruns\\detect\\exp1902\u001b[0m\n",
      "Saved results to runs\\detect\\exp1902\n",
      "\n"
     ]
    },
    {
     "name": "stdout",
     "output_type": "stream",
     "text": [
      "1/1 [==============================] - 0s 49ms/step\n",
      "1/1 [==============================] - 0s 45ms/step\n"
     ]
    },
    {
     "name": "stderr",
     "output_type": "stream",
     "text": [
      "Saved 1 image to \u001b[1mruns\\detect\\exp1903\u001b[0m\n",
      "Saved results to runs\\detect\\exp1903\n",
      "\n"
     ]
    },
    {
     "name": "stdout",
     "output_type": "stream",
     "text": [
      "1/1 [==============================] - 0s 43ms/step\n"
     ]
    },
    {
     "name": "stderr",
     "output_type": "stream",
     "text": [
      "Saved 1 image to \u001b[1mruns\\detect\\exp1904\u001b[0m\n",
      "Saved results to runs\\detect\\exp1904\n",
      "\n"
     ]
    },
    {
     "name": "stdout",
     "output_type": "stream",
     "text": [
      "1/1 [==============================] - 0s 56ms/step\n"
     ]
    },
    {
     "name": "stderr",
     "output_type": "stream",
     "text": [
      "Saved 1 image to \u001b[1mruns\\detect\\exp1905\u001b[0m\n",
      "Saved results to runs\\detect\\exp1905\n",
      "\n"
     ]
    },
    {
     "name": "stdout",
     "output_type": "stream",
     "text": [
      "1/1 [==============================] - 0s 52ms/step\n",
      "1/1 [==============================] - 0s 59ms/step\n"
     ]
    },
    {
     "name": "stderr",
     "output_type": "stream",
     "text": [
      "Saved 1 image to \u001b[1mruns\\detect\\exp1906\u001b[0m\n",
      "Saved results to runs\\detect\\exp1906\n",
      "\n"
     ]
    },
    {
     "name": "stdout",
     "output_type": "stream",
     "text": [
      "1/1 [==============================] - 0s 40ms/step\n",
      "1/1 [==============================] - 0s 68ms/step\n"
     ]
    },
    {
     "name": "stderr",
     "output_type": "stream",
     "text": [
      "Saved 1 image to \u001b[1mruns\\detect\\exp1907\u001b[0m\n",
      "Saved results to runs\\detect\\exp1907\n",
      "\n"
     ]
    },
    {
     "name": "stdout",
     "output_type": "stream",
     "text": [
      "1/1 [==============================] - 0s 43ms/step\n"
     ]
    },
    {
     "name": "stderr",
     "output_type": "stream",
     "text": [
      "Saved 1 image to \u001b[1mruns\\detect\\exp1908\u001b[0m\n",
      "Saved results to runs\\detect\\exp1908\n",
      "\n"
     ]
    },
    {
     "name": "stdout",
     "output_type": "stream",
     "text": [
      "1/1 [==============================] - 0s 52ms/step\n"
     ]
    },
    {
     "name": "stderr",
     "output_type": "stream",
     "text": [
      "Saved 1 image to \u001b[1mruns\\detect\\exp1909\u001b[0m\n",
      "Saved results to runs\\detect\\exp1909\n",
      "\n"
     ]
    },
    {
     "name": "stdout",
     "output_type": "stream",
     "text": [
      "1/1 [==============================] - 0s 49ms/step\n"
     ]
    },
    {
     "name": "stderr",
     "output_type": "stream",
     "text": [
      "Saved 1 image to \u001b[1mruns\\detect\\exp1910\u001b[0m\n",
      "Saved results to runs\\detect\\exp1910\n",
      "\n"
     ]
    },
    {
     "name": "stdout",
     "output_type": "stream",
     "text": [
      "1/1 [==============================] - 0s 51ms/step\n"
     ]
    },
    {
     "name": "stderr",
     "output_type": "stream",
     "text": [
      "Saved 1 image to \u001b[1mruns\\detect\\exp1911\u001b[0m\n",
      "Saved results to runs\\detect\\exp1911\n",
      "\n"
     ]
    },
    {
     "name": "stdout",
     "output_type": "stream",
     "text": [
      "1/1 [==============================] - 0s 39ms/step\n"
     ]
    },
    {
     "name": "stderr",
     "output_type": "stream",
     "text": [
      "Saved 1 image to \u001b[1mruns\\detect\\exp1912\u001b[0m\n",
      "Saved results to runs\\detect\\exp1912\n",
      "\n"
     ]
    },
    {
     "name": "stdout",
     "output_type": "stream",
     "text": [
      "1/1 [==============================] - 0s 48ms/step\n"
     ]
    },
    {
     "name": "stderr",
     "output_type": "stream",
     "text": [
      "Saved 1 image to \u001b[1mruns\\detect\\exp1913\u001b[0m\n",
      "Saved results to runs\\detect\\exp1913\n",
      "\n"
     ]
    },
    {
     "name": "stdout",
     "output_type": "stream",
     "text": [
      "1/1 [==============================] - 0s 41ms/step\n"
     ]
    },
    {
     "name": "stderr",
     "output_type": "stream",
     "text": [
      "Saved 1 image to \u001b[1mruns\\detect\\exp1914\u001b[0m\n",
      "Saved results to runs\\detect\\exp1914\n",
      "\n"
     ]
    },
    {
     "name": "stdout",
     "output_type": "stream",
     "text": [
      "1/1 [==============================] - 0s 60ms/step\n"
     ]
    },
    {
     "name": "stderr",
     "output_type": "stream",
     "text": [
      "Saved 1 image to \u001b[1mruns\\detect\\exp1915\u001b[0m\n",
      "Saved results to runs\\detect\\exp1915\n",
      "\n"
     ]
    },
    {
     "name": "stdout",
     "output_type": "stream",
     "text": [
      "1/1 [==============================] - 0s 48ms/step\n"
     ]
    },
    {
     "name": "stderr",
     "output_type": "stream",
     "text": [
      "Saved 1 image to \u001b[1mruns\\detect\\exp1916\u001b[0m\n",
      "Saved results to runs\\detect\\exp1916\n",
      "\n"
     ]
    },
    {
     "name": "stdout",
     "output_type": "stream",
     "text": [
      "1/1 [==============================] - 0s 56ms/step\n"
     ]
    },
    {
     "name": "stderr",
     "output_type": "stream",
     "text": [
      "Saved 1 image to \u001b[1mruns\\detect\\exp1917\u001b[0m\n",
      "Saved results to runs\\detect\\exp1917\n",
      "\n"
     ]
    },
    {
     "name": "stdout",
     "output_type": "stream",
     "text": [
      "1/1 [==============================] - 0s 48ms/step\n"
     ]
    },
    {
     "name": "stderr",
     "output_type": "stream",
     "text": [
      "Saved 1 image to \u001b[1mruns\\detect\\exp1918\u001b[0m\n",
      "Saved results to runs\\detect\\exp1918\n",
      "\n"
     ]
    },
    {
     "name": "stdout",
     "output_type": "stream",
     "text": [
      "1/1 [==============================] - 0s 53ms/step\n"
     ]
    },
    {
     "name": "stderr",
     "output_type": "stream",
     "text": [
      "Saved 1 image to \u001b[1mruns\\detect\\exp1919\u001b[0m\n",
      "Saved results to runs\\detect\\exp1919\n",
      "\n"
     ]
    },
    {
     "name": "stdout",
     "output_type": "stream",
     "text": [
      "1/1 [==============================] - 0s 51ms/step\n"
     ]
    },
    {
     "name": "stderr",
     "output_type": "stream",
     "text": [
      "Saved 1 image to \u001b[1mruns\\detect\\exp1920\u001b[0m\n",
      "Saved results to runs\\detect\\exp1920\n",
      "\n"
     ]
    },
    {
     "name": "stdout",
     "output_type": "stream",
     "text": [
      "1/1 [==============================] - 0s 52ms/step\n"
     ]
    },
    {
     "name": "stderr",
     "output_type": "stream",
     "text": [
      "Saved 1 image to \u001b[1mruns\\detect\\exp1921\u001b[0m\n",
      "Saved results to runs\\detect\\exp1921\n",
      "\n"
     ]
    },
    {
     "name": "stdout",
     "output_type": "stream",
     "text": [
      "1/1 [==============================] - 0s 48ms/step\n"
     ]
    },
    {
     "name": "stderr",
     "output_type": "stream",
     "text": [
      "Saved 1 image to \u001b[1mruns\\detect\\exp1922\u001b[0m\n",
      "Saved results to runs\\detect\\exp1922\n",
      "\n"
     ]
    },
    {
     "name": "stdout",
     "output_type": "stream",
     "text": [
      "1/1 [==============================] - 0s 69ms/step\n"
     ]
    },
    {
     "name": "stderr",
     "output_type": "stream",
     "text": [
      "Saved 1 image to \u001b[1mruns\\detect\\exp1923\u001b[0m\n",
      "Saved results to runs\\detect\\exp1923\n",
      "\n"
     ]
    },
    {
     "name": "stdout",
     "output_type": "stream",
     "text": [
      "1/1 [==============================] - 0s 43ms/step\n"
     ]
    },
    {
     "name": "stderr",
     "output_type": "stream",
     "text": [
      "Saved 1 image to \u001b[1mruns\\detect\\exp1924\u001b[0m\n",
      "Saved results to runs\\detect\\exp1924\n",
      "\n"
     ]
    },
    {
     "name": "stdout",
     "output_type": "stream",
     "text": [
      "1/1 [==============================] - 0s 39ms/step\n"
     ]
    },
    {
     "name": "stderr",
     "output_type": "stream",
     "text": [
      "Saved 1 image to \u001b[1mruns\\detect\\exp1925\u001b[0m\n",
      "Saved results to runs\\detect\\exp1925\n",
      "\n"
     ]
    },
    {
     "name": "stdout",
     "output_type": "stream",
     "text": [
      "1/1 [==============================] - 0s 39ms/step\n"
     ]
    },
    {
     "name": "stderr",
     "output_type": "stream",
     "text": [
      "Saved 1 image to \u001b[1mruns\\detect\\exp1926\u001b[0m\n",
      "Saved results to runs\\detect\\exp1926\n",
      "\n"
     ]
    },
    {
     "name": "stdout",
     "output_type": "stream",
     "text": [
      "1/1 [==============================] - 0s 38ms/step\n"
     ]
    },
    {
     "name": "stderr",
     "output_type": "stream",
     "text": [
      "Saved 1 image to \u001b[1mruns\\detect\\exp1927\u001b[0m\n",
      "Saved results to runs\\detect\\exp1927\n",
      "\n"
     ]
    },
    {
     "name": "stdout",
     "output_type": "stream",
     "text": [
      "1/1 [==============================] - 0s 51ms/step\n"
     ]
    },
    {
     "name": "stderr",
     "output_type": "stream",
     "text": [
      "Saved 1 image to \u001b[1mruns\\detect\\exp1928\u001b[0m\n",
      "Saved results to runs\\detect\\exp1928\n",
      "\n"
     ]
    },
    {
     "name": "stdout",
     "output_type": "stream",
     "text": [
      "1/1 [==============================] - 0s 55ms/step\n"
     ]
    },
    {
     "name": "stderr",
     "output_type": "stream",
     "text": [
      "Saved 1 image to \u001b[1mruns\\detect\\exp1929\u001b[0m\n",
      "Saved results to runs\\detect\\exp1929\n",
      "\n"
     ]
    },
    {
     "name": "stdout",
     "output_type": "stream",
     "text": [
      "1/1 [==============================] - 0s 54ms/step\n"
     ]
    },
    {
     "name": "stderr",
     "output_type": "stream",
     "text": [
      "Saved 1 image to \u001b[1mruns\\detect\\exp1930\u001b[0m\n",
      "Saved results to runs\\detect\\exp1930\n",
      "\n"
     ]
    },
    {
     "name": "stdout",
     "output_type": "stream",
     "text": [
      "1/1 [==============================] - 0s 59ms/step\n"
     ]
    },
    {
     "name": "stderr",
     "output_type": "stream",
     "text": [
      "Saved 1 image to \u001b[1mruns\\detect\\exp1931\u001b[0m\n",
      "Saved results to runs\\detect\\exp1931\n",
      "\n"
     ]
    },
    {
     "name": "stdout",
     "output_type": "stream",
     "text": [
      "1/1 [==============================] - 0s 49ms/step\n"
     ]
    },
    {
     "name": "stderr",
     "output_type": "stream",
     "text": [
      "Saved 1 image to \u001b[1mruns\\detect\\exp1932\u001b[0m\n",
      "Saved results to runs\\detect\\exp1932\n",
      "\n"
     ]
    },
    {
     "name": "stdout",
     "output_type": "stream",
     "text": [
      "1/1 [==============================] - 0s 52ms/step\n"
     ]
    },
    {
     "name": "stderr",
     "output_type": "stream",
     "text": [
      "Saved 1 image to \u001b[1mruns\\detect\\exp1933\u001b[0m\n",
      "Saved results to runs\\detect\\exp1933\n",
      "\n"
     ]
    },
    {
     "name": "stdout",
     "output_type": "stream",
     "text": [
      "1/1 [==============================] - 0s 52ms/step\n",
      "1/1 [==============================] - 0s 52ms/step\n"
     ]
    },
    {
     "name": "stderr",
     "output_type": "stream",
     "text": [
      "Saved 1 image to \u001b[1mruns\\detect\\exp1934\u001b[0m\n",
      "Saved results to runs\\detect\\exp1934\n",
      "\n"
     ]
    },
    {
     "name": "stdout",
     "output_type": "stream",
     "text": [
      "1/1 [==============================] - 0s 46ms/step\n"
     ]
    },
    {
     "name": "stderr",
     "output_type": "stream",
     "text": [
      "Saved 1 image to \u001b[1mruns\\detect\\exp1935\u001b[0m\n",
      "Saved results to runs\\detect\\exp1935\n",
      "\n"
     ]
    },
    {
     "name": "stdout",
     "output_type": "stream",
     "text": [
      "1/1 [==============================] - 0s 45ms/step\n"
     ]
    },
    {
     "name": "stderr",
     "output_type": "stream",
     "text": [
      "Saved 1 image to \u001b[1mruns\\detect\\exp1936\u001b[0m\n",
      "Saved results to runs\\detect\\exp1936\n",
      "\n"
     ]
    },
    {
     "name": "stdout",
     "output_type": "stream",
     "text": [
      "1/1 [==============================] - 0s 62ms/step\n"
     ]
    },
    {
     "name": "stderr",
     "output_type": "stream",
     "text": [
      "Saved 1 image to \u001b[1mruns\\detect\\exp1937\u001b[0m\n",
      "Saved results to runs\\detect\\exp1937\n",
      "\n"
     ]
    },
    {
     "name": "stdout",
     "output_type": "stream",
     "text": [
      "1/1 [==============================] - 0s 43ms/step\n"
     ]
    },
    {
     "name": "stderr",
     "output_type": "stream",
     "text": [
      "Saved 1 image to \u001b[1mruns\\detect\\exp1938\u001b[0m\n",
      "Saved results to runs\\detect\\exp1938\n",
      "\n"
     ]
    },
    {
     "name": "stdout",
     "output_type": "stream",
     "text": [
      "1/1 [==============================] - 0s 47ms/step\n"
     ]
    },
    {
     "name": "stderr",
     "output_type": "stream",
     "text": [
      "Saved 1 image to \u001b[1mruns\\detect\\exp1939\u001b[0m\n",
      "Saved results to runs\\detect\\exp1939\n",
      "\n"
     ]
    },
    {
     "name": "stdout",
     "output_type": "stream",
     "text": [
      "1/1 [==============================] - 0s 47ms/step\n"
     ]
    },
    {
     "name": "stderr",
     "output_type": "stream",
     "text": [
      "Saved 1 image to \u001b[1mruns\\detect\\exp1940\u001b[0m\n",
      "Saved results to runs\\detect\\exp1940\n",
      "\n"
     ]
    },
    {
     "name": "stdout",
     "output_type": "stream",
     "text": [
      "1/1 [==============================] - 0s 40ms/step\n"
     ]
    },
    {
     "name": "stderr",
     "output_type": "stream",
     "text": [
      "Saved 1 image to \u001b[1mruns\\detect\\exp1941\u001b[0m\n",
      "Saved results to runs\\detect\\exp1941\n",
      "\n"
     ]
    },
    {
     "name": "stdout",
     "output_type": "stream",
     "text": [
      "1/1 [==============================] - 0s 41ms/step\n"
     ]
    },
    {
     "name": "stderr",
     "output_type": "stream",
     "text": [
      "Saved 1 image to \u001b[1mruns\\detect\\exp1942\u001b[0m\n",
      "Saved results to runs\\detect\\exp1942\n",
      "\n"
     ]
    },
    {
     "name": "stdout",
     "output_type": "stream",
     "text": [
      "1/1 [==============================] - 0s 47ms/step\n",
      "1/1 [==============================] - 0s 60ms/step\n"
     ]
    },
    {
     "name": "stderr",
     "output_type": "stream",
     "text": [
      "Saved 1 image to \u001b[1mruns\\detect\\exp1943\u001b[0m\n",
      "Saved results to runs\\detect\\exp1943\n",
      "\n"
     ]
    },
    {
     "name": "stdout",
     "output_type": "stream",
     "text": [
      "1/1 [==============================] - 0s 47ms/step\n",
      "1/1 [==============================] - 0s 70ms/step\n"
     ]
    },
    {
     "name": "stderr",
     "output_type": "stream",
     "text": [
      "Saved 1 image to \u001b[1mruns\\detect\\exp1944\u001b[0m\n",
      "Saved results to runs\\detect\\exp1944\n",
      "\n"
     ]
    },
    {
     "name": "stdout",
     "output_type": "stream",
     "text": [
      "1/1 [==============================] - 0s 49ms/step\n",
      "1/1 [==============================] - 0s 40ms/step\n"
     ]
    },
    {
     "name": "stderr",
     "output_type": "stream",
     "text": [
      "Saved 1 image to \u001b[1mruns\\detect\\exp1945\u001b[0m\n",
      "Saved results to runs\\detect\\exp1945\n",
      "\n"
     ]
    },
    {
     "name": "stdout",
     "output_type": "stream",
     "text": [
      "1/1 [==============================] - 0s 50ms/step\n",
      "1/1 [==============================] - 0s 42ms/step\n"
     ]
    },
    {
     "name": "stderr",
     "output_type": "stream",
     "text": [
      "Saved 1 image to \u001b[1mruns\\detect\\exp1946\u001b[0m\n",
      "Saved results to runs\\detect\\exp1946\n",
      "\n"
     ]
    },
    {
     "name": "stdout",
     "output_type": "stream",
     "text": [
      "1/1 [==============================] - 0s 47ms/step\n",
      "1/1 [==============================] - 0s 50ms/step\n"
     ]
    },
    {
     "name": "stderr",
     "output_type": "stream",
     "text": [
      "Saved 1 image to \u001b[1mruns\\detect\\exp1947\u001b[0m\n",
      "Saved results to runs\\detect\\exp1947\n",
      "\n"
     ]
    },
    {
     "name": "stdout",
     "output_type": "stream",
     "text": [
      "1/1 [==============================] - 0s 59ms/step\n",
      "1/1 [==============================] - 0s 45ms/step\n"
     ]
    },
    {
     "name": "stderr",
     "output_type": "stream",
     "text": [
      "Saved 1 image to \u001b[1mruns\\detect\\exp1948\u001b[0m\n",
      "Saved results to runs\\detect\\exp1948\n",
      "\n"
     ]
    },
    {
     "name": "stdout",
     "output_type": "stream",
     "text": [
      "1/1 [==============================] - 0s 47ms/step\n",
      "1/1 [==============================] - 0s 45ms/step\n"
     ]
    },
    {
     "name": "stderr",
     "output_type": "stream",
     "text": [
      "Saved 1 image to \u001b[1mruns\\detect\\exp1949\u001b[0m\n",
      "Saved results to runs\\detect\\exp1949\n",
      "\n"
     ]
    },
    {
     "name": "stdout",
     "output_type": "stream",
     "text": [
      "1/1 [==============================] - 0s 43ms/step\n",
      "1/1 [==============================] - 0s 71ms/step\n"
     ]
    },
    {
     "name": "stderr",
     "output_type": "stream",
     "text": [
      "Saved 1 image to \u001b[1mruns\\detect\\exp1950\u001b[0m\n",
      "Saved results to runs\\detect\\exp1950\n",
      "\n"
     ]
    },
    {
     "name": "stdout",
     "output_type": "stream",
     "text": [
      "1/1 [==============================] - 0s 64ms/step\n",
      "1/1 [==============================] - 0s 42ms/step\n"
     ]
    },
    {
     "name": "stderr",
     "output_type": "stream",
     "text": [
      "Saved 1 image to \u001b[1mruns\\detect\\exp1951\u001b[0m\n",
      "Saved results to runs\\detect\\exp1951\n",
      "\n"
     ]
    },
    {
     "name": "stdout",
     "output_type": "stream",
     "text": [
      "1/1 [==============================] - 0s 38ms/step\n",
      "1/1 [==============================] - 0s 74ms/step\n"
     ]
    },
    {
     "name": "stderr",
     "output_type": "stream",
     "text": [
      "Saved 1 image to \u001b[1mruns\\detect\\exp1952\u001b[0m\n",
      "Saved results to runs\\detect\\exp1952\n",
      "\n"
     ]
    },
    {
     "name": "stdout",
     "output_type": "stream",
     "text": [
      "1/1 [==============================] - 0s 48ms/step\n",
      "1/1 [==============================] - 0s 53ms/step\n"
     ]
    },
    {
     "name": "stderr",
     "output_type": "stream",
     "text": [
      "Saved 1 image to \u001b[1mruns\\detect\\exp1953\u001b[0m\n",
      "Saved results to runs\\detect\\exp1953\n",
      "\n"
     ]
    },
    {
     "name": "stdout",
     "output_type": "stream",
     "text": [
      "1/1 [==============================] - 0s 45ms/step\n",
      "1/1 [==============================] - 0s 68ms/step\n"
     ]
    },
    {
     "name": "stderr",
     "output_type": "stream",
     "text": [
      "Saved 1 image to \u001b[1mruns\\detect\\exp1954\u001b[0m\n",
      "Saved results to runs\\detect\\exp1954\n",
      "\n"
     ]
    },
    {
     "name": "stdout",
     "output_type": "stream",
     "text": [
      "1/1 [==============================] - 0s 40ms/step\n",
      "1/1 [==============================] - 0s 46ms/step\n"
     ]
    },
    {
     "name": "stderr",
     "output_type": "stream",
     "text": [
      "Saved 1 image to \u001b[1mruns\\detect\\exp1955\u001b[0m\n",
      "Saved results to runs\\detect\\exp1955\n",
      "\n"
     ]
    },
    {
     "name": "stdout",
     "output_type": "stream",
     "text": [
      "1/1 [==============================] - 0s 48ms/step\n",
      "1/1 [==============================] - 0s 66ms/step\n"
     ]
    },
    {
     "name": "stderr",
     "output_type": "stream",
     "text": [
      "Saved 1 image to \u001b[1mruns\\detect\\exp1956\u001b[0m\n",
      "Saved results to runs\\detect\\exp1956\n",
      "\n",
      "Saved 1 image to \u001b[1mruns\\detect\\exp1957\u001b[0m\n",
      "Saved results to runs\\detect\\exp1957\n",
      "\n",
      "Saved 1 image to \u001b[1mruns\\detect\\exp1958\u001b[0m\n",
      "Saved results to runs\\detect\\exp1958\n",
      "\n",
      "Saved 1 image to \u001b[1mruns\\detect\\exp1959\u001b[0m\n",
      "Saved results to runs\\detect\\exp1959\n",
      "\n",
      "Saved 1 image to \u001b[1mruns\\detect\\exp1960\u001b[0m\n",
      "Saved results to runs\\detect\\exp1960\n",
      "\n",
      "Saved 1 image to \u001b[1mruns\\detect\\exp1961\u001b[0m\n",
      "Saved results to runs\\detect\\exp1961\n",
      "\n"
     ]
    },
    {
     "name": "stdout",
     "output_type": "stream",
     "text": [
      "1/1 [==============================] - 0s 48ms/step\n"
     ]
    },
    {
     "name": "stderr",
     "output_type": "stream",
     "text": [
      "Saved 1 image to \u001b[1mruns\\detect\\exp1962\u001b[0m\n",
      "Saved results to runs\\detect\\exp1962\n",
      "\n"
     ]
    },
    {
     "name": "stdout",
     "output_type": "stream",
     "text": [
      "1/1 [==============================] - 0s 72ms/step\n"
     ]
    },
    {
     "name": "stderr",
     "output_type": "stream",
     "text": [
      "Saved 1 image to \u001b[1mruns\\detect\\exp1963\u001b[0m\n",
      "Saved results to runs\\detect\\exp1963\n",
      "\n"
     ]
    },
    {
     "name": "stdout",
     "output_type": "stream",
     "text": [
      "1/1 [==============================] - 0s 78ms/step\n"
     ]
    },
    {
     "name": "stderr",
     "output_type": "stream",
     "text": [
      "Saved 1 image to \u001b[1mruns\\detect\\exp1964\u001b[0m\n",
      "Saved results to runs\\detect\\exp1964\n",
      "\n"
     ]
    },
    {
     "name": "stdout",
     "output_type": "stream",
     "text": [
      "1/1 [==============================] - 0s 37ms/step\n"
     ]
    },
    {
     "name": "stderr",
     "output_type": "stream",
     "text": [
      "Saved 1 image to \u001b[1mruns\\detect\\exp1965\u001b[0m\n",
      "Saved results to runs\\detect\\exp1965\n",
      "\n"
     ]
    },
    {
     "name": "stdout",
     "output_type": "stream",
     "text": [
      "1/1 [==============================] - 0s 40ms/step\n",
      "1/1 [==============================] - 0s 44ms/step\n"
     ]
    },
    {
     "name": "stderr",
     "output_type": "stream",
     "text": [
      "Saved 1 image to \u001b[1mruns\\detect\\exp1966\u001b[0m\n",
      "Saved results to runs\\detect\\exp1966\n",
      "\n"
     ]
    },
    {
     "name": "stdout",
     "output_type": "stream",
     "text": [
      "1/1 [==============================] - 0s 42ms/step\n"
     ]
    },
    {
     "name": "stderr",
     "output_type": "stream",
     "text": [
      "Saved 1 image to \u001b[1mruns\\detect\\exp1967\u001b[0m\n",
      "Saved results to runs\\detect\\exp1967\n",
      "\n",
      "Saved 1 image to \u001b[1mruns\\detect\\exp1968\u001b[0m\n",
      "Saved results to runs\\detect\\exp1968\n",
      "\n",
      "Saved 1 image to \u001b[1mruns\\detect\\exp1969\u001b[0m\n",
      "Saved results to runs\\detect\\exp1969\n",
      "\n"
     ]
    },
    {
     "name": "stdout",
     "output_type": "stream",
     "text": [
      "1/1 [==============================] - 0s 45ms/step\n"
     ]
    },
    {
     "name": "stderr",
     "output_type": "stream",
     "text": [
      "Saved 1 image to \u001b[1mruns\\detect\\exp1970\u001b[0m\n",
      "Saved results to runs\\detect\\exp1970\n",
      "\n",
      "Saved 1 image to \u001b[1mruns\\detect\\exp1971\u001b[0m\n",
      "Saved results to runs\\detect\\exp1971\n",
      "\n"
     ]
    },
    {
     "name": "stdout",
     "output_type": "stream",
     "text": [
      "1/1 [==============================] - 0s 45ms/step\n"
     ]
    },
    {
     "name": "stderr",
     "output_type": "stream",
     "text": [
      "Saved 1 image to \u001b[1mruns\\detect\\exp1972\u001b[0m\n",
      "Saved results to runs\\detect\\exp1972\n",
      "\n"
     ]
    },
    {
     "name": "stdout",
     "output_type": "stream",
     "text": [
      "1/1 [==============================] - 0s 43ms/step\n"
     ]
    },
    {
     "name": "stderr",
     "output_type": "stream",
     "text": [
      "Saved 1 image to \u001b[1mruns\\detect\\exp1973\u001b[0m\n",
      "Saved results to runs\\detect\\exp1973\n",
      "\n",
      "Saved 1 image to \u001b[1mruns\\detect\\exp1974\u001b[0m\n",
      "Saved results to runs\\detect\\exp1974\n",
      "\n",
      "Saved 1 image to \u001b[1mruns\\detect\\exp1975\u001b[0m\n",
      "Saved results to runs\\detect\\exp1975\n",
      "\n"
     ]
    },
    {
     "name": "stdout",
     "output_type": "stream",
     "text": [
      "1/1 [==============================] - 0s 65ms/step\n"
     ]
    },
    {
     "name": "stderr",
     "output_type": "stream",
     "text": [
      "Saved 1 image to \u001b[1mruns\\detect\\exp1976\u001b[0m\n",
      "Saved results to runs\\detect\\exp1976\n",
      "\n"
     ]
    },
    {
     "name": "stdout",
     "output_type": "stream",
     "text": [
      "1/1 [==============================] - 0s 84ms/step\n"
     ]
    },
    {
     "name": "stderr",
     "output_type": "stream",
     "text": [
      "Saved 1 image to \u001b[1mruns\\detect\\exp1977\u001b[0m\n",
      "Saved results to runs\\detect\\exp1977\n",
      "\n"
     ]
    },
    {
     "name": "stdout",
     "output_type": "stream",
     "text": [
      "1/1 [==============================] - 0s 51ms/step\n"
     ]
    },
    {
     "name": "stderr",
     "output_type": "stream",
     "text": [
      "Saved 1 image to \u001b[1mruns\\detect\\exp1978\u001b[0m\n",
      "Saved results to runs\\detect\\exp1978\n",
      "\n"
     ]
    },
    {
     "name": "stdout",
     "output_type": "stream",
     "text": [
      "1/1 [==============================] - 0s 39ms/step\n"
     ]
    },
    {
     "name": "stderr",
     "output_type": "stream",
     "text": [
      "Saved 1 image to \u001b[1mruns\\detect\\exp1979\u001b[0m\n",
      "Saved results to runs\\detect\\exp1979\n",
      "\n"
     ]
    },
    {
     "name": "stdout",
     "output_type": "stream",
     "text": [
      "1/1 [==============================] - 0s 34ms/step\n"
     ]
    },
    {
     "name": "stderr",
     "output_type": "stream",
     "text": [
      "Saved 1 image to \u001b[1mruns\\detect\\exp1980\u001b[0m\n",
      "Saved results to runs\\detect\\exp1980\n",
      "\n"
     ]
    },
    {
     "name": "stdout",
     "output_type": "stream",
     "text": [
      "1/1 [==============================] - 0s 38ms/step\n"
     ]
    },
    {
     "name": "stderr",
     "output_type": "stream",
     "text": [
      "Saved 1 image to \u001b[1mruns\\detect\\exp1981\u001b[0m\n",
      "Saved results to runs\\detect\\exp1981\n",
      "\n"
     ]
    },
    {
     "name": "stdout",
     "output_type": "stream",
     "text": [
      "1/1 [==============================] - 0s 34ms/step\n"
     ]
    },
    {
     "name": "stderr",
     "output_type": "stream",
     "text": [
      "Saved 1 image to \u001b[1mruns\\detect\\exp1982\u001b[0m\n",
      "Saved results to runs\\detect\\exp1982\n",
      "\n"
     ]
    },
    {
     "name": "stdout",
     "output_type": "stream",
     "text": [
      "1/1 [==============================] - 0s 37ms/step\n",
      "1/1 [==============================] - 0s 50ms/step\n"
     ]
    },
    {
     "name": "stderr",
     "output_type": "stream",
     "text": [
      "Saved 1 image to \u001b[1mruns\\detect\\exp1983\u001b[0m\n",
      "Saved results to runs\\detect\\exp1983\n",
      "\n"
     ]
    },
    {
     "name": "stdout",
     "output_type": "stream",
     "text": [
      "1/1 [==============================] - 0s 43ms/step\n",
      "1/1 [==============================] - 0s 40ms/step\n"
     ]
    },
    {
     "name": "stderr",
     "output_type": "stream",
     "text": [
      "Saved 1 image to \u001b[1mruns\\detect\\exp1984\u001b[0m\n",
      "Saved results to runs\\detect\\exp1984\n",
      "\n"
     ]
    },
    {
     "name": "stdout",
     "output_type": "stream",
     "text": [
      "1/1 [==============================] - 0s 45ms/step\n"
     ]
    },
    {
     "name": "stderr",
     "output_type": "stream",
     "text": [
      "Saved 1 image to \u001b[1mruns\\detect\\exp1985\u001b[0m\n",
      "Saved results to runs\\detect\\exp1985\n",
      "\n"
     ]
    },
    {
     "name": "stdout",
     "output_type": "stream",
     "text": [
      "1/1 [==============================] - 0s 39ms/step\n"
     ]
    },
    {
     "name": "stderr",
     "output_type": "stream",
     "text": [
      "Saved 1 image to \u001b[1mruns\\detect\\exp1986\u001b[0m\n",
      "Saved results to runs\\detect\\exp1986\n",
      "\n"
     ]
    },
    {
     "name": "stdout",
     "output_type": "stream",
     "text": [
      "1/1 [==============================] - 0s 44ms/step\n",
      "1/1 [==============================] - 0s 50ms/step\n"
     ]
    },
    {
     "name": "stderr",
     "output_type": "stream",
     "text": [
      "Saved 1 image to \u001b[1mruns\\detect\\exp1987\u001b[0m\n",
      "Saved results to runs\\detect\\exp1987\n",
      "\n"
     ]
    },
    {
     "name": "stdout",
     "output_type": "stream",
     "text": [
      "1/1 [==============================] - 0s 131ms/step\n"
     ]
    },
    {
     "name": "stderr",
     "output_type": "stream",
     "text": [
      "Saved 1 image to \u001b[1mruns\\detect\\exp1988\u001b[0m\n",
      "Saved results to runs\\detect\\exp1988\n",
      "\n"
     ]
    },
    {
     "name": "stdout",
     "output_type": "stream",
     "text": [
      "1/1 [==============================] - 0s 42ms/step\n",
      "1/1 [==============================] - 0s 51ms/step\n"
     ]
    },
    {
     "name": "stderr",
     "output_type": "stream",
     "text": [
      "Saved 1 image to \u001b[1mruns\\detect\\exp1989\u001b[0m\n",
      "Saved results to runs\\detect\\exp1989\n",
      "\n"
     ]
    },
    {
     "name": "stdout",
     "output_type": "stream",
     "text": [
      "1/1 [==============================] - 0s 40ms/step\n",
      "1/1 [==============================] - 0s 44ms/step\n"
     ]
    },
    {
     "name": "stderr",
     "output_type": "stream",
     "text": [
      "Saved 1 image to \u001b[1mruns\\detect\\exp1990\u001b[0m\n",
      "Saved results to runs\\detect\\exp1990\n",
      "\n"
     ]
    },
    {
     "name": "stdout",
     "output_type": "stream",
     "text": [
      "1/1 [==============================] - 0s 51ms/step\n",
      "1/1 [==============================] - 0s 57ms/step\n"
     ]
    },
    {
     "name": "stderr",
     "output_type": "stream",
     "text": [
      "Saved 1 image to \u001b[1mruns\\detect\\exp1991\u001b[0m\n",
      "Saved results to runs\\detect\\exp1991\n",
      "\n"
     ]
    },
    {
     "name": "stdout",
     "output_type": "stream",
     "text": [
      "1/1 [==============================] - 0s 58ms/step\n",
      "1/1 [==============================] - 0s 44ms/step\n"
     ]
    },
    {
     "name": "stderr",
     "output_type": "stream",
     "text": [
      "Saved 1 image to \u001b[1mruns\\detect\\exp1992\u001b[0m\n",
      "Saved results to runs\\detect\\exp1992\n",
      "\n"
     ]
    },
    {
     "name": "stdout",
     "output_type": "stream",
     "text": [
      "1/1 [==============================] - 0s 48ms/step\n",
      "1/1 [==============================] - 0s 49ms/step\n"
     ]
    },
    {
     "name": "stderr",
     "output_type": "stream",
     "text": [
      "Saved 1 image to \u001b[1mruns\\detect\\exp1993\u001b[0m\n",
      "Saved results to runs\\detect\\exp1993\n",
      "\n"
     ]
    },
    {
     "name": "stdout",
     "output_type": "stream",
     "text": [
      "1/1 [==============================] - 0s 50ms/step\n",
      "1/1 [==============================] - 0s 62ms/step\n"
     ]
    },
    {
     "name": "stderr",
     "output_type": "stream",
     "text": [
      "Saved 1 image to \u001b[1mruns\\detect\\exp1994\u001b[0m\n",
      "Saved results to runs\\detect\\exp1994\n",
      "\n"
     ]
    },
    {
     "name": "stdout",
     "output_type": "stream",
     "text": [
      "1/1 [==============================] - 0s 39ms/step\n",
      "1/1 [==============================] - 0s 66ms/step\n"
     ]
    },
    {
     "name": "stderr",
     "output_type": "stream",
     "text": [
      "Saved 1 image to \u001b[1mruns\\detect\\exp1995\u001b[0m\n",
      "Saved results to runs\\detect\\exp1995\n",
      "\n"
     ]
    },
    {
     "name": "stdout",
     "output_type": "stream",
     "text": [
      "1/1 [==============================] - 0s 42ms/step\n",
      "1/1 [==============================] - 0s 62ms/step\n"
     ]
    },
    {
     "name": "stderr",
     "output_type": "stream",
     "text": [
      "Saved 1 image to \u001b[1mruns\\detect\\exp1996\u001b[0m\n",
      "Saved results to runs\\detect\\exp1996\n",
      "\n"
     ]
    },
    {
     "name": "stdout",
     "output_type": "stream",
     "text": [
      "1/1 [==============================] - 0s 47ms/step\n",
      "1/1 [==============================] - 0s 47ms/step\n"
     ]
    },
    {
     "name": "stderr",
     "output_type": "stream",
     "text": [
      "Saved 1 image to \u001b[1mruns\\detect\\exp1997\u001b[0m\n",
      "Saved results to runs\\detect\\exp1997\n",
      "\n"
     ]
    },
    {
     "name": "stdout",
     "output_type": "stream",
     "text": [
      "1/1 [==============================] - 0s 51ms/step\n"
     ]
    },
    {
     "name": "stderr",
     "output_type": "stream",
     "text": [
      "Saved 1 image to \u001b[1mruns\\detect\\exp1998\u001b[0m\n",
      "Saved results to runs\\detect\\exp1998\n",
      "\n"
     ]
    },
    {
     "name": "stdout",
     "output_type": "stream",
     "text": [
      "1/1 [==============================] - 0s 59ms/step\n"
     ]
    },
    {
     "name": "stderr",
     "output_type": "stream",
     "text": [
      "Saved 1 image to \u001b[1mruns\\detect\\exp1999\u001b[0m\n",
      "Saved results to runs\\detect\\exp1999\n",
      "\n"
     ]
    },
    {
     "name": "stdout",
     "output_type": "stream",
     "text": [
      "1/1 [==============================] - 0s 43ms/step\n",
      "1/1 [==============================] - 0s 59ms/step\n"
     ]
    },
    {
     "name": "stderr",
     "output_type": "stream",
     "text": [
      "Saved 1 image to \u001b[1mruns\\detect\\exp2000\u001b[0m\n",
      "Saved results to runs\\detect\\exp2000\n",
      "\n"
     ]
    },
    {
     "name": "stdout",
     "output_type": "stream",
     "text": [
      "1/1 [==============================] - 0s 40ms/step\n",
      "1/1 [==============================] - 0s 37ms/step\n"
     ]
    },
    {
     "name": "stderr",
     "output_type": "stream",
     "text": [
      "Saved 1 image to \u001b[1mruns\\detect\\exp2001\u001b[0m\n",
      "Saved results to runs\\detect\\exp2001\n",
      "\n"
     ]
    },
    {
     "name": "stdout",
     "output_type": "stream",
     "text": [
      "1/1 [==============================] - 0s 40ms/step\n",
      "1/1 [==============================] - 0s 56ms/step\n"
     ]
    },
    {
     "name": "stderr",
     "output_type": "stream",
     "text": [
      "Saved 1 image to \u001b[1mruns\\detect\\exp2002\u001b[0m\n",
      "Saved results to runs\\detect\\exp2002\n",
      "\n"
     ]
    },
    {
     "name": "stdout",
     "output_type": "stream",
     "text": [
      "1/1 [==============================] - 0s 37ms/step\n",
      "1/1 [==============================] - 0s 62ms/step\n"
     ]
    },
    {
     "name": "stderr",
     "output_type": "stream",
     "text": [
      "Saved 1 image to \u001b[1mruns\\detect\\exp2003\u001b[0m\n",
      "Saved results to runs\\detect\\exp2003\n",
      "\n"
     ]
    },
    {
     "name": "stdout",
     "output_type": "stream",
     "text": [
      "1/1 [==============================] - 0s 40ms/step\n",
      "1/1 [==============================] - 0s 47ms/step\n"
     ]
    },
    {
     "name": "stderr",
     "output_type": "stream",
     "text": [
      "Saved 1 image to \u001b[1mruns\\detect\\exp2004\u001b[0m\n",
      "Saved results to runs\\detect\\exp2004\n",
      "\n"
     ]
    },
    {
     "name": "stdout",
     "output_type": "stream",
     "text": [
      "1/1 [==============================] - 0s 64ms/step\n",
      "1/1 [==============================] - 0s 47ms/step\n"
     ]
    },
    {
     "name": "stderr",
     "output_type": "stream",
     "text": [
      "Saved 1 image to \u001b[1mruns\\detect\\exp2005\u001b[0m\n",
      "Saved results to runs\\detect\\exp2005\n",
      "\n"
     ]
    },
    {
     "name": "stdout",
     "output_type": "stream",
     "text": [
      "1/1 [==============================] - 0s 53ms/step\n",
      "1/1 [==============================] - 0s 46ms/step\n"
     ]
    },
    {
     "name": "stderr",
     "output_type": "stream",
     "text": [
      "Saved 1 image to \u001b[1mruns\\detect\\exp2006\u001b[0m\n",
      "Saved results to runs\\detect\\exp2006\n",
      "\n"
     ]
    },
    {
     "name": "stdout",
     "output_type": "stream",
     "text": [
      "1/1 [==============================] - 0s 72ms/step\n",
      "1/1 [==============================] - 0s 48ms/step\n"
     ]
    },
    {
     "name": "stderr",
     "output_type": "stream",
     "text": [
      "Saved 1 image to \u001b[1mruns\\detect\\exp2007\u001b[0m\n",
      "Saved results to runs\\detect\\exp2007\n",
      "\n"
     ]
    },
    {
     "name": "stdout",
     "output_type": "stream",
     "text": [
      "1/1 [==============================] - 0s 50ms/step\n"
     ]
    },
    {
     "name": "stderr",
     "output_type": "stream",
     "text": [
      "Saved 1 image to \u001b[1mruns\\detect\\exp2008\u001b[0m\n",
      "Saved results to runs\\detect\\exp2008\n",
      "\n"
     ]
    },
    {
     "name": "stdout",
     "output_type": "stream",
     "text": [
      "1/1 [==============================] - 0s 48ms/step\n"
     ]
    },
    {
     "name": "stderr",
     "output_type": "stream",
     "text": [
      "Saved 1 image to \u001b[1mruns\\detect\\exp2009\u001b[0m\n",
      "Saved results to runs\\detect\\exp2009\n",
      "\n"
     ]
    },
    {
     "name": "stdout",
     "output_type": "stream",
     "text": [
      "1/1 [==============================] - 0s 51ms/step\n"
     ]
    },
    {
     "name": "stderr",
     "output_type": "stream",
     "text": [
      "Saved 1 image to \u001b[1mruns\\detect\\exp2010\u001b[0m\n",
      "Saved results to runs\\detect\\exp2010\n",
      "\n",
      "Saved 1 image to \u001b[1mruns\\detect\\exp2011\u001b[0m\n",
      "Saved results to runs\\detect\\exp2011\n",
      "\n"
     ]
    },
    {
     "name": "stdout",
     "output_type": "stream",
     "text": [
      "1/1 [==============================] - 0s 50ms/step\n"
     ]
    },
    {
     "name": "stderr",
     "output_type": "stream",
     "text": [
      "Saved 1 image to \u001b[1mruns\\detect\\exp2012\u001b[0m\n",
      "Saved results to runs\\detect\\exp2012\n",
      "\n"
     ]
    },
    {
     "name": "stdout",
     "output_type": "stream",
     "text": [
      "1/1 [==============================] - 0s 49ms/step\n",
      "1/1 [==============================] - 0s 60ms/step\n"
     ]
    },
    {
     "name": "stderr",
     "output_type": "stream",
     "text": [
      "Saved 1 image to \u001b[1mruns\\detect\\exp2013\u001b[0m\n",
      "Saved results to runs\\detect\\exp2013\n",
      "\n"
     ]
    },
    {
     "name": "stdout",
     "output_type": "stream",
     "text": [
      "1/1 [==============================] - 0s 44ms/step\n"
     ]
    },
    {
     "name": "stderr",
     "output_type": "stream",
     "text": [
      "Saved 1 image to \u001b[1mruns\\detect\\exp2014\u001b[0m\n",
      "Saved results to runs\\detect\\exp2014\n",
      "\n",
      "Saved 1 image to \u001b[1mruns\\detect\\exp2015\u001b[0m\n",
      "Saved results to runs\\detect\\exp2015\n",
      "\n",
      "Saved 1 image to \u001b[1mruns\\detect\\exp2016\u001b[0m\n",
      "Saved results to runs\\detect\\exp2016\n",
      "\n",
      "Saved 1 image to \u001b[1mruns\\detect\\exp2017\u001b[0m\n",
      "Saved results to runs\\detect\\exp2017\n",
      "\n",
      "Saved 1 image to \u001b[1mruns\\detect\\exp2018\u001b[0m\n",
      "Saved results to runs\\detect\\exp2018\n",
      "\n",
      "Saved 1 image to \u001b[1mruns\\detect\\exp2019\u001b[0m\n",
      "Saved results to runs\\detect\\exp2019\n",
      "\n",
      "Saved 1 image to \u001b[1mruns\\detect\\exp2020\u001b[0m\n",
      "Saved results to runs\\detect\\exp2020\n",
      "\n",
      "Saved 1 image to \u001b[1mruns\\detect\\exp2021\u001b[0m\n",
      "Saved results to runs\\detect\\exp2021\n",
      "\n",
      "Saved 1 image to \u001b[1mruns\\detect\\exp2022\u001b[0m\n",
      "Saved results to runs\\detect\\exp2022\n",
      "\n",
      "Saved 1 image to \u001b[1mruns\\detect\\exp2023\u001b[0m\n",
      "Saved results to runs\\detect\\exp2023\n",
      "\n",
      "Saved 1 image to \u001b[1mruns\\detect\\exp2024\u001b[0m\n",
      "Saved results to runs\\detect\\exp2024\n",
      "\n",
      "Saved 1 image to \u001b[1mruns\\detect\\exp2025\u001b[0m\n",
      "Saved results to runs\\detect\\exp2025\n",
      "\n",
      "Saved 1 image to \u001b[1mruns\\detect\\exp2026\u001b[0m\n",
      "Saved results to runs\\detect\\exp2026\n",
      "\n",
      "Saved 1 image to \u001b[1mruns\\detect\\exp2027\u001b[0m\n",
      "Saved results to runs\\detect\\exp2027\n",
      "\n",
      "Saved 1 image to \u001b[1mruns\\detect\\exp2028\u001b[0m\n",
      "Saved results to runs\\detect\\exp2028\n",
      "\n",
      "Saved 1 image to \u001b[1mruns\\detect\\exp2029\u001b[0m\n",
      "Saved results to runs\\detect\\exp2029\n",
      "\n",
      "Saved 1 image to \u001b[1mruns\\detect\\exp2030\u001b[0m\n",
      "Saved results to runs\\detect\\exp2030\n",
      "\n",
      "Saved 1 image to \u001b[1mruns\\detect\\exp2031\u001b[0m\n",
      "Saved results to runs\\detect\\exp2031\n",
      "\n",
      "Saved 1 image to \u001b[1mruns\\detect\\exp2032\u001b[0m\n",
      "Saved results to runs\\detect\\exp2032\n",
      "\n",
      "Saved 1 image to \u001b[1mruns\\detect\\exp2033\u001b[0m\n",
      "Saved results to runs\\detect\\exp2033\n",
      "\n",
      "Saved 1 image to \u001b[1mruns\\detect\\exp2034\u001b[0m\n",
      "Saved results to runs\\detect\\exp2034\n",
      "\n",
      "Saved 1 image to \u001b[1mruns\\detect\\exp2035\u001b[0m\n",
      "Saved results to runs\\detect\\exp2035\n",
      "\n",
      "Saved 1 image to \u001b[1mruns\\detect\\exp2036\u001b[0m\n",
      "Saved results to runs\\detect\\exp2036\n",
      "\n",
      "Saved 1 image to \u001b[1mruns\\detect\\exp2037\u001b[0m\n",
      "Saved results to runs\\detect\\exp2037\n",
      "\n",
      "Saved 1 image to \u001b[1mruns\\detect\\exp2038\u001b[0m\n",
      "Saved results to runs\\detect\\exp2038\n",
      "\n",
      "Saved 1 image to \u001b[1mruns\\detect\\exp2039\u001b[0m\n",
      "Saved results to runs\\detect\\exp2039\n",
      "\n",
      "Saved 1 image to \u001b[1mruns\\detect\\exp2040\u001b[0m\n",
      "Saved results to runs\\detect\\exp2040\n",
      "\n",
      "Saved 1 image to \u001b[1mruns\\detect\\exp2041\u001b[0m\n",
      "Saved results to runs\\detect\\exp2041\n",
      "\n",
      "Saved 1 image to \u001b[1mruns\\detect\\exp2042\u001b[0m\n",
      "Saved results to runs\\detect\\exp2042\n",
      "\n",
      "Saved 1 image to \u001b[1mruns\\detect\\exp2043\u001b[0m\n",
      "Saved results to runs\\detect\\exp2043\n",
      "\n",
      "Saved 1 image to \u001b[1mruns\\detect\\exp2044\u001b[0m\n",
      "Saved results to runs\\detect\\exp2044\n",
      "\n",
      "Saved 1 image to \u001b[1mruns\\detect\\exp2045\u001b[0m\n",
      "Saved results to runs\\detect\\exp2045\n",
      "\n",
      "Saved 1 image to \u001b[1mruns\\detect\\exp2046\u001b[0m\n",
      "Saved results to runs\\detect\\exp2046\n",
      "\n",
      "Saved 1 image to \u001b[1mruns\\detect\\exp2047\u001b[0m\n",
      "Saved results to runs\\detect\\exp2047\n",
      "\n",
      "Saved 1 image to \u001b[1mruns\\detect\\exp2048\u001b[0m\n",
      "Saved results to runs\\detect\\exp2048\n",
      "\n",
      "Saved 1 image to \u001b[1mruns\\detect\\exp2049\u001b[0m\n",
      "Saved results to runs\\detect\\exp2049\n",
      "\n",
      "Saved 1 image to \u001b[1mruns\\detect\\exp2050\u001b[0m\n",
      "Saved results to runs\\detect\\exp2050\n",
      "\n",
      "Saved 1 image to \u001b[1mruns\\detect\\exp2051\u001b[0m\n",
      "Saved results to runs\\detect\\exp2051\n",
      "\n",
      "Saved 1 image to \u001b[1mruns\\detect\\exp2052\u001b[0m\n",
      "Saved results to runs\\detect\\exp2052\n",
      "\n",
      "Saved 1 image to \u001b[1mruns\\detect\\exp2053\u001b[0m\n",
      "Saved results to runs\\detect\\exp2053\n",
      "\n",
      "Saved 1 image to \u001b[1mruns\\detect\\exp2054\u001b[0m\n",
      "Saved results to runs\\detect\\exp2054\n",
      "\n",
      "Saved 1 image to \u001b[1mruns\\detect\\exp2055\u001b[0m\n",
      "Saved results to runs\\detect\\exp2055\n",
      "\n",
      "Saved 1 image to \u001b[1mruns\\detect\\exp2056\u001b[0m\n",
      "Saved results to runs\\detect\\exp2056\n",
      "\n",
      "Saved 1 image to \u001b[1mruns\\detect\\exp2057\u001b[0m\n",
      "Saved results to runs\\detect\\exp2057\n",
      "\n",
      "Saved 1 image to \u001b[1mruns\\detect\\exp2058\u001b[0m\n",
      "Saved results to runs\\detect\\exp2058\n",
      "\n",
      "Saved 1 image to \u001b[1mruns\\detect\\exp2059\u001b[0m\n",
      "Saved results to runs\\detect\\exp2059\n",
      "\n",
      "Saved 1 image to \u001b[1mruns\\detect\\exp2060\u001b[0m\n",
      "Saved results to runs\\detect\\exp2060\n",
      "\n",
      "Saved 1 image to \u001b[1mruns\\detect\\exp2061\u001b[0m\n",
      "Saved results to runs\\detect\\exp2061\n",
      "\n",
      "Saved 1 image to \u001b[1mruns\\detect\\exp2062\u001b[0m\n",
      "Saved results to runs\\detect\\exp2062\n",
      "\n",
      "Saved 1 image to \u001b[1mruns\\detect\\exp2063\u001b[0m\n",
      "Saved results to runs\\detect\\exp2063\n",
      "\n",
      "Saved 1 image to \u001b[1mruns\\detect\\exp2064\u001b[0m\n",
      "Saved results to runs\\detect\\exp2064\n",
      "\n",
      "Saved 1 image to \u001b[1mruns\\detect\\exp2065\u001b[0m\n",
      "Saved results to runs\\detect\\exp2065\n",
      "\n",
      "Saved 1 image to \u001b[1mruns\\detect\\exp2066\u001b[0m\n",
      "Saved results to runs\\detect\\exp2066\n",
      "\n"
     ]
    },
    {
     "name": "stdout",
     "output_type": "stream",
     "text": [
      "1/1 [==============================] - 0s 46ms/step\n"
     ]
    },
    {
     "name": "stderr",
     "output_type": "stream",
     "text": [
      "Saved 1 image to \u001b[1mruns\\detect\\exp2067\u001b[0m\n",
      "Saved results to runs\\detect\\exp2067\n",
      "\n",
      "Saved 1 image to \u001b[1mruns\\detect\\exp2068\u001b[0m\n",
      "Saved results to runs\\detect\\exp2068\n",
      "\n",
      "Saved 1 image to \u001b[1mruns\\detect\\exp2069\u001b[0m\n",
      "Saved results to runs\\detect\\exp2069\n",
      "\n",
      "Saved 1 image to \u001b[1mruns\\detect\\exp2070\u001b[0m\n",
      "Saved results to runs\\detect\\exp2070\n",
      "\n",
      "Saved 1 image to \u001b[1mruns\\detect\\exp2071\u001b[0m\n",
      "Saved results to runs\\detect\\exp2071\n",
      "\n",
      "Saved 1 image to \u001b[1mruns\\detect\\exp2072\u001b[0m\n",
      "Saved results to runs\\detect\\exp2072\n",
      "\n"
     ]
    },
    {
     "name": "stdout",
     "output_type": "stream",
     "text": [
      "1/1 [==============================] - 0s 47ms/step\n"
     ]
    },
    {
     "name": "stderr",
     "output_type": "stream",
     "text": [
      "Saved 1 image to \u001b[1mruns\\detect\\exp2073\u001b[0m\n",
      "Saved results to runs\\detect\\exp2073\n",
      "\n"
     ]
    },
    {
     "name": "stdout",
     "output_type": "stream",
     "text": [
      "1/1 [==============================] - 0s 50ms/step\n"
     ]
    },
    {
     "name": "stderr",
     "output_type": "stream",
     "text": [
      "Saved 1 image to \u001b[1mruns\\detect\\exp2074\u001b[0m\n",
      "Saved results to runs\\detect\\exp2074\n",
      "\n",
      "Saved 1 image to \u001b[1mruns\\detect\\exp2075\u001b[0m\n",
      "Saved results to runs\\detect\\exp2075\n",
      "\n"
     ]
    },
    {
     "name": "stdout",
     "output_type": "stream",
     "text": [
      "1/1 [==============================] - 0s 47ms/step\n",
      "1/1 [==============================] - 0s 56ms/step\n"
     ]
    },
    {
     "name": "stderr",
     "output_type": "stream",
     "text": [
      "Saved 1 image to \u001b[1mruns\\detect\\exp2076\u001b[0m\n",
      "Saved results to runs\\detect\\exp2076\n",
      "\n"
     ]
    },
    {
     "name": "stdout",
     "output_type": "stream",
     "text": [
      "1/1 [==============================] - 0s 52ms/step\n"
     ]
    },
    {
     "name": "stderr",
     "output_type": "stream",
     "text": [
      "Saved 1 image to \u001b[1mruns\\detect\\exp2077\u001b[0m\n",
      "Saved results to runs\\detect\\exp2077\n",
      "\n"
     ]
    },
    {
     "name": "stdout",
     "output_type": "stream",
     "text": [
      "1/1 [==============================] - 0s 60ms/step\n",
      "1/1 [==============================] - 0s 59ms/step\n"
     ]
    },
    {
     "name": "stderr",
     "output_type": "stream",
     "text": [
      "Saved 1 image to \u001b[1mruns\\detect\\exp2078\u001b[0m\n",
      "Saved results to runs\\detect\\exp2078\n",
      "\n"
     ]
    },
    {
     "name": "stdout",
     "output_type": "stream",
     "text": [
      "1/1 [==============================] - 0s 51ms/step\n"
     ]
    },
    {
     "name": "stderr",
     "output_type": "stream",
     "text": [
      "Saved 1 image to \u001b[1mruns\\detect\\exp2079\u001b[0m\n",
      "Saved results to runs\\detect\\exp2079\n",
      "\n"
     ]
    },
    {
     "name": "stdout",
     "output_type": "stream",
     "text": [
      "1/1 [==============================] - 0s 42ms/step\n"
     ]
    },
    {
     "name": "stderr",
     "output_type": "stream",
     "text": [
      "Saved 1 image to \u001b[1mruns\\detect\\exp2080\u001b[0m\n",
      "Saved results to runs\\detect\\exp2080\n",
      "\n"
     ]
    },
    {
     "name": "stdout",
     "output_type": "stream",
     "text": [
      "1/1 [==============================] - 0s 45ms/step\n"
     ]
    },
    {
     "name": "stderr",
     "output_type": "stream",
     "text": [
      "Saved 1 image to \u001b[1mruns\\detect\\exp2081\u001b[0m\n",
      "Saved results to runs\\detect\\exp2081\n",
      "\n"
     ]
    },
    {
     "name": "stdout",
     "output_type": "stream",
     "text": [
      "1/1 [==============================] - 0s 50ms/step\n"
     ]
    },
    {
     "name": "stderr",
     "output_type": "stream",
     "text": [
      "Saved 1 image to \u001b[1mruns\\detect\\exp2082\u001b[0m\n",
      "Saved results to runs\\detect\\exp2082\n",
      "\n"
     ]
    },
    {
     "name": "stdout",
     "output_type": "stream",
     "text": [
      "1/1 [==============================] - 0s 61ms/step\n",
      "1/1 [==============================] - 0s 62ms/step\n"
     ]
    },
    {
     "name": "stderr",
     "output_type": "stream",
     "text": [
      "Saved 1 image to \u001b[1mruns\\detect\\exp2083\u001b[0m\n",
      "Saved results to runs\\detect\\exp2083\n",
      "\n"
     ]
    },
    {
     "name": "stdout",
     "output_type": "stream",
     "text": [
      "1/1 [==============================] - 0s 61ms/step\n"
     ]
    },
    {
     "name": "stderr",
     "output_type": "stream",
     "text": [
      "Saved 1 image to \u001b[1mruns\\detect\\exp2084\u001b[0m\n",
      "Saved results to runs\\detect\\exp2084\n",
      "\n"
     ]
    },
    {
     "name": "stdout",
     "output_type": "stream",
     "text": [
      "1/1 [==============================] - 0s 58ms/step\n",
      "1/1 [==============================] - 0s 64ms/step\n",
      "1/1 [==============================] - 0s 101ms/step\n"
     ]
    },
    {
     "name": "stderr",
     "output_type": "stream",
     "text": [
      "Saved 1 image to \u001b[1mruns\\detect\\exp2085\u001b[0m\n",
      "Saved results to runs\\detect\\exp2085\n",
      "\n"
     ]
    },
    {
     "name": "stdout",
     "output_type": "stream",
     "text": [
      "1/1 [==============================] - 0s 54ms/step\n"
     ]
    },
    {
     "name": "stderr",
     "output_type": "stream",
     "text": [
      "Saved 1 image to \u001b[1mruns\\detect\\exp2086\u001b[0m\n",
      "Saved results to runs\\detect\\exp2086\n",
      "\n"
     ]
    },
    {
     "name": "stdout",
     "output_type": "stream",
     "text": [
      "1/1 [==============================] - 0s 50ms/step\n"
     ]
    },
    {
     "name": "stderr",
     "output_type": "stream",
     "text": [
      "Saved 1 image to \u001b[1mruns\\detect\\exp2087\u001b[0m\n",
      "Saved results to runs\\detect\\exp2087\n",
      "\n"
     ]
    },
    {
     "name": "stdout",
     "output_type": "stream",
     "text": [
      "1/1 [==============================] - 0s 42ms/step\n"
     ]
    },
    {
     "name": "stderr",
     "output_type": "stream",
     "text": [
      "Saved 1 image to \u001b[1mruns\\detect\\exp2088\u001b[0m\n",
      "Saved results to runs\\detect\\exp2088\n",
      "\n"
     ]
    },
    {
     "name": "stdout",
     "output_type": "stream",
     "text": [
      "1/1 [==============================] - 0s 49ms/step\n",
      "1/1 [==============================] - 0s 39ms/step\n"
     ]
    },
    {
     "name": "stderr",
     "output_type": "stream",
     "text": [
      "Saved 1 image to \u001b[1mruns\\detect\\exp2089\u001b[0m\n",
      "Saved results to runs\\detect\\exp2089\n",
      "\n",
      "Saved 1 image to \u001b[1mruns\\detect\\exp2090\u001b[0m\n",
      "Saved results to runs\\detect\\exp2090\n",
      "\n",
      "Saved 1 image to \u001b[1mruns\\detect\\exp2091\u001b[0m\n",
      "Saved results to runs\\detect\\exp2091\n",
      "\n"
     ]
    },
    {
     "name": "stdout",
     "output_type": "stream",
     "text": [
      "1/1 [==============================] - 0s 46ms/step\n"
     ]
    },
    {
     "name": "stderr",
     "output_type": "stream",
     "text": [
      "Saved 1 image to \u001b[1mruns\\detect\\exp2092\u001b[0m\n",
      "Saved results to runs\\detect\\exp2092\n",
      "\n",
      "Saved 1 image to \u001b[1mruns\\detect\\exp2093\u001b[0m\n",
      "Saved results to runs\\detect\\exp2093\n",
      "\n"
     ]
    },
    {
     "name": "stdout",
     "output_type": "stream",
     "text": [
      "1/1 [==============================] - 0s 40ms/step\n",
      "1/1 [==============================] - 0s 62ms/step\n"
     ]
    },
    {
     "name": "stderr",
     "output_type": "stream",
     "text": [
      "Saved 1 image to \u001b[1mruns\\detect\\exp2094\u001b[0m\n",
      "Saved results to runs\\detect\\exp2094\n",
      "\n"
     ]
    },
    {
     "name": "stdout",
     "output_type": "stream",
     "text": [
      "1/1 [==============================] - 0s 57ms/step\n",
      "1/1 [==============================] - 0s 41ms/step\n"
     ]
    },
    {
     "name": "stderr",
     "output_type": "stream",
     "text": [
      "Saved 1 image to \u001b[1mruns\\detect\\exp2095\u001b[0m\n",
      "Saved results to runs\\detect\\exp2095\n",
      "\n"
     ]
    },
    {
     "name": "stdout",
     "output_type": "stream",
     "text": [
      "1/1 [==============================] - 0s 47ms/step\n"
     ]
    },
    {
     "name": "stderr",
     "output_type": "stream",
     "text": [
      "Saved 1 image to \u001b[1mruns\\detect\\exp2096\u001b[0m\n",
      "Saved results to runs\\detect\\exp2096\n",
      "\n"
     ]
    },
    {
     "name": "stdout",
     "output_type": "stream",
     "text": [
      "1/1 [==============================] - 0s 41ms/step\n"
     ]
    },
    {
     "name": "stderr",
     "output_type": "stream",
     "text": [
      "Saved 1 image to \u001b[1mruns\\detect\\exp2097\u001b[0m\n",
      "Saved results to runs\\detect\\exp2097\n",
      "\n",
      "Saved 1 image to \u001b[1mruns\\detect\\exp2098\u001b[0m\n",
      "Saved results to runs\\detect\\exp2098\n",
      "\n",
      "Saved 1 image to \u001b[1mruns\\detect\\exp2099\u001b[0m\n",
      "Saved results to runs\\detect\\exp2099\n",
      "\n",
      "Saved 1 image to \u001b[1mruns\\detect\\exp2100\u001b[0m\n",
      "Saved results to runs\\detect\\exp2100\n",
      "\n",
      "Saved 1 image to \u001b[1mruns\\detect\\exp2101\u001b[0m\n",
      "Saved results to runs\\detect\\exp2101\n",
      "\n",
      "Saved 1 image to \u001b[1mruns\\detect\\exp2102\u001b[0m\n",
      "Saved results to runs\\detect\\exp2102\n",
      "\n",
      "Saved 1 image to \u001b[1mruns\\detect\\exp2103\u001b[0m\n",
      "Saved results to runs\\detect\\exp2103\n",
      "\n"
     ]
    },
    {
     "name": "stdout",
     "output_type": "stream",
     "text": [
      "1/1 [==============================] - 0s 53ms/step\n"
     ]
    },
    {
     "name": "stderr",
     "output_type": "stream",
     "text": [
      "Saved 1 image to \u001b[1mruns\\detect\\exp2104\u001b[0m\n",
      "Saved results to runs\\detect\\exp2104\n",
      "\n",
      "Saved 1 image to \u001b[1mruns\\detect\\exp2105\u001b[0m\n",
      "Saved results to runs\\detect\\exp2105\n",
      "\n"
     ]
    },
    {
     "name": "stdout",
     "output_type": "stream",
     "text": [
      "1/1 [==============================] - 0s 51ms/step\n"
     ]
    },
    {
     "name": "stderr",
     "output_type": "stream",
     "text": [
      "Saved 1 image to \u001b[1mruns\\detect\\exp2106\u001b[0m\n",
      "Saved results to runs\\detect\\exp2106\n",
      "\n",
      "Saved 1 image to \u001b[1mruns\\detect\\exp2107\u001b[0m\n",
      "Saved results to runs\\detect\\exp2107\n",
      "\n",
      "Saved 1 image to \u001b[1mruns\\detect\\exp2108\u001b[0m\n",
      "Saved results to runs\\detect\\exp2108\n",
      "\n",
      "Saved 1 image to \u001b[1mruns\\detect\\exp2109\u001b[0m\n",
      "Saved results to runs\\detect\\exp2109\n",
      "\n",
      "Saved 1 image to \u001b[1mruns\\detect\\exp2110\u001b[0m\n",
      "Saved results to runs\\detect\\exp2110\n",
      "\n",
      "Saved 1 image to \u001b[1mruns\\detect\\exp2111\u001b[0m\n",
      "Saved results to runs\\detect\\exp2111\n",
      "\n",
      "Saved 1 image to \u001b[1mruns\\detect\\exp2112\u001b[0m\n",
      "Saved results to runs\\detect\\exp2112\n",
      "\n",
      "Saved 1 image to \u001b[1mruns\\detect\\exp2113\u001b[0m\n",
      "Saved results to runs\\detect\\exp2113\n",
      "\n",
      "Saved 1 image to \u001b[1mruns\\detect\\exp2114\u001b[0m\n",
      "Saved results to runs\\detect\\exp2114\n",
      "\n"
     ]
    },
    {
     "name": "stdout",
     "output_type": "stream",
     "text": [
      "1/1 [==============================] - 0s 51ms/step\n"
     ]
    },
    {
     "name": "stderr",
     "output_type": "stream",
     "text": [
      "Saved 1 image to \u001b[1mruns\\detect\\exp2115\u001b[0m\n",
      "Saved results to runs\\detect\\exp2115\n",
      "\n"
     ]
    },
    {
     "name": "stdout",
     "output_type": "stream",
     "text": [
      "1/1 [==============================] - 0s 59ms/step\n"
     ]
    },
    {
     "name": "stderr",
     "output_type": "stream",
     "text": [
      "Saved 1 image to \u001b[1mruns\\detect\\exp2116\u001b[0m\n",
      "Saved results to runs\\detect\\exp2116\n",
      "\n",
      "Saved 1 image to \u001b[1mruns\\detect\\exp2117\u001b[0m\n",
      "Saved results to runs\\detect\\exp2117\n",
      "\n"
     ]
    },
    {
     "name": "stdout",
     "output_type": "stream",
     "text": [
      "1/1 [==============================] - 0s 39ms/step\n"
     ]
    },
    {
     "name": "stderr",
     "output_type": "stream",
     "text": [
      "Saved 1 image to \u001b[1mruns\\detect\\exp2118\u001b[0m\n",
      "Saved results to runs\\detect\\exp2118\n",
      "\n",
      "Saved 1 image to \u001b[1mruns\\detect\\exp2119\u001b[0m\n",
      "Saved results to runs\\detect\\exp2119\n",
      "\n"
     ]
    },
    {
     "name": "stdout",
     "output_type": "stream",
     "text": [
      "1/1 [==============================] - 0s 50ms/step\n"
     ]
    },
    {
     "name": "stderr",
     "output_type": "stream",
     "text": [
      "Saved 1 image to \u001b[1mruns\\detect\\exp2120\u001b[0m\n",
      "Saved results to runs\\detect\\exp2120\n",
      "\n"
     ]
    },
    {
     "name": "stdout",
     "output_type": "stream",
     "text": [
      "1/1 [==============================] - 0s 40ms/step\n"
     ]
    },
    {
     "name": "stderr",
     "output_type": "stream",
     "text": [
      "Saved 1 image to \u001b[1mruns\\detect\\exp2121\u001b[0m\n",
      "Saved results to runs\\detect\\exp2121\n",
      "\n"
     ]
    },
    {
     "name": "stdout",
     "output_type": "stream",
     "text": [
      "1/1 [==============================] - 0s 49ms/step\n"
     ]
    },
    {
     "name": "stderr",
     "output_type": "stream",
     "text": [
      "Saved 1 image to \u001b[1mruns\\detect\\exp2122\u001b[0m\n",
      "Saved results to runs\\detect\\exp2122\n",
      "\n"
     ]
    },
    {
     "name": "stdout",
     "output_type": "stream",
     "text": [
      "1/1 [==============================] - 0s 47ms/step\n"
     ]
    },
    {
     "name": "stderr",
     "output_type": "stream",
     "text": [
      "Saved 1 image to \u001b[1mruns\\detect\\exp2123\u001b[0m\n",
      "Saved results to runs\\detect\\exp2123\n",
      "\n"
     ]
    },
    {
     "name": "stdout",
     "output_type": "stream",
     "text": [
      "1/1 [==============================] - 0s 41ms/step\n"
     ]
    },
    {
     "name": "stderr",
     "output_type": "stream",
     "text": [
      "Saved 1 image to \u001b[1mruns\\detect\\exp2124\u001b[0m\n",
      "Saved results to runs\\detect\\exp2124\n",
      "\n"
     ]
    },
    {
     "name": "stdout",
     "output_type": "stream",
     "text": [
      "1/1 [==============================] - 0s 53ms/step\n"
     ]
    },
    {
     "name": "stderr",
     "output_type": "stream",
     "text": [
      "Saved 1 image to \u001b[1mruns\\detect\\exp2125\u001b[0m\n",
      "Saved results to runs\\detect\\exp2125\n",
      "\n"
     ]
    },
    {
     "name": "stdout",
     "output_type": "stream",
     "text": [
      "1/1 [==============================] - 0s 43ms/step\n"
     ]
    },
    {
     "name": "stderr",
     "output_type": "stream",
     "text": [
      "Saved 1 image to \u001b[1mruns\\detect\\exp2126\u001b[0m\n",
      "Saved results to runs\\detect\\exp2126\n",
      "\n"
     ]
    },
    {
     "name": "stdout",
     "output_type": "stream",
     "text": [
      "1/1 [==============================] - 0s 45ms/step\n",
      "1/1 [==============================] - 0s 50ms/step\n"
     ]
    },
    {
     "name": "stderr",
     "output_type": "stream",
     "text": [
      "Saved 1 image to \u001b[1mruns\\detect\\exp2127\u001b[0m\n",
      "Saved results to runs\\detect\\exp2127\n",
      "\n"
     ]
    },
    {
     "name": "stdout",
     "output_type": "stream",
     "text": [
      "1/1 [==============================] - 0s 50ms/step\n",
      "1/1 [==============================] - 0s 57ms/step\n"
     ]
    },
    {
     "name": "stderr",
     "output_type": "stream",
     "text": [
      "Saved 1 image to \u001b[1mruns\\detect\\exp2128\u001b[0m\n",
      "Saved results to runs\\detect\\exp2128\n",
      "\n"
     ]
    },
    {
     "name": "stdout",
     "output_type": "stream",
     "text": [
      "1/1 [==============================] - 0s 46ms/step\n"
     ]
    },
    {
     "name": "stderr",
     "output_type": "stream",
     "text": [
      "Saved 1 image to \u001b[1mruns\\detect\\exp2129\u001b[0m\n",
      "Saved results to runs\\detect\\exp2129\n",
      "\n"
     ]
    },
    {
     "name": "stdout",
     "output_type": "stream",
     "text": [
      "1/1 [==============================] - 0s 60ms/step\n"
     ]
    },
    {
     "name": "stderr",
     "output_type": "stream",
     "text": [
      "Saved 1 image to \u001b[1mruns\\detect\\exp2130\u001b[0m\n",
      "Saved results to runs\\detect\\exp2130\n",
      "\n"
     ]
    },
    {
     "name": "stdout",
     "output_type": "stream",
     "text": [
      "1/1 [==============================] - 0s 56ms/step\n"
     ]
    },
    {
     "name": "stderr",
     "output_type": "stream",
     "text": [
      "Saved 1 image to \u001b[1mruns\\detect\\exp2131\u001b[0m\n",
      "Saved results to runs\\detect\\exp2131\n",
      "\n"
     ]
    },
    {
     "name": "stdout",
     "output_type": "stream",
     "text": [
      "1/1 [==============================] - 0s 83ms/step\n"
     ]
    },
    {
     "name": "stderr",
     "output_type": "stream",
     "text": [
      "Saved 1 image to \u001b[1mruns\\detect\\exp2132\u001b[0m\n",
      "Saved results to runs\\detect\\exp2132\n",
      "\n"
     ]
    },
    {
     "name": "stdout",
     "output_type": "stream",
     "text": [
      "1/1 [==============================] - 0s 91ms/step\n"
     ]
    },
    {
     "name": "stderr",
     "output_type": "stream",
     "text": [
      "Saved 1 image to \u001b[1mruns\\detect\\exp2133\u001b[0m\n",
      "Saved results to runs\\detect\\exp2133\n",
      "\n",
      "Saved 1 image to \u001b[1mruns\\detect\\exp2134\u001b[0m\n",
      "Saved results to runs\\detect\\exp2134\n",
      "\n",
      "Saved 1 image to \u001b[1mruns\\detect\\exp2135\u001b[0m\n",
      "Saved results to runs\\detect\\exp2135\n",
      "\n",
      "Saved 1 image to \u001b[1mruns\\detect\\exp2136\u001b[0m\n",
      "Saved results to runs\\detect\\exp2136\n",
      "\n",
      "Saved 1 image to \u001b[1mruns\\detect\\exp2137\u001b[0m\n",
      "Saved results to runs\\detect\\exp2137\n",
      "\n",
      "Saved 1 image to \u001b[1mruns\\detect\\exp2138\u001b[0m\n",
      "Saved results to runs\\detect\\exp2138\n",
      "\n",
      "Saved 1 image to \u001b[1mruns\\detect\\exp2139\u001b[0m\n",
      "Saved results to runs\\detect\\exp2139\n",
      "\n"
     ]
    },
    {
     "name": "stdout",
     "output_type": "stream",
     "text": [
      "1/1 [==============================] - 0s 61ms/step\n"
     ]
    },
    {
     "name": "stderr",
     "output_type": "stream",
     "text": [
      "Saved 1 image to \u001b[1mruns\\detect\\exp2140\u001b[0m\n",
      "Saved results to runs\\detect\\exp2140\n",
      "\n",
      "Saved 1 image to \u001b[1mruns\\detect\\exp2141\u001b[0m\n",
      "Saved results to runs\\detect\\exp2141\n",
      "\n",
      "Saved 1 image to \u001b[1mruns\\detect\\exp2142\u001b[0m\n",
      "Saved results to runs\\detect\\exp2142\n",
      "\n",
      "Saved 1 image to \u001b[1mruns\\detect\\exp2143\u001b[0m\n",
      "Saved results to runs\\detect\\exp2143\n",
      "\n",
      "Saved 1 image to \u001b[1mruns\\detect\\exp2144\u001b[0m\n",
      "Saved results to runs\\detect\\exp2144\n",
      "\n"
     ]
    },
    {
     "name": "stdout",
     "output_type": "stream",
     "text": [
      "1/1 [==============================] - 0s 58ms/step\n"
     ]
    },
    {
     "name": "stderr",
     "output_type": "stream",
     "text": [
      "Saved 1 image to \u001b[1mruns\\detect\\exp2145\u001b[0m\n",
      "Saved results to runs\\detect\\exp2145\n",
      "\n",
      "Saved 1 image to \u001b[1mruns\\detect\\exp2146\u001b[0m\n",
      "Saved results to runs\\detect\\exp2146\n",
      "\n",
      "Saved 1 image to \u001b[1mruns\\detect\\exp2147\u001b[0m\n",
      "Saved results to runs\\detect\\exp2147\n",
      "\n"
     ]
    },
    {
     "name": "stdout",
     "output_type": "stream",
     "text": [
      "1/1 [==============================] - 0s 65ms/step\n"
     ]
    },
    {
     "name": "stderr",
     "output_type": "stream",
     "text": [
      "Saved 1 image to \u001b[1mruns\\detect\\exp2148\u001b[0m\n",
      "Saved results to runs\\detect\\exp2148\n",
      "\n"
     ]
    },
    {
     "name": "stdout",
     "output_type": "stream",
     "text": [
      "1/1 [==============================] - 0s 77ms/step\n"
     ]
    },
    {
     "name": "stderr",
     "output_type": "stream",
     "text": [
      "Saved 1 image to \u001b[1mruns\\detect\\exp2149\u001b[0m\n",
      "Saved results to runs\\detect\\exp2149\n",
      "\n",
      "Saved 1 image to \u001b[1mruns\\detect\\exp2150\u001b[0m\n",
      "Saved results to runs\\detect\\exp2150\n",
      "\n"
     ]
    },
    {
     "name": "stdout",
     "output_type": "stream",
     "text": [
      "1/1 [==============================] - 0s 115ms/step\n"
     ]
    },
    {
     "name": "stderr",
     "output_type": "stream",
     "text": [
      "Saved 1 image to \u001b[1mruns\\detect\\exp2151\u001b[0m\n",
      "Saved results to runs\\detect\\exp2151\n",
      "\n"
     ]
    },
    {
     "name": "stdout",
     "output_type": "stream",
     "text": [
      "1/1 [==============================] - 0s 72ms/step\n"
     ]
    },
    {
     "name": "stderr",
     "output_type": "stream",
     "text": [
      "Saved 1 image to \u001b[1mruns\\detect\\exp2152\u001b[0m\n",
      "Saved results to runs\\detect\\exp2152\n",
      "\n"
     ]
    },
    {
     "name": "stdout",
     "output_type": "stream",
     "text": [
      "1/1 [==============================] - 0s 56ms/step\n"
     ]
    },
    {
     "name": "stderr",
     "output_type": "stream",
     "text": [
      "Saved 1 image to \u001b[1mruns\\detect\\exp2153\u001b[0m\n",
      "Saved results to runs\\detect\\exp2153\n",
      "\n"
     ]
    },
    {
     "name": "stdout",
     "output_type": "stream",
     "text": [
      "1/1 [==============================] - 0s 46ms/step\n"
     ]
    },
    {
     "name": "stderr",
     "output_type": "stream",
     "text": [
      "Saved 1 image to \u001b[1mruns\\detect\\exp2154\u001b[0m\n",
      "Saved results to runs\\detect\\exp2154\n",
      "\n"
     ]
    },
    {
     "name": "stdout",
     "output_type": "stream",
     "text": [
      "1/1 [==============================] - 0s 45ms/step\n"
     ]
    },
    {
     "name": "stderr",
     "output_type": "stream",
     "text": [
      "Saved 1 image to \u001b[1mruns\\detect\\exp2155\u001b[0m\n",
      "Saved results to runs\\detect\\exp2155\n",
      "\n"
     ]
    },
    {
     "name": "stdout",
     "output_type": "stream",
     "text": [
      "1/1 [==============================] - 0s 48ms/step\n"
     ]
    },
    {
     "name": "stderr",
     "output_type": "stream",
     "text": [
      "Saved 1 image to \u001b[1mruns\\detect\\exp2156\u001b[0m\n",
      "Saved results to runs\\detect\\exp2156\n",
      "\n",
      "Saved 1 image to \u001b[1mruns\\detect\\exp2157\u001b[0m\n",
      "Saved results to runs\\detect\\exp2157\n",
      "\n",
      "Saved 1 image to \u001b[1mruns\\detect\\exp2158\u001b[0m\n",
      "Saved results to runs\\detect\\exp2158\n",
      "\n",
      "Saved 1 image to \u001b[1mruns\\detect\\exp2159\u001b[0m\n",
      "Saved results to runs\\detect\\exp2159\n",
      "\n",
      "Saved 1 image to \u001b[1mruns\\detect\\exp2160\u001b[0m\n",
      "Saved results to runs\\detect\\exp2160\n",
      "\n",
      "Saved 1 image to \u001b[1mruns\\detect\\exp2161\u001b[0m\n",
      "Saved results to runs\\detect\\exp2161\n",
      "\n"
     ]
    },
    {
     "name": "stdout",
     "output_type": "stream",
     "text": [
      "1/1 [==============================] - 0s 38ms/step\n"
     ]
    },
    {
     "name": "stderr",
     "output_type": "stream",
     "text": [
      "Saved 1 image to \u001b[1mruns\\detect\\exp2162\u001b[0m\n",
      "Saved results to runs\\detect\\exp2162\n",
      "\n",
      "Saved 1 image to \u001b[1mruns\\detect\\exp2163\u001b[0m\n",
      "Saved results to runs\\detect\\exp2163\n",
      "\n",
      "Saved 1 image to \u001b[1mruns\\detect\\exp2164\u001b[0m\n",
      "Saved results to runs\\detect\\exp2164\n",
      "\n",
      "Saved 1 image to \u001b[1mruns\\detect\\exp2165\u001b[0m\n",
      "Saved results to runs\\detect\\exp2165\n",
      "\n",
      "Saved 1 image to \u001b[1mruns\\detect\\exp2166\u001b[0m\n",
      "Saved results to runs\\detect\\exp2166\n",
      "\n"
     ]
    },
    {
     "name": "stdout",
     "output_type": "stream",
     "text": [
      "1/1 [==============================] - 0s 50ms/step\n",
      "1/1 [==============================] - 0s 47ms/step\n"
     ]
    },
    {
     "name": "stderr",
     "output_type": "stream",
     "text": [
      "Saved 1 image to \u001b[1mruns\\detect\\exp2167\u001b[0m\n",
      "Saved results to runs\\detect\\exp2167\n",
      "\n"
     ]
    },
    {
     "name": "stdout",
     "output_type": "stream",
     "text": [
      "1/1 [==============================] - 0s 39ms/step\n",
      "1/1 [==============================] - 0s 47ms/step\n"
     ]
    },
    {
     "name": "stderr",
     "output_type": "stream",
     "text": [
      "Saved 1 image to \u001b[1mruns\\detect\\exp2168\u001b[0m\n",
      "Saved results to runs\\detect\\exp2168\n",
      "\n",
      "Saved 1 image to \u001b[1mruns\\detect\\exp2169\u001b[0m\n",
      "Saved results to runs\\detect\\exp2169\n",
      "\n"
     ]
    },
    {
     "name": "stdout",
     "output_type": "stream",
     "text": [
      "1/1 [==============================] - 0s 42ms/step\n"
     ]
    },
    {
     "name": "stderr",
     "output_type": "stream",
     "text": [
      "Saved 1 image to \u001b[1mruns\\detect\\exp2170\u001b[0m\n",
      "Saved results to runs\\detect\\exp2170\n",
      "\n",
      "Saved 1 image to \u001b[1mruns\\detect\\exp2171\u001b[0m\n",
      "Saved results to runs\\detect\\exp2171\n",
      "\n"
     ]
    },
    {
     "name": "stdout",
     "output_type": "stream",
     "text": [
      "1/1 [==============================] - 0s 45ms/step\n"
     ]
    },
    {
     "name": "stderr",
     "output_type": "stream",
     "text": [
      "Saved 1 image to \u001b[1mruns\\detect\\exp2172\u001b[0m\n",
      "Saved results to runs\\detect\\exp2172\n",
      "\n",
      "Saved 1 image to \u001b[1mruns\\detect\\exp2173\u001b[0m\n",
      "Saved results to runs\\detect\\exp2173\n",
      "\n",
      "Saved 1 image to \u001b[1mruns\\detect\\exp2174\u001b[0m\n",
      "Saved results to runs\\detect\\exp2174\n",
      "\n"
     ]
    },
    {
     "name": "stdout",
     "output_type": "stream",
     "text": [
      "1/1 [==============================] - 0s 42ms/step\n"
     ]
    },
    {
     "name": "stderr",
     "output_type": "stream",
     "text": [
      "Saved 1 image to \u001b[1mruns\\detect\\exp2175\u001b[0m\n",
      "Saved results to runs\\detect\\exp2175\n",
      "\n"
     ]
    },
    {
     "name": "stdout",
     "output_type": "stream",
     "text": [
      "1/1 [==============================] - 0s 46ms/step\n"
     ]
    },
    {
     "name": "stderr",
     "output_type": "stream",
     "text": [
      "Saved 1 image to \u001b[1mruns\\detect\\exp2176\u001b[0m\n",
      "Saved results to runs\\detect\\exp2176\n",
      "\n"
     ]
    },
    {
     "name": "stdout",
     "output_type": "stream",
     "text": [
      "1/1 [==============================] - 0s 48ms/step\n"
     ]
    },
    {
     "name": "stderr",
     "output_type": "stream",
     "text": [
      "Saved 1 image to \u001b[1mruns\\detect\\exp2177\u001b[0m\n",
      "Saved results to runs\\detect\\exp2177\n",
      "\n"
     ]
    },
    {
     "name": "stdout",
     "output_type": "stream",
     "text": [
      "1/1 [==============================] - 0s 49ms/step\n"
     ]
    },
    {
     "name": "stderr",
     "output_type": "stream",
     "text": [
      "Saved 1 image to \u001b[1mruns\\detect\\exp2178\u001b[0m\n",
      "Saved results to runs\\detect\\exp2178\n",
      "\n"
     ]
    },
    {
     "name": "stdout",
     "output_type": "stream",
     "text": [
      "1/1 [==============================] - 0s 55ms/step\n"
     ]
    },
    {
     "name": "stderr",
     "output_type": "stream",
     "text": [
      "Saved 1 image to \u001b[1mruns\\detect\\exp2179\u001b[0m\n",
      "Saved results to runs\\detect\\exp2179\n",
      "\n",
      "Saved 1 image to \u001b[1mruns\\detect\\exp2180\u001b[0m\n",
      "Saved results to runs\\detect\\exp2180\n",
      "\n",
      "Saved 1 image to \u001b[1mruns\\detect\\exp2181\u001b[0m\n",
      "Saved results to runs\\detect\\exp2181\n",
      "\n"
     ]
    },
    {
     "name": "stdout",
     "output_type": "stream",
     "text": [
      "1/1 [==============================] - 0s 43ms/step\n"
     ]
    },
    {
     "name": "stderr",
     "output_type": "stream",
     "text": [
      "Saved 1 image to \u001b[1mruns\\detect\\exp2182\u001b[0m\n",
      "Saved results to runs\\detect\\exp2182\n",
      "\n"
     ]
    },
    {
     "name": "stdout",
     "output_type": "stream",
     "text": [
      "1/1 [==============================] - 0s 40ms/step\n"
     ]
    },
    {
     "name": "stderr",
     "output_type": "stream",
     "text": [
      "Saved 1 image to \u001b[1mruns\\detect\\exp2183\u001b[0m\n",
      "Saved results to runs\\detect\\exp2183\n",
      "\n"
     ]
    },
    {
     "name": "stdout",
     "output_type": "stream",
     "text": [
      "1/1 [==============================] - 0s 39ms/step\n",
      "1/1 [==============================] - 0s 77ms/step\n"
     ]
    },
    {
     "name": "stderr",
     "output_type": "stream",
     "text": [
      "Saved 1 image to \u001b[1mruns\\detect\\exp2184\u001b[0m\n",
      "Saved results to runs\\detect\\exp2184\n",
      "\n"
     ]
    },
    {
     "name": "stdout",
     "output_type": "stream",
     "text": [
      "1/1 [==============================] - 0s 36ms/step\n",
      "1/1 [==============================] - 0s 51ms/step\n"
     ]
    },
    {
     "name": "stderr",
     "output_type": "stream",
     "text": [
      "Saved 1 image to \u001b[1mruns\\detect\\exp2185\u001b[0m\n",
      "Saved results to runs\\detect\\exp2185\n",
      "\n"
     ]
    },
    {
     "name": "stdout",
     "output_type": "stream",
     "text": [
      "1/1 [==============================] - 0s 55ms/step\n"
     ]
    },
    {
     "name": "stderr",
     "output_type": "stream",
     "text": [
      "Saved 1 image to \u001b[1mruns\\detect\\exp2186\u001b[0m\n",
      "Saved results to runs\\detect\\exp2186\n",
      "\n"
     ]
    },
    {
     "name": "stdout",
     "output_type": "stream",
     "text": [
      "1/1 [==============================] - 0s 41ms/step\n"
     ]
    },
    {
     "name": "stderr",
     "output_type": "stream",
     "text": [
      "Saved 1 image to \u001b[1mruns\\detect\\exp2187\u001b[0m\n",
      "Saved results to runs\\detect\\exp2187\n",
      "\n"
     ]
    },
    {
     "name": "stdout",
     "output_type": "stream",
     "text": [
      "1/1 [==============================] - 0s 43ms/step\n"
     ]
    },
    {
     "name": "stderr",
     "output_type": "stream",
     "text": [
      "Saved 1 image to \u001b[1mruns\\detect\\exp2188\u001b[0m\n",
      "Saved results to runs\\detect\\exp2188\n",
      "\n"
     ]
    },
    {
     "name": "stdout",
     "output_type": "stream",
     "text": [
      "1/1 [==============================] - 0s 45ms/step\n",
      "1/1 [==============================] - 0s 63ms/step\n"
     ]
    },
    {
     "name": "stderr",
     "output_type": "stream",
     "text": [
      "Saved 1 image to \u001b[1mruns\\detect\\exp2189\u001b[0m\n",
      "Saved results to runs\\detect\\exp2189\n",
      "\n"
     ]
    },
    {
     "name": "stdout",
     "output_type": "stream",
     "text": [
      "1/1 [==============================] - 0s 49ms/step\n"
     ]
    },
    {
     "name": "stderr",
     "output_type": "stream",
     "text": [
      "Saved 1 image to \u001b[1mruns\\detect\\exp2190\u001b[0m\n",
      "Saved results to runs\\detect\\exp2190\n",
      "\n"
     ]
    },
    {
     "name": "stdout",
     "output_type": "stream",
     "text": [
      "1/1 [==============================] - 0s 43ms/step\n"
     ]
    },
    {
     "name": "stderr",
     "output_type": "stream",
     "text": [
      "Saved 1 image to \u001b[1mruns\\detect\\exp2191\u001b[0m\n",
      "Saved results to runs\\detect\\exp2191\n",
      "\n"
     ]
    },
    {
     "name": "stdout",
     "output_type": "stream",
     "text": [
      "1/1 [==============================] - 0s 43ms/step\n"
     ]
    },
    {
     "name": "stderr",
     "output_type": "stream",
     "text": [
      "Saved 1 image to \u001b[1mruns\\detect\\exp2192\u001b[0m\n",
      "Saved results to runs\\detect\\exp2192\n",
      "\n"
     ]
    },
    {
     "name": "stdout",
     "output_type": "stream",
     "text": [
      "1/1 [==============================] - 0s 40ms/step\n"
     ]
    },
    {
     "name": "stderr",
     "output_type": "stream",
     "text": [
      "Saved 1 image to \u001b[1mruns\\detect\\exp2193\u001b[0m\n",
      "Saved results to runs\\detect\\exp2193\n",
      "\n"
     ]
    },
    {
     "name": "stdout",
     "output_type": "stream",
     "text": [
      "1/1 [==============================] - 0s 44ms/step\n"
     ]
    },
    {
     "name": "stderr",
     "output_type": "stream",
     "text": [
      "Saved 1 image to \u001b[1mruns\\detect\\exp2194\u001b[0m\n",
      "Saved results to runs\\detect\\exp2194\n",
      "\n"
     ]
    },
    {
     "name": "stdout",
     "output_type": "stream",
     "text": [
      "1/1 [==============================] - 0s 38ms/step\n",
      "1/1 [==============================] - 0s 44ms/step\n"
     ]
    },
    {
     "name": "stderr",
     "output_type": "stream",
     "text": [
      "Saved 1 image to \u001b[1mruns\\detect\\exp2195\u001b[0m\n",
      "Saved results to runs\\detect\\exp2195\n",
      "\n"
     ]
    },
    {
     "name": "stdout",
     "output_type": "stream",
     "text": [
      "1/1 [==============================] - 0s 47ms/step\n",
      "1/1 [==============================] - 0s 55ms/step\n"
     ]
    },
    {
     "name": "stderr",
     "output_type": "stream",
     "text": [
      "Saved 1 image to \u001b[1mruns\\detect\\exp2196\u001b[0m\n",
      "Saved results to runs\\detect\\exp2196\n",
      "\n"
     ]
    },
    {
     "name": "stdout",
     "output_type": "stream",
     "text": [
      "1/1 [==============================] - 0s 54ms/step\n"
     ]
    },
    {
     "name": "stderr",
     "output_type": "stream",
     "text": [
      "Saved 1 image to \u001b[1mruns\\detect\\exp2197\u001b[0m\n",
      "Saved results to runs\\detect\\exp2197\n",
      "\n"
     ]
    },
    {
     "name": "stdout",
     "output_type": "stream",
     "text": [
      "1/1 [==============================] - 0s 50ms/step\n",
      "1/1 [==============================] - 0s 44ms/step\n"
     ]
    },
    {
     "name": "stderr",
     "output_type": "stream",
     "text": [
      "Saved 1 image to \u001b[1mruns\\detect\\exp2198\u001b[0m\n",
      "Saved results to runs\\detect\\exp2198\n",
      "\n"
     ]
    },
    {
     "name": "stdout",
     "output_type": "stream",
     "text": [
      "1/1 [==============================] - 0s 37ms/step\n",
      "1/1 [==============================] - 0s 31ms/step\n"
     ]
    },
    {
     "name": "stderr",
     "output_type": "stream",
     "text": [
      "Saved 1 image to \u001b[1mruns\\detect\\exp2199\u001b[0m\n",
      "Saved results to runs\\detect\\exp2199\n",
      "\n"
     ]
    },
    {
     "name": "stdout",
     "output_type": "stream",
     "text": [
      "1/1 [==============================] - 0s 40ms/step\n",
      "1/1 [==============================] - 0s 36ms/step\n"
     ]
    },
    {
     "name": "stderr",
     "output_type": "stream",
     "text": [
      "Saved 1 image to \u001b[1mruns\\detect\\exp2200\u001b[0m\n",
      "Saved results to runs\\detect\\exp2200\n",
      "\n"
     ]
    },
    {
     "name": "stdout",
     "output_type": "stream",
     "text": [
      "1/1 [==============================] - 0s 39ms/step\n",
      "1/1 [==============================] - 0s 36ms/step\n"
     ]
    },
    {
     "name": "stderr",
     "output_type": "stream",
     "text": [
      "Saved 1 image to \u001b[1mruns\\detect\\exp2201\u001b[0m\n",
      "Saved results to runs\\detect\\exp2201\n",
      "\n"
     ]
    },
    {
     "name": "stdout",
     "output_type": "stream",
     "text": [
      "1/1 [==============================] - 0s 50ms/step\n",
      "1/1 [==============================] - 0s 32ms/step\n"
     ]
    },
    {
     "name": "stderr",
     "output_type": "stream",
     "text": [
      "Saved 1 image to \u001b[1mruns\\detect\\exp2202\u001b[0m\n",
      "Saved results to runs\\detect\\exp2202\n",
      "\n"
     ]
    },
    {
     "name": "stdout",
     "output_type": "stream",
     "text": [
      "1/1 [==============================] - 0s 40ms/step\n",
      "1/1 [==============================] - 0s 64ms/step\n"
     ]
    },
    {
     "name": "stderr",
     "output_type": "stream",
     "text": [
      "Saved 1 image to \u001b[1mruns\\detect\\exp2203\u001b[0m\n",
      "Saved results to runs\\detect\\exp2203\n",
      "\n"
     ]
    },
    {
     "name": "stdout",
     "output_type": "stream",
     "text": [
      "1/1 [==============================] - 0s 41ms/step\n",
      "1/1 [==============================] - 0s 41ms/step\n"
     ]
    },
    {
     "name": "stderr",
     "output_type": "stream",
     "text": [
      "Saved 1 image to \u001b[1mruns\\detect\\exp2204\u001b[0m\n",
      "Saved results to runs\\detect\\exp2204\n",
      "\n"
     ]
    },
    {
     "name": "stdout",
     "output_type": "stream",
     "text": [
      "1/1 [==============================] - 0s 39ms/step\n",
      "1/1 [==============================] - 0s 37ms/step\n"
     ]
    },
    {
     "name": "stderr",
     "output_type": "stream",
     "text": [
      "Saved 1 image to \u001b[1mruns\\detect\\exp2205\u001b[0m\n",
      "Saved results to runs\\detect\\exp2205\n",
      "\n"
     ]
    },
    {
     "name": "stdout",
     "output_type": "stream",
     "text": [
      "1/1 [==============================] - 0s 42ms/step\n",
      "1/1 [==============================] - 0s 44ms/step\n"
     ]
    },
    {
     "name": "stderr",
     "output_type": "stream",
     "text": [
      "Saved 1 image to \u001b[1mruns\\detect\\exp2206\u001b[0m\n",
      "Saved results to runs\\detect\\exp2206\n",
      "\n"
     ]
    },
    {
     "name": "stdout",
     "output_type": "stream",
     "text": [
      "1/1 [==============================] - 0s 41ms/step\n"
     ]
    },
    {
     "name": "stderr",
     "output_type": "stream",
     "text": [
      "Saved 1 image to \u001b[1mruns\\detect\\exp2207\u001b[0m\n",
      "Saved results to runs\\detect\\exp2207\n",
      "\n"
     ]
    },
    {
     "name": "stdout",
     "output_type": "stream",
     "text": [
      "1/1 [==============================] - 0s 40ms/step\n",
      "1/1 [==============================] - 0s 47ms/step\n"
     ]
    },
    {
     "name": "stderr",
     "output_type": "stream",
     "text": [
      "Saved 1 image to \u001b[1mruns\\detect\\exp2208\u001b[0m\n",
      "Saved results to runs\\detect\\exp2208\n",
      "\n"
     ]
    },
    {
     "name": "stdout",
     "output_type": "stream",
     "text": [
      "1/1 [==============================] - 0s 43ms/step\n",
      "1/1 [==============================] - 0s 51ms/step\n"
     ]
    },
    {
     "name": "stderr",
     "output_type": "stream",
     "text": [
      "Saved 1 image to \u001b[1mruns\\detect\\exp2209\u001b[0m\n",
      "Saved results to runs\\detect\\exp2209\n",
      "\n"
     ]
    },
    {
     "name": "stdout",
     "output_type": "stream",
     "text": [
      "1/1 [==============================] - 0s 46ms/step\n",
      "1/1 [==============================] - 0s 48ms/step\n"
     ]
    },
    {
     "name": "stderr",
     "output_type": "stream",
     "text": [
      "Saved 1 image to \u001b[1mruns\\detect\\exp2210\u001b[0m\n",
      "Saved results to runs\\detect\\exp2210\n",
      "\n"
     ]
    },
    {
     "name": "stdout",
     "output_type": "stream",
     "text": [
      "1/1 [==============================] - 0s 68ms/step\n",
      "1/1 [==============================] - 0s 43ms/step\n"
     ]
    },
    {
     "name": "stderr",
     "output_type": "stream",
     "text": [
      "Saved 1 image to \u001b[1mruns\\detect\\exp2211\u001b[0m\n",
      "Saved results to runs\\detect\\exp2211\n",
      "\n"
     ]
    },
    {
     "name": "stdout",
     "output_type": "stream",
     "text": [
      "1/1 [==============================] - 0s 48ms/step\n"
     ]
    },
    {
     "name": "stderr",
     "output_type": "stream",
     "text": [
      "Saved 1 image to \u001b[1mruns\\detect\\exp2212\u001b[0m\n",
      "Saved results to runs\\detect\\exp2212\n",
      "\n"
     ]
    },
    {
     "name": "stdout",
     "output_type": "stream",
     "text": [
      "1/1 [==============================] - 0s 45ms/step\n"
     ]
    },
    {
     "name": "stderr",
     "output_type": "stream",
     "text": [
      "Saved 1 image to \u001b[1mruns\\detect\\exp2213\u001b[0m\n",
      "Saved results to runs\\detect\\exp2213\n",
      "\n"
     ]
    },
    {
     "name": "stdout",
     "output_type": "stream",
     "text": [
      "1/1 [==============================] - 0s 50ms/step\n",
      "1/1 [==============================] - 0s 44ms/step\n"
     ]
    },
    {
     "name": "stderr",
     "output_type": "stream",
     "text": [
      "Saved 1 image to \u001b[1mruns\\detect\\exp2214\u001b[0m\n",
      "Saved results to runs\\detect\\exp2214\n",
      "\n"
     ]
    },
    {
     "name": "stdout",
     "output_type": "stream",
     "text": [
      "1/1 [==============================] - 0s 43ms/step\n",
      "1/1 [==============================] - 0s 65ms/step\n"
     ]
    },
    {
     "name": "stderr",
     "output_type": "stream",
     "text": [
      "Saved 1 image to \u001b[1mruns\\detect\\exp2215\u001b[0m\n",
      "Saved results to runs\\detect\\exp2215\n",
      "\n"
     ]
    },
    {
     "name": "stdout",
     "output_type": "stream",
     "text": [
      "1/1 [==============================] - 0s 47ms/step\n",
      "1/1 [==============================] - 0s 56ms/step\n"
     ]
    },
    {
     "name": "stderr",
     "output_type": "stream",
     "text": [
      "Saved 1 image to \u001b[1mruns\\detect\\exp2216\u001b[0m\n",
      "Saved results to runs\\detect\\exp2216\n",
      "\n"
     ]
    },
    {
     "name": "stdout",
     "output_type": "stream",
     "text": [
      "1/1 [==============================] - 0s 50ms/step\n",
      "1/1 [==============================] - 0s 44ms/step\n"
     ]
    },
    {
     "name": "stderr",
     "output_type": "stream",
     "text": [
      "Saved 1 image to \u001b[1mruns\\detect\\exp2217\u001b[0m\n",
      "Saved results to runs\\detect\\exp2217\n",
      "\n"
     ]
    },
    {
     "name": "stdout",
     "output_type": "stream",
     "text": [
      "1/1 [==============================] - 0s 47ms/step\n",
      "1/1 [==============================] - 0s 53ms/step\n"
     ]
    },
    {
     "name": "stderr",
     "output_type": "stream",
     "text": [
      "Saved 1 image to \u001b[1mruns\\detect\\exp2218\u001b[0m\n",
      "Saved results to runs\\detect\\exp2218\n",
      "\n"
     ]
    },
    {
     "name": "stdout",
     "output_type": "stream",
     "text": [
      "1/1 [==============================] - 0s 40ms/step\n",
      "1/1 [==============================] - 0s 49ms/step\n"
     ]
    },
    {
     "name": "stderr",
     "output_type": "stream",
     "text": [
      "Saved 1 image to \u001b[1mruns\\detect\\exp2219\u001b[0m\n",
      "Saved results to runs\\detect\\exp2219\n",
      "\n"
     ]
    },
    {
     "name": "stdout",
     "output_type": "stream",
     "text": [
      "1/1 [==============================] - 0s 40ms/step\n",
      "1/1 [==============================] - 0s 50ms/step\n"
     ]
    },
    {
     "name": "stderr",
     "output_type": "stream",
     "text": [
      "Saved 1 image to \u001b[1mruns\\detect\\exp2220\u001b[0m\n",
      "Saved results to runs\\detect\\exp2220\n",
      "\n"
     ]
    },
    {
     "name": "stdout",
     "output_type": "stream",
     "text": [
      "1/1 [==============================] - 0s 46ms/step\n",
      "1/1 [==============================] - 0s 43ms/step\n"
     ]
    },
    {
     "name": "stderr",
     "output_type": "stream",
     "text": [
      "Saved 1 image to \u001b[1mruns\\detect\\exp2221\u001b[0m\n",
      "Saved results to runs\\detect\\exp2221\n",
      "\n"
     ]
    },
    {
     "name": "stdout",
     "output_type": "stream",
     "text": [
      "1/1 [==============================] - 0s 62ms/step\n",
      "1/1 [==============================] - 0s 50ms/step\n"
     ]
    },
    {
     "name": "stderr",
     "output_type": "stream",
     "text": [
      "Saved 1 image to \u001b[1mruns\\detect\\exp2222\u001b[0m\n",
      "Saved results to runs\\detect\\exp2222\n",
      "\n"
     ]
    },
    {
     "name": "stdout",
     "output_type": "stream",
     "text": [
      "1/1 [==============================] - 0s 48ms/step\n",
      "1/1 [==============================] - 0s 67ms/step\n"
     ]
    },
    {
     "name": "stderr",
     "output_type": "stream",
     "text": [
      "Saved 1 image to \u001b[1mruns\\detect\\exp2223\u001b[0m\n",
      "Saved results to runs\\detect\\exp2223\n",
      "\n"
     ]
    },
    {
     "name": "stdout",
     "output_type": "stream",
     "text": [
      "1/1 [==============================] - 0s 104ms/step\n",
      "1/1 [==============================] - 0s 50ms/step\n"
     ]
    },
    {
     "name": "stderr",
     "output_type": "stream",
     "text": [
      "Saved 1 image to \u001b[1mruns\\detect\\exp2224\u001b[0m\n",
      "Saved results to runs\\detect\\exp2224\n",
      "\n"
     ]
    },
    {
     "name": "stdout",
     "output_type": "stream",
     "text": [
      "1/1 [==============================] - 0s 52ms/step\n",
      "1/1 [==============================] - 0s 48ms/step\n"
     ]
    },
    {
     "name": "stderr",
     "output_type": "stream",
     "text": [
      "Saved 1 image to \u001b[1mruns\\detect\\exp2225\u001b[0m\n",
      "Saved results to runs\\detect\\exp2225\n",
      "\n"
     ]
    },
    {
     "name": "stdout",
     "output_type": "stream",
     "text": [
      "1/1 [==============================] - 0s 51ms/step\n",
      "1/1 [==============================] - 0s 62ms/step\n"
     ]
    },
    {
     "name": "stderr",
     "output_type": "stream",
     "text": [
      "Saved 1 image to \u001b[1mruns\\detect\\exp2226\u001b[0m\n",
      "Saved results to runs\\detect\\exp2226\n",
      "\n"
     ]
    },
    {
     "name": "stdout",
     "output_type": "stream",
     "text": [
      "1/1 [==============================] - 0s 39ms/step\n",
      "1/1 [==============================] - 0s 52ms/step\n"
     ]
    },
    {
     "name": "stderr",
     "output_type": "stream",
     "text": [
      "Saved 1 image to \u001b[1mruns\\detect\\exp2227\u001b[0m\n",
      "Saved results to runs\\detect\\exp2227\n",
      "\n"
     ]
    },
    {
     "name": "stdout",
     "output_type": "stream",
     "text": [
      "1/1 [==============================] - 0s 41ms/step\n",
      "1/1 [==============================] - 0s 43ms/step\n"
     ]
    },
    {
     "name": "stderr",
     "output_type": "stream",
     "text": [
      "Saved 1 image to \u001b[1mruns\\detect\\exp2228\u001b[0m\n",
      "Saved results to runs\\detect\\exp2228\n",
      "\n"
     ]
    },
    {
     "name": "stdout",
     "output_type": "stream",
     "text": [
      "1/1 [==============================] - 0s 56ms/step\n",
      "1/1 [==============================] - 0s 46ms/step\n"
     ]
    },
    {
     "name": "stderr",
     "output_type": "stream",
     "text": [
      "Saved 1 image to \u001b[1mruns\\detect\\exp2229\u001b[0m\n",
      "Saved results to runs\\detect\\exp2229\n",
      "\n"
     ]
    },
    {
     "name": "stdout",
     "output_type": "stream",
     "text": [
      "1/1 [==============================] - 0s 60ms/step\n",
      "1/1 [==============================] - 0s 59ms/step\n"
     ]
    },
    {
     "name": "stderr",
     "output_type": "stream",
     "text": [
      "Saved 1 image to \u001b[1mruns\\detect\\exp2230\u001b[0m\n",
      "Saved results to runs\\detect\\exp2230\n",
      "\n"
     ]
    },
    {
     "name": "stdout",
     "output_type": "stream",
     "text": [
      "1/1 [==============================] - 0s 41ms/step\n",
      "1/1 [==============================] - 0s 44ms/step\n"
     ]
    },
    {
     "name": "stderr",
     "output_type": "stream",
     "text": [
      "Saved 1 image to \u001b[1mruns\\detect\\exp2231\u001b[0m\n",
      "Saved results to runs\\detect\\exp2231\n",
      "\n"
     ]
    },
    {
     "name": "stdout",
     "output_type": "stream",
     "text": [
      "1/1 [==============================] - 0s 38ms/step\n",
      "1/1 [==============================] - 0s 62ms/step\n"
     ]
    },
    {
     "name": "stderr",
     "output_type": "stream",
     "text": [
      "Saved 1 image to \u001b[1mruns\\detect\\exp2232\u001b[0m\n",
      "Saved results to runs\\detect\\exp2232\n",
      "\n"
     ]
    },
    {
     "name": "stdout",
     "output_type": "stream",
     "text": [
      "1/1 [==============================] - 0s 41ms/step\n",
      "1/1 [==============================] - 0s 48ms/step\n"
     ]
    },
    {
     "name": "stderr",
     "output_type": "stream",
     "text": [
      "Saved 1 image to \u001b[1mruns\\detect\\exp2233\u001b[0m\n",
      "Saved results to runs\\detect\\exp2233\n",
      "\n"
     ]
    },
    {
     "name": "stdout",
     "output_type": "stream",
     "text": [
      "1/1 [==============================] - 0s 43ms/step\n",
      "1/1 [==============================] - 0s 41ms/step\n"
     ]
    },
    {
     "name": "stderr",
     "output_type": "stream",
     "text": [
      "Saved 1 image to \u001b[1mruns\\detect\\exp2234\u001b[0m\n",
      "Saved results to runs\\detect\\exp2234\n",
      "\n"
     ]
    },
    {
     "name": "stdout",
     "output_type": "stream",
     "text": [
      "1/1 [==============================] - 0s 40ms/step\n",
      "1/1 [==============================] - 0s 68ms/step\n"
     ]
    },
    {
     "name": "stderr",
     "output_type": "stream",
     "text": [
      "Saved 1 image to \u001b[1mruns\\detect\\exp2235\u001b[0m\n",
      "Saved results to runs\\detect\\exp2235\n",
      "\n"
     ]
    },
    {
     "name": "stdout",
     "output_type": "stream",
     "text": [
      "1/1 [==============================] - 0s 46ms/step\n",
      "1/1 [==============================] - 0s 41ms/step\n"
     ]
    },
    {
     "name": "stderr",
     "output_type": "stream",
     "text": [
      "Saved 1 image to \u001b[1mruns\\detect\\exp2236\u001b[0m\n",
      "Saved results to runs\\detect\\exp2236\n",
      "\n"
     ]
    },
    {
     "name": "stdout",
     "output_type": "stream",
     "text": [
      "1/1 [==============================] - 0s 42ms/step\n",
      "1/1 [==============================] - 0s 47ms/step\n"
     ]
    },
    {
     "name": "stderr",
     "output_type": "stream",
     "text": [
      "Saved 1 image to \u001b[1mruns\\detect\\exp2237\u001b[0m\n",
      "Saved results to runs\\detect\\exp2237\n",
      "\n"
     ]
    },
    {
     "name": "stdout",
     "output_type": "stream",
     "text": [
      "1/1 [==============================] - 0s 49ms/step\n",
      "1/1 [==============================] - 0s 51ms/step\n"
     ]
    },
    {
     "name": "stderr",
     "output_type": "stream",
     "text": [
      "Saved 1 image to \u001b[1mruns\\detect\\exp2238\u001b[0m\n",
      "Saved results to runs\\detect\\exp2238\n",
      "\n"
     ]
    },
    {
     "name": "stdout",
     "output_type": "stream",
     "text": [
      "1/1 [==============================] - 0s 47ms/step\n"
     ]
    },
    {
     "name": "stderr",
     "output_type": "stream",
     "text": [
      "Saved 1 image to \u001b[1mruns\\detect\\exp2239\u001b[0m\n",
      "Saved results to runs\\detect\\exp2239\n",
      "\n"
     ]
    },
    {
     "name": "stdout",
     "output_type": "stream",
     "text": [
      "1/1 [==============================] - 0s 40ms/step\n"
     ]
    },
    {
     "name": "stderr",
     "output_type": "stream",
     "text": [
      "Saved 1 image to \u001b[1mruns\\detect\\exp2240\u001b[0m\n",
      "Saved results to runs\\detect\\exp2240\n",
      "\n"
     ]
    },
    {
     "name": "stdout",
     "output_type": "stream",
     "text": [
      "1/1 [==============================] - 0s 45ms/step\n"
     ]
    },
    {
     "name": "stderr",
     "output_type": "stream",
     "text": [
      "Saved 1 image to \u001b[1mruns\\detect\\exp2241\u001b[0m\n",
      "Saved results to runs\\detect\\exp2241\n",
      "\n"
     ]
    },
    {
     "name": "stdout",
     "output_type": "stream",
     "text": [
      "1/1 [==============================] - 0s 44ms/step\n",
      "1/1 [==============================] - 0s 42ms/step\n"
     ]
    },
    {
     "name": "stderr",
     "output_type": "stream",
     "text": [
      "Saved 1 image to \u001b[1mruns\\detect\\exp2242\u001b[0m\n",
      "Saved results to runs\\detect\\exp2242\n",
      "\n"
     ]
    },
    {
     "name": "stdout",
     "output_type": "stream",
     "text": [
      "1/1 [==============================] - 0s 46ms/step\n",
      "1/1 [==============================] - 0s 54ms/step\n"
     ]
    },
    {
     "name": "stderr",
     "output_type": "stream",
     "text": [
      "Saved 1 image to \u001b[1mruns\\detect\\exp2243\u001b[0m\n",
      "Saved results to runs\\detect\\exp2243\n",
      "\n"
     ]
    },
    {
     "name": "stdout",
     "output_type": "stream",
     "text": [
      "1/1 [==============================] - 0s 44ms/step\n"
     ]
    },
    {
     "name": "stderr",
     "output_type": "stream",
     "text": [
      "Saved 1 image to \u001b[1mruns\\detect\\exp2244\u001b[0m\n",
      "Saved results to runs\\detect\\exp2244\n",
      "\n"
     ]
    },
    {
     "name": "stdout",
     "output_type": "stream",
     "text": [
      "1/1 [==============================] - 0s 57ms/step\n"
     ]
    },
    {
     "name": "stderr",
     "output_type": "stream",
     "text": [
      "Saved 1 image to \u001b[1mruns\\detect\\exp2245\u001b[0m\n",
      "Saved results to runs\\detect\\exp2245\n",
      "\n"
     ]
    },
    {
     "name": "stdout",
     "output_type": "stream",
     "text": [
      "1/1 [==============================] - 0s 40ms/step\n"
     ]
    },
    {
     "name": "stderr",
     "output_type": "stream",
     "text": [
      "Saved 1 image to \u001b[1mruns\\detect\\exp2246\u001b[0m\n",
      "Saved results to runs\\detect\\exp2246\n",
      "\n"
     ]
    },
    {
     "name": "stdout",
     "output_type": "stream",
     "text": [
      "1/1 [==============================] - 0s 48ms/step\n"
     ]
    },
    {
     "name": "stderr",
     "output_type": "stream",
     "text": [
      "Saved 1 image to \u001b[1mruns\\detect\\exp2247\u001b[0m\n",
      "Saved results to runs\\detect\\exp2247\n",
      "\n"
     ]
    },
    {
     "name": "stdout",
     "output_type": "stream",
     "text": [
      "1/1 [==============================] - 0s 51ms/step\n"
     ]
    },
    {
     "name": "stderr",
     "output_type": "stream",
     "text": [
      "Saved 1 image to \u001b[1mruns\\detect\\exp2248\u001b[0m\n",
      "Saved results to runs\\detect\\exp2248\n",
      "\n"
     ]
    },
    {
     "name": "stdout",
     "output_type": "stream",
     "text": [
      "1/1 [==============================] - 0s 46ms/step\n",
      "1/1 [==============================] - 0s 43ms/step\n"
     ]
    },
    {
     "name": "stderr",
     "output_type": "stream",
     "text": [
      "Saved 1 image to \u001b[1mruns\\detect\\exp2249\u001b[0m\n",
      "Saved results to runs\\detect\\exp2249\n",
      "\n"
     ]
    },
    {
     "name": "stdout",
     "output_type": "stream",
     "text": [
      "1/1 [==============================] - 0s 44ms/step\n",
      "1/1 [==============================] - 0s 45ms/step\n"
     ]
    },
    {
     "name": "stderr",
     "output_type": "stream",
     "text": [
      "Saved 1 image to \u001b[1mruns\\detect\\exp2250\u001b[0m\n",
      "Saved results to runs\\detect\\exp2250\n",
      "\n"
     ]
    },
    {
     "name": "stdout",
     "output_type": "stream",
     "text": [
      "1/1 [==============================] - 0s 39ms/step\n",
      "1/1 [==============================] - 0s 38ms/step\n"
     ]
    },
    {
     "name": "stderr",
     "output_type": "stream",
     "text": [
      "Saved 1 image to \u001b[1mruns\\detect\\exp2251\u001b[0m\n",
      "Saved results to runs\\detect\\exp2251\n",
      "\n"
     ]
    },
    {
     "name": "stdout",
     "output_type": "stream",
     "text": [
      "1/1 [==============================] - 0s 32ms/step\n",
      "1/1 [==============================] - 0s 61ms/step\n"
     ]
    },
    {
     "name": "stderr",
     "output_type": "stream",
     "text": [
      "Saved 1 image to \u001b[1mruns\\detect\\exp2252\u001b[0m\n",
      "Saved results to runs\\detect\\exp2252\n",
      "\n"
     ]
    },
    {
     "name": "stdout",
     "output_type": "stream",
     "text": [
      "1/1 [==============================] - 0s 39ms/step\n",
      "1/1 [==============================] - 0s 38ms/step\n"
     ]
    },
    {
     "name": "stderr",
     "output_type": "stream",
     "text": [
      "Saved 1 image to \u001b[1mruns\\detect\\exp2253\u001b[0m\n",
      "Saved results to runs\\detect\\exp2253\n",
      "\n"
     ]
    },
    {
     "name": "stdout",
     "output_type": "stream",
     "text": [
      "1/1 [==============================] - 0s 36ms/step\n",
      "1/1 [==============================] - 0s 47ms/step\n"
     ]
    },
    {
     "name": "stderr",
     "output_type": "stream",
     "text": [
      "Saved 1 image to \u001b[1mruns\\detect\\exp2254\u001b[0m\n",
      "Saved results to runs\\detect\\exp2254\n",
      "\n"
     ]
    },
    {
     "name": "stdout",
     "output_type": "stream",
     "text": [
      "1/1 [==============================] - 0s 53ms/step\n"
     ]
    },
    {
     "name": "stderr",
     "output_type": "stream",
     "text": [
      "Saved 1 image to \u001b[1mruns\\detect\\exp2255\u001b[0m\n",
      "Saved results to runs\\detect\\exp2255\n",
      "\n"
     ]
    },
    {
     "name": "stdout",
     "output_type": "stream",
     "text": [
      "1/1 [==============================] - 0s 44ms/step\n"
     ]
    },
    {
     "name": "stderr",
     "output_type": "stream",
     "text": [
      "Saved 1 image to \u001b[1mruns\\detect\\exp2256\u001b[0m\n",
      "Saved results to runs\\detect\\exp2256\n",
      "\n"
     ]
    },
    {
     "name": "stdout",
     "output_type": "stream",
     "text": [
      "1/1 [==============================] - 0s 41ms/step\n"
     ]
    },
    {
     "name": "stderr",
     "output_type": "stream",
     "text": [
      "Saved 1 image to \u001b[1mruns\\detect\\exp2257\u001b[0m\n",
      "Saved results to runs\\detect\\exp2257\n",
      "\n"
     ]
    },
    {
     "name": "stdout",
     "output_type": "stream",
     "text": [
      "1/1 [==============================] - 0s 42ms/step\n"
     ]
    },
    {
     "name": "stderr",
     "output_type": "stream",
     "text": [
      "Saved 1 image to \u001b[1mruns\\detect\\exp2258\u001b[0m\n",
      "Saved results to runs\\detect\\exp2258\n",
      "\n"
     ]
    },
    {
     "name": "stdout",
     "output_type": "stream",
     "text": [
      "1/1 [==============================] - 0s 44ms/step\n"
     ]
    },
    {
     "name": "stderr",
     "output_type": "stream",
     "text": [
      "Saved 1 image to \u001b[1mruns\\detect\\exp2259\u001b[0m\n",
      "Saved results to runs\\detect\\exp2259\n",
      "\n"
     ]
    },
    {
     "name": "stdout",
     "output_type": "stream",
     "text": [
      "1/1 [==============================] - 0s 44ms/step\n",
      "1/1 [==============================] - 0s 49ms/step\n"
     ]
    },
    {
     "name": "stderr",
     "output_type": "stream",
     "text": [
      "Saved 1 image to \u001b[1mruns\\detect\\exp2260\u001b[0m\n",
      "Saved results to runs\\detect\\exp2260\n",
      "\n"
     ]
    },
    {
     "name": "stdout",
     "output_type": "stream",
     "text": [
      "1/1 [==============================] - 0s 44ms/step\n",
      "1/1 [==============================] - 0s 48ms/step\n"
     ]
    },
    {
     "name": "stderr",
     "output_type": "stream",
     "text": [
      "Saved 1 image to \u001b[1mruns\\detect\\exp2261\u001b[0m\n",
      "Saved results to runs\\detect\\exp2261\n",
      "\n"
     ]
    },
    {
     "name": "stdout",
     "output_type": "stream",
     "text": [
      "1/1 [==============================] - 0s 42ms/step\n",
      "1/1 [==============================] - 0s 51ms/step\n"
     ]
    },
    {
     "name": "stderr",
     "output_type": "stream",
     "text": [
      "Saved 1 image to \u001b[1mruns\\detect\\exp2262\u001b[0m\n",
      "Saved results to runs\\detect\\exp2262\n",
      "\n"
     ]
    },
    {
     "name": "stdout",
     "output_type": "stream",
     "text": [
      "1/1 [==============================] - 0s 42ms/step\n",
      "1/1 [==============================] - 0s 61ms/step\n"
     ]
    },
    {
     "name": "stderr",
     "output_type": "stream",
     "text": [
      "Saved 1 image to \u001b[1mruns\\detect\\exp2263\u001b[0m\n",
      "Saved results to runs\\detect\\exp2263\n",
      "\n"
     ]
    },
    {
     "name": "stdout",
     "output_type": "stream",
     "text": [
      "1/1 [==============================] - 0s 56ms/step\n"
     ]
    },
    {
     "name": "stderr",
     "output_type": "stream",
     "text": [
      "Saved 1 image to \u001b[1mruns\\detect\\exp2264\u001b[0m\n",
      "Saved results to runs\\detect\\exp2264\n",
      "\n"
     ]
    },
    {
     "name": "stdout",
     "output_type": "stream",
     "text": [
      "1/1 [==============================] - 0s 40ms/step\n",
      "1/1 [==============================] - 0s 51ms/step\n"
     ]
    },
    {
     "name": "stderr",
     "output_type": "stream",
     "text": [
      "Saved 1 image to \u001b[1mruns\\detect\\exp2265\u001b[0m\n",
      "Saved results to runs\\detect\\exp2265\n",
      "\n"
     ]
    },
    {
     "name": "stdout",
     "output_type": "stream",
     "text": [
      "1/1 [==============================] - 0s 41ms/step\n",
      "1/1 [==============================] - 0s 59ms/step\n"
     ]
    },
    {
     "name": "stderr",
     "output_type": "stream",
     "text": [
      "Saved 1 image to \u001b[1mruns\\detect\\exp2266\u001b[0m\n",
      "Saved results to runs\\detect\\exp2266\n",
      "\n"
     ]
    },
    {
     "name": "stdout",
     "output_type": "stream",
     "text": [
      "1/1 [==============================] - 0s 41ms/step\n"
     ]
    },
    {
     "name": "stderr",
     "output_type": "stream",
     "text": [
      "Saved 1 image to \u001b[1mruns\\detect\\exp2267\u001b[0m\n",
      "Saved results to runs\\detect\\exp2267\n",
      "\n"
     ]
    },
    {
     "name": "stdout",
     "output_type": "stream",
     "text": [
      "1/1 [==============================] - 0s 47ms/step\n"
     ]
    },
    {
     "name": "stderr",
     "output_type": "stream",
     "text": [
      "Saved 1 image to \u001b[1mruns\\detect\\exp2268\u001b[0m\n",
      "Saved results to runs\\detect\\exp2268\n",
      "\n"
     ]
    },
    {
     "name": "stdout",
     "output_type": "stream",
     "text": [
      "1/1 [==============================] - 0s 45ms/step\n",
      "1/1 [==============================] - 0s 62ms/step\n"
     ]
    },
    {
     "name": "stderr",
     "output_type": "stream",
     "text": [
      "Saved 1 image to \u001b[1mruns\\detect\\exp2269\u001b[0m\n",
      "Saved results to runs\\detect\\exp2269\n",
      "\n"
     ]
    },
    {
     "name": "stdout",
     "output_type": "stream",
     "text": [
      "1/1 [==============================] - 0s 38ms/step\n",
      "1/1 [==============================] - 0s 63ms/step\n"
     ]
    },
    {
     "name": "stderr",
     "output_type": "stream",
     "text": [
      "Saved 1 image to \u001b[1mruns\\detect\\exp2270\u001b[0m\n",
      "Saved results to runs\\detect\\exp2270\n",
      "\n"
     ]
    },
    {
     "name": "stdout",
     "output_type": "stream",
     "text": [
      "1/1 [==============================] - 0s 37ms/step\n"
     ]
    },
    {
     "name": "stderr",
     "output_type": "stream",
     "text": [
      "Saved 1 image to \u001b[1mruns\\detect\\exp2271\u001b[0m\n",
      "Saved results to runs\\detect\\exp2271\n",
      "\n"
     ]
    },
    {
     "name": "stdout",
     "output_type": "stream",
     "text": [
      "1/1 [==============================] - 0s 44ms/step\n",
      "1/1 [==============================] - 0s 57ms/step\n"
     ]
    },
    {
     "name": "stderr",
     "output_type": "stream",
     "text": [
      "Saved 1 image to \u001b[1mruns\\detect\\exp2272\u001b[0m\n",
      "Saved results to runs\\detect\\exp2272\n",
      "\n"
     ]
    },
    {
     "name": "stdout",
     "output_type": "stream",
     "text": [
      "1/1 [==============================] - 0s 59ms/step\n"
     ]
    },
    {
     "name": "stderr",
     "output_type": "stream",
     "text": [
      "Saved 1 image to \u001b[1mruns\\detect\\exp2273\u001b[0m\n",
      "Saved results to runs\\detect\\exp2273\n",
      "\n"
     ]
    },
    {
     "name": "stdout",
     "output_type": "stream",
     "text": [
      "1/1 [==============================] - 0s 52ms/step\n",
      "1/1 [==============================] - 0s 51ms/step\n"
     ]
    },
    {
     "name": "stderr",
     "output_type": "stream",
     "text": [
      "Saved 1 image to \u001b[1mruns\\detect\\exp2274\u001b[0m\n",
      "Saved results to runs\\detect\\exp2274\n",
      "\n"
     ]
    },
    {
     "name": "stdout",
     "output_type": "stream",
     "text": [
      "1/1 [==============================] - 0s 45ms/step\n",
      "1/1 [==============================] - 0s 65ms/step\n"
     ]
    },
    {
     "name": "stderr",
     "output_type": "stream",
     "text": [
      "Saved 1 image to \u001b[1mruns\\detect\\exp2275\u001b[0m\n",
      "Saved results to runs\\detect\\exp2275\n",
      "\n"
     ]
    },
    {
     "name": "stdout",
     "output_type": "stream",
     "text": [
      "1/1 [==============================] - 0s 50ms/step\n"
     ]
    },
    {
     "name": "stderr",
     "output_type": "stream",
     "text": [
      "Saved 1 image to \u001b[1mruns\\detect\\exp2276\u001b[0m\n",
      "Saved results to runs\\detect\\exp2276\n",
      "\n"
     ]
    },
    {
     "name": "stdout",
     "output_type": "stream",
     "text": [
      "1/1 [==============================] - 0s 44ms/step\n",
      "1/1 [==============================] - 0s 62ms/step\n"
     ]
    },
    {
     "name": "stderr",
     "output_type": "stream",
     "text": [
      "Saved 1 image to \u001b[1mruns\\detect\\exp2277\u001b[0m\n",
      "Saved results to runs\\detect\\exp2277\n",
      "\n"
     ]
    },
    {
     "name": "stdout",
     "output_type": "stream",
     "text": [
      "1/1 [==============================] - 0s 46ms/step\n"
     ]
    },
    {
     "name": "stderr",
     "output_type": "stream",
     "text": [
      "Saved 1 image to \u001b[1mruns\\detect\\exp2278\u001b[0m\n",
      "Saved results to runs\\detect\\exp2278\n",
      "\n"
     ]
    },
    {
     "name": "stdout",
     "output_type": "stream",
     "text": [
      "1/1 [==============================] - 0s 44ms/step\n"
     ]
    },
    {
     "name": "stderr",
     "output_type": "stream",
     "text": [
      "Saved 1 image to \u001b[1mruns\\detect\\exp2279\u001b[0m\n",
      "Saved results to runs\\detect\\exp2279\n",
      "\n"
     ]
    },
    {
     "name": "stdout",
     "output_type": "stream",
     "text": [
      "1/1 [==============================] - 0s 61ms/step\n"
     ]
    },
    {
     "name": "stderr",
     "output_type": "stream",
     "text": [
      "Saved 1 image to \u001b[1mruns\\detect\\exp2280\u001b[0m\n",
      "Saved results to runs\\detect\\exp2280\n",
      "\n"
     ]
    },
    {
     "name": "stdout",
     "output_type": "stream",
     "text": [
      "1/1 [==============================] - 0s 37ms/step\n",
      "1/1 [==============================] - 0s 41ms/step\n"
     ]
    },
    {
     "name": "stderr",
     "output_type": "stream",
     "text": [
      "Saved 1 image to \u001b[1mruns\\detect\\exp2281\u001b[0m\n",
      "Saved results to runs\\detect\\exp2281\n",
      "\n"
     ]
    },
    {
     "name": "stdout",
     "output_type": "stream",
     "text": [
      "1/1 [==============================] - 0s 40ms/step\n"
     ]
    },
    {
     "name": "stderr",
     "output_type": "stream",
     "text": [
      "Saved 1 image to \u001b[1mruns\\detect\\exp2282\u001b[0m\n",
      "Saved results to runs\\detect\\exp2282\n",
      "\n"
     ]
    },
    {
     "name": "stdout",
     "output_type": "stream",
     "text": [
      "1/1 [==============================] - 0s 41ms/step\n",
      "1/1 [==============================] - 0s 41ms/step\n"
     ]
    },
    {
     "name": "stderr",
     "output_type": "stream",
     "text": [
      "Saved 1 image to \u001b[1mruns\\detect\\exp2283\u001b[0m\n",
      "Saved results to runs\\detect\\exp2283\n",
      "\n"
     ]
    },
    {
     "name": "stdout",
     "output_type": "stream",
     "text": [
      "1/1 [==============================] - 0s 55ms/step\n"
     ]
    },
    {
     "name": "stderr",
     "output_type": "stream",
     "text": [
      "Saved 1 image to \u001b[1mruns\\detect\\exp2284\u001b[0m\n",
      "Saved results to runs\\detect\\exp2284\n",
      "\n"
     ]
    },
    {
     "name": "stdout",
     "output_type": "stream",
     "text": [
      "1/1 [==============================] - 0s 71ms/step\n"
     ]
    },
    {
     "name": "stderr",
     "output_type": "stream",
     "text": [
      "Saved 1 image to \u001b[1mruns\\detect\\exp2285\u001b[0m\n",
      "Saved results to runs\\detect\\exp2285\n",
      "\n"
     ]
    },
    {
     "name": "stdout",
     "output_type": "stream",
     "text": [
      "1/1 [==============================] - 0s 40ms/step\n"
     ]
    },
    {
     "name": "stderr",
     "output_type": "stream",
     "text": [
      "Saved 1 image to \u001b[1mruns\\detect\\exp2286\u001b[0m\n",
      "Saved results to runs\\detect\\exp2286\n",
      "\n"
     ]
    },
    {
     "name": "stdout",
     "output_type": "stream",
     "text": [
      "1/1 [==============================] - 0s 56ms/step\n",
      "1/1 [==============================] - 0s 49ms/step\n"
     ]
    },
    {
     "name": "stderr",
     "output_type": "stream",
     "text": [
      "Saved 1 image to \u001b[1mruns\\detect\\exp2287\u001b[0m\n",
      "Saved results to runs\\detect\\exp2287\n",
      "\n"
     ]
    },
    {
     "name": "stdout",
     "output_type": "stream",
     "text": [
      "1/1 [==============================] - 0s 49ms/step\n"
     ]
    },
    {
     "name": "stderr",
     "output_type": "stream",
     "text": [
      "Saved 1 image to \u001b[1mruns\\detect\\exp2288\u001b[0m\n",
      "Saved results to runs\\detect\\exp2288\n",
      "\n"
     ]
    },
    {
     "name": "stdout",
     "output_type": "stream",
     "text": [
      "1/1 [==============================] - 0s 39ms/step\n",
      "1/1 [==============================] - 0s 51ms/step\n"
     ]
    },
    {
     "name": "stderr",
     "output_type": "stream",
     "text": [
      "Saved 1 image to \u001b[1mruns\\detect\\exp2289\u001b[0m\n",
      "Saved results to runs\\detect\\exp2289\n",
      "\n"
     ]
    },
    {
     "name": "stdout",
     "output_type": "stream",
     "text": [
      "1/1 [==============================] - 0s 50ms/step\n",
      "1/1 [==============================] - 0s 56ms/step\n"
     ]
    },
    {
     "name": "stderr",
     "output_type": "stream",
     "text": [
      "Saved 1 image to \u001b[1mruns\\detect\\exp2290\u001b[0m\n",
      "Saved results to runs\\detect\\exp2290\n",
      "\n"
     ]
    },
    {
     "name": "stdout",
     "output_type": "stream",
     "text": [
      "1/1 [==============================] - 0s 42ms/step\n",
      "1/1 [==============================] - 0s 39ms/step\n"
     ]
    },
    {
     "name": "stderr",
     "output_type": "stream",
     "text": [
      "Saved 1 image to \u001b[1mruns\\detect\\exp2291\u001b[0m\n",
      "Saved results to runs\\detect\\exp2291\n",
      "\n"
     ]
    },
    {
     "name": "stdout",
     "output_type": "stream",
     "text": [
      "1/1 [==============================] - 0s 40ms/step\n"
     ]
    },
    {
     "name": "stderr",
     "output_type": "stream",
     "text": [
      "Saved 1 image to \u001b[1mruns\\detect\\exp2292\u001b[0m\n",
      "Saved results to runs\\detect\\exp2292\n",
      "\n"
     ]
    },
    {
     "name": "stdout",
     "output_type": "stream",
     "text": [
      "1/1 [==============================] - 0s 37ms/step\n",
      "1/1 [==============================] - 0s 47ms/step\n"
     ]
    },
    {
     "name": "stderr",
     "output_type": "stream",
     "text": [
      "Saved 1 image to \u001b[1mruns\\detect\\exp2293\u001b[0m\n",
      "Saved results to runs\\detect\\exp2293\n",
      "\n"
     ]
    },
    {
     "name": "stdout",
     "output_type": "stream",
     "text": [
      "1/1 [==============================] - 0s 39ms/step\n",
      "1/1 [==============================] - 0s 45ms/step\n"
     ]
    },
    {
     "name": "stderr",
     "output_type": "stream",
     "text": [
      "Saved 1 image to \u001b[1mruns\\detect\\exp2294\u001b[0m\n",
      "Saved results to runs\\detect\\exp2294\n",
      "\n"
     ]
    },
    {
     "name": "stdout",
     "output_type": "stream",
     "text": [
      "1/1 [==============================] - 0s 60ms/step\n"
     ]
    },
    {
     "name": "stderr",
     "output_type": "stream",
     "text": [
      "Saved 1 image to \u001b[1mruns\\detect\\exp2295\u001b[0m\n",
      "Saved results to runs\\detect\\exp2295\n",
      "\n"
     ]
    },
    {
     "name": "stdout",
     "output_type": "stream",
     "text": [
      "1/1 [==============================] - 0s 39ms/step\n",
      "1/1 [==============================] - 0s 47ms/step\n"
     ]
    },
    {
     "name": "stderr",
     "output_type": "stream",
     "text": [
      "Saved 1 image to \u001b[1mruns\\detect\\exp2296\u001b[0m\n",
      "Saved results to runs\\detect\\exp2296\n",
      "\n"
     ]
    },
    {
     "name": "stdout",
     "output_type": "stream",
     "text": [
      "1/1 [==============================] - 0s 52ms/step\n"
     ]
    },
    {
     "name": "stderr",
     "output_type": "stream",
     "text": [
      "Saved 1 image to \u001b[1mruns\\detect\\exp2297\u001b[0m\n",
      "Saved results to runs\\detect\\exp2297\n",
      "\n"
     ]
    },
    {
     "name": "stdout",
     "output_type": "stream",
     "text": [
      "1/1 [==============================] - 0s 40ms/step\n"
     ]
    },
    {
     "name": "stderr",
     "output_type": "stream",
     "text": [
      "Saved 1 image to \u001b[1mruns\\detect\\exp2298\u001b[0m\n",
      "Saved results to runs\\detect\\exp2298\n",
      "\n"
     ]
    },
    {
     "name": "stdout",
     "output_type": "stream",
     "text": [
      "1/1 [==============================] - 0s 40ms/step\n"
     ]
    },
    {
     "name": "stderr",
     "output_type": "stream",
     "text": [
      "Saved 1 image to \u001b[1mruns\\detect\\exp2299\u001b[0m\n",
      "Saved results to runs\\detect\\exp2299\n",
      "\n"
     ]
    },
    {
     "name": "stdout",
     "output_type": "stream",
     "text": [
      "1/1 [==============================] - 0s 35ms/step\n",
      "1/1 [==============================] - 0s 56ms/step\n"
     ]
    },
    {
     "name": "stderr",
     "output_type": "stream",
     "text": [
      "Saved 1 image to \u001b[1mruns\\detect\\exp2300\u001b[0m\n",
      "Saved results to runs\\detect\\exp2300\n",
      "\n"
     ]
    },
    {
     "name": "stdout",
     "output_type": "stream",
     "text": [
      "1/1 [==============================] - 0s 36ms/step\n",
      "1/1 [==============================] - 0s 49ms/step\n"
     ]
    },
    {
     "name": "stderr",
     "output_type": "stream",
     "text": [
      "Saved 1 image to \u001b[1mruns\\detect\\exp2301\u001b[0m\n",
      "Saved results to runs\\detect\\exp2301\n",
      "\n"
     ]
    },
    {
     "name": "stdout",
     "output_type": "stream",
     "text": [
      "1/1 [==============================] - 0s 42ms/step\n",
      "1/1 [==============================] - 0s 48ms/step\n"
     ]
    },
    {
     "name": "stderr",
     "output_type": "stream",
     "text": [
      "Saved 1 image to \u001b[1mruns\\detect\\exp2302\u001b[0m\n",
      "Saved results to runs\\detect\\exp2302\n",
      "\n"
     ]
    },
    {
     "name": "stdout",
     "output_type": "stream",
     "text": [
      "1/1 [==============================] - 0s 44ms/step\n",
      "1/1 [==============================] - 0s 38ms/step\n"
     ]
    },
    {
     "name": "stderr",
     "output_type": "stream",
     "text": [
      "Saved 1 image to \u001b[1mruns\\detect\\exp2303\u001b[0m\n",
      "Saved results to runs\\detect\\exp2303\n",
      "\n"
     ]
    },
    {
     "name": "stdout",
     "output_type": "stream",
     "text": [
      "1/1 [==============================] - 0s 44ms/step\n",
      "1/1 [==============================] - 0s 44ms/step\n"
     ]
    },
    {
     "name": "stderr",
     "output_type": "stream",
     "text": [
      "Saved 1 image to \u001b[1mruns\\detect\\exp2304\u001b[0m\n",
      "Saved results to runs\\detect\\exp2304\n",
      "\n"
     ]
    },
    {
     "name": "stdout",
     "output_type": "stream",
     "text": [
      "1/1 [==============================] - 0s 35ms/step\n",
      "1/1 [==============================] - 0s 33ms/step\n"
     ]
    },
    {
     "name": "stderr",
     "output_type": "stream",
     "text": [
      "Saved 1 image to \u001b[1mruns\\detect\\exp2305\u001b[0m\n",
      "Saved results to runs\\detect\\exp2305\n",
      "\n"
     ]
    },
    {
     "name": "stdout",
     "output_type": "stream",
     "text": [
      "1/1 [==============================] - 0s 45ms/step\n",
      "1/1 [==============================] - 0s 50ms/step\n"
     ]
    },
    {
     "name": "stderr",
     "output_type": "stream",
     "text": [
      "Saved 1 image to \u001b[1mruns\\detect\\exp2306\u001b[0m\n",
      "Saved results to runs\\detect\\exp2306\n",
      "\n"
     ]
    },
    {
     "name": "stdout",
     "output_type": "stream",
     "text": [
      "1/1 [==============================] - 0s 41ms/step\n",
      "1/1 [==============================] - 0s 72ms/step\n"
     ]
    },
    {
     "name": "stderr",
     "output_type": "stream",
     "text": [
      "Saved 1 image to \u001b[1mruns\\detect\\exp2307\u001b[0m\n",
      "Saved results to runs\\detect\\exp2307\n",
      "\n"
     ]
    },
    {
     "name": "stdout",
     "output_type": "stream",
     "text": [
      "1/1 [==============================] - 0s 48ms/step\n",
      "1/1 [==============================] - 0s 58ms/step\n"
     ]
    },
    {
     "name": "stderr",
     "output_type": "stream",
     "text": [
      "Saved 1 image to \u001b[1mruns\\detect\\exp2308\u001b[0m\n",
      "Saved results to runs\\detect\\exp2308\n",
      "\n"
     ]
    },
    {
     "name": "stdout",
     "output_type": "stream",
     "text": [
      "1/1 [==============================] - 0s 49ms/step\n",
      "1/1 [==============================] - 0s 47ms/step\n"
     ]
    },
    {
     "name": "stderr",
     "output_type": "stream",
     "text": [
      "Saved 1 image to \u001b[1mruns\\detect\\exp2309\u001b[0m\n",
      "Saved results to runs\\detect\\exp2309\n",
      "\n"
     ]
    },
    {
     "name": "stdout",
     "output_type": "stream",
     "text": [
      "1/1 [==============================] - 0s 54ms/step\n",
      "1/1 [==============================] - 0s 45ms/step\n"
     ]
    },
    {
     "name": "stderr",
     "output_type": "stream",
     "text": [
      "Saved 1 image to \u001b[1mruns\\detect\\exp2310\u001b[0m\n",
      "Saved results to runs\\detect\\exp2310\n",
      "\n"
     ]
    },
    {
     "name": "stdout",
     "output_type": "stream",
     "text": [
      "1/1 [==============================] - 0s 49ms/step\n",
      "1/1 [==============================] - 0s 51ms/step\n"
     ]
    },
    {
     "name": "stderr",
     "output_type": "stream",
     "text": [
      "Saved 1 image to \u001b[1mruns\\detect\\exp2311\u001b[0m\n",
      "Saved results to runs\\detect\\exp2311\n",
      "\n"
     ]
    },
    {
     "name": "stdout",
     "output_type": "stream",
     "text": [
      "1/1 [==============================] - 0s 45ms/step\n",
      "1/1 [==============================] - 0s 48ms/step\n"
     ]
    },
    {
     "name": "stderr",
     "output_type": "stream",
     "text": [
      "Saved 1 image to \u001b[1mruns\\detect\\exp2312\u001b[0m\n",
      "Saved results to runs\\detect\\exp2312\n",
      "\n"
     ]
    },
    {
     "name": "stdout",
     "output_type": "stream",
     "text": [
      "1/1 [==============================] - 0s 63ms/step\n",
      "1/1 [==============================] - 0s 66ms/step\n"
     ]
    },
    {
     "name": "stderr",
     "output_type": "stream",
     "text": [
      "Saved 1 image to \u001b[1mruns\\detect\\exp2313\u001b[0m\n",
      "Saved results to runs\\detect\\exp2313\n",
      "\n"
     ]
    },
    {
     "name": "stdout",
     "output_type": "stream",
     "text": [
      "1/1 [==============================] - 0s 47ms/step\n",
      "1/1 [==============================] - 0s 50ms/step\n"
     ]
    },
    {
     "name": "stderr",
     "output_type": "stream",
     "text": [
      "Saved 1 image to \u001b[1mruns\\detect\\exp2314\u001b[0m\n",
      "Saved results to runs\\detect\\exp2314\n",
      "\n"
     ]
    },
    {
     "name": "stdout",
     "output_type": "stream",
     "text": [
      "1/1 [==============================] - 0s 48ms/step\n",
      "1/1 [==============================] - 0s 58ms/step\n"
     ]
    },
    {
     "name": "stderr",
     "output_type": "stream",
     "text": [
      "Saved 1 image to \u001b[1mruns\\detect\\exp2315\u001b[0m\n",
      "Saved results to runs\\detect\\exp2315\n",
      "\n"
     ]
    },
    {
     "name": "stdout",
     "output_type": "stream",
     "text": [
      "1/1 [==============================] - 0s 47ms/step\n",
      "1/1 [==============================] - 0s 56ms/step\n"
     ]
    },
    {
     "name": "stderr",
     "output_type": "stream",
     "text": [
      "Saved 1 image to \u001b[1mruns\\detect\\exp2316\u001b[0m\n",
      "Saved results to runs\\detect\\exp2316\n",
      "\n"
     ]
    },
    {
     "name": "stdout",
     "output_type": "stream",
     "text": [
      "1/1 [==============================] - 0s 42ms/step\n",
      "1/1 [==============================] - 0s 40ms/step\n"
     ]
    },
    {
     "name": "stderr",
     "output_type": "stream",
     "text": [
      "Saved 1 image to \u001b[1mruns\\detect\\exp2317\u001b[0m\n",
      "Saved results to runs\\detect\\exp2317\n",
      "\n"
     ]
    },
    {
     "name": "stdout",
     "output_type": "stream",
     "text": [
      "1/1 [==============================] - 0s 37ms/step\n",
      "1/1 [==============================] - 0s 40ms/step\n"
     ]
    },
    {
     "name": "stderr",
     "output_type": "stream",
     "text": [
      "Saved 1 image to \u001b[1mruns\\detect\\exp2318\u001b[0m\n",
      "Saved results to runs\\detect\\exp2318\n",
      "\n"
     ]
    },
    {
     "name": "stdout",
     "output_type": "stream",
     "text": [
      "1/1 [==============================] - 0s 35ms/step\n",
      "1/1 [==============================] - 0s 55ms/step\n"
     ]
    },
    {
     "name": "stderr",
     "output_type": "stream",
     "text": [
      "Saved 1 image to \u001b[1mruns\\detect\\exp2319\u001b[0m\n",
      "Saved results to runs\\detect\\exp2319\n",
      "\n"
     ]
    },
    {
     "name": "stdout",
     "output_type": "stream",
     "text": [
      "1/1 [==============================] - 0s 36ms/step\n",
      "1/1 [==============================] - 0s 37ms/step\n"
     ]
    },
    {
     "name": "stderr",
     "output_type": "stream",
     "text": [
      "Saved 1 image to \u001b[1mruns\\detect\\exp2320\u001b[0m\n",
      "Saved results to runs\\detect\\exp2320\n",
      "\n"
     ]
    },
    {
     "name": "stdout",
     "output_type": "stream",
     "text": [
      "1/1 [==============================] - 0s 41ms/step\n",
      "1/1 [==============================] - 0s 53ms/step\n"
     ]
    },
    {
     "name": "stderr",
     "output_type": "stream",
     "text": [
      "Saved 1 image to \u001b[1mruns\\detect\\exp2321\u001b[0m\n",
      "Saved results to runs\\detect\\exp2321\n",
      "\n"
     ]
    },
    {
     "name": "stdout",
     "output_type": "stream",
     "text": [
      "1/1 [==============================] - 0s 41ms/step\n"
     ]
    },
    {
     "name": "stderr",
     "output_type": "stream",
     "text": [
      "Saved 1 image to \u001b[1mruns\\detect\\exp2322\u001b[0m\n",
      "Saved results to runs\\detect\\exp2322\n",
      "\n"
     ]
    },
    {
     "name": "stdout",
     "output_type": "stream",
     "text": [
      "1/1 [==============================] - 0s 48ms/step\n",
      "1/1 [==============================] - 0s 47ms/step\n"
     ]
    },
    {
     "name": "stderr",
     "output_type": "stream",
     "text": [
      "Saved 1 image to \u001b[1mruns\\detect\\exp2323\u001b[0m\n",
      "Saved results to runs\\detect\\exp2323\n",
      "\n"
     ]
    },
    {
     "name": "stdout",
     "output_type": "stream",
     "text": [
      "1/1 [==============================] - 0s 56ms/step\n",
      "1/1 [==============================] - 0s 54ms/step\n"
     ]
    },
    {
     "name": "stderr",
     "output_type": "stream",
     "text": [
      "Saved 1 image to \u001b[1mruns\\detect\\exp2324\u001b[0m\n",
      "Saved results to runs\\detect\\exp2324\n",
      "\n"
     ]
    },
    {
     "name": "stdout",
     "output_type": "stream",
     "text": [
      "1/1 [==============================] - 0s 44ms/step\n",
      "1/1 [==============================] - 0s 64ms/step\n"
     ]
    },
    {
     "name": "stderr",
     "output_type": "stream",
     "text": [
      "Saved 1 image to \u001b[1mruns\\detect\\exp2325\u001b[0m\n",
      "Saved results to runs\\detect\\exp2325\n",
      "\n"
     ]
    },
    {
     "name": "stdout",
     "output_type": "stream",
     "text": [
      "1/1 [==============================] - 0s 55ms/step\n",
      "1/1 [==============================] - 0s 65ms/step\n"
     ]
    },
    {
     "name": "stderr",
     "output_type": "stream",
     "text": [
      "Saved 1 image to \u001b[1mruns\\detect\\exp2326\u001b[0m\n",
      "Saved results to runs\\detect\\exp2326\n",
      "\n"
     ]
    },
    {
     "name": "stdout",
     "output_type": "stream",
     "text": [
      "1/1 [==============================] - 0s 49ms/step\n",
      "1/1 [==============================] - 0s 58ms/step\n"
     ]
    },
    {
     "name": "stderr",
     "output_type": "stream",
     "text": [
      "Saved 1 image to \u001b[1mruns\\detect\\exp2327\u001b[0m\n",
      "Saved results to runs\\detect\\exp2327\n",
      "\n"
     ]
    },
    {
     "name": "stdout",
     "output_type": "stream",
     "text": [
      "1/1 [==============================] - 0s 63ms/step\n",
      "1/1 [==============================] - 0s 48ms/step\n"
     ]
    },
    {
     "name": "stderr",
     "output_type": "stream",
     "text": [
      "Saved 1 image to \u001b[1mruns\\detect\\exp2328\u001b[0m\n",
      "Saved results to runs\\detect\\exp2328\n",
      "\n"
     ]
    },
    {
     "name": "stdout",
     "output_type": "stream",
     "text": [
      "1/1 [==============================] - 0s 54ms/step\n",
      "1/1 [==============================] - 0s 69ms/step\n"
     ]
    },
    {
     "name": "stderr",
     "output_type": "stream",
     "text": [
      "Saved 1 image to \u001b[1mruns\\detect\\exp2329\u001b[0m\n",
      "Saved results to runs\\detect\\exp2329\n",
      "\n"
     ]
    },
    {
     "name": "stdout",
     "output_type": "stream",
     "text": [
      "1/1 [==============================] - 0s 48ms/step\n"
     ]
    },
    {
     "name": "stderr",
     "output_type": "stream",
     "text": [
      "Saved 1 image to \u001b[1mruns\\detect\\exp2330\u001b[0m\n",
      "Saved results to runs\\detect\\exp2330\n",
      "\n"
     ]
    },
    {
     "name": "stdout",
     "output_type": "stream",
     "text": [
      "1/1 [==============================] - 0s 47ms/step\n"
     ]
    },
    {
     "name": "stderr",
     "output_type": "stream",
     "text": [
      "Saved 1 image to \u001b[1mruns\\detect\\exp2331\u001b[0m\n",
      "Saved results to runs\\detect\\exp2331\n",
      "\n"
     ]
    },
    {
     "name": "stdout",
     "output_type": "stream",
     "text": [
      "1/1 [==============================] - 0s 46ms/step\n"
     ]
    },
    {
     "name": "stderr",
     "output_type": "stream",
     "text": [
      "Saved 1 image to \u001b[1mruns\\detect\\exp2332\u001b[0m\n",
      "Saved results to runs\\detect\\exp2332\n",
      "\n"
     ]
    },
    {
     "name": "stdout",
     "output_type": "stream",
     "text": [
      "1/1 [==============================] - 0s 46ms/step\n"
     ]
    },
    {
     "name": "stderr",
     "output_type": "stream",
     "text": [
      "Saved 1 image to \u001b[1mruns\\detect\\exp2333\u001b[0m\n",
      "Saved results to runs\\detect\\exp2333\n",
      "\n",
      "Saved 1 image to \u001b[1mruns\\detect\\exp2334\u001b[0m\n",
      "Saved results to runs\\detect\\exp2334\n",
      "\n"
     ]
    },
    {
     "name": "stdout",
     "output_type": "stream",
     "text": [
      "1/1 [==============================] - 0s 50ms/step\n",
      "1/1 [==============================] - 0s 45ms/step\n"
     ]
    },
    {
     "name": "stderr",
     "output_type": "stream",
     "text": [
      "Saved 1 image to \u001b[1mruns\\detect\\exp2335\u001b[0m\n",
      "Saved results to runs\\detect\\exp2335\n",
      "\n"
     ]
    },
    {
     "name": "stdout",
     "output_type": "stream",
     "text": [
      "1/1 [==============================] - 0s 42ms/step\n"
     ]
    },
    {
     "name": "stderr",
     "output_type": "stream",
     "text": [
      "Saved 1 image to \u001b[1mruns\\detect\\exp2336\u001b[0m\n",
      "Saved results to runs\\detect\\exp2336\n",
      "\n"
     ]
    },
    {
     "name": "stdout",
     "output_type": "stream",
     "text": [
      "1/1 [==============================] - 0s 46ms/step\n",
      "1/1 [==============================] - 0s 42ms/step\n"
     ]
    },
    {
     "name": "stderr",
     "output_type": "stream",
     "text": [
      "Saved 1 image to \u001b[1mruns\\detect\\exp2337\u001b[0m\n",
      "Saved results to runs\\detect\\exp2337\n",
      "\n"
     ]
    },
    {
     "name": "stdout",
     "output_type": "stream",
     "text": [
      "1/1 [==============================] - 0s 42ms/step\n"
     ]
    },
    {
     "name": "stderr",
     "output_type": "stream",
     "text": [
      "Saved 1 image to \u001b[1mruns\\detect\\exp2338\u001b[0m\n",
      "Saved results to runs\\detect\\exp2338\n",
      "\n"
     ]
    },
    {
     "name": "stdout",
     "output_type": "stream",
     "text": [
      "1/1 [==============================] - 0s 39ms/step\n"
     ]
    },
    {
     "name": "stderr",
     "output_type": "stream",
     "text": [
      "Saved 1 image to \u001b[1mruns\\detect\\exp2339\u001b[0m\n",
      "Saved results to runs\\detect\\exp2339\n",
      "\n"
     ]
    },
    {
     "name": "stdout",
     "output_type": "stream",
     "text": [
      "1/1 [==============================] - 0s 52ms/step\n",
      "1/1 [==============================] - 0s 54ms/step\n"
     ]
    },
    {
     "name": "stderr",
     "output_type": "stream",
     "text": [
      "Saved 1 image to \u001b[1mruns\\detect\\exp2340\u001b[0m\n",
      "Saved results to runs\\detect\\exp2340\n",
      "\n"
     ]
    },
    {
     "name": "stdout",
     "output_type": "stream",
     "text": [
      "1/1 [==============================] - 0s 64ms/step\n",
      "1/1 [==============================] - 0s 48ms/step\n"
     ]
    },
    {
     "name": "stderr",
     "output_type": "stream",
     "text": [
      "Saved 1 image to \u001b[1mruns\\detect\\exp2341\u001b[0m\n",
      "Saved results to runs\\detect\\exp2341\n",
      "\n"
     ]
    },
    {
     "name": "stdout",
     "output_type": "stream",
     "text": [
      "1/1 [==============================] - 0s 51ms/step\n",
      "1/1 [==============================] - 0s 53ms/step\n"
     ]
    },
    {
     "name": "stderr",
     "output_type": "stream",
     "text": [
      "Saved 1 image to \u001b[1mruns\\detect\\exp2342\u001b[0m\n",
      "Saved results to runs\\detect\\exp2342\n",
      "\n"
     ]
    },
    {
     "name": "stdout",
     "output_type": "stream",
     "text": [
      "1/1 [==============================] - 0s 49ms/step\n",
      "1/1 [==============================] - 0s 48ms/step\n"
     ]
    },
    {
     "name": "stderr",
     "output_type": "stream",
     "text": [
      "Saved 1 image to \u001b[1mruns\\detect\\exp2343\u001b[0m\n",
      "Saved results to runs\\detect\\exp2343\n",
      "\n"
     ]
    },
    {
     "name": "stdout",
     "output_type": "stream",
     "text": [
      "1/1 [==============================] - 0s 53ms/step\n"
     ]
    },
    {
     "name": "stderr",
     "output_type": "stream",
     "text": [
      "Saved 1 image to \u001b[1mruns\\detect\\exp2344\u001b[0m\n",
      "Saved results to runs\\detect\\exp2344\n",
      "\n",
      "Saved 1 image to \u001b[1mruns\\detect\\exp2345\u001b[0m\n",
      "Saved results to runs\\detect\\exp2345\n",
      "\n",
      "Saved 1 image to \u001b[1mruns\\detect\\exp2346\u001b[0m\n",
      "Saved results to runs\\detect\\exp2346\n",
      "\n"
     ]
    },
    {
     "name": "stdout",
     "output_type": "stream",
     "text": [
      "1/1 [==============================] - 0s 42ms/step\n"
     ]
    },
    {
     "name": "stderr",
     "output_type": "stream",
     "text": [
      "Saved 1 image to \u001b[1mruns\\detect\\exp2347\u001b[0m\n",
      "Saved results to runs\\detect\\exp2347\n",
      "\n"
     ]
    },
    {
     "name": "stdout",
     "output_type": "stream",
     "text": [
      "1/1 [==============================] - 0s 46ms/step\n"
     ]
    },
    {
     "name": "stderr",
     "output_type": "stream",
     "text": [
      "Saved 1 image to \u001b[1mruns\\detect\\exp2348\u001b[0m\n",
      "Saved results to runs\\detect\\exp2348\n",
      "\n"
     ]
    },
    {
     "name": "stdout",
     "output_type": "stream",
     "text": [
      "1/1 [==============================] - 0s 40ms/step\n"
     ]
    },
    {
     "name": "stderr",
     "output_type": "stream",
     "text": [
      "Saved 1 image to \u001b[1mruns\\detect\\exp2349\u001b[0m\n",
      "Saved results to runs\\detect\\exp2349\n",
      "\n"
     ]
    },
    {
     "name": "stdout",
     "output_type": "stream",
     "text": [
      "1/1 [==============================] - 0s 39ms/step\n"
     ]
    },
    {
     "name": "stderr",
     "output_type": "stream",
     "text": [
      "Saved 1 image to \u001b[1mruns\\detect\\exp2350\u001b[0m\n",
      "Saved results to runs\\detect\\exp2350\n",
      "\n"
     ]
    },
    {
     "name": "stdout",
     "output_type": "stream",
     "text": [
      "1/1 [==============================] - 0s 35ms/step\n"
     ]
    },
    {
     "name": "stderr",
     "output_type": "stream",
     "text": [
      "Saved 1 image to \u001b[1mruns\\detect\\exp2351\u001b[0m\n",
      "Saved results to runs\\detect\\exp2351\n",
      "\n"
     ]
    },
    {
     "name": "stdout",
     "output_type": "stream",
     "text": [
      "1/1 [==============================] - 0s 41ms/step\n"
     ]
    },
    {
     "name": "stderr",
     "output_type": "stream",
     "text": [
      "Saved 1 image to \u001b[1mruns\\detect\\exp2352\u001b[0m\n",
      "Saved results to runs\\detect\\exp2352\n",
      "\n"
     ]
    },
    {
     "name": "stdout",
     "output_type": "stream",
     "text": [
      "1/1 [==============================] - 0s 41ms/step\n"
     ]
    },
    {
     "name": "stderr",
     "output_type": "stream",
     "text": [
      "Saved 1 image to \u001b[1mruns\\detect\\exp2353\u001b[0m\n",
      "Saved results to runs\\detect\\exp2353\n",
      "\n"
     ]
    },
    {
     "name": "stdout",
     "output_type": "stream",
     "text": [
      "1/1 [==============================] - 0s 50ms/step\n"
     ]
    },
    {
     "name": "stderr",
     "output_type": "stream",
     "text": [
      "Saved 1 image to \u001b[1mruns\\detect\\exp2354\u001b[0m\n",
      "Saved results to runs\\detect\\exp2354\n",
      "\n"
     ]
    },
    {
     "name": "stdout",
     "output_type": "stream",
     "text": [
      "1/1 [==============================] - 0s 53ms/step\n"
     ]
    },
    {
     "name": "stderr",
     "output_type": "stream",
     "text": [
      "Saved 1 image to \u001b[1mruns\\detect\\exp2355\u001b[0m\n",
      "Saved results to runs\\detect\\exp2355\n",
      "\n"
     ]
    },
    {
     "name": "stdout",
     "output_type": "stream",
     "text": [
      "1/1 [==============================] - 0s 80ms/step\n"
     ]
    },
    {
     "name": "stderr",
     "output_type": "stream",
     "text": [
      "Saved 1 image to \u001b[1mruns\\detect\\exp2356\u001b[0m\n",
      "Saved results to runs\\detect\\exp2356\n",
      "\n"
     ]
    },
    {
     "name": "stdout",
     "output_type": "stream",
     "text": [
      "1/1 [==============================] - 0s 49ms/step\n",
      "1/1 [==============================] - 0s 48ms/step\n"
     ]
    },
    {
     "name": "stderr",
     "output_type": "stream",
     "text": [
      "Saved 1 image to \u001b[1mruns\\detect\\exp2357\u001b[0m\n",
      "Saved results to runs\\detect\\exp2357\n",
      "\n"
     ]
    },
    {
     "name": "stdout",
     "output_type": "stream",
     "text": [
      "1/1 [==============================] - 0s 47ms/step\n"
     ]
    },
    {
     "name": "stderr",
     "output_type": "stream",
     "text": [
      "Saved 1 image to \u001b[1mruns\\detect\\exp2358\u001b[0m\n",
      "Saved results to runs\\detect\\exp2358\n",
      "\n",
      "Saved 1 image to \u001b[1mruns\\detect\\exp2359\u001b[0m\n",
      "Saved results to runs\\detect\\exp2359\n",
      "\n"
     ]
    },
    {
     "name": "stdout",
     "output_type": "stream",
     "text": [
      "1/1 [==============================] - 0s 55ms/step\n",
      "1/1 [==============================] - 0s 47ms/step\n"
     ]
    },
    {
     "name": "stderr",
     "output_type": "stream",
     "text": [
      "Saved 1 image to \u001b[1mruns\\detect\\exp2360\u001b[0m\n",
      "Saved results to runs\\detect\\exp2360\n",
      "\n",
      "Saved 1 image to \u001b[1mruns\\detect\\exp2361\u001b[0m\n",
      "Saved results to runs\\detect\\exp2361\n",
      "\n",
      "Saved 1 image to \u001b[1mruns\\detect\\exp2362\u001b[0m\n",
      "Saved results to runs\\detect\\exp2362\n",
      "\n"
     ]
    },
    {
     "name": "stdout",
     "output_type": "stream",
     "text": [
      "1/1 [==============================] - 0s 51ms/step\n"
     ]
    },
    {
     "name": "stderr",
     "output_type": "stream",
     "text": [
      "Saved 1 image to \u001b[1mruns\\detect\\exp2363\u001b[0m\n",
      "Saved results to runs\\detect\\exp2363\n",
      "\n"
     ]
    },
    {
     "name": "stdout",
     "output_type": "stream",
     "text": [
      "1/1 [==============================] - 0s 48ms/step\n"
     ]
    },
    {
     "name": "stderr",
     "output_type": "stream",
     "text": [
      "Saved 1 image to \u001b[1mruns\\detect\\exp2364\u001b[0m\n",
      "Saved results to runs\\detect\\exp2364\n",
      "\n"
     ]
    },
    {
     "name": "stdout",
     "output_type": "stream",
     "text": [
      "1/1 [==============================] - 0s 48ms/step\n"
     ]
    },
    {
     "name": "stderr",
     "output_type": "stream",
     "text": [
      "Saved 1 image to \u001b[1mruns\\detect\\exp2365\u001b[0m\n",
      "Saved results to runs\\detect\\exp2365\n",
      "\n",
      "Saved 1 image to \u001b[1mruns\\detect\\exp2366\u001b[0m\n",
      "Saved results to runs\\detect\\exp2366\n",
      "\n"
     ]
    },
    {
     "name": "stdout",
     "output_type": "stream",
     "text": [
      "1/1 [==============================] - 0s 51ms/step\n"
     ]
    },
    {
     "name": "stderr",
     "output_type": "stream",
     "text": [
      "Saved 1 image to \u001b[1mruns\\detect\\exp2367\u001b[0m\n",
      "Saved results to runs\\detect\\exp2367\n",
      "\n"
     ]
    },
    {
     "name": "stdout",
     "output_type": "stream",
     "text": [
      "1/1 [==============================] - 0s 49ms/step\n"
     ]
    },
    {
     "name": "stderr",
     "output_type": "stream",
     "text": [
      "Saved 1 image to \u001b[1mruns\\detect\\exp2368\u001b[0m\n",
      "Saved results to runs\\detect\\exp2368\n",
      "\n",
      "Saved 1 image to \u001b[1mruns\\detect\\exp2369\u001b[0m\n",
      "Saved results to runs\\detect\\exp2369\n",
      "\n"
     ]
    },
    {
     "name": "stdout",
     "output_type": "stream",
     "text": [
      "1/1 [==============================] - 0s 35ms/step\n"
     ]
    },
    {
     "name": "stderr",
     "output_type": "stream",
     "text": [
      "Saved 1 image to \u001b[1mruns\\detect\\exp2370\u001b[0m\n",
      "Saved results to runs\\detect\\exp2370\n",
      "\n",
      "Saved 1 image to \u001b[1mruns\\detect\\exp2371\u001b[0m\n",
      "Saved results to runs\\detect\\exp2371\n",
      "\n"
     ]
    },
    {
     "name": "stdout",
     "output_type": "stream",
     "text": [
      "1/1 [==============================] - 0s 44ms/step\n"
     ]
    },
    {
     "name": "stderr",
     "output_type": "stream",
     "text": [
      "Saved 1 image to \u001b[1mruns\\detect\\exp2372\u001b[0m\n",
      "Saved results to runs\\detect\\exp2372\n",
      "\n"
     ]
    },
    {
     "name": "stdout",
     "output_type": "stream",
     "text": [
      "1/1 [==============================] - 0s 59ms/step\n"
     ]
    },
    {
     "name": "stderr",
     "output_type": "stream",
     "text": [
      "Saved 1 image to \u001b[1mruns\\detect\\exp2373\u001b[0m\n",
      "Saved results to runs\\detect\\exp2373\n",
      "\n"
     ]
    },
    {
     "name": "stdout",
     "output_type": "stream",
     "text": [
      "1/1 [==============================] - 0s 50ms/step\n",
      "1/1 [==============================] - 0s 48ms/step\n"
     ]
    },
    {
     "name": "stderr",
     "output_type": "stream",
     "text": [
      "Saved 1 image to \u001b[1mruns\\detect\\exp2374\u001b[0m\n",
      "Saved results to runs\\detect\\exp2374\n",
      "\n"
     ]
    },
    {
     "name": "stdout",
     "output_type": "stream",
     "text": [
      "1/1 [==============================] - 0s 54ms/step\n",
      "1/1 [==============================] - 0s 51ms/step\n"
     ]
    },
    {
     "name": "stderr",
     "output_type": "stream",
     "text": [
      "Saved 1 image to \u001b[1mruns\\detect\\exp2375\u001b[0m\n",
      "Saved results to runs\\detect\\exp2375\n",
      "\n"
     ]
    },
    {
     "name": "stdout",
     "output_type": "stream",
     "text": [
      "1/1 [==============================] - 0s 55ms/step\n"
     ]
    },
    {
     "name": "stderr",
     "output_type": "stream",
     "text": [
      "Saved 1 image to \u001b[1mruns\\detect\\exp2376\u001b[0m\n",
      "Saved results to runs\\detect\\exp2376\n",
      "\n"
     ]
    },
    {
     "name": "stdout",
     "output_type": "stream",
     "text": [
      "1/1 [==============================] - 0s 48ms/step\n",
      "1/1 [==============================] - 0s 52ms/step\n"
     ]
    },
    {
     "name": "stderr",
     "output_type": "stream",
     "text": [
      "Saved 1 image to \u001b[1mruns\\detect\\exp2377\u001b[0m\n",
      "Saved results to runs\\detect\\exp2377\n",
      "\n"
     ]
    },
    {
     "name": "stdout",
     "output_type": "stream",
     "text": [
      "1/1 [==============================] - 0s 48ms/step\n"
     ]
    },
    {
     "name": "stderr",
     "output_type": "stream",
     "text": [
      "Saved 1 image to \u001b[1mruns\\detect\\exp2378\u001b[0m\n",
      "Saved results to runs\\detect\\exp2378\n",
      "\n"
     ]
    },
    {
     "name": "stdout",
     "output_type": "stream",
     "text": [
      "1/1 [==============================] - 0s 48ms/step\n"
     ]
    },
    {
     "name": "stderr",
     "output_type": "stream",
     "text": [
      "Saved 1 image to \u001b[1mruns\\detect\\exp2379\u001b[0m\n",
      "Saved results to runs\\detect\\exp2379\n",
      "\n"
     ]
    },
    {
     "name": "stdout",
     "output_type": "stream",
     "text": [
      "1/1 [==============================] - 0s 41ms/step\n",
      "1/1 [==============================] - 0s 56ms/step\n"
     ]
    },
    {
     "name": "stderr",
     "output_type": "stream",
     "text": [
      "Saved 1 image to \u001b[1mruns\\detect\\exp2380\u001b[0m\n",
      "Saved results to runs\\detect\\exp2380\n",
      "\n"
     ]
    },
    {
     "name": "stdout",
     "output_type": "stream",
     "text": [
      "1/1 [==============================] - 0s 47ms/step\n",
      "1/1 [==============================] - 0s 40ms/step\n"
     ]
    },
    {
     "name": "stderr",
     "output_type": "stream",
     "text": [
      "Saved 1 image to \u001b[1mruns\\detect\\exp2381\u001b[0m\n",
      "Saved results to runs\\detect\\exp2381\n",
      "\n"
     ]
    },
    {
     "name": "stdout",
     "output_type": "stream",
     "text": [
      "1/1 [==============================] - 0s 49ms/step\n",
      "1/1 [==============================] - 0s 52ms/step\n"
     ]
    },
    {
     "name": "stderr",
     "output_type": "stream",
     "text": [
      "Saved 1 image to \u001b[1mruns\\detect\\exp2382\u001b[0m\n",
      "Saved results to runs\\detect\\exp2382\n",
      "\n"
     ]
    },
    {
     "name": "stdout",
     "output_type": "stream",
     "text": [
      "1/1 [==============================] - 0s 40ms/step\n",
      "1/1 [==============================] - 0s 58ms/step\n"
     ]
    },
    {
     "name": "stderr",
     "output_type": "stream",
     "text": [
      "Saved 1 image to \u001b[1mruns\\detect\\exp2383\u001b[0m\n",
      "Saved results to runs\\detect\\exp2383\n",
      "\n"
     ]
    },
    {
     "name": "stdout",
     "output_type": "stream",
     "text": [
      "1/1 [==============================] - 0s 46ms/step\n"
     ]
    },
    {
     "name": "stderr",
     "output_type": "stream",
     "text": [
      "Saved 1 image to \u001b[1mruns\\detect\\exp2384\u001b[0m\n",
      "Saved results to runs\\detect\\exp2384\n",
      "\n"
     ]
    },
    {
     "name": "stdout",
     "output_type": "stream",
     "text": [
      "1/1 [==============================] - 0s 63ms/step\n",
      "1/1 [==============================] - 0s 45ms/step\n"
     ]
    },
    {
     "name": "stderr",
     "output_type": "stream",
     "text": [
      "Saved 1 image to \u001b[1mruns\\detect\\exp2385\u001b[0m\n",
      "Saved results to runs\\detect\\exp2385\n",
      "\n",
      "Saved 1 image to \u001b[1mruns\\detect\\exp2386\u001b[0m\n",
      "Saved results to runs\\detect\\exp2386\n",
      "\n"
     ]
    },
    {
     "name": "stdout",
     "output_type": "stream",
     "text": [
      "1/1 [==============================] - 0s 50ms/step\n"
     ]
    },
    {
     "name": "stderr",
     "output_type": "stream",
     "text": [
      "Saved 1 image to \u001b[1mruns\\detect\\exp2387\u001b[0m\n",
      "Saved results to runs\\detect\\exp2387\n",
      "\n"
     ]
    },
    {
     "name": "stdout",
     "output_type": "stream",
     "text": [
      "1/1 [==============================] - 0s 43ms/step\n",
      "1/1 [==============================] - 0s 53ms/step\n"
     ]
    },
    {
     "name": "stderr",
     "output_type": "stream",
     "text": [
      "Saved 1 image to \u001b[1mruns\\detect\\exp2388\u001b[0m\n",
      "Saved results to runs\\detect\\exp2388\n",
      "\n"
     ]
    },
    {
     "name": "stdout",
     "output_type": "stream",
     "text": [
      "1/1 [==============================] - 0s 40ms/step\n"
     ]
    },
    {
     "name": "stderr",
     "output_type": "stream",
     "text": [
      "Saved 1 image to \u001b[1mruns\\detect\\exp2389\u001b[0m\n",
      "Saved results to runs\\detect\\exp2389\n",
      "\n"
     ]
    },
    {
     "name": "stdout",
     "output_type": "stream",
     "text": [
      "1/1 [==============================] - 0s 61ms/step\n"
     ]
    },
    {
     "name": "stderr",
     "output_type": "stream",
     "text": [
      "Saved 1 image to \u001b[1mruns\\detect\\exp2390\u001b[0m\n",
      "Saved results to runs\\detect\\exp2390\n",
      "\n"
     ]
    },
    {
     "name": "stdout",
     "output_type": "stream",
     "text": [
      "1/1 [==============================] - 0s 50ms/step\n"
     ]
    },
    {
     "name": "stderr",
     "output_type": "stream",
     "text": [
      "Saved 1 image to \u001b[1mruns\\detect\\exp2391\u001b[0m\n",
      "Saved results to runs\\detect\\exp2391\n",
      "\n"
     ]
    },
    {
     "name": "stdout",
     "output_type": "stream",
     "text": [
      "1/1 [==============================] - 0s 54ms/step\n",
      "1/1 [==============================] - 0s 57ms/step\n"
     ]
    },
    {
     "name": "stderr",
     "output_type": "stream",
     "text": [
      "Saved 1 image to \u001b[1mruns\\detect\\exp2392\u001b[0m\n",
      "Saved results to runs\\detect\\exp2392\n",
      "\n"
     ]
    },
    {
     "name": "stdout",
     "output_type": "stream",
     "text": [
      "1/1 [==============================] - 0s 99ms/step\n",
      "1/1 [==============================] - 0s 48ms/step\n"
     ]
    },
    {
     "name": "stderr",
     "output_type": "stream",
     "text": [
      "Saved 1 image to \u001b[1mruns\\detect\\exp2393\u001b[0m\n",
      "Saved results to runs\\detect\\exp2393\n",
      "\n"
     ]
    },
    {
     "name": "stdout",
     "output_type": "stream",
     "text": [
      "1/1 [==============================] - 0s 50ms/step\n",
      "1/1 [==============================] - 0s 48ms/step\n"
     ]
    },
    {
     "name": "stderr",
     "output_type": "stream",
     "text": [
      "Saved 1 image to \u001b[1mruns\\detect\\exp2394\u001b[0m\n",
      "Saved results to runs\\detect\\exp2394\n",
      "\n"
     ]
    },
    {
     "name": "stdout",
     "output_type": "stream",
     "text": [
      "1/1 [==============================] - 0s 49ms/step\n",
      "1/1 [==============================] - 0s 42ms/step\n"
     ]
    },
    {
     "name": "stderr",
     "output_type": "stream",
     "text": [
      "Saved 1 image to \u001b[1mruns\\detect\\exp2395\u001b[0m\n",
      "Saved results to runs\\detect\\exp2395\n",
      "\n"
     ]
    },
    {
     "name": "stdout",
     "output_type": "stream",
     "text": [
      "1/1 [==============================] - 0s 56ms/step\n",
      "1/1 [==============================] - 0s 55ms/step\n"
     ]
    },
    {
     "name": "stderr",
     "output_type": "stream",
     "text": [
      "Saved 1 image to \u001b[1mruns\\detect\\exp2396\u001b[0m\n",
      "Saved results to runs\\detect\\exp2396\n",
      "\n"
     ]
    },
    {
     "name": "stdout",
     "output_type": "stream",
     "text": [
      "1/1 [==============================] - 0s 49ms/step\n",
      "1/1 [==============================] - 0s 58ms/step\n"
     ]
    },
    {
     "name": "stderr",
     "output_type": "stream",
     "text": [
      "Saved 1 image to \u001b[1mruns\\detect\\exp2397\u001b[0m\n",
      "Saved results to runs\\detect\\exp2397\n",
      "\n"
     ]
    },
    {
     "name": "stdout",
     "output_type": "stream",
     "text": [
      "1/1 [==============================] - 0s 78ms/step\n",
      "1/1 [==============================] - 0s 52ms/step\n"
     ]
    },
    {
     "name": "stderr",
     "output_type": "stream",
     "text": [
      "Saved 1 image to \u001b[1mruns\\detect\\exp2398\u001b[0m\n",
      "Saved results to runs\\detect\\exp2398\n",
      "\n"
     ]
    },
    {
     "name": "stdout",
     "output_type": "stream",
     "text": [
      "1/1 [==============================] - 0s 50ms/step\n",
      "1/1 [==============================] - 0s 57ms/step\n"
     ]
    },
    {
     "name": "stderr",
     "output_type": "stream",
     "text": [
      "Saved 1 image to \u001b[1mruns\\detect\\exp2399\u001b[0m\n",
      "Saved results to runs\\detect\\exp2399\n",
      "\n"
     ]
    },
    {
     "name": "stdout",
     "output_type": "stream",
     "text": [
      "1/1 [==============================] - 0s 50ms/step\n",
      "1/1 [==============================] - 0s 49ms/step\n"
     ]
    },
    {
     "name": "stderr",
     "output_type": "stream",
     "text": [
      "Saved 1 image to \u001b[1mruns\\detect\\exp2400\u001b[0m\n",
      "Saved results to runs\\detect\\exp2400\n",
      "\n"
     ]
    },
    {
     "name": "stdout",
     "output_type": "stream",
     "text": [
      "1/1 [==============================] - 0s 60ms/step\n"
     ]
    },
    {
     "name": "stderr",
     "output_type": "stream",
     "text": [
      "Saved 1 image to \u001b[1mruns\\detect\\exp2401\u001b[0m\n",
      "Saved results to runs\\detect\\exp2401\n",
      "\n"
     ]
    },
    {
     "name": "stdout",
     "output_type": "stream",
     "text": [
      "1/1 [==============================] - 0s 41ms/step\n",
      "1/1 [==============================] - 0s 44ms/step\n"
     ]
    },
    {
     "name": "stderr",
     "output_type": "stream",
     "text": [
      "Saved 1 image to \u001b[1mruns\\detect\\exp2402\u001b[0m\n",
      "Saved results to runs\\detect\\exp2402\n",
      "\n"
     ]
    },
    {
     "name": "stdout",
     "output_type": "stream",
     "text": [
      "1/1 [==============================] - 0s 48ms/step\n",
      "1/1 [==============================] - 0s 42ms/step\n"
     ]
    },
    {
     "name": "stderr",
     "output_type": "stream",
     "text": [
      "Saved 1 image to \u001b[1mruns\\detect\\exp2403\u001b[0m\n",
      "Saved results to runs\\detect\\exp2403\n",
      "\n"
     ]
    },
    {
     "name": "stdout",
     "output_type": "stream",
     "text": [
      "1/1 [==============================] - 0s 33ms/step\n"
     ]
    },
    {
     "name": "stderr",
     "output_type": "stream",
     "text": [
      "Saved 1 image to \u001b[1mruns\\detect\\exp2404\u001b[0m\n",
      "Saved results to runs\\detect\\exp2404\n",
      "\n"
     ]
    },
    {
     "name": "stdout",
     "output_type": "stream",
     "text": [
      "1/1 [==============================] - 0s 37ms/step\n"
     ]
    },
    {
     "name": "stderr",
     "output_type": "stream",
     "text": [
      "Saved 1 image to \u001b[1mruns\\detect\\exp2405\u001b[0m\n",
      "Saved results to runs\\detect\\exp2405\n",
      "\n"
     ]
    },
    {
     "name": "stdout",
     "output_type": "stream",
     "text": [
      "1/1 [==============================] - 0s 46ms/step\n",
      "1/1 [==============================] - 0s 39ms/step\n"
     ]
    },
    {
     "name": "stderr",
     "output_type": "stream",
     "text": [
      "Saved 1 image to \u001b[1mruns\\detect\\exp2406\u001b[0m\n",
      "Saved results to runs\\detect\\exp2406\n",
      "\n"
     ]
    },
    {
     "name": "stdout",
     "output_type": "stream",
     "text": [
      "1/1 [==============================] - 0s 34ms/step\n"
     ]
    },
    {
     "name": "stderr",
     "output_type": "stream",
     "text": [
      "Saved 1 image to \u001b[1mruns\\detect\\exp2407\u001b[0m\n",
      "Saved results to runs\\detect\\exp2407\n",
      "\n"
     ]
    },
    {
     "name": "stdout",
     "output_type": "stream",
     "text": [
      "1/1 [==============================] - 0s 42ms/step\n"
     ]
    },
    {
     "name": "stderr",
     "output_type": "stream",
     "text": [
      "Saved 1 image to \u001b[1mruns\\detect\\exp2408\u001b[0m\n",
      "Saved results to runs\\detect\\exp2408\n",
      "\n"
     ]
    },
    {
     "name": "stdout",
     "output_type": "stream",
     "text": [
      "1/1 [==============================] - 0s 41ms/step\n"
     ]
    },
    {
     "name": "stderr",
     "output_type": "stream",
     "text": [
      "Saved 1 image to \u001b[1mruns\\detect\\exp2409\u001b[0m\n",
      "Saved results to runs\\detect\\exp2409\n",
      "\n"
     ]
    },
    {
     "name": "stdout",
     "output_type": "stream",
     "text": [
      "1/1 [==============================] - 0s 45ms/step\n"
     ]
    },
    {
     "name": "stderr",
     "output_type": "stream",
     "text": [
      "Saved 1 image to \u001b[1mruns\\detect\\exp2410\u001b[0m\n",
      "Saved results to runs\\detect\\exp2410\n",
      "\n"
     ]
    },
    {
     "name": "stdout",
     "output_type": "stream",
     "text": [
      "1/1 [==============================] - 0s 47ms/step\n",
      "1/1 [==============================] - 0s 44ms/step\n"
     ]
    },
    {
     "name": "stderr",
     "output_type": "stream",
     "text": [
      "Saved 1 image to \u001b[1mruns\\detect\\exp2411\u001b[0m\n",
      "Saved results to runs\\detect\\exp2411\n",
      "\n"
     ]
    },
    {
     "name": "stdout",
     "output_type": "stream",
     "text": [
      "1/1 [==============================] - 0s 44ms/step\n"
     ]
    },
    {
     "name": "stderr",
     "output_type": "stream",
     "text": [
      "Saved 1 image to \u001b[1mruns\\detect\\exp2412\u001b[0m\n",
      "Saved results to runs\\detect\\exp2412\n",
      "\n"
     ]
    },
    {
     "name": "stdout",
     "output_type": "stream",
     "text": [
      "1/1 [==============================] - 0s 47ms/step\n",
      "1/1 [==============================] - 0s 46ms/step\n"
     ]
    },
    {
     "name": "stderr",
     "output_type": "stream",
     "text": [
      "Saved 1 image to \u001b[1mruns\\detect\\exp2413\u001b[0m\n",
      "Saved results to runs\\detect\\exp2413\n",
      "\n"
     ]
    },
    {
     "name": "stdout",
     "output_type": "stream",
     "text": [
      "1/1 [==============================] - 0s 48ms/step\n",
      "1/1 [==============================] - 0s 46ms/step\n"
     ]
    },
    {
     "name": "stderr",
     "output_type": "stream",
     "text": [
      "Saved 1 image to \u001b[1mruns\\detect\\exp2414\u001b[0m\n",
      "Saved results to runs\\detect\\exp2414\n",
      "\n"
     ]
    },
    {
     "name": "stdout",
     "output_type": "stream",
     "text": [
      "1/1 [==============================] - 0s 69ms/step\n",
      "1/1 [==============================] - 0s 43ms/step\n"
     ]
    },
    {
     "name": "stderr",
     "output_type": "stream",
     "text": [
      "Saved 1 image to \u001b[1mruns\\detect\\exp2415\u001b[0m\n",
      "Saved results to runs\\detect\\exp2415\n",
      "\n"
     ]
    },
    {
     "name": "stdout",
     "output_type": "stream",
     "text": [
      "1/1 [==============================] - 0s 46ms/step\n",
      "1/1 [==============================] - 0s 44ms/step\n"
     ]
    },
    {
     "name": "stderr",
     "output_type": "stream",
     "text": [
      "Saved 1 image to \u001b[1mruns\\detect\\exp2416\u001b[0m\n",
      "Saved results to runs\\detect\\exp2416\n",
      "\n"
     ]
    },
    {
     "name": "stdout",
     "output_type": "stream",
     "text": [
      "1/1 [==============================] - 0s 44ms/step\n",
      "1/1 [==============================] - 0s 45ms/step\n"
     ]
    },
    {
     "name": "stderr",
     "output_type": "stream",
     "text": [
      "Saved 1 image to \u001b[1mruns\\detect\\exp2417\u001b[0m\n",
      "Saved results to runs\\detect\\exp2417\n",
      "\n"
     ]
    },
    {
     "name": "stdout",
     "output_type": "stream",
     "text": [
      "1/1 [==============================] - 0s 58ms/step\n",
      "1/1 [==============================] - 0s 46ms/step\n"
     ]
    },
    {
     "name": "stderr",
     "output_type": "stream",
     "text": [
      "Saved 1 image to \u001b[1mruns\\detect\\exp2418\u001b[0m\n",
      "Saved results to runs\\detect\\exp2418\n",
      "\n"
     ]
    },
    {
     "name": "stdout",
     "output_type": "stream",
     "text": [
      "1/1 [==============================] - 0s 48ms/step\n",
      "1/1 [==============================] - 0s 39ms/step\n"
     ]
    },
    {
     "name": "stderr",
     "output_type": "stream",
     "text": [
      "Saved 1 image to \u001b[1mruns\\detect\\exp2419\u001b[0m\n",
      "Saved results to runs\\detect\\exp2419\n",
      "\n"
     ]
    },
    {
     "name": "stdout",
     "output_type": "stream",
     "text": [
      "1/1 [==============================] - 0s 50ms/step\n",
      "1/1 [==============================] - 0s 53ms/step\n"
     ]
    },
    {
     "name": "stderr",
     "output_type": "stream",
     "text": [
      "Saved 1 image to \u001b[1mruns\\detect\\exp2420\u001b[0m\n",
      "Saved results to runs\\detect\\exp2420\n",
      "\n"
     ]
    },
    {
     "name": "stdout",
     "output_type": "stream",
     "text": [
      "1/1 [==============================] - 0s 39ms/step\n",
      "1/1 [==============================] - 0s 43ms/step\n"
     ]
    },
    {
     "name": "stderr",
     "output_type": "stream",
     "text": [
      "Saved 1 image to \u001b[1mruns\\detect\\exp2421\u001b[0m\n",
      "Saved results to runs\\detect\\exp2421\n",
      "\n"
     ]
    },
    {
     "name": "stdout",
     "output_type": "stream",
     "text": [
      "1/1 [==============================] - 0s 39ms/step\n",
      "1/1 [==============================] - 0s 59ms/step\n"
     ]
    },
    {
     "name": "stderr",
     "output_type": "stream",
     "text": [
      "Saved 1 image to \u001b[1mruns\\detect\\exp2422\u001b[0m\n",
      "Saved results to runs\\detect\\exp2422\n",
      "\n"
     ]
    },
    {
     "name": "stdout",
     "output_type": "stream",
     "text": [
      "1/1 [==============================] - 0s 38ms/step\n"
     ]
    },
    {
     "name": "stderr",
     "output_type": "stream",
     "text": [
      "Saved 1 image to \u001b[1mruns\\detect\\exp2423\u001b[0m\n",
      "Saved results to runs\\detect\\exp2423\n",
      "\n"
     ]
    },
    {
     "name": "stdout",
     "output_type": "stream",
     "text": [
      "1/1 [==============================] - 0s 47ms/step\n"
     ]
    },
    {
     "name": "stderr",
     "output_type": "stream",
     "text": [
      "Saved 1 image to \u001b[1mruns\\detect\\exp2424\u001b[0m\n",
      "Saved results to runs\\detect\\exp2424\n",
      "\n",
      "Saved 1 image to \u001b[1mruns\\detect\\exp2425\u001b[0m\n",
      "Saved results to runs\\detect\\exp2425\n",
      "\n"
     ]
    },
    {
     "name": "stdout",
     "output_type": "stream",
     "text": [
      "1/1 [==============================] - 0s 58ms/step\n"
     ]
    },
    {
     "name": "stderr",
     "output_type": "stream",
     "text": [
      "Saved 1 image to \u001b[1mruns\\detect\\exp2426\u001b[0m\n",
      "Saved results to runs\\detect\\exp2426\n",
      "\n"
     ]
    },
    {
     "name": "stdout",
     "output_type": "stream",
     "text": [
      "1/1 [==============================] - 0s 43ms/step\n"
     ]
    },
    {
     "name": "stderr",
     "output_type": "stream",
     "text": [
      "Saved 1 image to \u001b[1mruns\\detect\\exp2427\u001b[0m\n",
      "Saved results to runs\\detect\\exp2427\n",
      "\n",
      "Saved 1 image to \u001b[1mruns\\detect\\exp2428\u001b[0m\n",
      "Saved results to runs\\detect\\exp2428\n",
      "\n",
      "Saved 1 image to \u001b[1mruns\\detect\\exp2429\u001b[0m\n",
      "Saved results to runs\\detect\\exp2429\n",
      "\n",
      "Saved 1 image to \u001b[1mruns\\detect\\exp2430\u001b[0m\n",
      "Saved results to runs\\detect\\exp2430\n",
      "\n",
      "Saved 1 image to \u001b[1mruns\\detect\\exp2431\u001b[0m\n",
      "Saved results to runs\\detect\\exp2431\n",
      "\n",
      "Saved 1 image to \u001b[1mruns\\detect\\exp2432\u001b[0m\n",
      "Saved results to runs\\detect\\exp2432\n",
      "\n"
     ]
    },
    {
     "name": "stdout",
     "output_type": "stream",
     "text": [
      "1/1 [==============================] - 0s 46ms/step\n"
     ]
    },
    {
     "name": "stderr",
     "output_type": "stream",
     "text": [
      "Saved 1 image to \u001b[1mruns\\detect\\exp2433\u001b[0m\n",
      "Saved results to runs\\detect\\exp2433\n",
      "\n",
      "Saved 1 image to \u001b[1mruns\\detect\\exp2434\u001b[0m\n",
      "Saved results to runs\\detect\\exp2434\n",
      "\n"
     ]
    },
    {
     "name": "stdout",
     "output_type": "stream",
     "text": [
      "1/1 [==============================] - 0s 41ms/step\n"
     ]
    },
    {
     "name": "stderr",
     "output_type": "stream",
     "text": [
      "Saved 1 image to \u001b[1mruns\\detect\\exp2435\u001b[0m\n",
      "Saved results to runs\\detect\\exp2435\n",
      "\n"
     ]
    },
    {
     "name": "stdout",
     "output_type": "stream",
     "text": [
      "1/1 [==============================] - 0s 40ms/step\n"
     ]
    },
    {
     "name": "stderr",
     "output_type": "stream",
     "text": [
      "Saved 1 image to \u001b[1mruns\\detect\\exp2436\u001b[0m\n",
      "Saved results to runs\\detect\\exp2436\n",
      "\n"
     ]
    },
    {
     "name": "stdout",
     "output_type": "stream",
     "text": [
      "1/1 [==============================] - 0s 47ms/step\n"
     ]
    },
    {
     "name": "stderr",
     "output_type": "stream",
     "text": [
      "Saved 1 image to \u001b[1mruns\\detect\\exp2437\u001b[0m\n",
      "Saved results to runs\\detect\\exp2437\n",
      "\n"
     ]
    },
    {
     "name": "stdout",
     "output_type": "stream",
     "text": [
      "1/1 [==============================] - 0s 47ms/step\n"
     ]
    },
    {
     "name": "stderr",
     "output_type": "stream",
     "text": [
      "Saved 1 image to \u001b[1mruns\\detect\\exp2438\u001b[0m\n",
      "Saved results to runs\\detect\\exp2438\n",
      "\n"
     ]
    },
    {
     "name": "stdout",
     "output_type": "stream",
     "text": [
      "1/1 [==============================] - 0s 47ms/step\n"
     ]
    },
    {
     "name": "stderr",
     "output_type": "stream",
     "text": [
      "Saved 1 image to \u001b[1mruns\\detect\\exp2439\u001b[0m\n",
      "Saved results to runs\\detect\\exp2439\n",
      "\n"
     ]
    },
    {
     "name": "stdout",
     "output_type": "stream",
     "text": [
      "1/1 [==============================] - 0s 41ms/step\n"
     ]
    },
    {
     "name": "stderr",
     "output_type": "stream",
     "text": [
      "Saved 1 image to \u001b[1mruns\\detect\\exp2440\u001b[0m\n",
      "Saved results to runs\\detect\\exp2440\n",
      "\n"
     ]
    },
    {
     "name": "stdout",
     "output_type": "stream",
     "text": [
      "1/1 [==============================] - 0s 47ms/step\n"
     ]
    },
    {
     "name": "stderr",
     "output_type": "stream",
     "text": [
      "Saved 1 image to \u001b[1mruns\\detect\\exp2441\u001b[0m\n",
      "Saved results to runs\\detect\\exp2441\n",
      "\n"
     ]
    },
    {
     "name": "stdout",
     "output_type": "stream",
     "text": [
      "1/1 [==============================] - 0s 47ms/step\n"
     ]
    },
    {
     "name": "stderr",
     "output_type": "stream",
     "text": [
      "Saved 1 image to \u001b[1mruns\\detect\\exp2442\u001b[0m\n",
      "Saved results to runs\\detect\\exp2442\n",
      "\n",
      "Saved 1 image to \u001b[1mruns\\detect\\exp2443\u001b[0m\n",
      "Saved results to runs\\detect\\exp2443\n",
      "\n"
     ]
    },
    {
     "name": "stdout",
     "output_type": "stream",
     "text": [
      "1/1 [==============================] - 0s 47ms/step\n"
     ]
    },
    {
     "name": "stderr",
     "output_type": "stream",
     "text": [
      "Saved 1 image to \u001b[1mruns\\detect\\exp2444\u001b[0m\n",
      "Saved results to runs\\detect\\exp2444\n",
      "\n",
      "Saved 1 image to \u001b[1mruns\\detect\\exp2445\u001b[0m\n",
      "Saved results to runs\\detect\\exp2445\n",
      "\n"
     ]
    },
    {
     "name": "stdout",
     "output_type": "stream",
     "text": [
      "1/1 [==============================] - 0s 48ms/step\n"
     ]
    },
    {
     "name": "stderr",
     "output_type": "stream",
     "text": [
      "Saved 1 image to \u001b[1mruns\\detect\\exp2446\u001b[0m\n",
      "Saved results to runs\\detect\\exp2446\n",
      "\n"
     ]
    },
    {
     "name": "stdout",
     "output_type": "stream",
     "text": [
      "1/1 [==============================] - 0s 41ms/step\n"
     ]
    },
    {
     "name": "stderr",
     "output_type": "stream",
     "text": [
      "Saved 1 image to \u001b[1mruns\\detect\\exp2447\u001b[0m\n",
      "Saved results to runs\\detect\\exp2447\n",
      "\n"
     ]
    },
    {
     "name": "stdout",
     "output_type": "stream",
     "text": [
      "1/1 [==============================] - 0s 49ms/step\n",
      "1/1 [==============================] - 0s 44ms/step\n"
     ]
    },
    {
     "name": "stderr",
     "output_type": "stream",
     "text": [
      "Saved 1 image to \u001b[1mruns\\detect\\exp2448\u001b[0m\n",
      "Saved results to runs\\detect\\exp2448\n",
      "\n"
     ]
    },
    {
     "name": "stdout",
     "output_type": "stream",
     "text": [
      "1/1 [==============================] - 0s 45ms/step\n",
      "1/1 [==============================] - 0s 55ms/step\n"
     ]
    },
    {
     "name": "stderr",
     "output_type": "stream",
     "text": [
      "Saved 1 image to \u001b[1mruns\\detect\\exp2449\u001b[0m\n",
      "Saved results to runs\\detect\\exp2449\n",
      "\n"
     ]
    },
    {
     "name": "stdout",
     "output_type": "stream",
     "text": [
      "1/1 [==============================] - 0s 48ms/step\n"
     ]
    },
    {
     "name": "stderr",
     "output_type": "stream",
     "text": [
      "Saved 1 image to \u001b[1mruns\\detect\\exp2450\u001b[0m\n",
      "Saved results to runs\\detect\\exp2450\n",
      "\n"
     ]
    },
    {
     "name": "stdout",
     "output_type": "stream",
     "text": [
      "1/1 [==============================] - 0s 48ms/step\n",
      "1/1 [==============================] - 0s 50ms/step\n"
     ]
    },
    {
     "name": "stderr",
     "output_type": "stream",
     "text": [
      "Saved 1 image to \u001b[1mruns\\detect\\exp2451\u001b[0m\n",
      "Saved results to runs\\detect\\exp2451\n",
      "\n"
     ]
    },
    {
     "name": "stdout",
     "output_type": "stream",
     "text": [
      "1/1 [==============================] - 0s 48ms/step\n"
     ]
    },
    {
     "name": "stderr",
     "output_type": "stream",
     "text": [
      "Saved 1 image to \u001b[1mruns\\detect\\exp2452\u001b[0m\n",
      "Saved results to runs\\detect\\exp2452\n",
      "\n",
      "Saved 1 image to \u001b[1mruns\\detect\\exp2453\u001b[0m\n",
      "Saved results to runs\\detect\\exp2453\n",
      "\n"
     ]
    },
    {
     "name": "stdout",
     "output_type": "stream",
     "text": [
      "1/1 [==============================] - 0s 46ms/step\n",
      "1/1 [==============================] - 0s 54ms/step\n"
     ]
    },
    {
     "name": "stderr",
     "output_type": "stream",
     "text": [
      "Saved 1 image to \u001b[1mruns\\detect\\exp2454\u001b[0m\n",
      "Saved results to runs\\detect\\exp2454\n",
      "\n"
     ]
    },
    {
     "name": "stdout",
     "output_type": "stream",
     "text": [
      "1/1 [==============================] - 0s 60ms/step\n"
     ]
    },
    {
     "name": "stderr",
     "output_type": "stream",
     "text": [
      "Saved 1 image to \u001b[1mruns\\detect\\exp2455\u001b[0m\n",
      "Saved results to runs\\detect\\exp2455\n",
      "\n"
     ]
    },
    {
     "name": "stdout",
     "output_type": "stream",
     "text": [
      "1/1 [==============================] - 0s 41ms/step\n",
      "1/1 [==============================] - 0s 58ms/step\n"
     ]
    },
    {
     "name": "stderr",
     "output_type": "stream",
     "text": [
      "Saved 1 image to \u001b[1mruns\\detect\\exp2456\u001b[0m\n",
      "Saved results to runs\\detect\\exp2456\n",
      "\n"
     ]
    },
    {
     "name": "stdout",
     "output_type": "stream",
     "text": [
      "1/1 [==============================] - 0s 40ms/step\n",
      "1/1 [==============================] - 0s 50ms/step\n"
     ]
    },
    {
     "name": "stderr",
     "output_type": "stream",
     "text": [
      "Saved 1 image to \u001b[1mruns\\detect\\exp2457\u001b[0m\n",
      "Saved results to runs\\detect\\exp2457\n",
      "\n"
     ]
    },
    {
     "name": "stdout",
     "output_type": "stream",
     "text": [
      "1/1 [==============================] - 0s 71ms/step\n",
      "1/1 [==============================] - 0s 52ms/step\n"
     ]
    },
    {
     "name": "stderr",
     "output_type": "stream",
     "text": [
      "Saved 1 image to \u001b[1mruns\\detect\\exp2458\u001b[0m\n",
      "Saved results to runs\\detect\\exp2458\n",
      "\n"
     ]
    },
    {
     "name": "stdout",
     "output_type": "stream",
     "text": [
      "1/1 [==============================] - 0s 36ms/step\n",
      "1/1 [==============================] - 0s 41ms/step\n"
     ]
    },
    {
     "name": "stderr",
     "output_type": "stream",
     "text": [
      "Saved 1 image to \u001b[1mruns\\detect\\exp2459\u001b[0m\n",
      "Saved results to runs\\detect\\exp2459\n",
      "\n"
     ]
    },
    {
     "name": "stdout",
     "output_type": "stream",
     "text": [
      "1/1 [==============================] - 0s 48ms/step\n",
      "1/1 [==============================] - 0s 52ms/step\n"
     ]
    },
    {
     "name": "stderr",
     "output_type": "stream",
     "text": [
      "Saved 1 image to \u001b[1mruns\\detect\\exp2460\u001b[0m\n",
      "Saved results to runs\\detect\\exp2460\n",
      "\n"
     ]
    },
    {
     "name": "stdout",
     "output_type": "stream",
     "text": [
      "1/1 [==============================] - 0s 52ms/step\n",
      "1/1 [==============================] - 0s 60ms/step\n"
     ]
    },
    {
     "name": "stderr",
     "output_type": "stream",
     "text": [
      "Saved 1 image to \u001b[1mruns\\detect\\exp2461\u001b[0m\n",
      "Saved results to runs\\detect\\exp2461\n",
      "\n"
     ]
    },
    {
     "name": "stdout",
     "output_type": "stream",
     "text": [
      "1/1 [==============================] - 0s 46ms/step\n",
      "1/1 [==============================] - 0s 40ms/step\n"
     ]
    },
    {
     "name": "stderr",
     "output_type": "stream",
     "text": [
      "Saved 1 image to \u001b[1mruns\\detect\\exp2462\u001b[0m\n",
      "Saved results to runs\\detect\\exp2462\n",
      "\n"
     ]
    },
    {
     "name": "stdout",
     "output_type": "stream",
     "text": [
      "1/1 [==============================] - 0s 55ms/step\n",
      "1/1 [==============================] - 0s 51ms/step\n"
     ]
    },
    {
     "name": "stderr",
     "output_type": "stream",
     "text": [
      "Saved 1 image to \u001b[1mruns\\detect\\exp2463\u001b[0m\n",
      "Saved results to runs\\detect\\exp2463\n",
      "\n"
     ]
    },
    {
     "name": "stdout",
     "output_type": "stream",
     "text": [
      "1/1 [==============================] - 0s 48ms/step\n",
      "1/1 [==============================] - 0s 50ms/step\n"
     ]
    },
    {
     "name": "stderr",
     "output_type": "stream",
     "text": [
      "Saved 1 image to \u001b[1mruns\\detect\\exp2464\u001b[0m\n",
      "Saved results to runs\\detect\\exp2464\n",
      "\n"
     ]
    },
    {
     "name": "stdout",
     "output_type": "stream",
     "text": [
      "1/1 [==============================] - 0s 43ms/step\n",
      "1/1 [==============================] - 0s 61ms/step\n"
     ]
    },
    {
     "name": "stderr",
     "output_type": "stream",
     "text": [
      "Saved 1 image to \u001b[1mruns\\detect\\exp2465\u001b[0m\n",
      "Saved results to runs\\detect\\exp2465\n",
      "\n"
     ]
    },
    {
     "name": "stdout",
     "output_type": "stream",
     "text": [
      "1/1 [==============================] - 0s 47ms/step\n",
      "1/1 [==============================] - 0s 56ms/step\n"
     ]
    },
    {
     "name": "stderr",
     "output_type": "stream",
     "text": [
      "Saved 1 image to \u001b[1mruns\\detect\\exp2466\u001b[0m\n",
      "Saved results to runs\\detect\\exp2466\n",
      "\n"
     ]
    },
    {
     "name": "stdout",
     "output_type": "stream",
     "text": [
      "1/1 [==============================] - 0s 49ms/step\n",
      "1/1 [==============================] - 0s 55ms/step\n"
     ]
    },
    {
     "name": "stderr",
     "output_type": "stream",
     "text": [
      "Saved 1 image to \u001b[1mruns\\detect\\exp2467\u001b[0m\n",
      "Saved results to runs\\detect\\exp2467\n",
      "\n"
     ]
    },
    {
     "name": "stdout",
     "output_type": "stream",
     "text": [
      "1/1 [==============================] - 0s 46ms/step\n",
      "1/1 [==============================] - 0s 56ms/step\n"
     ]
    },
    {
     "name": "stderr",
     "output_type": "stream",
     "text": [
      "Saved 1 image to \u001b[1mruns\\detect\\exp2468\u001b[0m\n",
      "Saved results to runs\\detect\\exp2468\n",
      "\n"
     ]
    },
    {
     "name": "stdout",
     "output_type": "stream",
     "text": [
      "1/1 [==============================] - 0s 49ms/step\n"
     ]
    },
    {
     "name": "stderr",
     "output_type": "stream",
     "text": [
      "Saved 1 image to \u001b[1mruns\\detect\\exp2469\u001b[0m\n",
      "Saved results to runs\\detect\\exp2469\n",
      "\n"
     ]
    },
    {
     "name": "stdout",
     "output_type": "stream",
     "text": [
      "1/1 [==============================] - 0s 42ms/step\n"
     ]
    },
    {
     "name": "stderr",
     "output_type": "stream",
     "text": [
      "Saved 1 image to \u001b[1mruns\\detect\\exp2470\u001b[0m\n",
      "Saved results to runs\\detect\\exp2470\n",
      "\n"
     ]
    },
    {
     "name": "stdout",
     "output_type": "stream",
     "text": [
      "1/1 [==============================] - 0s 49ms/step\n"
     ]
    },
    {
     "name": "stderr",
     "output_type": "stream",
     "text": [
      "Saved 1 image to \u001b[1mruns\\detect\\exp2471\u001b[0m\n",
      "Saved results to runs\\detect\\exp2471\n",
      "\n"
     ]
    },
    {
     "name": "stdout",
     "output_type": "stream",
     "text": [
      "1/1 [==============================] - 0s 41ms/step\n",
      "1/1 [==============================] - 0s 55ms/step\n"
     ]
    },
    {
     "name": "stderr",
     "output_type": "stream",
     "text": [
      "Saved 1 image to \u001b[1mruns\\detect\\exp2472\u001b[0m\n",
      "Saved results to runs\\detect\\exp2472\n",
      "\n"
     ]
    },
    {
     "name": "stdout",
     "output_type": "stream",
     "text": [
      "1/1 [==============================] - 0s 46ms/step\n"
     ]
    },
    {
     "name": "stderr",
     "output_type": "stream",
     "text": [
      "Saved 1 image to \u001b[1mruns\\detect\\exp2473\u001b[0m\n",
      "Saved results to runs\\detect\\exp2473\n",
      "\n"
     ]
    },
    {
     "name": "stdout",
     "output_type": "stream",
     "text": [
      "1/1 [==============================] - 0s 52ms/step\n"
     ]
    },
    {
     "name": "stderr",
     "output_type": "stream",
     "text": [
      "Saved 1 image to \u001b[1mruns\\detect\\exp2474\u001b[0m\n",
      "Saved results to runs\\detect\\exp2474\n",
      "\n"
     ]
    },
    {
     "name": "stdout",
     "output_type": "stream",
     "text": [
      "1/1 [==============================] - 0s 44ms/step\n",
      "1/1 [==============================] - 0s 46ms/step\n"
     ]
    },
    {
     "name": "stderr",
     "output_type": "stream",
     "text": [
      "Saved 1 image to \u001b[1mruns\\detect\\exp2475\u001b[0m\n",
      "Saved results to runs\\detect\\exp2475\n",
      "\n"
     ]
    },
    {
     "name": "stdout",
     "output_type": "stream",
     "text": [
      "1/1 [==============================] - 0s 55ms/step\n",
      "1/1 [==============================] - 0s 66ms/step\n"
     ]
    },
    {
     "name": "stderr",
     "output_type": "stream",
     "text": [
      "Saved 1 image to \u001b[1mruns\\detect\\exp2476\u001b[0m\n",
      "Saved results to runs\\detect\\exp2476\n",
      "\n"
     ]
    },
    {
     "name": "stdout",
     "output_type": "stream",
     "text": [
      "1/1 [==============================] - 0s 47ms/step\n",
      "1/1 [==============================] - 0s 44ms/step\n"
     ]
    },
    {
     "name": "stderr",
     "output_type": "stream",
     "text": [
      "Saved 1 image to \u001b[1mruns\\detect\\exp2477\u001b[0m\n",
      "Saved results to runs\\detect\\exp2477\n",
      "\n"
     ]
    },
    {
     "name": "stdout",
     "output_type": "stream",
     "text": [
      "1/1 [==============================] - 0s 37ms/step\n"
     ]
    },
    {
     "name": "stderr",
     "output_type": "stream",
     "text": [
      "Saved 1 image to \u001b[1mruns\\detect\\exp2478\u001b[0m\n",
      "Saved results to runs\\detect\\exp2478\n",
      "\n"
     ]
    },
    {
     "name": "stdout",
     "output_type": "stream",
     "text": [
      "1/1 [==============================] - 0s 47ms/step\n",
      "1/1 [==============================] - 0s 44ms/step\n"
     ]
    },
    {
     "name": "stderr",
     "output_type": "stream",
     "text": [
      "Saved 1 image to \u001b[1mruns\\detect\\exp2479\u001b[0m\n",
      "Saved results to runs\\detect\\exp2479\n",
      "\n"
     ]
    },
    {
     "name": "stdout",
     "output_type": "stream",
     "text": [
      "1/1 [==============================] - 0s 54ms/step\n"
     ]
    },
    {
     "name": "stderr",
     "output_type": "stream",
     "text": [
      "Saved 1 image to \u001b[1mruns\\detect\\exp2480\u001b[0m\n",
      "Saved results to runs\\detect\\exp2480\n",
      "\n"
     ]
    },
    {
     "name": "stdout",
     "output_type": "stream",
     "text": [
      "1/1 [==============================] - 0s 58ms/step\n",
      "1/1 [==============================] - 0s 54ms/step\n"
     ]
    },
    {
     "name": "stderr",
     "output_type": "stream",
     "text": [
      "Saved 1 image to \u001b[1mruns\\detect\\exp2481\u001b[0m\n",
      "Saved results to runs\\detect\\exp2481\n",
      "\n"
     ]
    },
    {
     "name": "stdout",
     "output_type": "stream",
     "text": [
      "1/1 [==============================] - 0s 50ms/step\n",
      "1/1 [==============================] - 0s 67ms/step\n"
     ]
    },
    {
     "name": "stderr",
     "output_type": "stream",
     "text": [
      "Saved 1 image to \u001b[1mruns\\detect\\exp2482\u001b[0m\n",
      "Saved results to runs\\detect\\exp2482\n",
      "\n"
     ]
    },
    {
     "name": "stdout",
     "output_type": "stream",
     "text": [
      "1/1 [==============================] - 0s 64ms/step\n"
     ]
    },
    {
     "name": "stderr",
     "output_type": "stream",
     "text": [
      "Saved 1 image to \u001b[1mruns\\detect\\exp2483\u001b[0m\n",
      "Saved results to runs\\detect\\exp2483\n",
      "\n"
     ]
    },
    {
     "name": "stdout",
     "output_type": "stream",
     "text": [
      "1/1 [==============================] - 0s 68ms/step\n",
      "1/1 [==============================] - 0s 52ms/step\n"
     ]
    },
    {
     "name": "stderr",
     "output_type": "stream",
     "text": [
      "Saved 1 image to \u001b[1mruns\\detect\\exp2484\u001b[0m\n",
      "Saved results to runs\\detect\\exp2484\n",
      "\n"
     ]
    },
    {
     "name": "stdout",
     "output_type": "stream",
     "text": [
      "1/1 [==============================] - 0s 54ms/step\n",
      "1/1 [==============================] - 0s 63ms/step\n"
     ]
    },
    {
     "name": "stderr",
     "output_type": "stream",
     "text": [
      "Saved 1 image to \u001b[1mruns\\detect\\exp2485\u001b[0m\n",
      "Saved results to runs\\detect\\exp2485\n",
      "\n"
     ]
    },
    {
     "name": "stdout",
     "output_type": "stream",
     "text": [
      "1/1 [==============================] - 0s 56ms/step\n",
      "1/1 [==============================] - 0s 60ms/step\n"
     ]
    },
    {
     "name": "stderr",
     "output_type": "stream",
     "text": [
      "Saved 1 image to \u001b[1mruns\\detect\\exp2486\u001b[0m\n",
      "Saved results to runs\\detect\\exp2486\n",
      "\n"
     ]
    },
    {
     "name": "stdout",
     "output_type": "stream",
     "text": [
      "1/1 [==============================] - 0s 53ms/step\n",
      "1/1 [==============================] - 0s 53ms/step\n"
     ]
    },
    {
     "name": "stderr",
     "output_type": "stream",
     "text": [
      "Saved 1 image to \u001b[1mruns\\detect\\exp2487\u001b[0m\n",
      "Saved results to runs\\detect\\exp2487\n",
      "\n"
     ]
    },
    {
     "name": "stdout",
     "output_type": "stream",
     "text": [
      "1/1 [==============================] - 0s 55ms/step\n",
      "1/1 [==============================] - 0s 71ms/step\n"
     ]
    },
    {
     "name": "stderr",
     "output_type": "stream",
     "text": [
      "Saved 1 image to \u001b[1mruns\\detect\\exp2488\u001b[0m\n",
      "Saved results to runs\\detect\\exp2488\n",
      "\n"
     ]
    },
    {
     "name": "stdout",
     "output_type": "stream",
     "text": [
      "1/1 [==============================] - 0s 53ms/step\n",
      "1/1 [==============================] - 0s 52ms/step\n"
     ]
    },
    {
     "name": "stderr",
     "output_type": "stream",
     "text": [
      "Saved 1 image to \u001b[1mruns\\detect\\exp2489\u001b[0m\n",
      "Saved results to runs\\detect\\exp2489\n",
      "\n"
     ]
    },
    {
     "name": "stdout",
     "output_type": "stream",
     "text": [
      "1/1 [==============================] - 0s 51ms/step\n",
      "1/1 [==============================] - 0s 48ms/step\n"
     ]
    },
    {
     "name": "stderr",
     "output_type": "stream",
     "text": [
      "Saved 1 image to \u001b[1mruns\\detect\\exp2490\u001b[0m\n",
      "Saved results to runs\\detect\\exp2490\n",
      "\n"
     ]
    },
    {
     "name": "stdout",
     "output_type": "stream",
     "text": [
      "1/1 [==============================] - 0s 68ms/step\n",
      "1/1 [==============================] - 0s 130ms/step\n"
     ]
    },
    {
     "name": "stderr",
     "output_type": "stream",
     "text": [
      "Saved 1 image to \u001b[1mruns\\detect\\exp2491\u001b[0m\n",
      "Saved results to runs\\detect\\exp2491\n",
      "\n"
     ]
    },
    {
     "name": "stdout",
     "output_type": "stream",
     "text": [
      "1/1 [==============================] - 0s 45ms/step\n",
      "1/1 [==============================] - 0s 43ms/step\n"
     ]
    },
    {
     "name": "stderr",
     "output_type": "stream",
     "text": [
      "Saved 1 image to \u001b[1mruns\\detect\\exp2492\u001b[0m\n",
      "Saved results to runs\\detect\\exp2492\n",
      "\n"
     ]
    },
    {
     "name": "stdout",
     "output_type": "stream",
     "text": [
      "1/1 [==============================] - 0s 46ms/step\n",
      "1/1 [==============================] - 0s 57ms/step\n"
     ]
    },
    {
     "name": "stderr",
     "output_type": "stream",
     "text": [
      "Saved 1 image to \u001b[1mruns\\detect\\exp2493\u001b[0m\n",
      "Saved results to runs\\detect\\exp2493\n",
      "\n"
     ]
    },
    {
     "name": "stdout",
     "output_type": "stream",
     "text": [
      "1/1 [==============================] - 0s 59ms/step\n",
      "1/1 [==============================] - 0s 75ms/step\n"
     ]
    },
    {
     "name": "stderr",
     "output_type": "stream",
     "text": [
      "Saved 1 image to \u001b[1mruns\\detect\\exp2494\u001b[0m\n",
      "Saved results to runs\\detect\\exp2494\n",
      "\n"
     ]
    },
    {
     "name": "stdout",
     "output_type": "stream",
     "text": [
      "1/1 [==============================] - 0s 81ms/step\n",
      "1/1 [==============================] - 0s 70ms/step\n"
     ]
    },
    {
     "name": "stderr",
     "output_type": "stream",
     "text": [
      "Saved 1 image to \u001b[1mruns\\detect\\exp2495\u001b[0m\n",
      "Saved results to runs\\detect\\exp2495\n",
      "\n"
     ]
    },
    {
     "name": "stdout",
     "output_type": "stream",
     "text": [
      "1/1 [==============================] - 0s 57ms/step\n",
      "1/1 [==============================] - 0s 59ms/step\n"
     ]
    },
    {
     "name": "stderr",
     "output_type": "stream",
     "text": [
      "Saved 1 image to \u001b[1mruns\\detect\\exp2496\u001b[0m\n",
      "Saved results to runs\\detect\\exp2496\n",
      "\n"
     ]
    },
    {
     "name": "stdout",
     "output_type": "stream",
     "text": [
      "1/1 [==============================] - 0s 57ms/step\n",
      "1/1 [==============================] - 0s 59ms/step\n"
     ]
    },
    {
     "name": "stderr",
     "output_type": "stream",
     "text": [
      "Saved 1 image to \u001b[1mruns\\detect\\exp2497\u001b[0m\n",
      "Saved results to runs\\detect\\exp2497\n",
      "\n"
     ]
    },
    {
     "name": "stdout",
     "output_type": "stream",
     "text": [
      "1/1 [==============================] - 0s 43ms/step\n"
     ]
    },
    {
     "name": "stderr",
     "output_type": "stream",
     "text": [
      "Saved 1 image to \u001b[1mruns\\detect\\exp2498\u001b[0m\n",
      "Saved results to runs\\detect\\exp2498\n",
      "\n"
     ]
    },
    {
     "name": "stdout",
     "output_type": "stream",
     "text": [
      "1/1 [==============================] - 0s 58ms/step\n",
      "1/1 [==============================] - 0s 51ms/step\n"
     ]
    },
    {
     "name": "stderr",
     "output_type": "stream",
     "text": [
      "Saved 1 image to \u001b[1mruns\\detect\\exp2499\u001b[0m\n",
      "Saved results to runs\\detect\\exp2499\n",
      "\n"
     ]
    },
    {
     "name": "stdout",
     "output_type": "stream",
     "text": [
      "1/1 [==============================] - 0s 59ms/step\n",
      "1/1 [==============================] - 0s 45ms/step\n"
     ]
    },
    {
     "name": "stderr",
     "output_type": "stream",
     "text": [
      "Saved 1 image to \u001b[1mruns\\detect\\exp2500\u001b[0m\n",
      "Saved results to runs\\detect\\exp2500\n",
      "\n"
     ]
    },
    {
     "name": "stdout",
     "output_type": "stream",
     "text": [
      "1/1 [==============================] - 0s 65ms/step\n",
      "1/1 [==============================] - 0s 48ms/step\n"
     ]
    },
    {
     "name": "stderr",
     "output_type": "stream",
     "text": [
      "Saved 1 image to \u001b[1mruns\\detect\\exp2501\u001b[0m\n",
      "Saved results to runs\\detect\\exp2501\n",
      "\n"
     ]
    },
    {
     "name": "stdout",
     "output_type": "stream",
     "text": [
      "1/1 [==============================] - 0s 39ms/step\n",
      "1/1 [==============================] - 0s 50ms/step\n"
     ]
    },
    {
     "name": "stderr",
     "output_type": "stream",
     "text": [
      "Saved 1 image to \u001b[1mruns\\detect\\exp2502\u001b[0m\n",
      "Saved results to runs\\detect\\exp2502\n",
      "\n"
     ]
    },
    {
     "name": "stdout",
     "output_type": "stream",
     "text": [
      "1/1 [==============================] - 0s 93ms/step\n",
      "1/1 [==============================] - 0s 211ms/step\n"
     ]
    },
    {
     "name": "stderr",
     "output_type": "stream",
     "text": [
      "Saved 1 image to \u001b[1mruns\\detect\\exp2503\u001b[0m\n",
      "Saved results to runs\\detect\\exp2503\n",
      "\n"
     ]
    },
    {
     "name": "stdout",
     "output_type": "stream",
     "text": [
      "1/1 [==============================] - 0s 71ms/step\n",
      "1/1 [==============================] - 0s 54ms/step\n"
     ]
    },
    {
     "name": "stderr",
     "output_type": "stream",
     "text": [
      "Saved 1 image to \u001b[1mruns\\detect\\exp2504\u001b[0m\n",
      "Saved results to runs\\detect\\exp2504\n",
      "\n"
     ]
    },
    {
     "name": "stdout",
     "output_type": "stream",
     "text": [
      "1/1 [==============================] - 0s 41ms/step\n",
      "1/1 [==============================] - 0s 46ms/step\n"
     ]
    },
    {
     "name": "stderr",
     "output_type": "stream",
     "text": [
      "Saved 1 image to \u001b[1mruns\\detect\\exp2505\u001b[0m\n",
      "Saved results to runs\\detect\\exp2505\n",
      "\n"
     ]
    },
    {
     "name": "stdout",
     "output_type": "stream",
     "text": [
      "1/1 [==============================] - 0s 47ms/step\n",
      "1/1 [==============================] - 0s 48ms/step\n"
     ]
    },
    {
     "name": "stderr",
     "output_type": "stream",
     "text": [
      "Saved 1 image to \u001b[1mruns\\detect\\exp2506\u001b[0m\n",
      "Saved results to runs\\detect\\exp2506\n",
      "\n"
     ]
    },
    {
     "name": "stdout",
     "output_type": "stream",
     "text": [
      "1/1 [==============================] - 0s 59ms/step\n",
      "1/1 [==============================] - 0s 43ms/step\n"
     ]
    },
    {
     "name": "stderr",
     "output_type": "stream",
     "text": [
      "Saved 1 image to \u001b[1mruns\\detect\\exp2507\u001b[0m\n",
      "Saved results to runs\\detect\\exp2507\n",
      "\n"
     ]
    },
    {
     "name": "stdout",
     "output_type": "stream",
     "text": [
      "1/1 [==============================] - 0s 47ms/step\n",
      "1/1 [==============================] - 0s 50ms/step\n"
     ]
    },
    {
     "name": "stderr",
     "output_type": "stream",
     "text": [
      "Saved 1 image to \u001b[1mruns\\detect\\exp2508\u001b[0m\n",
      "Saved results to runs\\detect\\exp2508\n",
      "\n"
     ]
    },
    {
     "name": "stdout",
     "output_type": "stream",
     "text": [
      "1/1 [==============================] - 0s 46ms/step\n",
      "1/1 [==============================] - 0s 46ms/step\n"
     ]
    },
    {
     "name": "stderr",
     "output_type": "stream",
     "text": [
      "Saved 1 image to \u001b[1mruns\\detect\\exp2509\u001b[0m\n",
      "Saved results to runs\\detect\\exp2509\n",
      "\n"
     ]
    },
    {
     "name": "stdout",
     "output_type": "stream",
     "text": [
      "1/1 [==============================] - 0s 44ms/step\n",
      "1/1 [==============================] - 0s 38ms/step\n"
     ]
    },
    {
     "name": "stderr",
     "output_type": "stream",
     "text": [
      "Saved 1 image to \u001b[1mruns\\detect\\exp2510\u001b[0m\n",
      "Saved results to runs\\detect\\exp2510\n",
      "\n"
     ]
    },
    {
     "name": "stdout",
     "output_type": "stream",
     "text": [
      "1/1 [==============================] - 0s 37ms/step\n",
      "1/1 [==============================] - 0s 47ms/step\n"
     ]
    },
    {
     "name": "stderr",
     "output_type": "stream",
     "text": [
      "Saved 1 image to \u001b[1mruns\\detect\\exp2511\u001b[0m\n",
      "Saved results to runs\\detect\\exp2511\n",
      "\n"
     ]
    },
    {
     "name": "stdout",
     "output_type": "stream",
     "text": [
      "1/1 [==============================] - 0s 38ms/step\n",
      "1/1 [==============================] - 0s 51ms/step\n"
     ]
    },
    {
     "name": "stderr",
     "output_type": "stream",
     "text": [
      "Saved 1 image to \u001b[1mruns\\detect\\exp2512\u001b[0m\n",
      "Saved results to runs\\detect\\exp2512\n",
      "\n"
     ]
    },
    {
     "name": "stdout",
     "output_type": "stream",
     "text": [
      "1/1 [==============================] - 0s 38ms/step\n",
      "1/1 [==============================] - 0s 34ms/step\n"
     ]
    },
    {
     "name": "stderr",
     "output_type": "stream",
     "text": [
      "Saved 1 image to \u001b[1mruns\\detect\\exp2513\u001b[0m\n",
      "Saved results to runs\\detect\\exp2513\n",
      "\n"
     ]
    },
    {
     "name": "stdout",
     "output_type": "stream",
     "text": [
      "1/1 [==============================] - 0s 40ms/step\n",
      "1/1 [==============================] - 0s 46ms/step\n"
     ]
    },
    {
     "name": "stderr",
     "output_type": "stream",
     "text": [
      "Saved 1 image to \u001b[1mruns\\detect\\exp2514\u001b[0m\n",
      "Saved results to runs\\detect\\exp2514\n",
      "\n"
     ]
    },
    {
     "name": "stdout",
     "output_type": "stream",
     "text": [
      "1/1 [==============================] - 0s 38ms/step\n",
      "1/1 [==============================] - 0s 39ms/step\n"
     ]
    },
    {
     "name": "stderr",
     "output_type": "stream",
     "text": [
      "Saved 1 image to \u001b[1mruns\\detect\\exp2515\u001b[0m\n",
      "Saved results to runs\\detect\\exp2515\n",
      "\n"
     ]
    },
    {
     "name": "stdout",
     "output_type": "stream",
     "text": [
      "1/1 [==============================] - 0s 58ms/step\n",
      "1/1 [==============================] - 0s 52ms/step\n"
     ]
    },
    {
     "name": "stderr",
     "output_type": "stream",
     "text": [
      "Saved 1 image to \u001b[1mruns\\detect\\exp2516\u001b[0m\n",
      "Saved results to runs\\detect\\exp2516\n",
      "\n"
     ]
    },
    {
     "name": "stdout",
     "output_type": "stream",
     "text": [
      "1/1 [==============================] - 0s 56ms/step\n",
      "1/1 [==============================] - 0s 52ms/step\n"
     ]
    },
    {
     "name": "stderr",
     "output_type": "stream",
     "text": [
      "Saved 1 image to \u001b[1mruns\\detect\\exp2517\u001b[0m\n",
      "Saved results to runs\\detect\\exp2517\n",
      "\n"
     ]
    },
    {
     "name": "stdout",
     "output_type": "stream",
     "text": [
      "1/1 [==============================] - 0s 45ms/step\n",
      "1/1 [==============================] - 0s 41ms/step\n"
     ]
    },
    {
     "name": "stderr",
     "output_type": "stream",
     "text": [
      "Saved 1 image to \u001b[1mruns\\detect\\exp2518\u001b[0m\n",
      "Saved results to runs\\detect\\exp2518\n",
      "\n"
     ]
    },
    {
     "name": "stdout",
     "output_type": "stream",
     "text": [
      "1/1 [==============================] - 0s 49ms/step\n",
      "1/1 [==============================] - 0s 47ms/step\n"
     ]
    },
    {
     "name": "stderr",
     "output_type": "stream",
     "text": [
      "Saved 1 image to \u001b[1mruns\\detect\\exp2519\u001b[0m\n",
      "Saved results to runs\\detect\\exp2519\n",
      "\n"
     ]
    },
    {
     "name": "stdout",
     "output_type": "stream",
     "text": [
      "1/1 [==============================] - 0s 44ms/step\n",
      "1/1 [==============================] - 0s 69ms/step\n"
     ]
    },
    {
     "name": "stderr",
     "output_type": "stream",
     "text": [
      "Saved 1 image to \u001b[1mruns\\detect\\exp2520\u001b[0m\n",
      "Saved results to runs\\detect\\exp2520\n",
      "\n"
     ]
    },
    {
     "name": "stdout",
     "output_type": "stream",
     "text": [
      "1/1 [==============================] - 0s 47ms/step\n",
      "1/1 [==============================] - 0s 51ms/step\n"
     ]
    },
    {
     "name": "stderr",
     "output_type": "stream",
     "text": [
      "Saved 1 image to \u001b[1mruns\\detect\\exp2521\u001b[0m\n",
      "Saved results to runs\\detect\\exp2521\n",
      "\n"
     ]
    },
    {
     "name": "stdout",
     "output_type": "stream",
     "text": [
      "1/1 [==============================] - 0s 55ms/step\n",
      "1/1 [==============================] - 0s 61ms/step\n"
     ]
    },
    {
     "name": "stderr",
     "output_type": "stream",
     "text": [
      "Saved 1 image to \u001b[1mruns\\detect\\exp2522\u001b[0m\n",
      "Saved results to runs\\detect\\exp2522\n",
      "\n"
     ]
    },
    {
     "name": "stdout",
     "output_type": "stream",
     "text": [
      "1/1 [==============================] - 0s 44ms/step\n",
      "1/1 [==============================] - 0s 67ms/step\n"
     ]
    },
    {
     "name": "stderr",
     "output_type": "stream",
     "text": [
      "Saved 1 image to \u001b[1mruns\\detect\\exp2523\u001b[0m\n",
      "Saved results to runs\\detect\\exp2523\n",
      "\n"
     ]
    },
    {
     "name": "stdout",
     "output_type": "stream",
     "text": [
      "1/1 [==============================] - 0s 40ms/step\n",
      "1/1 [==============================] - 0s 58ms/step\n"
     ]
    },
    {
     "name": "stderr",
     "output_type": "stream",
     "text": [
      "Saved 1 image to \u001b[1mruns\\detect\\exp2524\u001b[0m\n",
      "Saved results to runs\\detect\\exp2524\n",
      "\n"
     ]
    },
    {
     "name": "stdout",
     "output_type": "stream",
     "text": [
      "1/1 [==============================] - 0s 46ms/step\n",
      "1/1 [==============================] - 0s 59ms/step\n"
     ]
    },
    {
     "name": "stderr",
     "output_type": "stream",
     "text": [
      "Saved 1 image to \u001b[1mruns\\detect\\exp2525\u001b[0m\n",
      "Saved results to runs\\detect\\exp2525\n",
      "\n"
     ]
    },
    {
     "name": "stdout",
     "output_type": "stream",
     "text": [
      "1/1 [==============================] - 0s 47ms/step\n",
      "1/1 [==============================] - 0s 49ms/step\n"
     ]
    },
    {
     "name": "stderr",
     "output_type": "stream",
     "text": [
      "Saved 1 image to \u001b[1mruns\\detect\\exp2526\u001b[0m\n",
      "Saved results to runs\\detect\\exp2526\n",
      "\n"
     ]
    },
    {
     "name": "stdout",
     "output_type": "stream",
     "text": [
      "1/1 [==============================] - 0s 63ms/step\n",
      "1/1 [==============================] - 0s 45ms/step\n"
     ]
    },
    {
     "name": "stderr",
     "output_type": "stream",
     "text": [
      "Saved 1 image to \u001b[1mruns\\detect\\exp2527\u001b[0m\n",
      "Saved results to runs\\detect\\exp2527\n",
      "\n"
     ]
    },
    {
     "name": "stdout",
     "output_type": "stream",
     "text": [
      "1/1 [==============================] - 0s 83ms/step\n",
      "1/1 [==============================] - 0s 52ms/step\n"
     ]
    },
    {
     "name": "stderr",
     "output_type": "stream",
     "text": [
      "Saved 1 image to \u001b[1mruns\\detect\\exp2528\u001b[0m\n",
      "Saved results to runs\\detect\\exp2528\n",
      "\n",
      "Saved 1 image to \u001b[1mruns\\detect\\exp2529\u001b[0m\n",
      "Saved results to runs\\detect\\exp2529\n",
      "\n"
     ]
    },
    {
     "name": "stdout",
     "output_type": "stream",
     "text": [
      "1/1 [==============================] - 0s 45ms/step\n"
     ]
    },
    {
     "name": "stderr",
     "output_type": "stream",
     "text": [
      "Saved 1 image to \u001b[1mruns\\detect\\exp2530\u001b[0m\n",
      "Saved results to runs\\detect\\exp2530\n",
      "\n"
     ]
    },
    {
     "name": "stdout",
     "output_type": "stream",
     "text": [
      "1/1 [==============================] - 0s 40ms/step\n"
     ]
    },
    {
     "name": "stderr",
     "output_type": "stream",
     "text": [
      "Saved 1 image to \u001b[1mruns\\detect\\exp2531\u001b[0m\n",
      "Saved results to runs\\detect\\exp2531\n",
      "\n"
     ]
    },
    {
     "name": "stdout",
     "output_type": "stream",
     "text": [
      "1/1 [==============================] - 0s 42ms/step\n",
      "1/1 [==============================] - 0s 40ms/step\n"
     ]
    },
    {
     "name": "stderr",
     "output_type": "stream",
     "text": [
      "Saved 1 image to \u001b[1mruns\\detect\\exp2532\u001b[0m\n",
      "Saved results to runs\\detect\\exp2532\n",
      "\n"
     ]
    },
    {
     "name": "stdout",
     "output_type": "stream",
     "text": [
      "1/1 [==============================] - 0s 38ms/step\n",
      "1/1 [==============================] - 0s 44ms/step\n"
     ]
    },
    {
     "name": "stderr",
     "output_type": "stream",
     "text": [
      "Saved 1 image to \u001b[1mruns\\detect\\exp2533\u001b[0m\n",
      "Saved results to runs\\detect\\exp2533\n",
      "\n"
     ]
    },
    {
     "name": "stdout",
     "output_type": "stream",
     "text": [
      "1/1 [==============================] - 0s 59ms/step\n",
      "1/1 [==============================] - 0s 72ms/step\n"
     ]
    },
    {
     "name": "stderr",
     "output_type": "stream",
     "text": [
      "Saved 1 image to \u001b[1mruns\\detect\\exp2534\u001b[0m\n",
      "Saved results to runs\\detect\\exp2534\n",
      "\n"
     ]
    },
    {
     "name": "stdout",
     "output_type": "stream",
     "text": [
      "1/1 [==============================] - 0s 37ms/step\n",
      "1/1 [==============================] - 0s 37ms/step\n"
     ]
    },
    {
     "name": "stderr",
     "output_type": "stream",
     "text": [
      "Saved 1 image to \u001b[1mruns\\detect\\exp2535\u001b[0m\n",
      "Saved results to runs\\detect\\exp2535\n",
      "\n"
     ]
    },
    {
     "name": "stdout",
     "output_type": "stream",
     "text": [
      "1/1 [==============================] - 0s 45ms/step\n",
      "1/1 [==============================] - 0s 44ms/step\n"
     ]
    },
    {
     "name": "stderr",
     "output_type": "stream",
     "text": [
      "Saved 1 image to \u001b[1mruns\\detect\\exp2536\u001b[0m\n",
      "Saved results to runs\\detect\\exp2536\n",
      "\n"
     ]
    },
    {
     "name": "stdout",
     "output_type": "stream",
     "text": [
      "1/1 [==============================] - 0s 38ms/step\n",
      "1/1 [==============================] - 0s 46ms/step\n"
     ]
    },
    {
     "name": "stderr",
     "output_type": "stream",
     "text": [
      "Saved 1 image to \u001b[1mruns\\detect\\exp2537\u001b[0m\n",
      "Saved results to runs\\detect\\exp2537\n",
      "\n"
     ]
    },
    {
     "name": "stdout",
     "output_type": "stream",
     "text": [
      "1/1 [==============================] - 0s 49ms/step\n"
     ]
    },
    {
     "name": "stderr",
     "output_type": "stream",
     "text": [
      "Saved 1 image to \u001b[1mruns\\detect\\exp2538\u001b[0m\n",
      "Saved results to runs\\detect\\exp2538\n",
      "\n"
     ]
    },
    {
     "name": "stdout",
     "output_type": "stream",
     "text": [
      "1/1 [==============================] - 0s 52ms/step\n"
     ]
    },
    {
     "name": "stderr",
     "output_type": "stream",
     "text": [
      "Saved 1 image to \u001b[1mruns\\detect\\exp2539\u001b[0m\n",
      "Saved results to runs\\detect\\exp2539\n",
      "\n"
     ]
    },
    {
     "name": "stdout",
     "output_type": "stream",
     "text": [
      "1/1 [==============================] - 0s 72ms/step\n"
     ]
    },
    {
     "name": "stderr",
     "output_type": "stream",
     "text": [
      "Saved 1 image to \u001b[1mruns\\detect\\exp2540\u001b[0m\n",
      "Saved results to runs\\detect\\exp2540\n",
      "\n"
     ]
    },
    {
     "name": "stdout",
     "output_type": "stream",
     "text": [
      "1/1 [==============================] - 0s 44ms/step\n"
     ]
    },
    {
     "name": "stderr",
     "output_type": "stream",
     "text": [
      "Saved 1 image to \u001b[1mruns\\detect\\exp2541\u001b[0m\n",
      "Saved results to runs\\detect\\exp2541\n",
      "\n"
     ]
    },
    {
     "name": "stdout",
     "output_type": "stream",
     "text": [
      "1/1 [==============================] - 0s 43ms/step\n",
      "1/1 [==============================] - 0s 45ms/step\n"
     ]
    },
    {
     "name": "stderr",
     "output_type": "stream",
     "text": [
      "Saved 1 image to \u001b[1mruns\\detect\\exp2542\u001b[0m\n",
      "Saved results to runs\\detect\\exp2542\n",
      "\n"
     ]
    },
    {
     "name": "stdout",
     "output_type": "stream",
     "text": [
      "1/1 [==============================] - 0s 161ms/step\n",
      "1/1 [==============================] - 0s 107ms/step\n"
     ]
    },
    {
     "name": "stderr",
     "output_type": "stream",
     "text": [
      "Saved 1 image to \u001b[1mruns\\detect\\exp2543\u001b[0m\n",
      "Saved results to runs\\detect\\exp2543\n",
      "\n"
     ]
    },
    {
     "name": "stdout",
     "output_type": "stream",
     "text": [
      "1/1 [==============================] - 0s 45ms/step\n",
      "1/1 [==============================] - 0s 81ms/step\n"
     ]
    },
    {
     "name": "stderr",
     "output_type": "stream",
     "text": [
      "Saved 1 image to \u001b[1mruns\\detect\\exp2544\u001b[0m\n",
      "Saved results to runs\\detect\\exp2544\n",
      "\n"
     ]
    },
    {
     "name": "stdout",
     "output_type": "stream",
     "text": [
      "1/1 [==============================] - 0s 46ms/step\n",
      "1/1 [==============================] - 0s 46ms/step\n"
     ]
    },
    {
     "name": "stderr",
     "output_type": "stream",
     "text": [
      "Saved 1 image to \u001b[1mruns\\detect\\exp2545\u001b[0m\n",
      "Saved results to runs\\detect\\exp2545\n",
      "\n"
     ]
    },
    {
     "name": "stdout",
     "output_type": "stream",
     "text": [
      "1/1 [==============================] - 0s 46ms/step\n",
      "1/1 [==============================] - 0s 48ms/step\n"
     ]
    },
    {
     "name": "stderr",
     "output_type": "stream",
     "text": [
      "Saved 1 image to \u001b[1mruns\\detect\\exp2546\u001b[0m\n",
      "Saved results to runs\\detect\\exp2546\n",
      "\n"
     ]
    },
    {
     "name": "stdout",
     "output_type": "stream",
     "text": [
      "1/1 [==============================] - 0s 43ms/step\n",
      "1/1 [==============================] - 0s 51ms/step\n"
     ]
    },
    {
     "name": "stderr",
     "output_type": "stream",
     "text": [
      "Saved 1 image to \u001b[1mruns\\detect\\exp2547\u001b[0m\n",
      "Saved results to runs\\detect\\exp2547\n",
      "\n"
     ]
    },
    {
     "name": "stdout",
     "output_type": "stream",
     "text": [
      "1/1 [==============================] - 0s 47ms/step\n",
      "1/1 [==============================] - 0s 49ms/step\n"
     ]
    },
    {
     "name": "stderr",
     "output_type": "stream",
     "text": [
      "Saved 1 image to \u001b[1mruns\\detect\\exp2548\u001b[0m\n",
      "Saved results to runs\\detect\\exp2548\n",
      "\n"
     ]
    },
    {
     "name": "stdout",
     "output_type": "stream",
     "text": [
      "1/1 [==============================] - 0s 44ms/step\n",
      "1/1 [==============================] - 0s 47ms/step\n"
     ]
    },
    {
     "name": "stderr",
     "output_type": "stream",
     "text": [
      "Saved 1 image to \u001b[1mruns\\detect\\exp2549\u001b[0m\n",
      "Saved results to runs\\detect\\exp2549\n",
      "\n"
     ]
    },
    {
     "name": "stdout",
     "output_type": "stream",
     "text": [
      "1/1 [==============================] - 0s 47ms/step\n",
      "1/1 [==============================] - 0s 42ms/step\n"
     ]
    },
    {
     "name": "stderr",
     "output_type": "stream",
     "text": [
      "Saved 1 image to \u001b[1mruns\\detect\\exp2550\u001b[0m\n",
      "Saved results to runs\\detect\\exp2550\n",
      "\n"
     ]
    },
    {
     "name": "stdout",
     "output_type": "stream",
     "text": [
      "1/1 [==============================] - 0s 39ms/step\n",
      "1/1 [==============================] - 0s 47ms/step\n"
     ]
    },
    {
     "name": "stderr",
     "output_type": "stream",
     "text": [
      "Saved 1 image to \u001b[1mruns\\detect\\exp2551\u001b[0m\n",
      "Saved results to runs\\detect\\exp2551\n",
      "\n"
     ]
    },
    {
     "name": "stdout",
     "output_type": "stream",
     "text": [
      "1/1 [==============================] - 0s 36ms/step\n",
      "1/1 [==============================] - 0s 39ms/step\n"
     ]
    },
    {
     "name": "stderr",
     "output_type": "stream",
     "text": [
      "Saved 1 image to \u001b[1mruns\\detect\\exp2552\u001b[0m\n",
      "Saved results to runs\\detect\\exp2552\n",
      "\n"
     ]
    },
    {
     "name": "stdout",
     "output_type": "stream",
     "text": [
      "1/1 [==============================] - 0s 50ms/step\n",
      "1/1 [==============================] - 0s 39ms/step\n"
     ]
    },
    {
     "name": "stderr",
     "output_type": "stream",
     "text": [
      "Saved 1 image to \u001b[1mruns\\detect\\exp2553\u001b[0m\n",
      "Saved results to runs\\detect\\exp2553\n",
      "\n"
     ]
    },
    {
     "name": "stdout",
     "output_type": "stream",
     "text": [
      "1/1 [==============================] - 0s 50ms/step\n",
      "1/1 [==============================] - 0s 44ms/step\n"
     ]
    },
    {
     "name": "stderr",
     "output_type": "stream",
     "text": [
      "Saved 1 image to \u001b[1mruns\\detect\\exp2554\u001b[0m\n",
      "Saved results to runs\\detect\\exp2554\n",
      "\n"
     ]
    },
    {
     "name": "stdout",
     "output_type": "stream",
     "text": [
      "1/1 [==============================] - 0s 49ms/step\n",
      "1/1 [==============================] - 0s 57ms/step\n"
     ]
    },
    {
     "name": "stderr",
     "output_type": "stream",
     "text": [
      "Saved 1 image to \u001b[1mruns\\detect\\exp2555\u001b[0m\n",
      "Saved results to runs\\detect\\exp2555\n",
      "\n"
     ]
    },
    {
     "name": "stdout",
     "output_type": "stream",
     "text": [
      "1/1 [==============================] - 0s 69ms/step\n",
      "1/1 [==============================] - 0s 49ms/step\n"
     ]
    },
    {
     "name": "stderr",
     "output_type": "stream",
     "text": [
      "Saved 1 image to \u001b[1mruns\\detect\\exp2556\u001b[0m\n",
      "Saved results to runs\\detect\\exp2556\n",
      "\n"
     ]
    },
    {
     "name": "stdout",
     "output_type": "stream",
     "text": [
      "1/1 [==============================] - 0s 53ms/step\n",
      "1/1 [==============================] - 0s 40ms/step\n"
     ]
    },
    {
     "name": "stderr",
     "output_type": "stream",
     "text": [
      "Saved 1 image to \u001b[1mruns\\detect\\exp2557\u001b[0m\n",
      "Saved results to runs\\detect\\exp2557\n",
      "\n"
     ]
    },
    {
     "name": "stdout",
     "output_type": "stream",
     "text": [
      "1/1 [==============================] - 0s 41ms/step\n",
      "1/1 [==============================] - 0s 45ms/step\n"
     ]
    },
    {
     "name": "stderr",
     "output_type": "stream",
     "text": [
      "Saved 1 image to \u001b[1mruns\\detect\\exp2558\u001b[0m\n",
      "Saved results to runs\\detect\\exp2558\n",
      "\n"
     ]
    },
    {
     "name": "stdout",
     "output_type": "stream",
     "text": [
      "1/1 [==============================] - 0s 40ms/step\n",
      "1/1 [==============================] - 0s 54ms/step\n"
     ]
    },
    {
     "name": "stderr",
     "output_type": "stream",
     "text": [
      "Saved 1 image to \u001b[1mruns\\detect\\exp2559\u001b[0m\n",
      "Saved results to runs\\detect\\exp2559\n",
      "\n"
     ]
    },
    {
     "name": "stdout",
     "output_type": "stream",
     "text": [
      "1/1 [==============================] - 0s 45ms/step\n",
      "1/1 [==============================] - 0s 39ms/step\n"
     ]
    },
    {
     "name": "stderr",
     "output_type": "stream",
     "text": [
      "Saved 1 image to \u001b[1mruns\\detect\\exp2560\u001b[0m\n",
      "Saved results to runs\\detect\\exp2560\n",
      "\n"
     ]
    },
    {
     "name": "stdout",
     "output_type": "stream",
     "text": [
      "1/1 [==============================] - 0s 43ms/step\n",
      "1/1 [==============================] - 0s 49ms/step\n"
     ]
    },
    {
     "name": "stderr",
     "output_type": "stream",
     "text": [
      "Saved 1 image to \u001b[1mruns\\detect\\exp2561\u001b[0m\n",
      "Saved results to runs\\detect\\exp2561\n",
      "\n"
     ]
    },
    {
     "name": "stdout",
     "output_type": "stream",
     "text": [
      "1/1 [==============================] - 0s 49ms/step\n",
      "1/1 [==============================] - 0s 52ms/step\n"
     ]
    },
    {
     "name": "stderr",
     "output_type": "stream",
     "text": [
      "Saved 1 image to \u001b[1mruns\\detect\\exp2562\u001b[0m\n",
      "Saved results to runs\\detect\\exp2562\n",
      "\n"
     ]
    },
    {
     "name": "stdout",
     "output_type": "stream",
     "text": [
      "1/1 [==============================] - 0s 52ms/step\n",
      "1/1 [==============================] - 0s 42ms/step\n"
     ]
    },
    {
     "name": "stderr",
     "output_type": "stream",
     "text": [
      "Saved 1 image to \u001b[1mruns\\detect\\exp2563\u001b[0m\n",
      "Saved results to runs\\detect\\exp2563\n",
      "\n"
     ]
    },
    {
     "name": "stdout",
     "output_type": "stream",
     "text": [
      "1/1 [==============================] - 0s 61ms/step\n",
      "1/1 [==============================] - 0s 42ms/step\n"
     ]
    },
    {
     "name": "stderr",
     "output_type": "stream",
     "text": [
      "Saved 1 image to \u001b[1mruns\\detect\\exp2564\u001b[0m\n",
      "Saved results to runs\\detect\\exp2564\n",
      "\n"
     ]
    },
    {
     "name": "stdout",
     "output_type": "stream",
     "text": [
      "1/1 [==============================] - 0s 43ms/step\n",
      "1/1 [==============================] - 0s 41ms/step\n"
     ]
    },
    {
     "name": "stderr",
     "output_type": "stream",
     "text": [
      "Saved 1 image to \u001b[1mruns\\detect\\exp2565\u001b[0m\n",
      "Saved results to runs\\detect\\exp2565\n",
      "\n"
     ]
    },
    {
     "name": "stdout",
     "output_type": "stream",
     "text": [
      "1/1 [==============================] - 0s 41ms/step\n",
      "1/1 [==============================] - 0s 33ms/step\n"
     ]
    },
    {
     "name": "stderr",
     "output_type": "stream",
     "text": [
      "Saved 1 image to \u001b[1mruns\\detect\\exp2566\u001b[0m\n",
      "Saved results to runs\\detect\\exp2566\n",
      "\n"
     ]
    },
    {
     "name": "stdout",
     "output_type": "stream",
     "text": [
      "1/1 [==============================] - 0s 40ms/step\n",
      "1/1 [==============================] - 0s 55ms/step\n"
     ]
    },
    {
     "name": "stderr",
     "output_type": "stream",
     "text": [
      "Saved 1 image to \u001b[1mruns\\detect\\exp2567\u001b[0m\n",
      "Saved results to runs\\detect\\exp2567\n",
      "\n"
     ]
    },
    {
     "name": "stdout",
     "output_type": "stream",
     "text": [
      "1/1 [==============================] - 0s 38ms/step\n",
      "1/1 [==============================] - 0s 38ms/step\n"
     ]
    },
    {
     "name": "stderr",
     "output_type": "stream",
     "text": [
      "Saved 1 image to \u001b[1mruns\\detect\\exp2568\u001b[0m\n",
      "Saved results to runs\\detect\\exp2568\n",
      "\n"
     ]
    },
    {
     "name": "stdout",
     "output_type": "stream",
     "text": [
      "1/1 [==============================] - 0s 44ms/step\n",
      "1/1 [==============================] - 0s 47ms/step\n"
     ]
    },
    {
     "name": "stderr",
     "output_type": "stream",
     "text": [
      "Saved 1 image to \u001b[1mruns\\detect\\exp2569\u001b[0m\n",
      "Saved results to runs\\detect\\exp2569\n",
      "\n"
     ]
    },
    {
     "name": "stdout",
     "output_type": "stream",
     "text": [
      "1/1 [==============================] - 0s 56ms/step\n",
      "1/1 [==============================] - 0s 76ms/step\n"
     ]
    },
    {
     "name": "stderr",
     "output_type": "stream",
     "text": [
      "Saved 1 image to \u001b[1mruns\\detect\\exp2570\u001b[0m\n",
      "Saved results to runs\\detect\\exp2570\n",
      "\n"
     ]
    },
    {
     "name": "stdout",
     "output_type": "stream",
     "text": [
      "1/1 [==============================] - 0s 65ms/step\n",
      "1/1 [==============================] - 0s 57ms/step\n"
     ]
    },
    {
     "name": "stderr",
     "output_type": "stream",
     "text": [
      "Saved 1 image to \u001b[1mruns\\detect\\exp2571\u001b[0m\n",
      "Saved results to runs\\detect\\exp2571\n",
      "\n"
     ]
    },
    {
     "name": "stdout",
     "output_type": "stream",
     "text": [
      "1/1 [==============================] - 0s 45ms/step\n",
      "1/1 [==============================] - 0s 39ms/step\n"
     ]
    },
    {
     "name": "stderr",
     "output_type": "stream",
     "text": [
      "Saved 1 image to \u001b[1mruns\\detect\\exp2572\u001b[0m\n",
      "Saved results to runs\\detect\\exp2572\n",
      "\n"
     ]
    },
    {
     "name": "stdout",
     "output_type": "stream",
     "text": [
      "1/1 [==============================] - 0s 60ms/step\n",
      "1/1 [==============================] - 0s 45ms/step\n"
     ]
    },
    {
     "name": "stderr",
     "output_type": "stream",
     "text": [
      "Saved 1 image to \u001b[1mruns\\detect\\exp2573\u001b[0m\n",
      "Saved results to runs\\detect\\exp2573\n",
      "\n"
     ]
    },
    {
     "name": "stdout",
     "output_type": "stream",
     "text": [
      "1/1 [==============================] - 0s 42ms/step\n"
     ]
    },
    {
     "name": "stderr",
     "output_type": "stream",
     "text": [
      "Saved 1 image to \u001b[1mruns\\detect\\exp2574\u001b[0m\n",
      "Saved results to runs\\detect\\exp2574\n",
      "\n"
     ]
    },
    {
     "name": "stdout",
     "output_type": "stream",
     "text": [
      "1/1 [==============================] - 0s 48ms/step\n"
     ]
    },
    {
     "name": "stderr",
     "output_type": "stream",
     "text": [
      "Saved 1 image to \u001b[1mruns\\detect\\exp2575\u001b[0m\n",
      "Saved results to runs\\detect\\exp2575\n",
      "\n"
     ]
    },
    {
     "name": "stdout",
     "output_type": "stream",
     "text": [
      "1/1 [==============================] - 0s 41ms/step\n",
      "1/1 [==============================] - 0s 45ms/step\n"
     ]
    },
    {
     "name": "stderr",
     "output_type": "stream",
     "text": [
      "Saved 1 image to \u001b[1mruns\\detect\\exp2576\u001b[0m\n",
      "Saved results to runs\\detect\\exp2576\n",
      "\n"
     ]
    },
    {
     "name": "stdout",
     "output_type": "stream",
     "text": [
      "1/1 [==============================] - 0s 44ms/step\n",
      "1/1 [==============================] - 0s 52ms/step\n"
     ]
    },
    {
     "name": "stderr",
     "output_type": "stream",
     "text": [
      "Saved 1 image to \u001b[1mruns\\detect\\exp2577\u001b[0m\n",
      "Saved results to runs\\detect\\exp2577\n",
      "\n"
     ]
    },
    {
     "name": "stdout",
     "output_type": "stream",
     "text": [
      "1/1 [==============================] - 0s 47ms/step\n",
      "1/1 [==============================] - 0s 46ms/step\n"
     ]
    },
    {
     "name": "stderr",
     "output_type": "stream",
     "text": [
      "Saved 1 image to \u001b[1mruns\\detect\\exp2578\u001b[0m\n",
      "Saved results to runs\\detect\\exp2578\n",
      "\n"
     ]
    },
    {
     "name": "stdout",
     "output_type": "stream",
     "text": [
      "1/1 [==============================] - 0s 85ms/step\n",
      "1/1 [==============================] - 0s 66ms/step\n"
     ]
    },
    {
     "name": "stderr",
     "output_type": "stream",
     "text": [
      "Saved 1 image to \u001b[1mruns\\detect\\exp2579\u001b[0m\n",
      "Saved results to runs\\detect\\exp2579\n",
      "\n"
     ]
    },
    {
     "name": "stdout",
     "output_type": "stream",
     "text": [
      "1/1 [==============================] - 0s 48ms/step\n",
      "1/1 [==============================] - 0s 61ms/step\n"
     ]
    },
    {
     "name": "stderr",
     "output_type": "stream",
     "text": [
      "Saved 1 image to \u001b[1mruns\\detect\\exp2580\u001b[0m\n",
      "Saved results to runs\\detect\\exp2580\n",
      "\n"
     ]
    },
    {
     "name": "stdout",
     "output_type": "stream",
     "text": [
      "1/1 [==============================] - 0s 67ms/step\n"
     ]
    },
    {
     "name": "stderr",
     "output_type": "stream",
     "text": [
      "Saved 1 image to \u001b[1mruns\\detect\\exp2581\u001b[0m\n",
      "Saved results to runs\\detect\\exp2581\n",
      "\n"
     ]
    },
    {
     "name": "stdout",
     "output_type": "stream",
     "text": [
      "1/1 [==============================] - 0s 53ms/step\n",
      "1/1 [==============================] - 0s 50ms/step\n"
     ]
    },
    {
     "name": "stderr",
     "output_type": "stream",
     "text": [
      "Saved 1 image to \u001b[1mruns\\detect\\exp2582\u001b[0m\n",
      "Saved results to runs\\detect\\exp2582\n",
      "\n"
     ]
    },
    {
     "name": "stdout",
     "output_type": "stream",
     "text": [
      "1/1 [==============================] - 0s 44ms/step\n",
      "1/1 [==============================] - 0s 44ms/step\n"
     ]
    },
    {
     "name": "stderr",
     "output_type": "stream",
     "text": [
      "Saved 1 image to \u001b[1mruns\\detect\\exp2583\u001b[0m\n",
      "Saved results to runs\\detect\\exp2583\n",
      "\n"
     ]
    },
    {
     "name": "stdout",
     "output_type": "stream",
     "text": [
      "1/1 [==============================] - 0s 40ms/step\n",
      "1/1 [==============================] - 0s 51ms/step\n"
     ]
    },
    {
     "name": "stderr",
     "output_type": "stream",
     "text": [
      "Saved 1 image to \u001b[1mruns\\detect\\exp2584\u001b[0m\n",
      "Saved results to runs\\detect\\exp2584\n",
      "\n"
     ]
    },
    {
     "name": "stdout",
     "output_type": "stream",
     "text": [
      "1/1 [==============================] - 0s 39ms/step\n"
     ]
    },
    {
     "name": "stderr",
     "output_type": "stream",
     "text": [
      "Saved 1 image to \u001b[1mruns\\detect\\exp2585\u001b[0m\n",
      "Saved results to runs\\detect\\exp2585\n",
      "\n"
     ]
    },
    {
     "name": "stdout",
     "output_type": "stream",
     "text": [
      "1/1 [==============================] - 0s 40ms/step\n"
     ]
    },
    {
     "name": "stderr",
     "output_type": "stream",
     "text": [
      "Saved 1 image to \u001b[1mruns\\detect\\exp2586\u001b[0m\n",
      "Saved results to runs\\detect\\exp2586\n",
      "\n",
      "Saved 1 image to \u001b[1mruns\\detect\\exp2587\u001b[0m\n",
      "Saved results to runs\\detect\\exp2587\n",
      "\n"
     ]
    },
    {
     "name": "stdout",
     "output_type": "stream",
     "text": [
      "1/1 [==============================] - 0s 38ms/step\n"
     ]
    },
    {
     "name": "stderr",
     "output_type": "stream",
     "text": [
      "Saved 1 image to \u001b[1mruns\\detect\\exp2588\u001b[0m\n",
      "Saved results to runs\\detect\\exp2588\n",
      "\n"
     ]
    },
    {
     "name": "stdout",
     "output_type": "stream",
     "text": [
      "1/1 [==============================] - 0s 57ms/step\n",
      "1/1 [==============================] - 0s 67ms/step\n"
     ]
    },
    {
     "name": "stderr",
     "output_type": "stream",
     "text": [
      "Saved 1 image to \u001b[1mruns\\detect\\exp2589\u001b[0m\n",
      "Saved results to runs\\detect\\exp2589\n",
      "\n",
      "Saved 1 image to \u001b[1mruns\\detect\\exp2590\u001b[0m\n",
      "Saved results to runs\\detect\\exp2590\n",
      "\n"
     ]
    },
    {
     "name": "stdout",
     "output_type": "stream",
     "text": [
      "1/1 [==============================] - 0s 51ms/step\n"
     ]
    },
    {
     "name": "stderr",
     "output_type": "stream",
     "text": [
      "Saved 1 image to \u001b[1mruns\\detect\\exp2591\u001b[0m\n",
      "Saved results to runs\\detect\\exp2591\n",
      "\n"
     ]
    },
    {
     "name": "stdout",
     "output_type": "stream",
     "text": [
      "1/1 [==============================] - 0s 69ms/step\n"
     ]
    },
    {
     "name": "stderr",
     "output_type": "stream",
     "text": [
      "Saved 1 image to \u001b[1mruns\\detect\\exp2592\u001b[0m\n",
      "Saved results to runs\\detect\\exp2592\n",
      "\n"
     ]
    },
    {
     "name": "stdout",
     "output_type": "stream",
     "text": [
      "1/1 [==============================] - 0s 51ms/step\n",
      "1/1 [==============================] - 0s 52ms/step\n"
     ]
    },
    {
     "name": "stderr",
     "output_type": "stream",
     "text": [
      "Saved 1 image to \u001b[1mruns\\detect\\exp2593\u001b[0m\n",
      "Saved results to runs\\detect\\exp2593\n",
      "\n"
     ]
    },
    {
     "name": "stdout",
     "output_type": "stream",
     "text": [
      "1/1 [==============================] - 0s 45ms/step\n"
     ]
    },
    {
     "name": "stderr",
     "output_type": "stream",
     "text": [
      "Saved 1 image to \u001b[1mruns\\detect\\exp2594\u001b[0m\n",
      "Saved results to runs\\detect\\exp2594\n",
      "\n",
      "Saved 1 image to \u001b[1mruns\\detect\\exp2595\u001b[0m\n",
      "Saved results to runs\\detect\\exp2595\n",
      "\n"
     ]
    },
    {
     "name": "stdout",
     "output_type": "stream",
     "text": [
      "1/1 [==============================] - 0s 50ms/step\n"
     ]
    },
    {
     "name": "stderr",
     "output_type": "stream",
     "text": [
      "Saved 1 image to \u001b[1mruns\\detect\\exp2596\u001b[0m\n",
      "Saved results to runs\\detect\\exp2596\n",
      "\n"
     ]
    },
    {
     "name": "stdout",
     "output_type": "stream",
     "text": [
      "1/1 [==============================] - 0s 46ms/step\n"
     ]
    },
    {
     "name": "stderr",
     "output_type": "stream",
     "text": [
      "Saved 1 image to \u001b[1mruns\\detect\\exp2597\u001b[0m\n",
      "Saved results to runs\\detect\\exp2597\n",
      "\n"
     ]
    },
    {
     "name": "stdout",
     "output_type": "stream",
     "text": [
      "1/1 [==============================] - 0s 53ms/step\n"
     ]
    },
    {
     "name": "stderr",
     "output_type": "stream",
     "text": [
      "Saved 1 image to \u001b[1mruns\\detect\\exp2598\u001b[0m\n",
      "Saved results to runs\\detect\\exp2598\n",
      "\n",
      "Saved 1 image to \u001b[1mruns\\detect\\exp2599\u001b[0m\n",
      "Saved results to runs\\detect\\exp2599\n",
      "\n"
     ]
    },
    {
     "name": "stdout",
     "output_type": "stream",
     "text": [
      "1/1 [==============================] - 0s 55ms/step\n"
     ]
    },
    {
     "name": "stderr",
     "output_type": "stream",
     "text": [
      "Saved 1 image to \u001b[1mruns\\detect\\exp2600\u001b[0m\n",
      "Saved results to runs\\detect\\exp2600\n",
      "\n"
     ]
    },
    {
     "name": "stdout",
     "output_type": "stream",
     "text": [
      "1/1 [==============================] - 0s 47ms/step\n"
     ]
    },
    {
     "name": "stderr",
     "output_type": "stream",
     "text": [
      "Saved 1 image to \u001b[1mruns\\detect\\exp2601\u001b[0m\n",
      "Saved results to runs\\detect\\exp2601\n",
      "\n"
     ]
    },
    {
     "name": "stdout",
     "output_type": "stream",
     "text": [
      "1/1 [==============================] - 0s 55ms/step\n"
     ]
    },
    {
     "name": "stderr",
     "output_type": "stream",
     "text": [
      "Saved 1 image to \u001b[1mruns\\detect\\exp2602\u001b[0m\n",
      "Saved results to runs\\detect\\exp2602\n",
      "\n",
      "Saved 1 image to \u001b[1mruns\\detect\\exp2603\u001b[0m\n",
      "Saved results to runs\\detect\\exp2603\n",
      "\n"
     ]
    },
    {
     "name": "stdout",
     "output_type": "stream",
     "text": [
      "1/1 [==============================] - 0s 48ms/step\n"
     ]
    },
    {
     "name": "stderr",
     "output_type": "stream",
     "text": [
      "Saved 1 image to \u001b[1mruns\\detect\\exp2604\u001b[0m\n",
      "Saved results to runs\\detect\\exp2604\n",
      "\n"
     ]
    },
    {
     "name": "stdout",
     "output_type": "stream",
     "text": [
      "1/1 [==============================] - 0s 45ms/step\n",
      "1/1 [==============================] - 0s 46ms/step\n"
     ]
    },
    {
     "name": "stderr",
     "output_type": "stream",
     "text": [
      "Saved 1 image to \u001b[1mruns\\detect\\exp2605\u001b[0m\n",
      "Saved results to runs\\detect\\exp2605\n",
      "\n"
     ]
    },
    {
     "name": "stdout",
     "output_type": "stream",
     "text": [
      "1/1 [==============================] - 0s 44ms/step\n",
      "1/1 [==============================] - 0s 47ms/step\n"
     ]
    },
    {
     "name": "stderr",
     "output_type": "stream",
     "text": [
      "Saved 1 image to \u001b[1mruns\\detect\\exp2606\u001b[0m\n",
      "Saved results to runs\\detect\\exp2606\n",
      "\n"
     ]
    },
    {
     "name": "stdout",
     "output_type": "stream",
     "text": [
      "1/1 [==============================] - 0s 46ms/step\n"
     ]
    },
    {
     "name": "stderr",
     "output_type": "stream",
     "text": [
      "Saved 1 image to \u001b[1mruns\\detect\\exp2607\u001b[0m\n",
      "Saved results to runs\\detect\\exp2607\n",
      "\n"
     ]
    },
    {
     "name": "stdout",
     "output_type": "stream",
     "text": [
      "1/1 [==============================] - 0s 46ms/step\n"
     ]
    },
    {
     "name": "stderr",
     "output_type": "stream",
     "text": [
      "Saved 1 image to \u001b[1mruns\\detect\\exp2608\u001b[0m\n",
      "Saved results to runs\\detect\\exp2608\n",
      "\n"
     ]
    },
    {
     "name": "stdout",
     "output_type": "stream",
     "text": [
      "1/1 [==============================] - 0s 49ms/step\n"
     ]
    },
    {
     "name": "stderr",
     "output_type": "stream",
     "text": [
      "Saved 1 image to \u001b[1mruns\\detect\\exp2609\u001b[0m\n",
      "Saved results to runs\\detect\\exp2609\n",
      "\n"
     ]
    },
    {
     "name": "stdout",
     "output_type": "stream",
     "text": [
      "1/1 [==============================] - 0s 47ms/step\n"
     ]
    },
    {
     "name": "stderr",
     "output_type": "stream",
     "text": [
      "Saved 1 image to \u001b[1mruns\\detect\\exp2610\u001b[0m\n",
      "Saved results to runs\\detect\\exp2610\n",
      "\n"
     ]
    },
    {
     "name": "stdout",
     "output_type": "stream",
     "text": [
      "1/1 [==============================] - 0s 43ms/step\n"
     ]
    },
    {
     "name": "stderr",
     "output_type": "stream",
     "text": [
      "Saved 1 image to \u001b[1mruns\\detect\\exp2611\u001b[0m\n",
      "Saved results to runs\\detect\\exp2611\n",
      "\n"
     ]
    },
    {
     "name": "stdout",
     "output_type": "stream",
     "text": [
      "1/1 [==============================] - 0s 46ms/step\n"
     ]
    },
    {
     "name": "stderr",
     "output_type": "stream",
     "text": [
      "Saved 1 image to \u001b[1mruns\\detect\\exp2612\u001b[0m\n",
      "Saved results to runs\\detect\\exp2612\n",
      "\n"
     ]
    },
    {
     "name": "stdout",
     "output_type": "stream",
     "text": [
      "1/1 [==============================] - 0s 45ms/step\n"
     ]
    },
    {
     "name": "stderr",
     "output_type": "stream",
     "text": [
      "Saved 1 image to \u001b[1mruns\\detect\\exp2613\u001b[0m\n",
      "Saved results to runs\\detect\\exp2613\n",
      "\n"
     ]
    },
    {
     "name": "stdout",
     "output_type": "stream",
     "text": [
      "1/1 [==============================] - 0s 46ms/step\n"
     ]
    },
    {
     "name": "stderr",
     "output_type": "stream",
     "text": [
      "Saved 1 image to \u001b[1mruns\\detect\\exp2614\u001b[0m\n",
      "Saved results to runs\\detect\\exp2614\n",
      "\n"
     ]
    },
    {
     "name": "stdout",
     "output_type": "stream",
     "text": [
      "1/1 [==============================] - 0s 56ms/step\n"
     ]
    },
    {
     "name": "stderr",
     "output_type": "stream",
     "text": [
      "Saved 1 image to \u001b[1mruns\\detect\\exp2615\u001b[0m\n",
      "Saved results to runs\\detect\\exp2615\n",
      "\n"
     ]
    },
    {
     "name": "stdout",
     "output_type": "stream",
     "text": [
      "1/1 [==============================] - 0s 53ms/step\n"
     ]
    },
    {
     "name": "stderr",
     "output_type": "stream",
     "text": [
      "Saved 1 image to \u001b[1mruns\\detect\\exp2616\u001b[0m\n",
      "Saved results to runs\\detect\\exp2616\n",
      "\n"
     ]
    },
    {
     "name": "stdout",
     "output_type": "stream",
     "text": [
      "1/1 [==============================] - 0s 58ms/step\n"
     ]
    },
    {
     "name": "stderr",
     "output_type": "stream",
     "text": [
      "Saved 1 image to \u001b[1mruns\\detect\\exp2617\u001b[0m\n",
      "Saved results to runs\\detect\\exp2617\n",
      "\n",
      "Saved 1 image to \u001b[1mruns\\detect\\exp2618\u001b[0m\n",
      "Saved results to runs\\detect\\exp2618\n",
      "\n"
     ]
    },
    {
     "name": "stdout",
     "output_type": "stream",
     "text": [
      "1/1 [==============================] - 0s 57ms/step\n"
     ]
    },
    {
     "name": "stderr",
     "output_type": "stream",
     "text": [
      "Saved 1 image to \u001b[1mruns\\detect\\exp2619\u001b[0m\n",
      "Saved results to runs\\detect\\exp2619\n",
      "\n"
     ]
    },
    {
     "name": "stdout",
     "output_type": "stream",
     "text": [
      "1/1 [==============================] - 0s 59ms/step\n"
     ]
    },
    {
     "name": "stderr",
     "output_type": "stream",
     "text": [
      "Saved 1 image to \u001b[1mruns\\detect\\exp2620\u001b[0m\n",
      "Saved results to runs\\detect\\exp2620\n",
      "\n"
     ]
    },
    {
     "name": "stdout",
     "output_type": "stream",
     "text": [
      "1/1 [==============================] - 0s 43ms/step\n"
     ]
    },
    {
     "name": "stderr",
     "output_type": "stream",
     "text": [
      "Saved 1 image to \u001b[1mruns\\detect\\exp2621\u001b[0m\n",
      "Saved results to runs\\detect\\exp2621\n",
      "\n"
     ]
    },
    {
     "name": "stdout",
     "output_type": "stream",
     "text": [
      "1/1 [==============================] - 0s 42ms/step\n"
     ]
    },
    {
     "name": "stderr",
     "output_type": "stream",
     "text": [
      "Saved 1 image to \u001b[1mruns\\detect\\exp2622\u001b[0m\n",
      "Saved results to runs\\detect\\exp2622\n",
      "\n",
      "Saved 1 image to \u001b[1mruns\\detect\\exp2623\u001b[0m\n",
      "Saved results to runs\\detect\\exp2623\n",
      "\n"
     ]
    },
    {
     "name": "stdout",
     "output_type": "stream",
     "text": [
      "1/1 [==============================] - 0s 46ms/step\n",
      "1/1 [==============================] - 0s 46ms/step\n"
     ]
    },
    {
     "name": "stderr",
     "output_type": "stream",
     "text": [
      "Saved 1 image to \u001b[1mruns\\detect\\exp2624\u001b[0m\n",
      "Saved results to runs\\detect\\exp2624\n",
      "\n"
     ]
    },
    {
     "name": "stdout",
     "output_type": "stream",
     "text": [
      "1/1 [==============================] - 0s 48ms/step\n"
     ]
    },
    {
     "name": "stderr",
     "output_type": "stream",
     "text": [
      "Saved 1 image to \u001b[1mruns\\detect\\exp2625\u001b[0m\n",
      "Saved results to runs\\detect\\exp2625\n",
      "\n",
      "Saved 1 image to \u001b[1mruns\\detect\\exp2626\u001b[0m\n",
      "Saved results to runs\\detect\\exp2626\n",
      "\n"
     ]
    },
    {
     "name": "stdout",
     "output_type": "stream",
     "text": [
      "1/1 [==============================] - 0s 45ms/step\n"
     ]
    },
    {
     "name": "stderr",
     "output_type": "stream",
     "text": [
      "Saved 1 image to \u001b[1mruns\\detect\\exp2627\u001b[0m\n",
      "Saved results to runs\\detect\\exp2627\n",
      "\n",
      "Saved 1 image to \u001b[1mruns\\detect\\exp2628\u001b[0m\n",
      "Saved results to runs\\detect\\exp2628\n",
      "\n",
      "Saved 1 image to \u001b[1mruns\\detect\\exp2629\u001b[0m\n",
      "Saved results to runs\\detect\\exp2629\n",
      "\n"
     ]
    },
    {
     "name": "stdout",
     "output_type": "stream",
     "text": [
      "1/1 [==============================] - 0s 44ms/step\n",
      "1/1 [==============================] - 0s 44ms/step\n"
     ]
    },
    {
     "name": "stderr",
     "output_type": "stream",
     "text": [
      "Saved 1 image to \u001b[1mruns\\detect\\exp2630\u001b[0m\n",
      "Saved results to runs\\detect\\exp2630\n",
      "\n"
     ]
    },
    {
     "name": "stdout",
     "output_type": "stream",
     "text": [
      "1/1 [==============================] - 0s 64ms/step\n",
      "1/1 [==============================] - 0s 57ms/step\n"
     ]
    },
    {
     "name": "stderr",
     "output_type": "stream",
     "text": [
      "Saved 1 image to \u001b[1mruns\\detect\\exp2631\u001b[0m\n",
      "Saved results to runs\\detect\\exp2631\n",
      "\n"
     ]
    },
    {
     "name": "stdout",
     "output_type": "stream",
     "text": [
      "1/1 [==============================] - 0s 70ms/step\n",
      "1/1 [==============================] - 0s 51ms/step\n"
     ]
    },
    {
     "name": "stderr",
     "output_type": "stream",
     "text": [
      "Saved 1 image to \u001b[1mruns\\detect\\exp2632\u001b[0m\n",
      "Saved results to runs\\detect\\exp2632\n",
      "\n"
     ]
    },
    {
     "name": "stdout",
     "output_type": "stream",
     "text": [
      "1/1 [==============================] - 0s 46ms/step\n"
     ]
    },
    {
     "name": "stderr",
     "output_type": "stream",
     "text": [
      "Saved 1 image to \u001b[1mruns\\detect\\exp2633\u001b[0m\n",
      "Saved results to runs\\detect\\exp2633\n",
      "\n"
     ]
    },
    {
     "name": "stdout",
     "output_type": "stream",
     "text": [
      "1/1 [==============================] - 0s 53ms/step\n",
      "1/1 [==============================] - 0s 46ms/step\n"
     ]
    },
    {
     "name": "stderr",
     "output_type": "stream",
     "text": [
      "Saved 1 image to \u001b[1mruns\\detect\\exp2634\u001b[0m\n",
      "Saved results to runs\\detect\\exp2634\n",
      "\n"
     ]
    },
    {
     "name": "stdout",
     "output_type": "stream",
     "text": [
      "1/1 [==============================] - 0s 47ms/step\n",
      "1/1 [==============================] - 0s 45ms/step\n"
     ]
    },
    {
     "name": "stderr",
     "output_type": "stream",
     "text": [
      "Saved 1 image to \u001b[1mruns\\detect\\exp2635\u001b[0m\n",
      "Saved results to runs\\detect\\exp2635\n",
      "\n"
     ]
    },
    {
     "name": "stdout",
     "output_type": "stream",
     "text": [
      "1/1 [==============================] - 0s 47ms/step\n",
      "1/1 [==============================] - 0s 48ms/step\n"
     ]
    },
    {
     "name": "stderr",
     "output_type": "stream",
     "text": [
      "Saved 1 image to \u001b[1mruns\\detect\\exp2636\u001b[0m\n",
      "Saved results to runs\\detect\\exp2636\n",
      "\n"
     ]
    },
    {
     "name": "stdout",
     "output_type": "stream",
     "text": [
      "1/1 [==============================] - 0s 46ms/step\n",
      "1/1 [==============================] - 0s 47ms/step\n"
     ]
    },
    {
     "name": "stderr",
     "output_type": "stream",
     "text": [
      "Saved 1 image to \u001b[1mruns\\detect\\exp2637\u001b[0m\n",
      "Saved results to runs\\detect\\exp2637\n",
      "\n"
     ]
    },
    {
     "name": "stdout",
     "output_type": "stream",
     "text": [
      "1/1 [==============================] - 0s 49ms/step\n",
      "1/1 [==============================] - 0s 45ms/step\n"
     ]
    },
    {
     "name": "stderr",
     "output_type": "stream",
     "text": [
      "Saved 1 image to \u001b[1mruns\\detect\\exp2638\u001b[0m\n",
      "Saved results to runs\\detect\\exp2638\n",
      "\n"
     ]
    },
    {
     "name": "stdout",
     "output_type": "stream",
     "text": [
      "1/1 [==============================] - 0s 48ms/step\n",
      "1/1 [==============================] - 0s 46ms/step\n"
     ]
    },
    {
     "name": "stderr",
     "output_type": "stream",
     "text": [
      "Saved 1 image to \u001b[1mruns\\detect\\exp2639\u001b[0m\n",
      "Saved results to runs\\detect\\exp2639\n",
      "\n"
     ]
    },
    {
     "name": "stdout",
     "output_type": "stream",
     "text": [
      "1/1 [==============================] - 0s 52ms/step\n",
      "1/1 [==============================] - 0s 59ms/step\n"
     ]
    },
    {
     "name": "stderr",
     "output_type": "stream",
     "text": [
      "Saved 1 image to \u001b[1mruns\\detect\\exp2640\u001b[0m\n",
      "Saved results to runs\\detect\\exp2640\n",
      "\n"
     ]
    },
    {
     "name": "stdout",
     "output_type": "stream",
     "text": [
      "1/1 [==============================] - 0s 49ms/step\n",
      "1/1 [==============================] - 0s 43ms/step\n"
     ]
    },
    {
     "name": "stderr",
     "output_type": "stream",
     "text": [
      "Saved 1 image to \u001b[1mruns\\detect\\exp2641\u001b[0m\n",
      "Saved results to runs\\detect\\exp2641\n",
      "\n"
     ]
    },
    {
     "name": "stdout",
     "output_type": "stream",
     "text": [
      "1/1 [==============================] - 0s 40ms/step\n",
      "1/1 [==============================] - 0s 67ms/step\n"
     ]
    },
    {
     "name": "stderr",
     "output_type": "stream",
     "text": [
      "Saved 1 image to \u001b[1mruns\\detect\\exp2642\u001b[0m\n",
      "Saved results to runs\\detect\\exp2642\n",
      "\n"
     ]
    },
    {
     "name": "stdout",
     "output_type": "stream",
     "text": [
      "1/1 [==============================] - 0s 34ms/step\n",
      "1/1 [==============================] - 0s 59ms/step\n"
     ]
    },
    {
     "name": "stderr",
     "output_type": "stream",
     "text": [
      "Saved 1 image to \u001b[1mruns\\detect\\exp2643\u001b[0m\n",
      "Saved results to runs\\detect\\exp2643\n",
      "\n"
     ]
    },
    {
     "name": "stdout",
     "output_type": "stream",
     "text": [
      "1/1 [==============================] - 0s 36ms/step\n",
      "1/1 [==============================] - 0s 41ms/step\n"
     ]
    },
    {
     "name": "stderr",
     "output_type": "stream",
     "text": [
      "Saved 1 image to \u001b[1mruns\\detect\\exp2644\u001b[0m\n",
      "Saved results to runs\\detect\\exp2644\n",
      "\n"
     ]
    },
    {
     "name": "stdout",
     "output_type": "stream",
     "text": [
      "1/1 [==============================] - 0s 38ms/step\n",
      "1/1 [==============================] - 0s 70ms/step\n"
     ]
    },
    {
     "name": "stderr",
     "output_type": "stream",
     "text": [
      "Saved 1 image to \u001b[1mruns\\detect\\exp2645\u001b[0m\n",
      "Saved results to runs\\detect\\exp2645\n",
      "\n"
     ]
    },
    {
     "name": "stdout",
     "output_type": "stream",
     "text": [
      "1/1 [==============================] - 0s 72ms/step\n",
      "1/1 [==============================] - 0s 47ms/step\n"
     ]
    },
    {
     "name": "stderr",
     "output_type": "stream",
     "text": [
      "Saved 1 image to \u001b[1mruns\\detect\\exp2646\u001b[0m\n",
      "Saved results to runs\\detect\\exp2646\n",
      "\n"
     ]
    },
    {
     "name": "stdout",
     "output_type": "stream",
     "text": [
      "1/1 [==============================] - 0s 46ms/step\n",
      "1/1 [==============================] - 0s 44ms/step\n"
     ]
    },
    {
     "name": "stderr",
     "output_type": "stream",
     "text": [
      "Saved 1 image to \u001b[1mruns\\detect\\exp2647\u001b[0m\n",
      "Saved results to runs\\detect\\exp2647\n",
      "\n"
     ]
    },
    {
     "name": "stdout",
     "output_type": "stream",
     "text": [
      "1/1 [==============================] - 0s 43ms/step\n",
      "1/1 [==============================] - 0s 43ms/step\n"
     ]
    },
    {
     "name": "stderr",
     "output_type": "stream",
     "text": [
      "Saved 1 image to \u001b[1mruns\\detect\\exp2648\u001b[0m\n",
      "Saved results to runs\\detect\\exp2648\n",
      "\n"
     ]
    },
    {
     "name": "stdout",
     "output_type": "stream",
     "text": [
      "1/1 [==============================] - 0s 48ms/step\n",
      "1/1 [==============================] - 0s 44ms/step\n"
     ]
    },
    {
     "name": "stderr",
     "output_type": "stream",
     "text": [
      "Saved 1 image to \u001b[1mruns\\detect\\exp2649\u001b[0m\n",
      "Saved results to runs\\detect\\exp2649\n",
      "\n"
     ]
    },
    {
     "name": "stdout",
     "output_type": "stream",
     "text": [
      "1/1 [==============================] - 0s 48ms/step\n",
      "1/1 [==============================] - 0s 40ms/step\n"
     ]
    },
    {
     "name": "stderr",
     "output_type": "stream",
     "text": [
      "Saved 1 image to \u001b[1mruns\\detect\\exp2650\u001b[0m\n",
      "Saved results to runs\\detect\\exp2650\n",
      "\n"
     ]
    },
    {
     "name": "stdout",
     "output_type": "stream",
     "text": [
      "1/1 [==============================] - 0s 50ms/step\n",
      "1/1 [==============================] - 0s 74ms/step\n"
     ]
    },
    {
     "name": "stderr",
     "output_type": "stream",
     "text": [
      "Saved 1 image to \u001b[1mruns\\detect\\exp2651\u001b[0m\n",
      "Saved results to runs\\detect\\exp2651\n",
      "\n"
     ]
    },
    {
     "name": "stdout",
     "output_type": "stream",
     "text": [
      "1/1 [==============================] - 0s 55ms/step\n"
     ]
    },
    {
     "name": "stderr",
     "output_type": "stream",
     "text": [
      "Saved 1 image to \u001b[1mruns\\detect\\exp2652\u001b[0m\n",
      "Saved results to runs\\detect\\exp2652\n",
      "\n"
     ]
    },
    {
     "name": "stdout",
     "output_type": "stream",
     "text": [
      "1/1 [==============================] - 0s 46ms/step\n",
      "1/1 [==============================] - 0s 53ms/step\n"
     ]
    },
    {
     "name": "stderr",
     "output_type": "stream",
     "text": [
      "Saved 1 image to \u001b[1mruns\\detect\\exp2653\u001b[0m\n",
      "Saved results to runs\\detect\\exp2653\n",
      "\n"
     ]
    },
    {
     "name": "stdout",
     "output_type": "stream",
     "text": [
      "1/1 [==============================] - 0s 47ms/step\n"
     ]
    },
    {
     "name": "stderr",
     "output_type": "stream",
     "text": [
      "Saved 1 image to \u001b[1mruns\\detect\\exp2654\u001b[0m\n",
      "Saved results to runs\\detect\\exp2654\n",
      "\n"
     ]
    },
    {
     "name": "stdout",
     "output_type": "stream",
     "text": [
      "1/1 [==============================] - 0s 46ms/step\n"
     ]
    },
    {
     "name": "stderr",
     "output_type": "stream",
     "text": [
      "Saved 1 image to \u001b[1mruns\\detect\\exp2655\u001b[0m\n",
      "Saved results to runs\\detect\\exp2655\n",
      "\n",
      "Saved 1 image to \u001b[1mruns\\detect\\exp2656\u001b[0m\n",
      "Saved results to runs\\detect\\exp2656\n",
      "\n",
      "Saved 1 image to \u001b[1mruns\\detect\\exp2657\u001b[0m\n",
      "Saved results to runs\\detect\\exp2657\n",
      "\n"
     ]
    },
    {
     "name": "stdout",
     "output_type": "stream",
     "text": [
      "1/1 [==============================] - 0s 43ms/step\n"
     ]
    },
    {
     "name": "stderr",
     "output_type": "stream",
     "text": [
      "Saved 1 image to \u001b[1mruns\\detect\\exp2658\u001b[0m\n",
      "Saved results to runs\\detect\\exp2658\n",
      "\n"
     ]
    },
    {
     "name": "stdout",
     "output_type": "stream",
     "text": [
      "1/1 [==============================] - 0s 48ms/step\n"
     ]
    },
    {
     "name": "stderr",
     "output_type": "stream",
     "text": [
      "Saved 1 image to \u001b[1mruns\\detect\\exp2659\u001b[0m\n",
      "Saved results to runs\\detect\\exp2659\n",
      "\n"
     ]
    },
    {
     "name": "stdout",
     "output_type": "stream",
     "text": [
      "1/1 [==============================] - 0s 45ms/step\n"
     ]
    },
    {
     "name": "stderr",
     "output_type": "stream",
     "text": [
      "Saved 1 image to \u001b[1mruns\\detect\\exp2660\u001b[0m\n",
      "Saved results to runs\\detect\\exp2660\n",
      "\n"
     ]
    },
    {
     "name": "stdout",
     "output_type": "stream",
     "text": [
      "1/1 [==============================] - 0s 84ms/step\n",
      "1/1 [==============================] - 0s 49ms/step\n"
     ]
    },
    {
     "name": "stderr",
     "output_type": "stream",
     "text": [
      "Saved 1 image to \u001b[1mruns\\detect\\exp2661\u001b[0m\n",
      "Saved results to runs\\detect\\exp2661\n",
      "\n"
     ]
    },
    {
     "name": "stdout",
     "output_type": "stream",
     "text": [
      "1/1 [==============================] - 0s 47ms/step\n",
      "1/1 [==============================] - 0s 48ms/step\n"
     ]
    },
    {
     "name": "stderr",
     "output_type": "stream",
     "text": [
      "Saved 1 image to \u001b[1mruns\\detect\\exp2662\u001b[0m\n",
      "Saved results to runs\\detect\\exp2662\n",
      "\n"
     ]
    },
    {
     "name": "stdout",
     "output_type": "stream",
     "text": [
      "1/1 [==============================] - 0s 58ms/step\n",
      "1/1 [==============================] - 0s 46ms/step\n"
     ]
    },
    {
     "name": "stderr",
     "output_type": "stream",
     "text": [
      "Saved 1 image to \u001b[1mruns\\detect\\exp2663\u001b[0m\n",
      "Saved results to runs\\detect\\exp2663\n",
      "\n"
     ]
    },
    {
     "name": "stdout",
     "output_type": "stream",
     "text": [
      "1/1 [==============================] - 0s 41ms/step\n",
      "1/1 [==============================] - 0s 58ms/step\n"
     ]
    },
    {
     "name": "stderr",
     "output_type": "stream",
     "text": [
      "Saved 1 image to \u001b[1mruns\\detect\\exp2664\u001b[0m\n",
      "Saved results to runs\\detect\\exp2664\n",
      "\n"
     ]
    },
    {
     "name": "stdout",
     "output_type": "stream",
     "text": [
      "1/1 [==============================] - 0s 61ms/step\n"
     ]
    },
    {
     "name": "stderr",
     "output_type": "stream",
     "text": [
      "Saved 1 image to \u001b[1mruns\\detect\\exp2665\u001b[0m\n",
      "Saved results to runs\\detect\\exp2665\n",
      "\n"
     ]
    },
    {
     "name": "stdout",
     "output_type": "stream",
     "text": [
      "1/1 [==============================] - 0s 58ms/step\n"
     ]
    },
    {
     "name": "stderr",
     "output_type": "stream",
     "text": [
      "Saved 1 image to \u001b[1mruns\\detect\\exp2666\u001b[0m\n",
      "Saved results to runs\\detect\\exp2666\n",
      "\n"
     ]
    },
    {
     "name": "stdout",
     "output_type": "stream",
     "text": [
      "1/1 [==============================] - 0s 38ms/step\n",
      "1/1 [==============================] - 0s 45ms/step\n"
     ]
    },
    {
     "name": "stderr",
     "output_type": "stream",
     "text": [
      "Saved 1 image to \u001b[1mruns\\detect\\exp2667\u001b[0m\n",
      "Saved results to runs\\detect\\exp2667\n",
      "\n"
     ]
    },
    {
     "name": "stdout",
     "output_type": "stream",
     "text": [
      "1/1 [==============================] - 0s 48ms/step\n"
     ]
    },
    {
     "name": "stderr",
     "output_type": "stream",
     "text": [
      "Saved 1 image to \u001b[1mruns\\detect\\exp2668\u001b[0m\n",
      "Saved results to runs\\detect\\exp2668\n",
      "\n"
     ]
    },
    {
     "name": "stdout",
     "output_type": "stream",
     "text": [
      "1/1 [==============================] - 0s 62ms/step\n"
     ]
    },
    {
     "name": "stderr",
     "output_type": "stream",
     "text": [
      "Saved 1 image to \u001b[1mruns\\detect\\exp2669\u001b[0m\n",
      "Saved results to runs\\detect\\exp2669\n",
      "\n"
     ]
    },
    {
     "name": "stdout",
     "output_type": "stream",
     "text": [
      "1/1 [==============================] - 0s 52ms/step\n",
      "1/1 [==============================] - 0s 55ms/step\n"
     ]
    },
    {
     "name": "stderr",
     "output_type": "stream",
     "text": [
      "Saved 1 image to \u001b[1mruns\\detect\\exp2670\u001b[0m\n",
      "Saved results to runs\\detect\\exp2670\n",
      "\n"
     ]
    },
    {
     "name": "stdout",
     "output_type": "stream",
     "text": [
      "1/1 [==============================] - 0s 44ms/step\n"
     ]
    },
    {
     "name": "stderr",
     "output_type": "stream",
     "text": [
      "Saved 1 image to \u001b[1mruns\\detect\\exp2671\u001b[0m\n",
      "Saved results to runs\\detect\\exp2671\n",
      "\n"
     ]
    },
    {
     "name": "stdout",
     "output_type": "stream",
     "text": [
      "1/1 [==============================] - 0s 53ms/step\n"
     ]
    },
    {
     "name": "stderr",
     "output_type": "stream",
     "text": [
      "Saved 1 image to \u001b[1mruns\\detect\\exp2672\u001b[0m\n",
      "Saved results to runs\\detect\\exp2672\n",
      "\n"
     ]
    },
    {
     "name": "stdout",
     "output_type": "stream",
     "text": [
      "1/1 [==============================] - 0s 51ms/step\n"
     ]
    },
    {
     "name": "stderr",
     "output_type": "stream",
     "text": [
      "Saved 1 image to \u001b[1mruns\\detect\\exp2673\u001b[0m\n",
      "Saved results to runs\\detect\\exp2673\n",
      "\n"
     ]
    },
    {
     "name": "stdout",
     "output_type": "stream",
     "text": [
      "1/1 [==============================] - 0s 39ms/step\n"
     ]
    },
    {
     "name": "stderr",
     "output_type": "stream",
     "text": [
      "Saved 1 image to \u001b[1mruns\\detect\\exp2674\u001b[0m\n",
      "Saved results to runs\\detect\\exp2674\n",
      "\n"
     ]
    },
    {
     "name": "stdout",
     "output_type": "stream",
     "text": [
      "1/1 [==============================] - 0s 47ms/step\n",
      "1/1 [==============================] - 0s 47ms/step\n"
     ]
    },
    {
     "name": "stderr",
     "output_type": "stream",
     "text": [
      "Saved 1 image to \u001b[1mruns\\detect\\exp2675\u001b[0m\n",
      "Saved results to runs\\detect\\exp2675\n",
      "\n"
     ]
    },
    {
     "name": "stdout",
     "output_type": "stream",
     "text": [
      "1/1 [==============================] - 0s 38ms/step\n"
     ]
    },
    {
     "name": "stderr",
     "output_type": "stream",
     "text": [
      "Saved 1 image to \u001b[1mruns\\detect\\exp2676\u001b[0m\n",
      "Saved results to runs\\detect\\exp2676\n",
      "\n"
     ]
    },
    {
     "name": "stdout",
     "output_type": "stream",
     "text": [
      "1/1 [==============================] - 0s 68ms/step\n"
     ]
    },
    {
     "name": "stderr",
     "output_type": "stream",
     "text": [
      "Saved 1 image to \u001b[1mruns\\detect\\exp2677\u001b[0m\n",
      "Saved results to runs\\detect\\exp2677\n",
      "\n"
     ]
    },
    {
     "name": "stdout",
     "output_type": "stream",
     "text": [
      "1/1 [==============================] - 0s 44ms/step\n"
     ]
    },
    {
     "name": "stderr",
     "output_type": "stream",
     "text": [
      "Saved 1 image to \u001b[1mruns\\detect\\exp2678\u001b[0m\n",
      "Saved results to runs\\detect\\exp2678\n",
      "\n"
     ]
    },
    {
     "name": "stdout",
     "output_type": "stream",
     "text": [
      "1/1 [==============================] - 0s 60ms/step\n",
      "1/1 [==============================] - 0s 53ms/step\n"
     ]
    },
    {
     "name": "stderr",
     "output_type": "stream",
     "text": [
      "Saved 1 image to \u001b[1mruns\\detect\\exp2679\u001b[0m\n",
      "Saved results to runs\\detect\\exp2679\n",
      "\n"
     ]
    },
    {
     "name": "stdout",
     "output_type": "stream",
     "text": [
      "1/1 [==============================] - 0s 57ms/step\n",
      "1/1 [==============================] - 0s 51ms/step\n"
     ]
    },
    {
     "name": "stderr",
     "output_type": "stream",
     "text": [
      "Saved 1 image to \u001b[1mruns\\detect\\exp2680\u001b[0m\n",
      "Saved results to runs\\detect\\exp2680\n",
      "\n"
     ]
    },
    {
     "name": "stdout",
     "output_type": "stream",
     "text": [
      "1/1 [==============================] - 0s 54ms/step\n"
     ]
    },
    {
     "name": "stderr",
     "output_type": "stream",
     "text": [
      "Saved 1 image to \u001b[1mruns\\detect\\exp2681\u001b[0m\n",
      "Saved results to runs\\detect\\exp2681\n",
      "\n"
     ]
    },
    {
     "name": "stdout",
     "output_type": "stream",
     "text": [
      "1/1 [==============================] - 0s 53ms/step\n",
      "1/1 [==============================] - 0s 55ms/step\n"
     ]
    },
    {
     "name": "stderr",
     "output_type": "stream",
     "text": [
      "Saved 1 image to \u001b[1mruns\\detect\\exp2682\u001b[0m\n",
      "Saved results to runs\\detect\\exp2682\n",
      "\n"
     ]
    },
    {
     "name": "stdout",
     "output_type": "stream",
     "text": [
      "1/1 [==============================] - 0s 44ms/step\n",
      "1/1 [==============================] - 0s 54ms/step\n"
     ]
    },
    {
     "name": "stderr",
     "output_type": "stream",
     "text": [
      "Saved 1 image to \u001b[1mruns\\detect\\exp2683\u001b[0m\n",
      "Saved results to runs\\detect\\exp2683\n",
      "\n"
     ]
    },
    {
     "name": "stdout",
     "output_type": "stream",
     "text": [
      "1/1 [==============================] - 0s 63ms/step\n",
      "1/1 [==============================] - 0s 61ms/step\n"
     ]
    },
    {
     "name": "stderr",
     "output_type": "stream",
     "text": [
      "Saved 1 image to \u001b[1mruns\\detect\\exp2684\u001b[0m\n",
      "Saved results to runs\\detect\\exp2684\n",
      "\n"
     ]
    },
    {
     "name": "stdout",
     "output_type": "stream",
     "text": [
      "1/1 [==============================] - 0s 45ms/step\n",
      "1/1 [==============================] - 0s 61ms/step\n"
     ]
    },
    {
     "name": "stderr",
     "output_type": "stream",
     "text": [
      "Saved 1 image to \u001b[1mruns\\detect\\exp2685\u001b[0m\n",
      "Saved results to runs\\detect\\exp2685\n",
      "\n"
     ]
    },
    {
     "name": "stdout",
     "output_type": "stream",
     "text": [
      "1/1 [==============================] - 0s 43ms/step\n",
      "1/1 [==============================] - 0s 52ms/step\n"
     ]
    },
    {
     "name": "stderr",
     "output_type": "stream",
     "text": [
      "Saved 1 image to \u001b[1mruns\\detect\\exp2686\u001b[0m\n",
      "Saved results to runs\\detect\\exp2686\n",
      "\n"
     ]
    },
    {
     "name": "stdout",
     "output_type": "stream",
     "text": [
      "1/1 [==============================] - 0s 65ms/step\n",
      "1/1 [==============================] - 0s 56ms/step\n"
     ]
    },
    {
     "name": "stderr",
     "output_type": "stream",
     "text": [
      "Saved 1 image to \u001b[1mruns\\detect\\exp2687\u001b[0m\n",
      "Saved results to runs\\detect\\exp2687\n",
      "\n"
     ]
    },
    {
     "name": "stdout",
     "output_type": "stream",
     "text": [
      "1/1 [==============================] - 0s 49ms/step\n",
      "1/1 [==============================] - 0s 56ms/step\n"
     ]
    },
    {
     "name": "stderr",
     "output_type": "stream",
     "text": [
      "Saved 1 image to \u001b[1mruns\\detect\\exp2688\u001b[0m\n",
      "Saved results to runs\\detect\\exp2688\n",
      "\n"
     ]
    },
    {
     "name": "stdout",
     "output_type": "stream",
     "text": [
      "1/1 [==============================] - 0s 42ms/step\n",
      "1/1 [==============================] - 0s 59ms/step\n"
     ]
    },
    {
     "name": "stderr",
     "output_type": "stream",
     "text": [
      "Saved 1 image to \u001b[1mruns\\detect\\exp2689\u001b[0m\n",
      "Saved results to runs\\detect\\exp2689\n",
      "\n"
     ]
    },
    {
     "name": "stdout",
     "output_type": "stream",
     "text": [
      "1/1 [==============================] - 0s 40ms/step\n",
      "1/1 [==============================] - 0s 58ms/step\n"
     ]
    },
    {
     "name": "stderr",
     "output_type": "stream",
     "text": [
      "Saved 1 image to \u001b[1mruns\\detect\\exp2690\u001b[0m\n",
      "Saved results to runs\\detect\\exp2690\n",
      "\n"
     ]
    },
    {
     "name": "stdout",
     "output_type": "stream",
     "text": [
      "1/1 [==============================] - 0s 64ms/step\n",
      "1/1 [==============================] - 0s 59ms/step\n"
     ]
    },
    {
     "name": "stderr",
     "output_type": "stream",
     "text": [
      "Saved 1 image to \u001b[1mruns\\detect\\exp2691\u001b[0m\n",
      "Saved results to runs\\detect\\exp2691\n",
      "\n"
     ]
    },
    {
     "name": "stdout",
     "output_type": "stream",
     "text": [
      "1/1 [==============================] - 0s 56ms/step\n",
      "1/1 [==============================] - 0s 54ms/step\n"
     ]
    },
    {
     "name": "stderr",
     "output_type": "stream",
     "text": [
      "Saved 1 image to \u001b[1mruns\\detect\\exp2692\u001b[0m\n",
      "Saved results to runs\\detect\\exp2692\n",
      "\n"
     ]
    },
    {
     "name": "stdout",
     "output_type": "stream",
     "text": [
      "1/1 [==============================] - 0s 66ms/step\n",
      "1/1 [==============================] - 0s 54ms/step\n"
     ]
    },
    {
     "name": "stderr",
     "output_type": "stream",
     "text": [
      "Saved 1 image to \u001b[1mruns\\detect\\exp2693\u001b[0m\n",
      "Saved results to runs\\detect\\exp2693\n",
      "\n"
     ]
    },
    {
     "name": "stdout",
     "output_type": "stream",
     "text": [
      "1/1 [==============================] - 0s 47ms/step\n",
      "1/1 [==============================] - 0s 71ms/step\n"
     ]
    },
    {
     "name": "stderr",
     "output_type": "stream",
     "text": [
      "Saved 1 image to \u001b[1mruns\\detect\\exp2694\u001b[0m\n",
      "Saved results to runs\\detect\\exp2694\n",
      "\n"
     ]
    },
    {
     "name": "stdout",
     "output_type": "stream",
     "text": [
      "1/1 [==============================] - 0s 44ms/step\n",
      "1/1 [==============================] - 0s 54ms/step\n"
     ]
    },
    {
     "name": "stderr",
     "output_type": "stream",
     "text": [
      "Saved 1 image to \u001b[1mruns\\detect\\exp2695\u001b[0m\n",
      "Saved results to runs\\detect\\exp2695\n",
      "\n"
     ]
    },
    {
     "name": "stdout",
     "output_type": "stream",
     "text": [
      "1/1 [==============================] - 0s 64ms/step\n",
      "1/1 [==============================] - 0s 71ms/step\n"
     ]
    },
    {
     "name": "stderr",
     "output_type": "stream",
     "text": [
      "Saved 1 image to \u001b[1mruns\\detect\\exp2696\u001b[0m\n",
      "Saved results to runs\\detect\\exp2696\n",
      "\n"
     ]
    },
    {
     "name": "stdout",
     "output_type": "stream",
     "text": [
      "1/1 [==============================] - 0s 52ms/step\n",
      "1/1 [==============================] - 0s 43ms/step\n"
     ]
    },
    {
     "name": "stderr",
     "output_type": "stream",
     "text": [
      "Saved 1 image to \u001b[1mruns\\detect\\exp2697\u001b[0m\n",
      "Saved results to runs\\detect\\exp2697\n",
      "\n"
     ]
    },
    {
     "name": "stdout",
     "output_type": "stream",
     "text": [
      "1/1 [==============================] - 0s 44ms/step\n",
      "1/1 [==============================] - 0s 50ms/step\n"
     ]
    },
    {
     "name": "stderr",
     "output_type": "stream",
     "text": [
      "Saved 1 image to \u001b[1mruns\\detect\\exp2698\u001b[0m\n",
      "Saved results to runs\\detect\\exp2698\n",
      "\n"
     ]
    },
    {
     "name": "stdout",
     "output_type": "stream",
     "text": [
      "1/1 [==============================] - 0s 42ms/step\n",
      "1/1 [==============================] - 0s 42ms/step\n"
     ]
    },
    {
     "name": "stderr",
     "output_type": "stream",
     "text": [
      "Saved 1 image to \u001b[1mruns\\detect\\exp2699\u001b[0m\n",
      "Saved results to runs\\detect\\exp2699\n",
      "\n"
     ]
    },
    {
     "name": "stdout",
     "output_type": "stream",
     "text": [
      "1/1 [==============================] - 0s 35ms/step\n",
      "1/1 [==============================] - 0s 47ms/step\n"
     ]
    },
    {
     "name": "stderr",
     "output_type": "stream",
     "text": [
      "Saved 1 image to \u001b[1mruns\\detect\\exp2700\u001b[0m\n",
      "Saved results to runs\\detect\\exp2700\n",
      "\n"
     ]
    },
    {
     "name": "stdout",
     "output_type": "stream",
     "text": [
      "1/1 [==============================] - 0s 44ms/step\n",
      "1/1 [==============================] - 0s 62ms/step\n"
     ]
    },
    {
     "name": "stderr",
     "output_type": "stream",
     "text": [
      "Saved 1 image to \u001b[1mruns\\detect\\exp2701\u001b[0m\n",
      "Saved results to runs\\detect\\exp2701\n",
      "\n"
     ]
    },
    {
     "name": "stdout",
     "output_type": "stream",
     "text": [
      "1/1 [==============================] - 0s 64ms/step\n",
      "1/1 [==============================] - 0s 45ms/step\n"
     ]
    },
    {
     "name": "stderr",
     "output_type": "stream",
     "text": [
      "Saved 1 image to \u001b[1mruns\\detect\\exp2702\u001b[0m\n",
      "Saved results to runs\\detect\\exp2702\n",
      "\n"
     ]
    },
    {
     "name": "stdout",
     "output_type": "stream",
     "text": [
      "1/1 [==============================] - 0s 58ms/step\n",
      "1/1 [==============================] - 0s 55ms/step\n"
     ]
    },
    {
     "name": "stderr",
     "output_type": "stream",
     "text": [
      "Saved 1 image to \u001b[1mruns\\detect\\exp2703\u001b[0m\n",
      "Saved results to runs\\detect\\exp2703\n",
      "\n"
     ]
    },
    {
     "name": "stdout",
     "output_type": "stream",
     "text": [
      "1/1 [==============================] - 0s 46ms/step\n",
      "1/1 [==============================] - 0s 59ms/step\n"
     ]
    },
    {
     "name": "stderr",
     "output_type": "stream",
     "text": [
      "Saved 1 image to \u001b[1mruns\\detect\\exp2704\u001b[0m\n",
      "Saved results to runs\\detect\\exp2704\n",
      "\n"
     ]
    },
    {
     "name": "stdout",
     "output_type": "stream",
     "text": [
      "1/1 [==============================] - 0s 55ms/step\n",
      "1/1 [==============================] - 0s 51ms/step\n"
     ]
    },
    {
     "name": "stderr",
     "output_type": "stream",
     "text": [
      "Saved 1 image to \u001b[1mruns\\detect\\exp2705\u001b[0m\n",
      "Saved results to runs\\detect\\exp2705\n",
      "\n"
     ]
    },
    {
     "name": "stdout",
     "output_type": "stream",
     "text": [
      "1/1 [==============================] - 0s 68ms/step\n",
      "1/1 [==============================] - 0s 60ms/step\n"
     ]
    },
    {
     "name": "stderr",
     "output_type": "stream",
     "text": [
      "Saved 1 image to \u001b[1mruns\\detect\\exp2706\u001b[0m\n",
      "Saved results to runs\\detect\\exp2706\n",
      "\n"
     ]
    },
    {
     "name": "stdout",
     "output_type": "stream",
     "text": [
      "1/1 [==============================] - 0s 51ms/step\n",
      "1/1 [==============================] - 0s 56ms/step\n"
     ]
    },
    {
     "name": "stderr",
     "output_type": "stream",
     "text": [
      "Saved 1 image to \u001b[1mruns\\detect\\exp2707\u001b[0m\n",
      "Saved results to runs\\detect\\exp2707\n",
      "\n"
     ]
    },
    {
     "name": "stdout",
     "output_type": "stream",
     "text": [
      "1/1 [==============================] - 0s 43ms/step\n",
      "1/1 [==============================] - 0s 48ms/step\n"
     ]
    },
    {
     "name": "stderr",
     "output_type": "stream",
     "text": [
      "Saved 1 image to \u001b[1mruns\\detect\\exp2708\u001b[0m\n",
      "Saved results to runs\\detect\\exp2708\n",
      "\n"
     ]
    },
    {
     "name": "stdout",
     "output_type": "stream",
     "text": [
      "1/1 [==============================] - 0s 45ms/step\n",
      "1/1 [==============================] - 0s 51ms/step\n"
     ]
    },
    {
     "name": "stderr",
     "output_type": "stream",
     "text": [
      "Saved 1 image to \u001b[1mruns\\detect\\exp2709\u001b[0m\n",
      "Saved results to runs\\detect\\exp2709\n",
      "\n"
     ]
    },
    {
     "name": "stdout",
     "output_type": "stream",
     "text": [
      "1/1 [==============================] - 0s 46ms/step\n",
      "1/1 [==============================] - 0s 45ms/step\n"
     ]
    },
    {
     "name": "stderr",
     "output_type": "stream",
     "text": [
      "Saved 1 image to \u001b[1mruns\\detect\\exp2710\u001b[0m\n",
      "Saved results to runs\\detect\\exp2710\n",
      "\n"
     ]
    },
    {
     "name": "stdout",
     "output_type": "stream",
     "text": [
      "1/1 [==============================] - 0s 51ms/step\n",
      "1/1 [==============================] - 0s 46ms/step\n"
     ]
    },
    {
     "name": "stderr",
     "output_type": "stream",
     "text": [
      "Saved 1 image to \u001b[1mruns\\detect\\exp2711\u001b[0m\n",
      "Saved results to runs\\detect\\exp2711\n",
      "\n"
     ]
    },
    {
     "name": "stdout",
     "output_type": "stream",
     "text": [
      "1/1 [==============================] - 0s 58ms/step\n"
     ]
    },
    {
     "name": "stderr",
     "output_type": "stream",
     "text": [
      "Saved 1 image to \u001b[1mruns\\detect\\exp2712\u001b[0m\n",
      "Saved results to runs\\detect\\exp2712\n",
      "\n"
     ]
    },
    {
     "name": "stdout",
     "output_type": "stream",
     "text": [
      "1/1 [==============================] - 0s 65ms/step\n"
     ]
    },
    {
     "name": "stderr",
     "output_type": "stream",
     "text": [
      "Saved 1 image to \u001b[1mruns\\detect\\exp2713\u001b[0m\n",
      "Saved results to runs\\detect\\exp2713\n",
      "\n"
     ]
    },
    {
     "name": "stdout",
     "output_type": "stream",
     "text": [
      "1/1 [==============================] - 0s 193ms/step\n"
     ]
    },
    {
     "name": "stderr",
     "output_type": "stream",
     "text": [
      "Saved 1 image to \u001b[1mruns\\detect\\exp2714\u001b[0m\n",
      "Saved results to runs\\detect\\exp2714\n",
      "\n"
     ]
    },
    {
     "name": "stdout",
     "output_type": "stream",
     "text": [
      "1/1 [==============================] - 0s 53ms/step\n",
      "1/1 [==============================] - 0s 48ms/step\n"
     ]
    },
    {
     "name": "stderr",
     "output_type": "stream",
     "text": [
      "Saved 1 image to \u001b[1mruns\\detect\\exp2715\u001b[0m\n",
      "Saved results to runs\\detect\\exp2715\n",
      "\n"
     ]
    },
    {
     "name": "stdout",
     "output_type": "stream",
     "text": [
      "1/1 [==============================] - 0s 51ms/step\n"
     ]
    },
    {
     "name": "stderr",
     "output_type": "stream",
     "text": [
      "Saved 1 image to \u001b[1mruns\\detect\\exp2716\u001b[0m\n",
      "Saved results to runs\\detect\\exp2716\n",
      "\n"
     ]
    },
    {
     "name": "stdout",
     "output_type": "stream",
     "text": [
      "1/1 [==============================] - 0s 46ms/step\n"
     ]
    },
    {
     "name": "stderr",
     "output_type": "stream",
     "text": [
      "Saved 1 image to \u001b[1mruns\\detect\\exp2717\u001b[0m\n",
      "Saved results to runs\\detect\\exp2717\n",
      "\n"
     ]
    },
    {
     "name": "stdout",
     "output_type": "stream",
     "text": [
      "1/1 [==============================] - 0s 48ms/step\n"
     ]
    },
    {
     "name": "stderr",
     "output_type": "stream",
     "text": [
      "Saved 1 image to \u001b[1mruns\\detect\\exp2718\u001b[0m\n",
      "Saved results to runs\\detect\\exp2718\n",
      "\n",
      "Saved 1 image to \u001b[1mruns\\detect\\exp2719\u001b[0m\n",
      "Saved results to runs\\detect\\exp2719\n",
      "\n",
      "Saved 1 image to \u001b[1mruns\\detect\\exp2720\u001b[0m\n",
      "Saved results to runs\\detect\\exp2720\n",
      "\n",
      "Saved 1 image to \u001b[1mruns\\detect\\exp2721\u001b[0m\n",
      "Saved results to runs\\detect\\exp2721\n",
      "\n",
      "Saved 1 image to \u001b[1mruns\\detect\\exp2722\u001b[0m\n",
      "Saved results to runs\\detect\\exp2722\n",
      "\n"
     ]
    },
    {
     "name": "stdout",
     "output_type": "stream",
     "text": [
      "1/1 [==============================] - 0s 48ms/step\n"
     ]
    },
    {
     "name": "stderr",
     "output_type": "stream",
     "text": [
      "Saved 1 image to \u001b[1mruns\\detect\\exp2723\u001b[0m\n",
      "Saved results to runs\\detect\\exp2723\n",
      "\n"
     ]
    },
    {
     "name": "stdout",
     "output_type": "stream",
     "text": [
      "1/1 [==============================] - 0s 59ms/step\n"
     ]
    },
    {
     "name": "stderr",
     "output_type": "stream",
     "text": [
      "Saved 1 image to \u001b[1mruns\\detect\\exp2724\u001b[0m\n",
      "Saved results to runs\\detect\\exp2724\n",
      "\n",
      "Saved 1 image to \u001b[1mruns\\detect\\exp2725\u001b[0m\n",
      "Saved results to runs\\detect\\exp2725\n",
      "\n"
     ]
    },
    {
     "name": "stdout",
     "output_type": "stream",
     "text": [
      "1/1 [==============================] - 0s 61ms/step\n"
     ]
    },
    {
     "name": "stderr",
     "output_type": "stream",
     "text": [
      "Saved 1 image to \u001b[1mruns\\detect\\exp2726\u001b[0m\n",
      "Saved results to runs\\detect\\exp2726\n",
      "\n"
     ]
    },
    {
     "name": "stdout",
     "output_type": "stream",
     "text": [
      "1/1 [==============================] - 0s 48ms/step\n"
     ]
    },
    {
     "name": "stderr",
     "output_type": "stream",
     "text": [
      "Saved 1 image to \u001b[1mruns\\detect\\exp2727\u001b[0m\n",
      "Saved results to runs\\detect\\exp2727\n",
      "\n"
     ]
    },
    {
     "name": "stdout",
     "output_type": "stream",
     "text": [
      "1/1 [==============================] - 0s 58ms/step\n"
     ]
    },
    {
     "name": "stderr",
     "output_type": "stream",
     "text": [
      "Saved 1 image to \u001b[1mruns\\detect\\exp2728\u001b[0m\n",
      "Saved results to runs\\detect\\exp2728\n",
      "\n"
     ]
    },
    {
     "name": "stdout",
     "output_type": "stream",
     "text": [
      "1/1 [==============================] - 0s 319ms/step\n"
     ]
    },
    {
     "name": "stderr",
     "output_type": "stream",
     "text": [
      "Saved 1 image to \u001b[1mruns\\detect\\exp2729\u001b[0m\n",
      "Saved results to runs\\detect\\exp2729\n",
      "\n",
      "Saved 1 image to \u001b[1mruns\\detect\\exp2730\u001b[0m\n",
      "Saved results to runs\\detect\\exp2730\n",
      "\n"
     ]
    },
    {
     "name": "stdout",
     "output_type": "stream",
     "text": [
      "1/1 [==============================] - 0s 47ms/step\n"
     ]
    },
    {
     "name": "stderr",
     "output_type": "stream",
     "text": [
      "Saved 1 image to \u001b[1mruns\\detect\\exp2731\u001b[0m\n",
      "Saved results to runs\\detect\\exp2731\n",
      "\n"
     ]
    },
    {
     "name": "stdout",
     "output_type": "stream",
     "text": [
      "1/1 [==============================] - 0s 69ms/step\n"
     ]
    },
    {
     "name": "stderr",
     "output_type": "stream",
     "text": [
      "Saved 1 image to \u001b[1mruns\\detect\\exp2732\u001b[0m\n",
      "Saved results to runs\\detect\\exp2732\n",
      "\n"
     ]
    },
    {
     "name": "stdout",
     "output_type": "stream",
     "text": [
      "1/1 [==============================] - 0s 49ms/step\n"
     ]
    },
    {
     "name": "stderr",
     "output_type": "stream",
     "text": [
      "Saved 1 image to \u001b[1mruns\\detect\\exp2733\u001b[0m\n",
      "Saved results to runs\\detect\\exp2733\n",
      "\n"
     ]
    },
    {
     "name": "stdout",
     "output_type": "stream",
     "text": [
      "1/1 [==============================] - 0s 40ms/step\n"
     ]
    },
    {
     "name": "stderr",
     "output_type": "stream",
     "text": [
      "Saved 1 image to \u001b[1mruns\\detect\\exp2734\u001b[0m\n",
      "Saved results to runs\\detect\\exp2734\n",
      "\n"
     ]
    },
    {
     "name": "stdout",
     "output_type": "stream",
     "text": [
      "1/1 [==============================] - 0s 46ms/step\n",
      "1/1 [==============================] - 0s 39ms/step\n"
     ]
    },
    {
     "name": "stderr",
     "output_type": "stream",
     "text": [
      "Saved 1 image to \u001b[1mruns\\detect\\exp2735\u001b[0m\n",
      "Saved results to runs\\detect\\exp2735\n",
      "\n"
     ]
    },
    {
     "name": "stdout",
     "output_type": "stream",
     "text": [
      "1/1 [==============================] - 0s 48ms/step\n",
      "1/1 [==============================] - 0s 48ms/step\n"
     ]
    },
    {
     "name": "stderr",
     "output_type": "stream",
     "text": [
      "Saved 1 image to \u001b[1mruns\\detect\\exp2736\u001b[0m\n",
      "Saved results to runs\\detect\\exp2736\n",
      "\n"
     ]
    },
    {
     "name": "stdout",
     "output_type": "stream",
     "text": [
      "1/1 [==============================] - 0s 54ms/step\n",
      "1/1 [==============================] - 0s 49ms/step\n"
     ]
    },
    {
     "name": "stderr",
     "output_type": "stream",
     "text": [
      "Saved 1 image to \u001b[1mruns\\detect\\exp2737\u001b[0m\n",
      "Saved results to runs\\detect\\exp2737\n",
      "\n"
     ]
    },
    {
     "name": "stdout",
     "output_type": "stream",
     "text": [
      "1/1 [==============================] - 0s 46ms/step\n",
      "1/1 [==============================] - 0s 47ms/step\n"
     ]
    },
    {
     "name": "stderr",
     "output_type": "stream",
     "text": [
      "Saved 1 image to \u001b[1mruns\\detect\\exp2738\u001b[0m\n",
      "Saved results to runs\\detect\\exp2738\n",
      "\n"
     ]
    },
    {
     "name": "stdout",
     "output_type": "stream",
     "text": [
      "1/1 [==============================] - 0s 37ms/step\n",
      "1/1 [==============================] - 0s 38ms/step\n"
     ]
    },
    {
     "name": "stderr",
     "output_type": "stream",
     "text": [
      "Saved 1 image to \u001b[1mruns\\detect\\exp2739\u001b[0m\n",
      "Saved results to runs\\detect\\exp2739\n",
      "\n"
     ]
    },
    {
     "name": "stdout",
     "output_type": "stream",
     "text": [
      "1/1 [==============================] - 0s 37ms/step\n",
      "1/1 [==============================] - 0s 38ms/step\n"
     ]
    },
    {
     "name": "stderr",
     "output_type": "stream",
     "text": [
      "Saved 1 image to \u001b[1mruns\\detect\\exp2740\u001b[0m\n",
      "Saved results to runs\\detect\\exp2740\n",
      "\n",
      "Saved 1 image to \u001b[1mruns\\detect\\exp2741\u001b[0m\n",
      "Saved results to runs\\detect\\exp2741\n",
      "\n"
     ]
    },
    {
     "name": "stdout",
     "output_type": "stream",
     "text": [
      "1/1 [==============================] - 0s 47ms/step\n"
     ]
    },
    {
     "name": "stderr",
     "output_type": "stream",
     "text": [
      "Saved 1 image to \u001b[1mruns\\detect\\exp2742\u001b[0m\n",
      "Saved results to runs\\detect\\exp2742\n",
      "\n"
     ]
    },
    {
     "name": "stdout",
     "output_type": "stream",
     "text": [
      "1/1 [==============================] - 0s 52ms/step\n"
     ]
    },
    {
     "name": "stderr",
     "output_type": "stream",
     "text": [
      "Saved 1 image to \u001b[1mruns\\detect\\exp2743\u001b[0m\n",
      "Saved results to runs\\detect\\exp2743\n",
      "\n"
     ]
    },
    {
     "name": "stdout",
     "output_type": "stream",
     "text": [
      "1/1 [==============================] - 0s 52ms/step\n",
      "1/1 [==============================] - 0s 43ms/step\n"
     ]
    },
    {
     "name": "stderr",
     "output_type": "stream",
     "text": [
      "Saved 1 image to \u001b[1mruns\\detect\\exp2744\u001b[0m\n",
      "Saved results to runs\\detect\\exp2744\n",
      "\n"
     ]
    },
    {
     "name": "stdout",
     "output_type": "stream",
     "text": [
      "1/1 [==============================] - 0s 36ms/step\n",
      "1/1 [==============================] - 0s 37ms/step\n"
     ]
    },
    {
     "name": "stderr",
     "output_type": "stream",
     "text": [
      "Saved 1 image to \u001b[1mruns\\detect\\exp2745\u001b[0m\n",
      "Saved results to runs\\detect\\exp2745\n",
      "\n"
     ]
    },
    {
     "name": "stdout",
     "output_type": "stream",
     "text": [
      "1/1 [==============================] - 0s 39ms/step\n",
      "1/1 [==============================] - 0s 39ms/step\n"
     ]
    },
    {
     "name": "stderr",
     "output_type": "stream",
     "text": [
      "Saved 1 image to \u001b[1mruns\\detect\\exp2746\u001b[0m\n",
      "Saved results to runs\\detect\\exp2746\n",
      "\n"
     ]
    },
    {
     "name": "stdout",
     "output_type": "stream",
     "text": [
      "1/1 [==============================] - 0s 36ms/step\n"
     ]
    },
    {
     "name": "stderr",
     "output_type": "stream",
     "text": [
      "Saved 1 image to \u001b[1mruns\\detect\\exp2747\u001b[0m\n",
      "Saved results to runs\\detect\\exp2747\n",
      "\n"
     ]
    },
    {
     "name": "stdout",
     "output_type": "stream",
     "text": [
      "1/1 [==============================] - 0s 43ms/step\n",
      "1/1 [==============================] - 0s 36ms/step\n"
     ]
    },
    {
     "name": "stderr",
     "output_type": "stream",
     "text": [
      "Saved 1 image to \u001b[1mruns\\detect\\exp2748\u001b[0m\n",
      "Saved results to runs\\detect\\exp2748\n",
      "\n"
     ]
    },
    {
     "name": "stdout",
     "output_type": "stream",
     "text": [
      "1/1 [==============================] - 0s 43ms/step\n",
      "1/1 [==============================] - 0s 44ms/step\n"
     ]
    },
    {
     "name": "stderr",
     "output_type": "stream",
     "text": [
      "Saved 1 image to \u001b[1mruns\\detect\\exp2749\u001b[0m\n",
      "Saved results to runs\\detect\\exp2749\n",
      "\n"
     ]
    },
    {
     "name": "stdout",
     "output_type": "stream",
     "text": [
      "1/1 [==============================] - 0s 35ms/step\n",
      "1/1 [==============================] - 0s 38ms/step\n"
     ]
    },
    {
     "name": "stderr",
     "output_type": "stream",
     "text": [
      "Saved 1 image to \u001b[1mruns\\detect\\exp2750\u001b[0m\n",
      "Saved results to runs\\detect\\exp2750\n",
      "\n"
     ]
    },
    {
     "name": "stdout",
     "output_type": "stream",
     "text": [
      "1/1 [==============================] - 0s 38ms/step\n",
      "1/1 [==============================] - 0s 40ms/step\n"
     ]
    },
    {
     "name": "stderr",
     "output_type": "stream",
     "text": [
      "Saved 1 image to \u001b[1mruns\\detect\\exp2751\u001b[0m\n",
      "Saved results to runs\\detect\\exp2751\n",
      "\n"
     ]
    },
    {
     "name": "stdout",
     "output_type": "stream",
     "text": [
      "1/1 [==============================] - 0s 38ms/step\n",
      "1/1 [==============================] - 0s 37ms/step\n"
     ]
    },
    {
     "name": "stderr",
     "output_type": "stream",
     "text": [
      "Saved 1 image to \u001b[1mruns\\detect\\exp2752\u001b[0m\n",
      "Saved results to runs\\detect\\exp2752\n",
      "\n"
     ]
    },
    {
     "name": "stdout",
     "output_type": "stream",
     "text": [
      "1/1 [==============================] - 0s 37ms/step\n",
      "1/1 [==============================] - 0s 34ms/step\n"
     ]
    },
    {
     "name": "stderr",
     "output_type": "stream",
     "text": [
      "Saved 1 image to \u001b[1mruns\\detect\\exp2753\u001b[0m\n",
      "Saved results to runs\\detect\\exp2753\n",
      "\n"
     ]
    },
    {
     "name": "stdout",
     "output_type": "stream",
     "text": [
      "1/1 [==============================] - 0s 70ms/step\n",
      "1/1 [==============================] - 0s 46ms/step\n"
     ]
    },
    {
     "name": "stderr",
     "output_type": "stream",
     "text": [
      "Saved 1 image to \u001b[1mruns\\detect\\exp2754\u001b[0m\n",
      "Saved results to runs\\detect\\exp2754\n",
      "\n"
     ]
    },
    {
     "name": "stdout",
     "output_type": "stream",
     "text": [
      "1/1 [==============================] - 0s 37ms/step\n",
      "1/1 [==============================] - 0s 36ms/step\n"
     ]
    },
    {
     "name": "stderr",
     "output_type": "stream",
     "text": [
      "Saved 1 image to \u001b[1mruns\\detect\\exp2755\u001b[0m\n",
      "Saved results to runs\\detect\\exp2755\n",
      "\n"
     ]
    },
    {
     "name": "stdout",
     "output_type": "stream",
     "text": [
      "1/1 [==============================] - 0s 36ms/step\n",
      "1/1 [==============================] - 0s 38ms/step\n"
     ]
    },
    {
     "name": "stderr",
     "output_type": "stream",
     "text": [
      "Saved 1 image to \u001b[1mruns\\detect\\exp2756\u001b[0m\n",
      "Saved results to runs\\detect\\exp2756\n",
      "\n"
     ]
    },
    {
     "name": "stdout",
     "output_type": "stream",
     "text": [
      "1/1 [==============================] - 0s 40ms/step\n",
      "1/1 [==============================] - 0s 36ms/step\n"
     ]
    },
    {
     "name": "stderr",
     "output_type": "stream",
     "text": [
      "Saved 1 image to \u001b[1mruns\\detect\\exp2757\u001b[0m\n",
      "Saved results to runs\\detect\\exp2757\n",
      "\n"
     ]
    },
    {
     "name": "stdout",
     "output_type": "stream",
     "text": [
      "1/1 [==============================] - 0s 38ms/step\n",
      "1/1 [==============================] - 0s 38ms/step\n"
     ]
    },
    {
     "name": "stderr",
     "output_type": "stream",
     "text": [
      "Saved 1 image to \u001b[1mruns\\detect\\exp2758\u001b[0m\n",
      "Saved results to runs\\detect\\exp2758\n",
      "\n"
     ]
    },
    {
     "name": "stdout",
     "output_type": "stream",
     "text": [
      "1/1 [==============================] - 0s 46ms/step\n"
     ]
    },
    {
     "name": "stderr",
     "output_type": "stream",
     "text": [
      "Saved 1 image to \u001b[1mruns\\detect\\exp2759\u001b[0m\n",
      "Saved results to runs\\detect\\exp2759\n",
      "\n"
     ]
    },
    {
     "name": "stdout",
     "output_type": "stream",
     "text": [
      "1/1 [==============================] - 0s 36ms/step\n"
     ]
    },
    {
     "name": "stderr",
     "output_type": "stream",
     "text": [
      "Saved 1 image to \u001b[1mruns\\detect\\exp2760\u001b[0m\n",
      "Saved results to runs\\detect\\exp2760\n",
      "\n"
     ]
    },
    {
     "name": "stdout",
     "output_type": "stream",
     "text": [
      "1/1 [==============================] - 0s 39ms/step\n"
     ]
    },
    {
     "name": "stderr",
     "output_type": "stream",
     "text": [
      "Saved 1 image to \u001b[1mruns\\detect\\exp2761\u001b[0m\n",
      "Saved results to runs\\detect\\exp2761\n",
      "\n"
     ]
    },
    {
     "name": "stdout",
     "output_type": "stream",
     "text": [
      "1/1 [==============================] - 0s 36ms/step\n",
      "1/1 [==============================] - 0s 40ms/step\n"
     ]
    },
    {
     "name": "stderr",
     "output_type": "stream",
     "text": [
      "Saved 1 image to \u001b[1mruns\\detect\\exp2762\u001b[0m\n",
      "Saved results to runs\\detect\\exp2762\n",
      "\n"
     ]
    },
    {
     "name": "stdout",
     "output_type": "stream",
     "text": [
      "1/1 [==============================] - 0s 45ms/step\n",
      "1/1 [==============================] - 0s 37ms/step\n"
     ]
    },
    {
     "name": "stderr",
     "output_type": "stream",
     "text": [
      "Saved 1 image to \u001b[1mruns\\detect\\exp2763\u001b[0m\n",
      "Saved results to runs\\detect\\exp2763\n",
      "\n"
     ]
    },
    {
     "name": "stdout",
     "output_type": "stream",
     "text": [
      "1/1 [==============================] - 0s 40ms/step\n",
      "1/1 [==============================] - 0s 57ms/step\n"
     ]
    },
    {
     "name": "stderr",
     "output_type": "stream",
     "text": [
      "Saved 1 image to \u001b[1mruns\\detect\\exp2764\u001b[0m\n",
      "Saved results to runs\\detect\\exp2764\n",
      "\n"
     ]
    },
    {
     "name": "stdout",
     "output_type": "stream",
     "text": [
      "1/1 [==============================] - 0s 54ms/step\n",
      "1/1 [==============================] - 0s 41ms/step\n"
     ]
    },
    {
     "name": "stderr",
     "output_type": "stream",
     "text": [
      "Saved 1 image to \u001b[1mruns\\detect\\exp2765\u001b[0m\n",
      "Saved results to runs\\detect\\exp2765\n",
      "\n"
     ]
    },
    {
     "name": "stdout",
     "output_type": "stream",
     "text": [
      "1/1 [==============================] - 0s 38ms/step\n",
      "1/1 [==============================] - 0s 43ms/step\n"
     ]
    },
    {
     "name": "stderr",
     "output_type": "stream",
     "text": [
      "Saved 1 image to \u001b[1mruns\\detect\\exp2766\u001b[0m\n",
      "Saved results to runs\\detect\\exp2766\n",
      "\n"
     ]
    },
    {
     "name": "stdout",
     "output_type": "stream",
     "text": [
      "1/1 [==============================] - 0s 37ms/step\n",
      "1/1 [==============================] - 0s 38ms/step\n"
     ]
    },
    {
     "name": "stderr",
     "output_type": "stream",
     "text": [
      "Saved 1 image to \u001b[1mruns\\detect\\exp2767\u001b[0m\n",
      "Saved results to runs\\detect\\exp2767\n",
      "\n"
     ]
    },
    {
     "name": "stdout",
     "output_type": "stream",
     "text": [
      "1/1 [==============================] - 0s 52ms/step\n",
      "1/1 [==============================] - 0s 41ms/step\n"
     ]
    },
    {
     "name": "stderr",
     "output_type": "stream",
     "text": [
      "Saved 1 image to \u001b[1mruns\\detect\\exp2768\u001b[0m\n",
      "Saved results to runs\\detect\\exp2768\n",
      "\n"
     ]
    },
    {
     "name": "stdout",
     "output_type": "stream",
     "text": [
      "1/1 [==============================] - 0s 42ms/step\n",
      "1/1 [==============================] - 0s 64ms/step\n"
     ]
    },
    {
     "name": "stderr",
     "output_type": "stream",
     "text": [
      "Saved 1 image to \u001b[1mruns\\detect\\exp2769\u001b[0m\n",
      "Saved results to runs\\detect\\exp2769\n",
      "\n"
     ]
    },
    {
     "name": "stdout",
     "output_type": "stream",
     "text": [
      "1/1 [==============================] - 0s 48ms/step\n",
      "1/1 [==============================] - 0s 48ms/step\n"
     ]
    },
    {
     "name": "stderr",
     "output_type": "stream",
     "text": [
      "Saved 1 image to \u001b[1mruns\\detect\\exp2770\u001b[0m\n",
      "Saved results to runs\\detect\\exp2770\n",
      "\n"
     ]
    },
    {
     "name": "stdout",
     "output_type": "stream",
     "text": [
      "1/1 [==============================] - 0s 48ms/step\n",
      "1/1 [==============================] - 0s 48ms/step\n"
     ]
    },
    {
     "name": "stderr",
     "output_type": "stream",
     "text": [
      "Saved 1 image to \u001b[1mruns\\detect\\exp2771\u001b[0m\n",
      "Saved results to runs\\detect\\exp2771\n",
      "\n"
     ]
    },
    {
     "name": "stdout",
     "output_type": "stream",
     "text": [
      "1/1 [==============================] - 0s 46ms/step\n",
      "1/1 [==============================] - 0s 59ms/step\n"
     ]
    },
    {
     "name": "stderr",
     "output_type": "stream",
     "text": [
      "Saved 1 image to \u001b[1mruns\\detect\\exp2772\u001b[0m\n",
      "Saved results to runs\\detect\\exp2772\n",
      "\n"
     ]
    },
    {
     "name": "stdout",
     "output_type": "stream",
     "text": [
      "1/1 [==============================] - 0s 56ms/step\n",
      "1/1 [==============================] - 0s 59ms/step\n"
     ]
    },
    {
     "name": "stderr",
     "output_type": "stream",
     "text": [
      "Saved 1 image to \u001b[1mruns\\detect\\exp2773\u001b[0m\n",
      "Saved results to runs\\detect\\exp2773\n",
      "\n"
     ]
    },
    {
     "name": "stdout",
     "output_type": "stream",
     "text": [
      "1/1 [==============================] - 0s 65ms/step\n",
      "1/1 [==============================] - 0s 50ms/step\n"
     ]
    },
    {
     "name": "stderr",
     "output_type": "stream",
     "text": [
      "Saved 1 image to \u001b[1mruns\\detect\\exp2774\u001b[0m\n",
      "Saved results to runs\\detect\\exp2774\n",
      "\n"
     ]
    },
    {
     "name": "stdout",
     "output_type": "stream",
     "text": [
      "1/1 [==============================] - 0s 52ms/step\n"
     ]
    },
    {
     "name": "stderr",
     "output_type": "stream",
     "text": [
      "Saved 1 image to \u001b[1mruns\\detect\\exp2775\u001b[0m\n",
      "Saved results to runs\\detect\\exp2775\n",
      "\n"
     ]
    },
    {
     "name": "stdout",
     "output_type": "stream",
     "text": [
      "1/1 [==============================] - 0s 62ms/step\n"
     ]
    },
    {
     "name": "stderr",
     "output_type": "stream",
     "text": [
      "Saved 1 image to \u001b[1mruns\\detect\\exp2776\u001b[0m\n",
      "Saved results to runs\\detect\\exp2776\n",
      "\n"
     ]
    },
    {
     "name": "stdout",
     "output_type": "stream",
     "text": [
      "1/1 [==============================] - 0s 46ms/step\n"
     ]
    },
    {
     "name": "stderr",
     "output_type": "stream",
     "text": [
      "Saved 1 image to \u001b[1mruns\\detect\\exp2777\u001b[0m\n",
      "Saved results to runs\\detect\\exp2777\n",
      "\n"
     ]
    },
    {
     "name": "stdout",
     "output_type": "stream",
     "text": [
      "1/1 [==============================] - 0s 52ms/step\n"
     ]
    },
    {
     "name": "stderr",
     "output_type": "stream",
     "text": [
      "Saved 1 image to \u001b[1mruns\\detect\\exp2778\u001b[0m\n",
      "Saved results to runs\\detect\\exp2778\n",
      "\n"
     ]
    },
    {
     "name": "stdout",
     "output_type": "stream",
     "text": [
      "1/1 [==============================] - 0s 45ms/step\n"
     ]
    },
    {
     "name": "stderr",
     "output_type": "stream",
     "text": [
      "Saved 1 image to \u001b[1mruns\\detect\\exp2779\u001b[0m\n",
      "Saved results to runs\\detect\\exp2779\n",
      "\n"
     ]
    },
    {
     "name": "stdout",
     "output_type": "stream",
     "text": [
      "1/1 [==============================] - 0s 44ms/step\n"
     ]
    },
    {
     "name": "stderr",
     "output_type": "stream",
     "text": [
      "Saved 1 image to \u001b[1mruns\\detect\\exp2780\u001b[0m\n",
      "Saved results to runs\\detect\\exp2780\n",
      "\n"
     ]
    },
    {
     "name": "stdout",
     "output_type": "stream",
     "text": [
      "1/1 [==============================] - 0s 51ms/step\n"
     ]
    },
    {
     "name": "stderr",
     "output_type": "stream",
     "text": [
      "Saved 1 image to \u001b[1mruns\\detect\\exp2781\u001b[0m\n",
      "Saved results to runs\\detect\\exp2781\n",
      "\n"
     ]
    },
    {
     "name": "stdout",
     "output_type": "stream",
     "text": [
      "1/1 [==============================] - 0s 47ms/step\n"
     ]
    },
    {
     "name": "stderr",
     "output_type": "stream",
     "text": [
      "Saved 1 image to \u001b[1mruns\\detect\\exp2782\u001b[0m\n",
      "Saved results to runs\\detect\\exp2782\n",
      "\n",
      "Saved 1 image to \u001b[1mruns\\detect\\exp2783\u001b[0m\n",
      "Saved results to runs\\detect\\exp2783\n",
      "\n",
      "Saved 1 image to \u001b[1mruns\\detect\\exp2784\u001b[0m\n",
      "Saved results to runs\\detect\\exp2784\n",
      "\n",
      "Saved 1 image to \u001b[1mruns\\detect\\exp2785\u001b[0m\n",
      "Saved results to runs\\detect\\exp2785\n",
      "\n",
      "Saved 1 image to \u001b[1mruns\\detect\\exp2786\u001b[0m\n",
      "Saved results to runs\\detect\\exp2786\n",
      "\n",
      "Saved 1 image to \u001b[1mruns\\detect\\exp2787\u001b[0m\n",
      "Saved results to runs\\detect\\exp2787\n",
      "\n",
      "Saved 1 image to \u001b[1mruns\\detect\\exp2788\u001b[0m\n",
      "Saved results to runs\\detect\\exp2788\n",
      "\n",
      "Saved 1 image to \u001b[1mruns\\detect\\exp2789\u001b[0m\n",
      "Saved results to runs\\detect\\exp2789\n",
      "\n",
      "Saved 1 image to \u001b[1mruns\\detect\\exp2790\u001b[0m\n",
      "Saved results to runs\\detect\\exp2790\n",
      "\n",
      "Saved 1 image to \u001b[1mruns\\detect\\exp2791\u001b[0m\n",
      "Saved results to runs\\detect\\exp2791\n",
      "\n",
      "Saved 1 image to \u001b[1mruns\\detect\\exp2792\u001b[0m\n",
      "Saved results to runs\\detect\\exp2792\n",
      "\n",
      "Saved 1 image to \u001b[1mruns\\detect\\exp2793\u001b[0m\n",
      "Saved results to runs\\detect\\exp2793\n",
      "\n",
      "Saved 1 image to \u001b[1mruns\\detect\\exp2794\u001b[0m\n",
      "Saved results to runs\\detect\\exp2794\n",
      "\n",
      "Saved 1 image to \u001b[1mruns\\detect\\exp2795\u001b[0m\n",
      "Saved results to runs\\detect\\exp2795\n",
      "\n",
      "Saved 1 image to \u001b[1mruns\\detect\\exp2796\u001b[0m\n",
      "Saved results to runs\\detect\\exp2796\n",
      "\n",
      "Saved 1 image to \u001b[1mruns\\detect\\exp2797\u001b[0m\n",
      "Saved results to runs\\detect\\exp2797\n",
      "\n"
     ]
    },
    {
     "name": "stdout",
     "output_type": "stream",
     "text": [
      "1/1 [==============================] - 0s 39ms/step\n"
     ]
    },
    {
     "name": "stderr",
     "output_type": "stream",
     "text": [
      "Saved 1 image to \u001b[1mruns\\detect\\exp2798\u001b[0m\n",
      "Saved results to runs\\detect\\exp2798\n",
      "\n",
      "Saved 1 image to \u001b[1mruns\\detect\\exp2799\u001b[0m\n",
      "Saved results to runs\\detect\\exp2799\n",
      "\n"
     ]
    },
    {
     "name": "stdout",
     "output_type": "stream",
     "text": [
      "1/1 [==============================] - 0s 58ms/step\n"
     ]
    },
    {
     "name": "stderr",
     "output_type": "stream",
     "text": [
      "Saved 1 image to \u001b[1mruns\\detect\\exp2800\u001b[0m\n",
      "Saved results to runs\\detect\\exp2800\n",
      "\n",
      "Saved 1 image to \u001b[1mruns\\detect\\exp2801\u001b[0m\n",
      "Saved results to runs\\detect\\exp2801\n",
      "\n",
      "Saved 1 image to \u001b[1mruns\\detect\\exp2802\u001b[0m\n",
      "Saved results to runs\\detect\\exp2802\n",
      "\n",
      "Saved 1 image to \u001b[1mruns\\detect\\exp2803\u001b[0m\n",
      "Saved results to runs\\detect\\exp2803\n",
      "\n",
      "Saved 1 image to \u001b[1mruns\\detect\\exp2804\u001b[0m\n",
      "Saved results to runs\\detect\\exp2804\n",
      "\n",
      "Saved 1 image to \u001b[1mruns\\detect\\exp2805\u001b[0m\n",
      "Saved results to runs\\detect\\exp2805\n",
      "\n",
      "Saved 1 image to \u001b[1mruns\\detect\\exp2806\u001b[0m\n",
      "Saved results to runs\\detect\\exp2806\n",
      "\n",
      "Saved 1 image to \u001b[1mruns\\detect\\exp2807\u001b[0m\n",
      "Saved results to runs\\detect\\exp2807\n",
      "\n"
     ]
    },
    {
     "name": "stdout",
     "output_type": "stream",
     "text": [
      "1/1 [==============================] - 0s 78ms/step\n"
     ]
    },
    {
     "name": "stderr",
     "output_type": "stream",
     "text": [
      "Saved 1 image to \u001b[1mruns\\detect\\exp2808\u001b[0m\n",
      "Saved results to runs\\detect\\exp2808\n",
      "\n",
      "Saved 1 image to \u001b[1mruns\\detect\\exp2809\u001b[0m\n",
      "Saved results to runs\\detect\\exp2809\n",
      "\n",
      "Saved 1 image to \u001b[1mruns\\detect\\exp2810\u001b[0m\n",
      "Saved results to runs\\detect\\exp2810\n",
      "\n",
      "Saved 1 image to \u001b[1mruns\\detect\\exp2811\u001b[0m\n",
      "Saved results to runs\\detect\\exp2811\n",
      "\n"
     ]
    },
    {
     "name": "stdout",
     "output_type": "stream",
     "text": [
      "1/1 [==============================] - 0s 58ms/step\n"
     ]
    },
    {
     "name": "stderr",
     "output_type": "stream",
     "text": [
      "Saved 1 image to \u001b[1mruns\\detect\\exp2812\u001b[0m\n",
      "Saved results to runs\\detect\\exp2812\n",
      "\n",
      "Saved 1 image to \u001b[1mruns\\detect\\exp2813\u001b[0m\n",
      "Saved results to runs\\detect\\exp2813\n",
      "\n"
     ]
    },
    {
     "name": "stdout",
     "output_type": "stream",
     "text": [
      "1/1 [==============================] - 0s 38ms/step\n"
     ]
    },
    {
     "name": "stderr",
     "output_type": "stream",
     "text": [
      "Saved 1 image to \u001b[1mruns\\detect\\exp2814\u001b[0m\n",
      "Saved results to runs\\detect\\exp2814\n",
      "\n",
      "Saved 1 image to \u001b[1mruns\\detect\\exp2815\u001b[0m\n",
      "Saved results to runs\\detect\\exp2815\n",
      "\n",
      "Saved 1 image to \u001b[1mruns\\detect\\exp2816\u001b[0m\n",
      "Saved results to runs\\detect\\exp2816\n",
      "\n"
     ]
    },
    {
     "name": "stdout",
     "output_type": "stream",
     "text": [
      "1/1 [==============================] - 0s 50ms/step\n"
     ]
    },
    {
     "name": "stderr",
     "output_type": "stream",
     "text": [
      "Saved 1 image to \u001b[1mruns\\detect\\exp2817\u001b[0m\n",
      "Saved results to runs\\detect\\exp2817\n",
      "\n"
     ]
    },
    {
     "name": "stdout",
     "output_type": "stream",
     "text": [
      "1/1 [==============================] - 0s 47ms/step\n"
     ]
    },
    {
     "name": "stderr",
     "output_type": "stream",
     "text": [
      "Saved 1 image to \u001b[1mruns\\detect\\exp2818\u001b[0m\n",
      "Saved results to runs\\detect\\exp2818\n",
      "\n",
      "Saved 1 image to \u001b[1mruns\\detect\\exp2819\u001b[0m\n",
      "Saved results to runs\\detect\\exp2819\n",
      "\n",
      "Saved 1 image to \u001b[1mruns\\detect\\exp2820\u001b[0m\n",
      "Saved results to runs\\detect\\exp2820\n",
      "\n",
      "Saved 1 image to \u001b[1mruns\\detect\\exp2821\u001b[0m\n",
      "Saved results to runs\\detect\\exp2821\n",
      "\n",
      "Saved 1 image to \u001b[1mruns\\detect\\exp2822\u001b[0m\n",
      "Saved results to runs\\detect\\exp2822\n",
      "\n",
      "Saved 1 image to \u001b[1mruns\\detect\\exp2823\u001b[0m\n",
      "Saved results to runs\\detect\\exp2823\n",
      "\n",
      "Saved 1 image to \u001b[1mruns\\detect\\exp2824\u001b[0m\n",
      "Saved results to runs\\detect\\exp2824\n",
      "\n"
     ]
    },
    {
     "name": "stdout",
     "output_type": "stream",
     "text": [
      "1/1 [==============================] - 0s 58ms/step\n"
     ]
    },
    {
     "name": "stderr",
     "output_type": "stream",
     "text": [
      "Saved 1 image to \u001b[1mruns\\detect\\exp2825\u001b[0m\n",
      "Saved results to runs\\detect\\exp2825\n",
      "\n"
     ]
    },
    {
     "name": "stdout",
     "output_type": "stream",
     "text": [
      "1/1 [==============================] - 0s 47ms/step\n"
     ]
    },
    {
     "name": "stderr",
     "output_type": "stream",
     "text": [
      "Saved 1 image to \u001b[1mruns\\detect\\exp2826\u001b[0m\n",
      "Saved results to runs\\detect\\exp2826\n",
      "\n"
     ]
    },
    {
     "name": "stdout",
     "output_type": "stream",
     "text": [
      "1/1 [==============================] - 0s 39ms/step\n"
     ]
    },
    {
     "name": "stderr",
     "output_type": "stream",
     "text": [
      "Saved 1 image to \u001b[1mruns\\detect\\exp2827\u001b[0m\n",
      "Saved results to runs\\detect\\exp2827\n",
      "\n"
     ]
    },
    {
     "name": "stdout",
     "output_type": "stream",
     "text": [
      "1/1 [==============================] - 0s 53ms/step\n"
     ]
    },
    {
     "name": "stderr",
     "output_type": "stream",
     "text": [
      "Saved 1 image to \u001b[1mruns\\detect\\exp2828\u001b[0m\n",
      "Saved results to runs\\detect\\exp2828\n",
      "\n",
      "Saved 1 image to \u001b[1mruns\\detect\\exp2829\u001b[0m\n",
      "Saved results to runs\\detect\\exp2829\n",
      "\n",
      "Saved 1 image to \u001b[1mruns\\detect\\exp2830\u001b[0m\n",
      "Saved results to runs\\detect\\exp2830\n",
      "\n",
      "Saved 1 image to \u001b[1mruns\\detect\\exp2831\u001b[0m\n",
      "Saved results to runs\\detect\\exp2831\n",
      "\n",
      "Saved 1 image to \u001b[1mruns\\detect\\exp2832\u001b[0m\n",
      "Saved results to runs\\detect\\exp2832\n",
      "\n",
      "Saved 1 image to \u001b[1mruns\\detect\\exp2833\u001b[0m\n",
      "Saved results to runs\\detect\\exp2833\n",
      "\n",
      "Saved 1 image to \u001b[1mruns\\detect\\exp2834\u001b[0m\n",
      "Saved results to runs\\detect\\exp2834\n",
      "\n"
     ]
    },
    {
     "name": "stdout",
     "output_type": "stream",
     "text": [
      "1/1 [==============================] - 0s 50ms/step\n"
     ]
    },
    {
     "name": "stderr",
     "output_type": "stream",
     "text": [
      "Saved 1 image to \u001b[1mruns\\detect\\exp2835\u001b[0m\n",
      "Saved results to runs\\detect\\exp2835\n",
      "\n",
      "Saved 1 image to \u001b[1mruns\\detect\\exp2836\u001b[0m\n",
      "Saved results to runs\\detect\\exp2836\n",
      "\n"
     ]
    },
    {
     "name": "stdout",
     "output_type": "stream",
     "text": [
      "1/1 [==============================] - 0s 46ms/step\n"
     ]
    },
    {
     "name": "stderr",
     "output_type": "stream",
     "text": [
      "Saved 1 image to \u001b[1mruns\\detect\\exp2837\u001b[0m\n",
      "Saved results to runs\\detect\\exp2837\n",
      "\n"
     ]
    },
    {
     "name": "stdout",
     "output_type": "stream",
     "text": [
      "1/1 [==============================] - 0s 54ms/step\n",
      "1/1 [==============================] - 0s 56ms/step\n"
     ]
    },
    {
     "name": "stderr",
     "output_type": "stream",
     "text": [
      "Saved 1 image to \u001b[1mruns\\detect\\exp2838\u001b[0m\n",
      "Saved results to runs\\detect\\exp2838\n",
      "\n"
     ]
    },
    {
     "name": "stdout",
     "output_type": "stream",
     "text": [
      "1/1 [==============================] - 0s 52ms/step\n",
      "1/1 [==============================] - 0s 55ms/step\n"
     ]
    },
    {
     "name": "stderr",
     "output_type": "stream",
     "text": [
      "Saved 1 image to \u001b[1mruns\\detect\\exp2839\u001b[0m\n",
      "Saved results to runs\\detect\\exp2839\n",
      "\n",
      "Saved 1 image to \u001b[1mruns\\detect\\exp2840\u001b[0m\n",
      "Saved results to runs\\detect\\exp2840\n",
      "\n"
     ]
    },
    {
     "name": "stdout",
     "output_type": "stream",
     "text": [
      "1/1 [==============================] - 0s 43ms/step\n"
     ]
    },
    {
     "name": "stderr",
     "output_type": "stream",
     "text": [
      "Saved 1 image to \u001b[1mruns\\detect\\exp2841\u001b[0m\n",
      "Saved results to runs\\detect\\exp2841\n",
      "\n"
     ]
    },
    {
     "name": "stdout",
     "output_type": "stream",
     "text": [
      "1/1 [==============================] - 0s 84ms/step\n"
     ]
    },
    {
     "name": "stderr",
     "output_type": "stream",
     "text": [
      "Saved 1 image to \u001b[1mruns\\detect\\exp2842\u001b[0m\n",
      "Saved results to runs\\detect\\exp2842\n",
      "\n"
     ]
    },
    {
     "name": "stdout",
     "output_type": "stream",
     "text": [
      "1/1 [==============================] - 0s 40ms/step\n"
     ]
    },
    {
     "name": "stderr",
     "output_type": "stream",
     "text": [
      "Saved 1 image to \u001b[1mruns\\detect\\exp2843\u001b[0m\n",
      "Saved results to runs\\detect\\exp2843\n",
      "\n"
     ]
    },
    {
     "name": "stdout",
     "output_type": "stream",
     "text": [
      "1/1 [==============================] - 0s 42ms/step\n"
     ]
    },
    {
     "name": "stderr",
     "output_type": "stream",
     "text": [
      "Saved 1 image to \u001b[1mruns\\detect\\exp2844\u001b[0m\n",
      "Saved results to runs\\detect\\exp2844\n",
      "\n"
     ]
    },
    {
     "name": "stdout",
     "output_type": "stream",
     "text": [
      "1/1 [==============================] - 0s 49ms/step\n",
      "1/1 [==============================] - 0s 56ms/step\n"
     ]
    },
    {
     "name": "stderr",
     "output_type": "stream",
     "text": [
      "Saved 1 image to \u001b[1mruns\\detect\\exp2845\u001b[0m\n",
      "Saved results to runs\\detect\\exp2845\n",
      "\n"
     ]
    },
    {
     "name": "stdout",
     "output_type": "stream",
     "text": [
      "1/1 [==============================] - 0s 48ms/step\n"
     ]
    },
    {
     "name": "stderr",
     "output_type": "stream",
     "text": [
      "Saved 1 image to \u001b[1mruns\\detect\\exp2846\u001b[0m\n",
      "Saved results to runs\\detect\\exp2846\n",
      "\n"
     ]
    },
    {
     "name": "stdout",
     "output_type": "stream",
     "text": [
      "1/1 [==============================] - 0s 59ms/step\n",
      "1/1 [==============================] - 0s 44ms/step\n"
     ]
    },
    {
     "name": "stderr",
     "output_type": "stream",
     "text": [
      "Saved 1 image to \u001b[1mruns\\detect\\exp2847\u001b[0m\n",
      "Saved results to runs\\detect\\exp2847\n",
      "\n"
     ]
    },
    {
     "name": "stdout",
     "output_type": "stream",
     "text": [
      "1/1 [==============================] - 0s 46ms/step\n"
     ]
    },
    {
     "name": "stderr",
     "output_type": "stream",
     "text": [
      "Saved 1 image to \u001b[1mruns\\detect\\exp2848\u001b[0m\n",
      "Saved results to runs\\detect\\exp2848\n",
      "\n"
     ]
    },
    {
     "name": "stdout",
     "output_type": "stream",
     "text": [
      "1/1 [==============================] - 0s 44ms/step\n"
     ]
    },
    {
     "name": "stderr",
     "output_type": "stream",
     "text": [
      "Saved 1 image to \u001b[1mruns\\detect\\exp2849\u001b[0m\n",
      "Saved results to runs\\detect\\exp2849\n",
      "\n"
     ]
    },
    {
     "name": "stdout",
     "output_type": "stream",
     "text": [
      "1/1 [==============================] - 0s 44ms/step\n",
      "1/1 [==============================] - 0s 48ms/step\n"
     ]
    },
    {
     "name": "stderr",
     "output_type": "stream",
     "text": [
      "Saved 1 image to \u001b[1mruns\\detect\\exp2850\u001b[0m\n",
      "Saved results to runs\\detect\\exp2850\n",
      "\n"
     ]
    },
    {
     "name": "stdout",
     "output_type": "stream",
     "text": [
      "1/1 [==============================] - 0s 46ms/step\n",
      "1/1 [==============================] - 0s 45ms/step\n"
     ]
    },
    {
     "name": "stderr",
     "output_type": "stream",
     "text": [
      "Saved 1 image to \u001b[1mruns\\detect\\exp2851\u001b[0m\n",
      "Saved results to runs\\detect\\exp2851\n",
      "\n"
     ]
    },
    {
     "name": "stdout",
     "output_type": "stream",
     "text": [
      "1/1 [==============================] - 0s 49ms/step\n",
      "1/1 [==============================] - 0s 47ms/step\n"
     ]
    },
    {
     "name": "stderr",
     "output_type": "stream",
     "text": [
      "Saved 1 image to \u001b[1mruns\\detect\\exp2852\u001b[0m\n",
      "Saved results to runs\\detect\\exp2852\n",
      "\n"
     ]
    },
    {
     "name": "stdout",
     "output_type": "stream",
     "text": [
      "1/1 [==============================] - 0s 40ms/step\n",
      "1/1 [==============================] - 0s 44ms/step\n"
     ]
    },
    {
     "name": "stderr",
     "output_type": "stream",
     "text": [
      "Saved 1 image to \u001b[1mruns\\detect\\exp2853\u001b[0m\n",
      "Saved results to runs\\detect\\exp2853\n",
      "\n"
     ]
    },
    {
     "name": "stdout",
     "output_type": "stream",
     "text": [
      "1/1 [==============================] - 0s 48ms/step\n",
      "1/1 [==============================] - 0s 53ms/step\n"
     ]
    },
    {
     "name": "stderr",
     "output_type": "stream",
     "text": [
      "Saved 1 image to \u001b[1mruns\\detect\\exp2854\u001b[0m\n",
      "Saved results to runs\\detect\\exp2854\n",
      "\n"
     ]
    },
    {
     "name": "stdout",
     "output_type": "stream",
     "text": [
      "1/1 [==============================] - 0s 41ms/step\n",
      "1/1 [==============================] - 0s 70ms/step\n"
     ]
    },
    {
     "name": "stderr",
     "output_type": "stream",
     "text": [
      "Saved 1 image to \u001b[1mruns\\detect\\exp2855\u001b[0m\n",
      "Saved results to runs\\detect\\exp2855\n",
      "\n"
     ]
    },
    {
     "name": "stdout",
     "output_type": "stream",
     "text": [
      "1/1 [==============================] - 0s 50ms/step\n"
     ]
    },
    {
     "name": "stderr",
     "output_type": "stream",
     "text": [
      "Saved 1 image to \u001b[1mruns\\detect\\exp2856\u001b[0m\n",
      "Saved results to runs\\detect\\exp2856\n",
      "\n"
     ]
    },
    {
     "name": "stdout",
     "output_type": "stream",
     "text": [
      "1/1 [==============================] - 0s 43ms/step\n"
     ]
    },
    {
     "name": "stderr",
     "output_type": "stream",
     "text": [
      "Saved 1 image to \u001b[1mruns\\detect\\exp2857\u001b[0m\n",
      "Saved results to runs\\detect\\exp2857\n",
      "\n"
     ]
    },
    {
     "name": "stdout",
     "output_type": "stream",
     "text": [
      "1/1 [==============================] - 0s 56ms/step\n",
      "1/1 [==============================] - 0s 48ms/step\n"
     ]
    },
    {
     "name": "stderr",
     "output_type": "stream",
     "text": [
      "Saved 1 image to \u001b[1mruns\\detect\\exp2858\u001b[0m\n",
      "Saved results to runs\\detect\\exp2858\n",
      "\n"
     ]
    },
    {
     "name": "stdout",
     "output_type": "stream",
     "text": [
      "1/1 [==============================] - 0s 51ms/step\n",
      "1/1 [==============================] - 0s 42ms/step\n"
     ]
    },
    {
     "name": "stderr",
     "output_type": "stream",
     "text": [
      "Saved 1 image to \u001b[1mruns\\detect\\exp2859\u001b[0m\n",
      "Saved results to runs\\detect\\exp2859\n",
      "\n"
     ]
    },
    {
     "name": "stdout",
     "output_type": "stream",
     "text": [
      "1/1 [==============================] - 0s 41ms/step\n",
      "1/1 [==============================] - 0s 42ms/step\n"
     ]
    },
    {
     "name": "stderr",
     "output_type": "stream",
     "text": [
      "Saved 1 image to \u001b[1mruns\\detect\\exp2860\u001b[0m\n",
      "Saved results to runs\\detect\\exp2860\n",
      "\n"
     ]
    },
    {
     "name": "stdout",
     "output_type": "stream",
     "text": [
      "1/1 [==============================] - 0s 43ms/step\n"
     ]
    },
    {
     "name": "stderr",
     "output_type": "stream",
     "text": [
      "Saved 1 image to \u001b[1mruns\\detect\\exp2861\u001b[0m\n",
      "Saved results to runs\\detect\\exp2861\n",
      "\n"
     ]
    },
    {
     "name": "stdout",
     "output_type": "stream",
     "text": [
      "1/1 [==============================] - 0s 42ms/step\n"
     ]
    },
    {
     "name": "stderr",
     "output_type": "stream",
     "text": [
      "Saved 1 image to \u001b[1mruns\\detect\\exp2862\u001b[0m\n",
      "Saved results to runs\\detect\\exp2862\n",
      "\n",
      "Saved 1 image to \u001b[1mruns\\detect\\exp2863\u001b[0m\n",
      "Saved results to runs\\detect\\exp2863\n",
      "\n",
      "Saved 1 image to \u001b[1mruns\\detect\\exp2864\u001b[0m\n",
      "Saved results to runs\\detect\\exp2864\n",
      "\n"
     ]
    },
    {
     "name": "stdout",
     "output_type": "stream",
     "text": [
      "1/1 [==============================] - 0s 44ms/step\n"
     ]
    },
    {
     "name": "stderr",
     "output_type": "stream",
     "text": [
      "Saved 1 image to \u001b[1mruns\\detect\\exp2865\u001b[0m\n",
      "Saved results to runs\\detect\\exp2865\n",
      "\n",
      "Saved 1 image to \u001b[1mruns\\detect\\exp2866\u001b[0m\n",
      "Saved results to runs\\detect\\exp2866\n",
      "\n"
     ]
    },
    {
     "name": "stdout",
     "output_type": "stream",
     "text": [
      "1/1 [==============================] - 0s 49ms/step\n"
     ]
    },
    {
     "name": "stderr",
     "output_type": "stream",
     "text": [
      "Saved 1 image to \u001b[1mruns\\detect\\exp2867\u001b[0m\n",
      "Saved results to runs\\detect\\exp2867\n",
      "\n"
     ]
    },
    {
     "name": "stdout",
     "output_type": "stream",
     "text": [
      "1/1 [==============================] - 0s 47ms/step\n"
     ]
    },
    {
     "name": "stderr",
     "output_type": "stream",
     "text": [
      "Saved 1 image to \u001b[1mruns\\detect\\exp2868\u001b[0m\n",
      "Saved results to runs\\detect\\exp2868\n",
      "\n",
      "Saved 1 image to \u001b[1mruns\\detect\\exp2869\u001b[0m\n",
      "Saved results to runs\\detect\\exp2869\n",
      "\n"
     ]
    },
    {
     "name": "stdout",
     "output_type": "stream",
     "text": [
      "1/1 [==============================] - 0s 44ms/step\n",
      "1/1 [==============================] - 0s 41ms/step\n"
     ]
    },
    {
     "name": "stderr",
     "output_type": "stream",
     "text": [
      "Saved 1 image to \u001b[1mruns\\detect\\exp2870\u001b[0m\n",
      "Saved results to runs\\detect\\exp2870\n",
      "\n"
     ]
    },
    {
     "name": "stdout",
     "output_type": "stream",
     "text": [
      "1/1 [==============================] - 0s 41ms/step\n"
     ]
    },
    {
     "name": "stderr",
     "output_type": "stream",
     "text": [
      "Saved 1 image to \u001b[1mruns\\detect\\exp2871\u001b[0m\n",
      "Saved results to runs\\detect\\exp2871\n",
      "\n",
      "Saved 1 image to \u001b[1mruns\\detect\\exp2872\u001b[0m\n",
      "Saved results to runs\\detect\\exp2872\n",
      "\n"
     ]
    },
    {
     "name": "stdout",
     "output_type": "stream",
     "text": [
      "1/1 [==============================] - 0s 45ms/step\n"
     ]
    },
    {
     "name": "stderr",
     "output_type": "stream",
     "text": [
      "Saved 1 image to \u001b[1mruns\\detect\\exp2873\u001b[0m\n",
      "Saved results to runs\\detect\\exp2873\n",
      "\n",
      "Saved 1 image to \u001b[1mruns\\detect\\exp2874\u001b[0m\n",
      "Saved results to runs\\detect\\exp2874\n",
      "\n"
     ]
    },
    {
     "name": "stdout",
     "output_type": "stream",
     "text": [
      "1/1 [==============================] - 0s 39ms/step\n"
     ]
    },
    {
     "name": "stderr",
     "output_type": "stream",
     "text": [
      "Saved 1 image to \u001b[1mruns\\detect\\exp2875\u001b[0m\n",
      "Saved results to runs\\detect\\exp2875\n",
      "\n"
     ]
    },
    {
     "name": "stdout",
     "output_type": "stream",
     "text": [
      "1/1 [==============================] - 0s 44ms/step\n"
     ]
    },
    {
     "name": "stderr",
     "output_type": "stream",
     "text": [
      "Saved 1 image to \u001b[1mruns\\detect\\exp2876\u001b[0m\n",
      "Saved results to runs\\detect\\exp2876\n",
      "\n"
     ]
    },
    {
     "name": "stdout",
     "output_type": "stream",
     "text": [
      "1/1 [==============================] - 0s 46ms/step\n"
     ]
    },
    {
     "name": "stderr",
     "output_type": "stream",
     "text": [
      "Saved 1 image to \u001b[1mruns\\detect\\exp2877\u001b[0m\n",
      "Saved results to runs\\detect\\exp2877\n",
      "\n"
     ]
    },
    {
     "name": "stdout",
     "output_type": "stream",
     "text": [
      "1/1 [==============================] - 0s 55ms/step\n",
      "1/1 [==============================] - 0s 50ms/step\n"
     ]
    },
    {
     "name": "stderr",
     "output_type": "stream",
     "text": [
      "Saved 1 image to \u001b[1mruns\\detect\\exp2878\u001b[0m\n",
      "Saved results to runs\\detect\\exp2878\n",
      "\n"
     ]
    },
    {
     "name": "stdout",
     "output_type": "stream",
     "text": [
      "1/1 [==============================] - 0s 51ms/step\n"
     ]
    },
    {
     "name": "stderr",
     "output_type": "stream",
     "text": [
      "Saved 1 image to \u001b[1mruns\\detect\\exp2879\u001b[0m\n",
      "Saved results to runs\\detect\\exp2879\n",
      "\n"
     ]
    },
    {
     "name": "stdout",
     "output_type": "stream",
     "text": [
      "1/1 [==============================] - 0s 54ms/step\n"
     ]
    },
    {
     "name": "stderr",
     "output_type": "stream",
     "text": [
      "Saved 1 image to \u001b[1mruns\\detect\\exp2880\u001b[0m\n",
      "Saved results to runs\\detect\\exp2880\n",
      "\n"
     ]
    },
    {
     "name": "stdout",
     "output_type": "stream",
     "text": [
      "1/1 [==============================] - 0s 61ms/step\n",
      "1/1 [==============================] - 0s 72ms/step\n"
     ]
    },
    {
     "name": "stderr",
     "output_type": "stream",
     "text": [
      "Saved 1 image to \u001b[1mruns\\detect\\exp2881\u001b[0m\n",
      "Saved results to runs\\detect\\exp2881\n",
      "\n"
     ]
    },
    {
     "name": "stdout",
     "output_type": "stream",
     "text": [
      "1/1 [==============================] - 0s 50ms/step\n",
      "1/1 [==============================] - 0s 41ms/step\n"
     ]
    },
    {
     "name": "stderr",
     "output_type": "stream",
     "text": [
      "Saved 1 image to \u001b[1mruns\\detect\\exp2882\u001b[0m\n",
      "Saved results to runs\\detect\\exp2882\n",
      "\n"
     ]
    },
    {
     "name": "stdout",
     "output_type": "stream",
     "text": [
      "1/1 [==============================] - 0s 54ms/step\n",
      "1/1 [==============================] - 0s 50ms/step\n"
     ]
    },
    {
     "name": "stderr",
     "output_type": "stream",
     "text": [
      "Saved 1 image to \u001b[1mruns\\detect\\exp2883\u001b[0m\n",
      "Saved results to runs\\detect\\exp2883\n",
      "\n"
     ]
    },
    {
     "name": "stdout",
     "output_type": "stream",
     "text": [
      "1/1 [==============================] - 0s 41ms/step\n",
      "1/1 [==============================] - 0s 43ms/step\n"
     ]
    },
    {
     "name": "stderr",
     "output_type": "stream",
     "text": [
      "Saved 1 image to \u001b[1mruns\\detect\\exp2884\u001b[0m\n",
      "Saved results to runs\\detect\\exp2884\n",
      "\n"
     ]
    },
    {
     "name": "stdout",
     "output_type": "stream",
     "text": [
      "1/1 [==============================] - 0s 42ms/step\n",
      "1/1 [==============================] - 0s 44ms/step\n"
     ]
    },
    {
     "name": "stderr",
     "output_type": "stream",
     "text": [
      "Saved 1 image to \u001b[1mruns\\detect\\exp2885\u001b[0m\n",
      "Saved results to runs\\detect\\exp2885\n",
      "\n"
     ]
    },
    {
     "name": "stdout",
     "output_type": "stream",
     "text": [
      "1/1 [==============================] - 0s 44ms/step\n",
      "1/1 [==============================] - 0s 50ms/step\n"
     ]
    },
    {
     "name": "stderr",
     "output_type": "stream",
     "text": [
      "Saved 1 image to \u001b[1mruns\\detect\\exp2886\u001b[0m\n",
      "Saved results to runs\\detect\\exp2886\n",
      "\n"
     ]
    },
    {
     "name": "stdout",
     "output_type": "stream",
     "text": [
      "1/1 [==============================] - 0s 42ms/step\n",
      "1/1 [==============================] - 0s 48ms/step\n"
     ]
    },
    {
     "name": "stderr",
     "output_type": "stream",
     "text": [
      "Saved 1 image to \u001b[1mruns\\detect\\exp2887\u001b[0m\n",
      "Saved results to runs\\detect\\exp2887\n",
      "\n"
     ]
    },
    {
     "name": "stdout",
     "output_type": "stream",
     "text": [
      "1/1 [==============================] - 0s 42ms/step\n",
      "1/1 [==============================] - 0s 45ms/step\n"
     ]
    },
    {
     "name": "stderr",
     "output_type": "stream",
     "text": [
      "Saved 1 image to \u001b[1mruns\\detect\\exp2888\u001b[0m\n",
      "Saved results to runs\\detect\\exp2888\n",
      "\n"
     ]
    },
    {
     "name": "stdout",
     "output_type": "stream",
     "text": [
      "1/1 [==============================] - 0s 45ms/step\n",
      "1/1 [==============================] - 0s 46ms/step\n"
     ]
    },
    {
     "name": "stderr",
     "output_type": "stream",
     "text": [
      "Saved 1 image to \u001b[1mruns\\detect\\exp2889\u001b[0m\n",
      "Saved results to runs\\detect\\exp2889\n",
      "\n"
     ]
    },
    {
     "name": "stdout",
     "output_type": "stream",
     "text": [
      "1/1 [==============================] - 0s 47ms/step\n",
      "1/1 [==============================] - 0s 42ms/step\n"
     ]
    },
    {
     "name": "stderr",
     "output_type": "stream",
     "text": [
      "Saved 1 image to \u001b[1mruns\\detect\\exp2890\u001b[0m\n",
      "Saved results to runs\\detect\\exp2890\n",
      "\n"
     ]
    },
    {
     "name": "stdout",
     "output_type": "stream",
     "text": [
      "1/1 [==============================] - 0s 47ms/step\n",
      "1/1 [==============================] - 0s 42ms/step\n"
     ]
    },
    {
     "name": "stderr",
     "output_type": "stream",
     "text": [
      "Saved 1 image to \u001b[1mruns\\detect\\exp2891\u001b[0m\n",
      "Saved results to runs\\detect\\exp2891\n",
      "\n"
     ]
    },
    {
     "name": "stdout",
     "output_type": "stream",
     "text": [
      "1/1 [==============================] - 0s 44ms/step\n",
      "1/1 [==============================] - 0s 42ms/step\n"
     ]
    },
    {
     "name": "stderr",
     "output_type": "stream",
     "text": [
      "Saved 1 image to \u001b[1mruns\\detect\\exp2892\u001b[0m\n",
      "Saved results to runs\\detect\\exp2892\n",
      "\n"
     ]
    },
    {
     "name": "stdout",
     "output_type": "stream",
     "text": [
      "1/1 [==============================] - 0s 46ms/step\n",
      "1/1 [==============================] - 0s 42ms/step\n"
     ]
    },
    {
     "name": "stderr",
     "output_type": "stream",
     "text": [
      "Saved 1 image to \u001b[1mruns\\detect\\exp2893\u001b[0m\n",
      "Saved results to runs\\detect\\exp2893\n",
      "\n"
     ]
    },
    {
     "name": "stdout",
     "output_type": "stream",
     "text": [
      "1/1 [==============================] - 0s 44ms/step\n",
      "1/1 [==============================] - 0s 39ms/step\n"
     ]
    }
   ],
   "source": [
    "import cv2\n",
    "import os\n",
    "import numpy as np\n",
    "from keras.models import model_from_json\n",
    "import tensorflow as tf\n",
    "import tensorflow_addons as tfa\n",
    "import torch\n",
    "\n",
    "\n",
    "# Yolov5 model\n",
    "model = torch.hub.load('ultralytics/yolov5', 'custom', path='./best.pt') \n",
    "#--------------------------------------------------------------------------------------------------------\n",
    "# Emotion model \n",
    "emotion_dict = {0: \"Angry\", 1: \"Disgusted\", 2: \"Fearful\", 3: \"Happy\", 4: \"Neutral\", 5: \"Sad\", 6: \"Surprised\"}\n",
    "# load weights into new model\n",
    "emotion_model= tf.keras.models.load_model(\"./emotionl.h5\",custom_objects={'my_custom_loss': tfa.metrics.F1Score})\n",
    "print(\"Loaded model from disk\")\n",
    "#--------------------------------------------------------------------------------------------------------\n",
    "# start the webcam feed\n",
    "cap = cv2.VideoCapture(0)\n",
    "#--------------------------------------------------------------------------------------------------------\n",
    "# pass here your video path\n",
    "# cap = cv2.VideoCapture(\"upload your video\")\n",
    "#--------------------------------------------------------------------------------------------------------\n",
    "while True:\n",
    "    # Find haar cascade to draw bounding box around face\n",
    "    ret, frame = cap.read()\n",
    "    frame = cv2.resize(frame, (1280, 720))\n",
    "    if not ret:\n",
    "        break\n",
    "    results = model(frame)\n",
    "    crops = results.crop(save=True, save_dir='runs/detect/exp')  # specify save dir\n",
    "#--------------------------------------------------------------------------------------------------------\n",
    "   # Get the detections as a list of dictionaries\n",
    "    detections = results.pandas().xyxy[0].to_dict(orient='records')\n",
    "    # Draw bounding boxes around the detections\n",
    "    for detection in detections:\n",
    "        x1, y1, x2, y2 = int(detection['xmin']), int(detection['ymin']), int(detection['xmax']), int(detection['ymax'])\n",
    "        cv2.rectangle(frame, (x1, y1), (x2, y2), (0, 255, 0), 2)\n",
    "#--------------------------------------------------------------------------------------------------------\n",
    "       # Get coropped images\n",
    "        gray_img = cv2.cvtColor(crops[detections.index(detection)][\"im\"], cv2.COLOR_RGB2GRAY)\n",
    "        cropped_img = np.expand_dims(np.expand_dims(cv2.resize(gray_img, (48, 48)), -1), 0)\n",
    "#--------------------------------------------------------------------------------------------------------\n",
    "        # predict the emotions\n",
    "        emotion_prediction = emotion_model.predict(cropped_img)\n",
    "        maxindex = int(np.argmax(emotion_prediction))\n",
    "        cv2.putText(frame, emotion_dict[maxindex], (x1+5, y1-20), cv2.FONT_HERSHEY_SIMPLEX, 1, (255, 0, 0), 2, cv2.LINE_AA)\n",
    "#--------------------------------------------------------------------------------------------------------\n",
    "    #show Image\n",
    "    cv2.imshow('frame', frame)\n",
    "    if cv2.waitKey(1) & 0xFF == ord('q'):\n",
    "        break\n",
    "#--------------------------------------------------------------------------------------------------------\n",
    "cap.release()\n",
    "cv2.destroyAllWindows()"
   ]
  },
  {
   "cell_type": "code",
   "execution_count": null,
   "id": "2b3e2ad7",
   "metadata": {},
   "outputs": [],
   "source": []
  }
 ],
 "metadata": {
  "kernelspec": {
   "display_name": "Python 3 (ipykernel)",
   "language": "python",
   "name": "python3"
  },
  "language_info": {
   "codemirror_mode": {
    "name": "ipython",
    "version": 3
   },
   "file_extension": ".py",
   "mimetype": "text/x-python",
   "name": "python",
   "nbconvert_exporter": "python",
   "pygments_lexer": "ipython3",
   "version": "3.10.1"
  }
 },
 "nbformat": 4,
 "nbformat_minor": 5
}
